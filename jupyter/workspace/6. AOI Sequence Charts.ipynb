{
 "cells": [
  {
   "cell_type": "code",
   "execution_count": 89,
   "id": "706d6ab9",
   "metadata": {},
   "outputs": [],
   "source": [
    "import plotly.express as px\n",
    "import pandas as pd"
   ]
  },
  {
   "cell_type": "code",
   "execution_count": 90,
   "id": "e6ba080b",
   "metadata": {},
   "outputs": [],
   "source": [
    "#----------------------------------------------------------------------------------------\n",
    "#\n",
    "# 1. AOI Sequence Charts\n",
    "#\n",
    "#----------------------------------------------------------------------------------------"
   ]
  },
  {
   "cell_type": "code",
   "execution_count": 91,
   "id": "2e7028c9",
   "metadata": {},
   "outputs": [],
   "source": [
    "# Choose the AOIs to plot --- **TO UPDATE IF YOU UPDATE THE AOIs**\n",
    "\n",
    "# Coarse-grained: no overlapping aois\n",
    "#aoisToPlot = ['Text_Area','Figure', 'Formula']\n",
    "\n",
    "# Fine-grained: no overlapping aois\n",
    "aoisToPlot = ['Paragraph1', 'Paragraph2', 'Paragraph3', 'Paragraph4',\n",
    "       'Paragraph5', 'Paragraph6', 'SubFigure1',\n",
    "       'SubFigure2', 'SubFigure3', 'Formula']\n",
    "\n",
    "# All Aois: result in overlapping aois\n",
    "#aoisToPlot = ['Paragraph1', 'Paragraph2', 'Paragraph3', 'Paragraph4',\n",
    "#       'Paragraph5', 'Paragraph6', 'Text_Area', 'SubFigure1',\n",
    "#       'SubFigure2', 'SubFigure3', 'Figure', 'Formula']\n",
    "\n",
    "\n"
   ]
  },
  {
   "cell_type": "code",
   "execution_count": 92,
   "id": "e68892ff",
   "metadata": {},
   "outputs": [],
   "source": [
    "# Read dwells data using pandas library\n",
    "data = pd.read_csv(\"data/dwells.csv\")\n",
    "\n",
    "# set display.max_columns to none, to show all the columns when using head()\n",
    "pd.set_option('display.max_columns', None)"
   ]
  },
  {
   "cell_type": "code",
   "execution_count": 93,
   "id": "6d4142ae",
   "metadata": {},
   "outputs": [
    {
     "data": {
      "text/html": [
       "<div>\n",
       "<style scoped>\n",
       "    .dataframe tbody tr th:only-of-type {\n",
       "        vertical-align: middle;\n",
       "    }\n",
       "\n",
       "    .dataframe tbody tr th {\n",
       "        vertical-align: top;\n",
       "    }\n",
       "\n",
       "    .dataframe thead th {\n",
       "        text-align: right;\n",
       "    }\n",
       "</style>\n",
       "<table border=\"1\" class=\"dataframe\">\n",
       "  <thead>\n",
       "    <tr style=\"text-align: right;\">\n",
       "      <th></th>\n",
       "      <th>Respondent</th>\n",
       "      <th>VisitedAOI</th>\n",
       "      <th>Dwell Start</th>\n",
       "      <th>Dwell End</th>\n",
       "      <th>Number of Fixations in Dwell</th>\n",
       "      <th>Number of Saccades in Dwell</th>\n",
       "      <th>Dwell Time</th>\n",
       "    </tr>\n",
       "  </thead>\n",
       "  <tbody>\n",
       "    <tr>\n",
       "      <th>0</th>\n",
       "      <td>Anonymous 14-11-22 09h35m</td>\n",
       "      <td>Paragraph4</td>\n",
       "      <td>133.1086</td>\n",
       "      <td>433.0785</td>\n",
       "      <td>1.0</td>\n",
       "      <td>1.0</td>\n",
       "      <td>299.9699</td>\n",
       "    </tr>\n",
       "    <tr>\n",
       "      <th>1</th>\n",
       "      <td>Anonymous 14-11-22 09h35m</td>\n",
       "      <td>Text_Area</td>\n",
       "      <td>133.1086</td>\n",
       "      <td>783.0360</td>\n",
       "      <td>2.0</td>\n",
       "      <td>4.0</td>\n",
       "      <td>649.9274</td>\n",
       "    </tr>\n",
       "    <tr>\n",
       "      <th>2</th>\n",
       "      <td>Anonymous 14-11-22 09h35m</td>\n",
       "      <td>Paragraph1</td>\n",
       "      <td>566.4076</td>\n",
       "      <td>716.4244</td>\n",
       "      <td>1.0</td>\n",
       "      <td>0.0</td>\n",
       "      <td>150.0168</td>\n",
       "    </tr>\n",
       "    <tr>\n",
       "      <th>3</th>\n",
       "      <td>Anonymous 14-11-22 09h35m</td>\n",
       "      <td>Paragraph1</td>\n",
       "      <td>899.6993</td>\n",
       "      <td>6957.3621</td>\n",
       "      <td>23.0</td>\n",
       "      <td>22.0</td>\n",
       "      <td>6057.6628</td>\n",
       "    </tr>\n",
       "    <tr>\n",
       "      <th>4</th>\n",
       "      <td>Anonymous 14-11-22 09h35m</td>\n",
       "      <td>Text_Area</td>\n",
       "      <td>899.6993</td>\n",
       "      <td>6957.3621</td>\n",
       "      <td>23.0</td>\n",
       "      <td>22.0</td>\n",
       "      <td>6057.6628</td>\n",
       "    </tr>\n",
       "  </tbody>\n",
       "</table>\n",
       "</div>"
      ],
      "text/plain": [
       "                  Respondent  VisitedAOI  Dwell Start  Dwell End  \\\n",
       "0  Anonymous 14-11-22 09h35m  Paragraph4     133.1086   433.0785   \n",
       "1  Anonymous 14-11-22 09h35m   Text_Area     133.1086   783.0360   \n",
       "2  Anonymous 14-11-22 09h35m  Paragraph1     566.4076   716.4244   \n",
       "3  Anonymous 14-11-22 09h35m  Paragraph1     899.6993  6957.3621   \n",
       "4  Anonymous 14-11-22 09h35m   Text_Area     899.6993  6957.3621   \n",
       "\n",
       "   Number of Fixations in Dwell  Number of Saccades in Dwell  Dwell Time  \n",
       "0                           1.0                          1.0    299.9699  \n",
       "1                           2.0                          4.0    649.9274  \n",
       "2                           1.0                          0.0    150.0168  \n",
       "3                          23.0                         22.0   6057.6628  \n",
       "4                          23.0                         22.0   6057.6628  "
      ]
     },
     "execution_count": 93,
     "metadata": {},
     "output_type": "execute_result"
    }
   ],
   "source": [
    "#Preview dwell data\n",
    "data.head()"
   ]
  },
  {
   "cell_type": "code",
   "execution_count": 94,
   "id": "8ab73ba8",
   "metadata": {},
   "outputs": [],
   "source": [
    "#plot AOI Sequences\n",
    "\n",
    "#Keep only visits within the aoisToPlot\n",
    "dataToPlot = data[data['VisitedAOI'].isin(aoisToPlot)].copy(deep=True)\n",
    "\n",
    "#specify format of 'Dwell Start' and 'Dwell End'\n",
    "dataToPlot.loc[:,'Dwell Start'] = pd.to_datetime(dataToPlot['Dwell Start'], unit='ms')\n",
    "dataToPlot.loc[:,'Dwell End'] = pd.to_datetime(dataToPlot['Dwell End'], unit='ms')\n"
   ]
  },
  {
   "cell_type": "code",
   "execution_count": 95,
   "id": "382c370f",
   "metadata": {},
   "outputs": [
    {
     "data": {
      "application/vnd.plotly.v1+json": {
       "config": {
        "plotlyServerURL": "https://plot.ly"
       },
       "data": [
        {
         "alignmentgroup": "True",
         "base": [
          "1970-01-01T00:00:00.566407",
          "1970-01-01T00:00:00.899699",
          "1970-01-01T00:00:07.473958",
          "1970-01-01T00:00:22.055674",
          "1970-01-01T00:00:22.588972",
          "1970-01-01T00:00:22.922266",
          "1970-01-01T00:00:24.022129",
          "1970-01-01T00:00:24.997018",
          "1970-01-01T00:00:25.513635",
          "1970-01-01T00:00:40.861939",
          "1970-01-01T00:01:47.129575",
          "1970-01-01T00:03:53.845837",
          "1970-01-01T00:06:03.102554",
          "1970-01-01T00:06:51.477858",
          "1970-01-01T00:07:38.690864",
          "1970-01-01T00:08:26.706779",
          "1970-01-01T00:08:28.545267"
         ],
         "hovertemplate": "VisitedAOI=%{y}<br>Dwell Start=%{base}<br>Dwell End=%{x}<extra></extra>",
         "legendgroup": "Paragraph1",
         "marker": {
          "color": "#636efa",
          "pattern": {
           "shape": ""
          }
         },
         "name": "Paragraph1",
         "offsetgroup": "Paragraph1",
         "orientation": "h",
         "showlegend": true,
         "textposition": "auto",
         "type": "bar",
         "x": [
          150,
          6057,
          9207,
          233,
          66,
          308,
          949,
          491,
          14590,
          333,
          41,
          733,
          191,
          791,
          283,
          308,
          491
         ],
         "xaxis": "x",
         "y": [
          "Paragraph1",
          "Paragraph1",
          "Paragraph1",
          "Paragraph1",
          "Paragraph1",
          "Paragraph1",
          "Paragraph1",
          "Paragraph1",
          "Paragraph1",
          "Paragraph1",
          "Paragraph1",
          "Paragraph1",
          "Paragraph1",
          "Paragraph1",
          "Paragraph1",
          "Paragraph1",
          "Paragraph1"
         ],
         "yaxis": "y"
        },
        {
         "alignmentgroup": "True",
         "base": [
          "1970-01-01T00:00:22.547302",
          "1970-01-01T00:00:23.480534",
          "1970-01-01T00:00:40.137071",
          "1970-01-01T00:00:40.503669",
          "1970-01-01T00:00:41.211906",
          "1970-01-01T00:00:42.153480",
          "1970-01-01T00:00:45.953030",
          "1970-01-01T00:01:16.666319",
          "1970-01-01T00:01:38.430588",
          "1970-01-01T00:01:40.113707",
          "1970-01-01T00:01:43.338329",
          "1970-01-01T00:01:47.329562",
          "1970-01-01T00:02:17.776177",
          "1970-01-01T00:02:25.192032",
          "1970-01-01T00:02:39.332145",
          "1970-01-01T00:02:40.590341",
          "1970-01-01T00:02:44.164920",
          "1970-01-01T00:02:44.523217",
          "1970-01-01T00:02:44.781578",
          "1970-01-01T00:03:54.579073",
          "1970-01-01T00:06:00.244538",
          "1970-01-01T00:06:02.469315",
          "1970-01-01T00:06:02.794292",
          "1970-01-01T00:07:39.540747",
          "1970-01-01T00:07:40.278525",
          "1970-01-01T00:08:26.415089",
          "1970-01-01T00:08:28.403614"
         ],
         "hovertemplate": "VisitedAOI=%{y}<br>Dwell Start=%{base}<br>Dwell End=%{x}<extra></extra>",
         "legendgroup": "Paragraph2",
         "marker": {
          "color": "#EF553B",
          "pattern": {
           "shape": ""
          }
         },
         "name": "Paragraph2",
         "offsetgroup": "Paragraph2",
         "orientation": "h",
         "showlegend": true,
         "textposition": "auto",
         "type": "bar",
         "x": [
          25,
          174,
          341,
          308,
          491,
          3582,
          30296,
          21680,
          424,
          374,
          16,
          108,
          75,
          116,
          266,
          125,
          108,
          16,
          1691,
          1816,
          300,
          158,
          258,
          587,
          208,
          291,
          141
         ],
         "xaxis": "x",
         "y": [
          "Paragraph2",
          "Paragraph2",
          "Paragraph2",
          "Paragraph2",
          "Paragraph2",
          "Paragraph2",
          "Paragraph2",
          "Paragraph2",
          "Paragraph2",
          "Paragraph2",
          "Paragraph2",
          "Paragraph2",
          "Paragraph2",
          "Paragraph2",
          "Paragraph2",
          "Paragraph2",
          "Paragraph2",
          "Paragraph2",
          "Paragraph2",
          "Paragraph2",
          "Paragraph2",
          "Paragraph2",
          "Paragraph2",
          "Paragraph2",
          "Paragraph2",
          "Paragraph2",
          "Paragraph2"
         ],
         "yaxis": "y"
        },
        {
         "alignmentgroup": "True",
         "base": [
          "1970-01-01T00:00:16.706335",
          "1970-01-01T00:00:22.655629",
          "1970-01-01T00:01:47.787854",
          "1970-01-01T00:01:53.978831",
          "1970-01-01T00:01:55.470318",
          "1970-01-01T00:02:02.544593",
          "1970-01-01T00:02:03.644415",
          "1970-01-01T00:02:10.477022",
          "1970-01-01T00:02:11.076978",
          "1970-01-01T00:02:16.493046",
          "1970-01-01T00:02:39.132148",
          "1970-01-01T00:02:40.856970",
          "1970-01-01T00:03:46.638255",
          "1970-01-01T00:03:53.304185",
          "1970-01-01T00:06:03.294249",
          "1970-01-01T00:06:03.819158",
          "1970-01-01T00:06:04.657362",
          "1970-01-01T00:06:52.269458",
          "1970-01-01T00:07:40.553505"
         ],
         "hovertemplate": "VisitedAOI=%{y}<br>Dwell Start=%{base}<br>Dwell End=%{x}<extra></extra>",
         "legendgroup": "Paragraph3",
         "marker": {
          "color": "#00cc96",
          "pattern": {
           "shape": ""
          }
         },
         "name": "Paragraph3",
         "offsetgroup": "Paragraph3",
         "orientation": "h",
         "showlegend": true,
         "textposition": "auto",
         "type": "bar",
         "x": [
          5257,
          233,
          933,
          1241,
          6874,
          916,
          6757,
          549,
          5099,
          208,
          133,
          524,
          4932,
          491,
          341,
          416,
          216,
          3407,
          716
         ],
         "xaxis": "x",
         "y": [
          "Paragraph3",
          "Paragraph3",
          "Paragraph3",
          "Paragraph3",
          "Paragraph3",
          "Paragraph3",
          "Paragraph3",
          "Paragraph3",
          "Paragraph3",
          "Paragraph3",
          "Paragraph3",
          "Paragraph3",
          "Paragraph3",
          "Paragraph3",
          "Paragraph3",
          "Paragraph3",
          "Paragraph3",
          "Paragraph3",
          "Paragraph3"
         ],
         "yaxis": "y"
        },
        {
         "alignmentgroup": "True",
         "base": [
          "1970-01-01T00:00:00.133108",
          "1970-01-01T00:01:38.897177",
          "1970-01-01T00:01:39.772054",
          "1970-01-01T00:01:39.963699",
          "1970-01-01T00:02:16.701328",
          "1970-01-01T00:02:18.017821",
          "1970-01-01T00:02:22.908959",
          "1970-01-01T00:02:25.508705",
          "1970-01-01T00:02:28.899967",
          "1970-01-01T00:02:34.716060",
          "1970-01-01T00:02:46.514712",
          "1970-01-01T00:02:46.806303",
          "1970-01-01T00:03:40.113998",
          "1970-01-01T00:03:40.463977",
          "1970-01-01T00:03:44.346882",
          "1970-01-01T00:03:46.221705",
          "1970-01-01T00:03:57.803718",
          "1970-01-01T00:04:01.303315",
          "1970-01-01T00:06:00.086270",
          "1970-01-01T00:06:01.227828",
          "1970-01-01T00:06:02.727612",
          "1970-01-01T00:06:04.277429",
          "1970-01-01T00:07:34.611276",
          "1970-01-01T00:08:28.078671",
          "1970-01-01T00:08:31.436591"
         ],
         "hovertemplate": "VisitedAOI=%{y}<br>Dwell Start=%{base}<br>Dwell End=%{x}<extra></extra>",
         "legendgroup": "Paragraph4",
         "marker": {
          "color": "#ab63fa",
          "pattern": {
           "shape": ""
          }
         },
         "name": "Paragraph4",
         "offsetgroup": "Paragraph4",
         "orientation": "h",
         "showlegend": true,
         "textposition": "auto",
         "type": "bar",
         "x": [
          299,
          274,
          108,
          150,
          941,
          4724,
          1999,
          3132,
          5732,
          1874,
          24,
          8,
          258,
          24,
          283,
          183,
          2224,
          766,
          116,
          608,
          66,
          354,
          83,
          208,
          583
         ],
         "xaxis": "x",
         "y": [
          "Paragraph4",
          "Paragraph4",
          "Paragraph4",
          "Paragraph4",
          "Paragraph4",
          "Paragraph4",
          "Paragraph4",
          "Paragraph4",
          "Paragraph4",
          "Paragraph4",
          "Paragraph4",
          "Paragraph4",
          "Paragraph4",
          "Paragraph4",
          "Paragraph4",
          "Paragraph4",
          "Paragraph4",
          "Paragraph4",
          "Paragraph4",
          "Paragraph4",
          "Paragraph4",
          "Paragraph4",
          "Paragraph4",
          "Paragraph4",
          "Paragraph4"
         ],
         "yaxis": "y"
        },
        {
         "alignmentgroup": "True",
         "base": [
          "1970-01-01T00:02:16.226365",
          "1970-01-01T00:03:40.630610",
          "1970-01-01T00:03:42.905421",
          "1970-01-01T00:04:11.810544",
          "1970-01-01T00:04:12.160461",
          "1970-01-01T00:04:19.617942",
          "1970-01-01T00:04:31.799942",
          "1970-01-01T00:04:32.291614",
          "1970-01-01T00:04:50.947860",
          "1970-01-01T00:04:56.722195",
          "1970-01-01T00:04:57.213853",
          "1970-01-01T00:04:59.396906",
          "1970-01-01T00:05:02.754886",
          "1970-01-01T00:05:04.071361",
          "1970-01-01T00:05:08.695848",
          "1970-01-01T00:05:17.369896",
          "1970-01-01T00:05:20.611238",
          "1970-01-01T00:05:53.970233",
          "1970-01-01T00:06:00.986122",
          "1970-01-01T00:06:03.677525",
          "1970-01-01T00:06:04.923994",
          "1970-01-01T00:06:08.673526",
          "1970-01-01T00:06:35.546295",
          "1970-01-01T00:06:47.120028",
          "1970-01-01T00:06:49.919742",
          "1970-01-01T00:07:33.702987",
          "1970-01-01T00:07:38.374229",
          "1970-01-01T00:07:41.286745",
          "1970-01-01T00:08:27.031681",
          "1970-01-01T00:08:27.440008",
          "1970-01-01T00:08:29.111854",
          "1970-01-01T00:08:31.136639"
         ],
         "hovertemplate": "VisitedAOI=%{y}<br>Dwell Start=%{base}<br>Dwell End=%{x}<extra></extra>",
         "legendgroup": "Paragraph5",
         "marker": {
          "color": "#FFA15A",
          "pattern": {
           "shape": ""
          }
         },
         "name": "Paragraph5",
         "offsetgroup": "Paragraph5",
         "orientation": "h",
         "showlegend": true,
         "textposition": "auto",
         "type": "bar",
         "x": [
          208,
          558,
          1416,
          216,
          7382,
          7674,
          449,
          1324,
          1716,
          474,
          1091,
          716,
          1291,
          3949,
          908,
          2616,
          1674,
          4641,
          191,
          141,
          83,
          683,
          66,
          58,
          24,
          816,
          274,
          16,
          366,
          416,
          174,
          208
         ],
         "xaxis": "x",
         "y": [
          "Paragraph5",
          "Paragraph5",
          "Paragraph5",
          "Paragraph5",
          "Paragraph5",
          "Paragraph5",
          "Paragraph5",
          "Paragraph5",
          "Paragraph5",
          "Paragraph5",
          "Paragraph5",
          "Paragraph5",
          "Paragraph5",
          "Paragraph5",
          "Paragraph5",
          "Paragraph5",
          "Paragraph5",
          "Paragraph5",
          "Paragraph5",
          "Paragraph5",
          "Paragraph5",
          "Paragraph5",
          "Paragraph5",
          "Paragraph5",
          "Paragraph5",
          "Paragraph5",
          "Paragraph5",
          "Paragraph5",
          "Paragraph5",
          "Paragraph5",
          "Paragraph5",
          "Paragraph5"
         ],
         "yaxis": "y"
        },
        {
         "alignmentgroup": "True",
         "base": [
          "1970-01-01T00:05:53.836919",
          "1970-01-01T00:06:08.556903",
          "1970-01-01T00:06:33.824592",
          "1970-01-01T00:06:35.204654",
          "1970-01-01T00:06:35.354673",
          "1970-01-01T00:06:35.612946",
          "1970-01-01T00:06:36.129552",
          "1970-01-01T00:06:36.387855",
          "1970-01-01T00:06:38.312645",
          "1970-01-01T00:06:39.629181",
          "1970-01-01T00:06:40.012482",
          "1970-01-01T00:06:41.370641",
          "1970-01-01T00:06:42.445524",
          "1970-01-01T00:06:47.211661",
          "1970-01-01T00:06:47.761610",
          "1970-01-01T00:06:48.261546",
          "1970-01-01T00:06:48.369873",
          "1970-01-01T00:06:48.594907",
          "1970-01-01T00:06:49.511407",
          "1970-01-01T00:06:49.661443",
          "1970-01-01T00:06:50.044682",
          "1970-01-01T00:06:55.827400",
          "1970-01-01T00:06:56.885641",
          "1970-01-01T00:07:00.310252",
          "1970-01-01T00:07:09.517538",
          "1970-01-01T00:07:14.092052",
          "1970-01-01T00:07:17.383364",
          "1970-01-01T00:07:18.783174",
          "1970-01-01T00:07:20.316341",
          "1970-01-01T00:07:22.182814",
          "1970-01-01T00:07:23.341038",
          "1970-01-01T00:07:25.865746",
          "1970-01-01T00:07:28.407148",
          "1970-01-01T00:07:33.503002",
          "1970-01-01T00:07:37.549319",
          "1970-01-01T00:08:29.295181",
          "1970-01-01T00:08:38.152513"
         ],
         "hovertemplate": "VisitedAOI=%{y}<br>Dwell Start=%{base}<br>Dwell End=%{x}<extra></extra>",
         "legendgroup": "Paragraph6",
         "marker": {
          "color": "#19d3f3",
          "pattern": {
           "shape": ""
          }
         },
         "name": "Paragraph6",
         "offsetgroup": "Paragraph6",
         "orientation": "h",
         "showlegend": true,
         "textposition": "auto",
         "type": "bar",
         "x": [
          108,
          116,
          1008,
          100,
          150,
          483,
          183,
          1708,
          883,
          158,
          358,
          1041,
          4566,
          516,
          424,
          83,
          174,
          783,
          91,
          91,
          1241,
          999,
          3166,
          8790,
          1208,
          1183,
          674,
          258,
          391,
          708,
          2449,
          908,
          649,
          199,
          749,
          1833,
          108
         ],
         "xaxis": "x",
         "y": [
          "Paragraph6",
          "Paragraph6",
          "Paragraph6",
          "Paragraph6",
          "Paragraph6",
          "Paragraph6",
          "Paragraph6",
          "Paragraph6",
          "Paragraph6",
          "Paragraph6",
          "Paragraph6",
          "Paragraph6",
          "Paragraph6",
          "Paragraph6",
          "Paragraph6",
          "Paragraph6",
          "Paragraph6",
          "Paragraph6",
          "Paragraph6",
          "Paragraph6",
          "Paragraph6",
          "Paragraph6",
          "Paragraph6",
          "Paragraph6",
          "Paragraph6",
          "Paragraph6",
          "Paragraph6",
          "Paragraph6",
          "Paragraph6",
          "Paragraph6",
          "Paragraph6",
          "Paragraph6",
          "Paragraph6",
          "Paragraph6",
          "Paragraph6",
          "Paragraph6",
          "Paragraph6"
         ],
         "yaxis": "y"
        },
        {
         "alignmentgroup": "True",
         "base": [
          "1970-01-01T00:01:39.655401",
          "1970-01-01T00:01:41.163607",
          "1970-01-01T00:01:41.580206",
          "1970-01-01T00:01:42.146816",
          "1970-01-01T00:01:44.429882",
          "1970-01-01T00:01:44.954864",
          "1970-01-01T00:01:51.604109",
          "1970-01-01T00:01:52.853976",
          "1970-01-01T00:02:28.716641",
          "1970-01-01T00:02:36.774104",
          "1970-01-01T00:02:36.907392",
          "1970-01-01T00:02:41.890208",
          "1970-01-01T00:02:42.348458",
          "1970-01-01T00:02:52.077670",
          "1970-01-01T00:03:00.660071",
          "1970-01-01T00:03:06.817800",
          "1970-01-01T00:03:09.467482",
          "1970-01-01T00:03:12.517047",
          "1970-01-01T00:03:16.041694",
          "1970-01-01T00:03:22.115968",
          "1970-01-01T00:03:44.988461",
          "1970-01-01T00:03:46.054991",
          "1970-01-01T00:03:51.979361",
          "1970-01-01T00:04:35.824542",
          "1970-01-01T00:04:59.296942",
          "1970-01-01T00:05:11.387218",
          "1970-01-01T00:05:11.812184",
          "1970-01-01T00:05:28.364779",
          "1970-01-01T00:05:29.281312",
          "1970-01-01T00:06:29.936594",
          "1970-01-01T00:07:09.175921",
          "1970-01-01T00:07:10.725766",
          "1970-01-01T00:07:15.350237",
          "1970-01-01T00:07:18.058319",
          "1970-01-01T00:07:19.091498",
          "1970-01-01T00:07:20.707964",
          "1970-01-01T00:07:22.932725",
          "1970-01-01T00:07:34.736229",
          "1970-01-01T00:07:48.594341",
          "1970-01-01T00:07:50.085795",
          "1970-01-01T00:07:51.993898",
          "1970-01-01T00:07:56.743388",
          "1970-01-01T00:07:57.909910",
          "1970-01-01T00:07:59.051451",
          "1970-01-01T00:08:00.701326",
          "1970-01-01T00:08:02.534407",
          "1970-01-01T00:08:02.901042",
          "1970-01-01T00:08:03.300969",
          "1970-01-01T00:08:03.625940",
          "1970-01-01T00:08:04.234205",
          "1970-01-01T00:08:08.667065",
          "1970-01-01T00:08:16.741171",
          "1970-01-01T00:08:19.882472",
          "1970-01-01T00:08:20.407454",
          "1970-01-01T00:08:21.965627",
          "1970-01-01T00:08:22.690552",
          "1970-01-01T00:08:23.715382",
          "1970-01-01T00:08:23.898748",
          "1970-01-01T00:08:32.019859",
          "1970-01-01T00:08:36.794329"
         ],
         "hovertemplate": "VisitedAOI=%{y}<br>Dwell Start=%{base}<br>Dwell End=%{x}<extra></extra>",
         "legendgroup": "SubFigure1",
         "marker": {
          "color": "#FF6692",
          "pattern": {
           "shape": ""
          }
         },
         "name": "SubFigure1",
         "offsetgroup": "SubFigure1",
         "orientation": "h",
         "showlegend": true,
         "textposition": "auto",
         "type": "bar",
         "x": [
          116,
          116,
          141,
          1058,
          183,
          1266,
          783,
          1049,
          125,
          16,
          766,
          24,
          283,
          16,
          3266,
          1449,
          1641,
          3507,
          2099,
          916,
          141,
          166,
          716,
          374,
          16,
          8,
          8,
          266,
          816,
          266,
          316,
          3366,
          1908,
          724,
          1049,
          1408,
          349,
          208,
          808,
          691,
          3291,
          308,
          266,
          974,
          208,
          316,
          383,
          299,
          591,
          391,
          58,
          941,
          499,
          724,
          674,
          424,
          158,
          233,
          291,
          1008
         ],
         "xaxis": "x",
         "y": [
          "SubFigure1",
          "SubFigure1",
          "SubFigure1",
          "SubFigure1",
          "SubFigure1",
          "SubFigure1",
          "SubFigure1",
          "SubFigure1",
          "SubFigure1",
          "SubFigure1",
          "SubFigure1",
          "SubFigure1",
          "SubFigure1",
          "SubFigure1",
          "SubFigure1",
          "SubFigure1",
          "SubFigure1",
          "SubFigure1",
          "SubFigure1",
          "SubFigure1",
          "SubFigure1",
          "SubFigure1",
          "SubFigure1",
          "SubFigure1",
          "SubFigure1",
          "SubFigure1",
          "SubFigure1",
          "SubFigure1",
          "SubFigure1",
          "SubFigure1",
          "SubFigure1",
          "SubFigure1",
          "SubFigure1",
          "SubFigure1",
          "SubFigure1",
          "SubFigure1",
          "SubFigure1",
          "SubFigure1",
          "SubFigure1",
          "SubFigure1",
          "SubFigure1",
          "SubFigure1",
          "SubFigure1",
          "SubFigure1",
          "SubFigure1",
          "SubFigure1",
          "SubFigure1",
          "SubFigure1",
          "SubFigure1",
          "SubFigure1",
          "SubFigure1",
          "SubFigure1",
          "SubFigure1",
          "SubFigure1",
          "SubFigure1",
          "SubFigure1",
          "SubFigure1",
          "SubFigure1",
          "SubFigure1",
          "SubFigure1"
         ],
         "yaxis": "y"
        },
        {
         "alignmentgroup": "True",
         "base": [
          "1970-01-01T00:01:16.424660",
          "1970-01-01T00:01:43.846632",
          "1970-01-01T00:01:44.171580",
          "1970-01-01T00:01:46.271338",
          "1970-01-01T00:01:48.946037",
          "1970-01-01T00:02:36.699099",
          "1970-01-01T00:02:37.682325",
          "1970-01-01T00:02:38.090605",
          "1970-01-01T00:03:11.475525",
          "1970-01-01T00:03:11.858804",
          "1970-01-01T00:03:18.183121",
          "1970-01-01T00:03:19.766232",
          "1970-01-01T00:03:20.057868",
          "1970-01-01T00:03:23.032577",
          "1970-01-01T00:03:24.849003",
          "1970-01-01T00:03:25.273994",
          "1970-01-01T00:03:25.482316",
          "1970-01-01T00:03:25.823913",
          "1970-01-01T00:03:25.898883",
          "1970-01-01T00:03:27.765342",
          "1970-01-01T00:03:36.797678",
          "1970-01-01T00:03:41.297189",
          "1970-01-01T00:03:44.755133",
          "1970-01-01T00:03:45.155129",
          "1970-01-01T00:03:51.704416",
          "1970-01-01T00:03:56.453841",
          "1970-01-01T00:04:00.028440",
          "1970-01-01T00:04:02.153252",
          "1970-01-01T00:04:11.227217",
          "1970-01-01T00:04:27.517117",
          "1970-01-01T00:04:30.766731",
          "1970-01-01T00:04:33.683051",
          "1970-01-01T00:04:35.641182",
          "1970-01-01T00:04:36.199481",
          "1970-01-01T00:04:49.131367",
          "1970-01-01T00:04:52.755959",
          "1970-01-01T00:04:58.405376",
          "1970-01-01T00:05:00.238457",
          "1970-01-01T00:05:08.137592",
          "1970-01-01T00:05:09.787421",
          "1970-01-01T00:05:11.437245",
          "1970-01-01T00:05:11.837192",
          "1970-01-01T00:05:13.736966",
          "1970-01-01T00:05:20.161262",
          "1970-01-01T00:05:22.419359",
          "1970-01-01T00:05:28.714686",
          "1970-01-01T00:05:30.097916",
          "1970-01-01T00:05:33.764158",
          "1970-01-01T00:05:37.522071",
          "1970-01-01T00:05:51.170545",
          "1970-01-01T00:05:52.337117",
          "1970-01-01T00:06:01.844369",
          "1970-01-01T00:06:02.211018",
          "1970-01-01T00:06:05.215576",
          "1970-01-01T00:06:19.652031",
          "1970-01-01T00:06:22.723642",
          "1970-01-01T00:06:24.153908",
          "1970-01-01T00:06:25.320442",
          "1970-01-01T00:06:28.803429",
          "1970-01-01T00:06:30.919826",
          "1970-01-01T00:06:39.304201",
          "1970-01-01T00:07:26.882310",
          "1970-01-01T00:07:29.132048",
          "1970-01-01T00:07:30.278408",
          "1970-01-01T00:07:33.236424",
          "1970-01-01T00:07:35.044523",
          "1970-01-01T00:07:48.544311",
          "1970-01-01T00:07:55.318529",
          "1970-01-01T00:07:57.101660",
          "1970-01-01T00:07:57.601603",
          "1970-01-01T00:07:58.176542",
          "1970-01-01T00:08:00.026329",
          "1970-01-01T00:08:00.967890",
          "1970-01-01T00:08:01.934490",
          "1970-01-01T00:08:04.642487",
          "1970-01-01T00:08:07.783809",
          "1970-01-01T00:08:08.725398",
          "1970-01-01T00:08:12.141671",
          "1970-01-01T00:08:18.549295",
          "1970-01-01T00:08:19.432541",
          "1970-01-01T00:08:21.807260",
          "1970-01-01T00:08:23.115456",
          "1970-01-01T00:08:24.165345",
          "1970-01-01T00:08:32.344819"
         ],
         "hovertemplate": "VisitedAOI=%{y}<br>Dwell Start=%{base}<br>Dwell End=%{x}<extra></extra>",
         "legendgroup": "SubFigure2",
         "marker": {
          "color": "#B6E880",
          "pattern": {
           "shape": ""
          }
         },
         "name": "SubFigure2",
         "offsetgroup": "SubFigure2",
         "orientation": "h",
         "showlegend": true,
         "textposition": "auto",
         "type": "bar",
         "x": [
          124,
          158,
          141,
          749,
          1108,
          16,
          208,
          116,
          366,
          633,
          1299,
          233,
          2058,
          1783,
          358,
          16,
          233,
          8,
          874,
          8490,
          2974,
          1424,
          233,
          874,
          224,
          1133,
          949,
          8890,
          441,
          566,
          916,
          1566,
          133,
          12873,
          1708,
          3799,
          883,
          2333,
          424,
          1591,
          366,
          1599,
          3507,
          308,
          5803,
          566,
          3632,
          3724,
          13573,
          999,
          191,
          16,
          183,
          183,
          308,
          249,
          191,
          483,
          1099,
          191,
          58,
          1466,
          929,
          2624,
          183,
          1724,
          8,
          1316,
          24,
          258,
          191,
          674,
          233,
          599,
          1791,
          233,
          558,
          216,
          833,
          366,
          108,
          541,
          841,
          524
         ],
         "xaxis": "x",
         "y": [
          "SubFigure2",
          "SubFigure2",
          "SubFigure2",
          "SubFigure2",
          "SubFigure2",
          "SubFigure2",
          "SubFigure2",
          "SubFigure2",
          "SubFigure2",
          "SubFigure2",
          "SubFigure2",
          "SubFigure2",
          "SubFigure2",
          "SubFigure2",
          "SubFigure2",
          "SubFigure2",
          "SubFigure2",
          "SubFigure2",
          "SubFigure2",
          "SubFigure2",
          "SubFigure2",
          "SubFigure2",
          "SubFigure2",
          "SubFigure2",
          "SubFigure2",
          "SubFigure2",
          "SubFigure2",
          "SubFigure2",
          "SubFigure2",
          "SubFigure2",
          "SubFigure2",
          "SubFigure2",
          "SubFigure2",
          "SubFigure2",
          "SubFigure2",
          "SubFigure2",
          "SubFigure2",
          "SubFigure2",
          "SubFigure2",
          "SubFigure2",
          "SubFigure2",
          "SubFigure2",
          "SubFigure2",
          "SubFigure2",
          "SubFigure2",
          "SubFigure2",
          "SubFigure2",
          "SubFigure2",
          "SubFigure2",
          "SubFigure2",
          "SubFigure2",
          "SubFigure2",
          "SubFigure2",
          "SubFigure2",
          "SubFigure2",
          "SubFigure2",
          "SubFigure2",
          "SubFigure2",
          "SubFigure2",
          "SubFigure2",
          "SubFigure2",
          "SubFigure2",
          "SubFigure2",
          "SubFigure2",
          "SubFigure2",
          "SubFigure2",
          "SubFigure2",
          "SubFigure2",
          "SubFigure2",
          "SubFigure2",
          "SubFigure2",
          "SubFigure2",
          "SubFigure2",
          "SubFigure2",
          "SubFigure2",
          "SubFigure2",
          "SubFigure2",
          "SubFigure2",
          "SubFigure2",
          "SubFigure2",
          "SubFigure2",
          "SubFigure2",
          "SubFigure2",
          "SubFigure2"
         ],
         "yaxis": "y"
        },
        {
         "alignmentgroup": "True",
         "base": [
          "1970-01-01T00:01:50.054252",
          "1970-01-01T00:03:26.773798",
          "1970-01-01T00:03:36.372749",
          "1970-01-01T00:03:36.489379",
          "1970-01-01T00:04:11.043907",
          "1970-01-01T00:04:28.108669",
          "1970-01-01T00:04:29.591849",
          "1970-01-01T00:04:29.700216",
          "1970-01-01T00:05:13.445357",
          "1970-01-01T00:05:52.312115",
          "1970-01-01T00:05:52.728713",
          "1970-01-01T00:05:58.744723",
          "1970-01-01T00:06:01.936047",
          "1970-01-01T00:06:05.423888",
          "1970-01-01T00:06:09.531797",
          "1970-01-01T00:06:19.985324",
          "1970-01-01T00:06:21.632861",
          "1970-01-01T00:06:23.131894",
          "1970-01-01T00:06:24.345564",
          "1970-01-01T00:06:25.803751",
          "1970-01-01T00:06:30.294890",
          "1970-01-01T00:06:31.774837",
          "1970-01-01T00:06:33.682960",
          "1970-01-01T00:06:39.362532",
          "1970-01-01T00:06:40.487416",
          "1970-01-01T00:07:32.961417",
          "1970-01-01T00:07:36.819347",
          "1970-01-01T00:07:57.126656",
          "1970-01-01T00:08:01.201216",
          "1970-01-01T00:08:06.483959",
          "1970-01-01T00:08:09.283674",
          "1970-01-01T00:08:12.374984",
          "1970-01-01T00:08:14.766375",
          "1970-01-01T00:08:16.066243",
          "1970-01-01T00:08:17.691045",
          "1970-01-01T00:08:21.140674",
          "1970-01-01T00:08:25.256879",
          "1970-01-01T00:08:32.903121"
         ],
         "hovertemplate": "VisitedAOI=%{y}<br>Dwell Start=%{base}<br>Dwell End=%{x}<extra></extra>",
         "legendgroup": "SubFigure3",
         "marker": {
          "color": "#FF97FF",
          "pattern": {
           "shape": ""
          }
         },
         "name": "SubFigure3",
         "offsetgroup": "SubFigure3",
         "orientation": "h",
         "showlegend": true,
         "textposition": "auto",
         "type": "bar",
         "x": [
          1474,
          991,
          8,
          308,
          150,
          1316,
          83,
          1066,
          291,
          16,
          958,
          1216,
          274,
          2991,
          10120,
          1491,
          1057,
          1022,
          949,
          2999,
          624,
          1683,
          141,
          158,
          591,
          224,
          513,
          424,
          724,
          1299,
          2857,
          1633,
          691,
          666,
          808,
          574,
          858,
          308
         ],
         "xaxis": "x",
         "y": [
          "SubFigure3",
          "SubFigure3",
          "SubFigure3",
          "SubFigure3",
          "SubFigure3",
          "SubFigure3",
          "SubFigure3",
          "SubFigure3",
          "SubFigure3",
          "SubFigure3",
          "SubFigure3",
          "SubFigure3",
          "SubFigure3",
          "SubFigure3",
          "SubFigure3",
          "SubFigure3",
          "SubFigure3",
          "SubFigure3",
          "SubFigure3",
          "SubFigure3",
          "SubFigure3",
          "SubFigure3",
          "SubFigure3",
          "SubFigure3",
          "SubFigure3",
          "SubFigure3",
          "SubFigure3",
          "SubFigure3",
          "SubFigure3",
          "SubFigure3",
          "SubFigure3",
          "SubFigure3",
          "SubFigure3",
          "SubFigure3",
          "SubFigure3",
          "SubFigure3",
          "SubFigure3",
          "SubFigure3"
         ],
         "yaxis": "y"
        },
        {
         "alignmentgroup": "True",
         "base": [
          "1970-01-01T00:00:07.065695",
          "1970-01-01T00:00:07.232324",
          "1970-01-01T00:00:45.753061",
          "1970-01-01T00:01:39.172144",
          "1970-01-01T00:01:40.488643",
          "1970-01-01T00:02:39.807100",
          "1970-01-01T00:02:40.407011",
          "1970-01-01T00:02:41.631885",
          "1970-01-01T00:02:43.265042",
          "1970-01-01T00:02:47.181279",
          "1970-01-01T00:02:47.622875",
          "1970-01-01T00:02:49.339383",
          "1970-01-01T00:02:51.030831",
          "1970-01-01T00:02:52.277627",
          "1970-01-01T00:03:03.976345",
          "1970-01-01T00:03:08.350901",
          "1970-01-01T00:03:52.754246",
          "1970-01-01T00:03:57.603710",
          "1970-01-01T00:07:41.445069",
          "1970-01-01T00:07:49.402499",
          "1970-01-01T00:07:50.835695",
          "1970-01-01T00:08:14.091459",
          "1970-01-01T00:08:15.557964",
          "1970-01-01T00:08:26.148489",
          "1970-01-01T00:08:33.261436"
         ],
         "hovertemplate": "VisitedAOI=%{y}<br>Dwell Start=%{base}<br>Dwell End=%{x}<extra></extra>",
         "legendgroup": "Formula",
         "marker": {
          "color": "#FECB52",
          "pattern": {
           "shape": ""
          }
         },
         "name": "Formula",
         "offsetgroup": "Formula",
         "orientation": "h",
         "showlegend": true,
         "textposition": "auto",
         "type": "bar",
         "x": [
          66,
          158,
          16,
          141,
          599,
          8,
          75,
          8,
          674,
          366,
          1174,
          1649,
          846,
          8357,
          2758,
          1116,
          524,
          133,
          7049,
          583,
          1149,
          674,
          508,
          149,
          333
         ],
         "xaxis": "x",
         "y": [
          "Formula",
          "Formula",
          "Formula",
          "Formula",
          "Formula",
          "Formula",
          "Formula",
          "Formula",
          "Formula",
          "Formula",
          "Formula",
          "Formula",
          "Formula",
          "Formula",
          "Formula",
          "Formula",
          "Formula",
          "Formula",
          "Formula",
          "Formula",
          "Formula",
          "Formula",
          "Formula",
          "Formula",
          "Formula"
         ],
         "yaxis": "y"
        }
       ],
       "layout": {
        "barmode": "overlay",
        "legend": {
         "title": {
          "text": "VisitedAOI"
         },
         "tracegroupgap": 0
        },
        "template": {
         "data": {
          "bar": [
           {
            "error_x": {
             "color": "#2a3f5f"
            },
            "error_y": {
             "color": "#2a3f5f"
            },
            "marker": {
             "line": {
              "color": "#E5ECF6",
              "width": 0.5
             },
             "pattern": {
              "fillmode": "overlay",
              "size": 10,
              "solidity": 0.2
             }
            },
            "type": "bar"
           }
          ],
          "barpolar": [
           {
            "marker": {
             "line": {
              "color": "#E5ECF6",
              "width": 0.5
             },
             "pattern": {
              "fillmode": "overlay",
              "size": 10,
              "solidity": 0.2
             }
            },
            "type": "barpolar"
           }
          ],
          "carpet": [
           {
            "aaxis": {
             "endlinecolor": "#2a3f5f",
             "gridcolor": "white",
             "linecolor": "white",
             "minorgridcolor": "white",
             "startlinecolor": "#2a3f5f"
            },
            "baxis": {
             "endlinecolor": "#2a3f5f",
             "gridcolor": "white",
             "linecolor": "white",
             "minorgridcolor": "white",
             "startlinecolor": "#2a3f5f"
            },
            "type": "carpet"
           }
          ],
          "choropleth": [
           {
            "colorbar": {
             "outlinewidth": 0,
             "ticks": ""
            },
            "type": "choropleth"
           }
          ],
          "contour": [
           {
            "colorbar": {
             "outlinewidth": 0,
             "ticks": ""
            },
            "colorscale": [
             [
              0,
              "#0d0887"
             ],
             [
              0.1111111111111111,
              "#46039f"
             ],
             [
              0.2222222222222222,
              "#7201a8"
             ],
             [
              0.3333333333333333,
              "#9c179e"
             ],
             [
              0.4444444444444444,
              "#bd3786"
             ],
             [
              0.5555555555555556,
              "#d8576b"
             ],
             [
              0.6666666666666666,
              "#ed7953"
             ],
             [
              0.7777777777777778,
              "#fb9f3a"
             ],
             [
              0.8888888888888888,
              "#fdca26"
             ],
             [
              1,
              "#f0f921"
             ]
            ],
            "type": "contour"
           }
          ],
          "contourcarpet": [
           {
            "colorbar": {
             "outlinewidth": 0,
             "ticks": ""
            },
            "type": "contourcarpet"
           }
          ],
          "heatmap": [
           {
            "colorbar": {
             "outlinewidth": 0,
             "ticks": ""
            },
            "colorscale": [
             [
              0,
              "#0d0887"
             ],
             [
              0.1111111111111111,
              "#46039f"
             ],
             [
              0.2222222222222222,
              "#7201a8"
             ],
             [
              0.3333333333333333,
              "#9c179e"
             ],
             [
              0.4444444444444444,
              "#bd3786"
             ],
             [
              0.5555555555555556,
              "#d8576b"
             ],
             [
              0.6666666666666666,
              "#ed7953"
             ],
             [
              0.7777777777777778,
              "#fb9f3a"
             ],
             [
              0.8888888888888888,
              "#fdca26"
             ],
             [
              1,
              "#f0f921"
             ]
            ],
            "type": "heatmap"
           }
          ],
          "heatmapgl": [
           {
            "colorbar": {
             "outlinewidth": 0,
             "ticks": ""
            },
            "colorscale": [
             [
              0,
              "#0d0887"
             ],
             [
              0.1111111111111111,
              "#46039f"
             ],
             [
              0.2222222222222222,
              "#7201a8"
             ],
             [
              0.3333333333333333,
              "#9c179e"
             ],
             [
              0.4444444444444444,
              "#bd3786"
             ],
             [
              0.5555555555555556,
              "#d8576b"
             ],
             [
              0.6666666666666666,
              "#ed7953"
             ],
             [
              0.7777777777777778,
              "#fb9f3a"
             ],
             [
              0.8888888888888888,
              "#fdca26"
             ],
             [
              1,
              "#f0f921"
             ]
            ],
            "type": "heatmapgl"
           }
          ],
          "histogram": [
           {
            "marker": {
             "pattern": {
              "fillmode": "overlay",
              "size": 10,
              "solidity": 0.2
             }
            },
            "type": "histogram"
           }
          ],
          "histogram2d": [
           {
            "colorbar": {
             "outlinewidth": 0,
             "ticks": ""
            },
            "colorscale": [
             [
              0,
              "#0d0887"
             ],
             [
              0.1111111111111111,
              "#46039f"
             ],
             [
              0.2222222222222222,
              "#7201a8"
             ],
             [
              0.3333333333333333,
              "#9c179e"
             ],
             [
              0.4444444444444444,
              "#bd3786"
             ],
             [
              0.5555555555555556,
              "#d8576b"
             ],
             [
              0.6666666666666666,
              "#ed7953"
             ],
             [
              0.7777777777777778,
              "#fb9f3a"
             ],
             [
              0.8888888888888888,
              "#fdca26"
             ],
             [
              1,
              "#f0f921"
             ]
            ],
            "type": "histogram2d"
           }
          ],
          "histogram2dcontour": [
           {
            "colorbar": {
             "outlinewidth": 0,
             "ticks": ""
            },
            "colorscale": [
             [
              0,
              "#0d0887"
             ],
             [
              0.1111111111111111,
              "#46039f"
             ],
             [
              0.2222222222222222,
              "#7201a8"
             ],
             [
              0.3333333333333333,
              "#9c179e"
             ],
             [
              0.4444444444444444,
              "#bd3786"
             ],
             [
              0.5555555555555556,
              "#d8576b"
             ],
             [
              0.6666666666666666,
              "#ed7953"
             ],
             [
              0.7777777777777778,
              "#fb9f3a"
             ],
             [
              0.8888888888888888,
              "#fdca26"
             ],
             [
              1,
              "#f0f921"
             ]
            ],
            "type": "histogram2dcontour"
           }
          ],
          "mesh3d": [
           {
            "colorbar": {
             "outlinewidth": 0,
             "ticks": ""
            },
            "type": "mesh3d"
           }
          ],
          "parcoords": [
           {
            "line": {
             "colorbar": {
              "outlinewidth": 0,
              "ticks": ""
             }
            },
            "type": "parcoords"
           }
          ],
          "pie": [
           {
            "automargin": true,
            "type": "pie"
           }
          ],
          "scatter": [
           {
            "fillpattern": {
             "fillmode": "overlay",
             "size": 10,
             "solidity": 0.2
            },
            "type": "scatter"
           }
          ],
          "scatter3d": [
           {
            "line": {
             "colorbar": {
              "outlinewidth": 0,
              "ticks": ""
             }
            },
            "marker": {
             "colorbar": {
              "outlinewidth": 0,
              "ticks": ""
             }
            },
            "type": "scatter3d"
           }
          ],
          "scattercarpet": [
           {
            "marker": {
             "colorbar": {
              "outlinewidth": 0,
              "ticks": ""
             }
            },
            "type": "scattercarpet"
           }
          ],
          "scattergeo": [
           {
            "marker": {
             "colorbar": {
              "outlinewidth": 0,
              "ticks": ""
             }
            },
            "type": "scattergeo"
           }
          ],
          "scattergl": [
           {
            "marker": {
             "colorbar": {
              "outlinewidth": 0,
              "ticks": ""
             }
            },
            "type": "scattergl"
           }
          ],
          "scattermapbox": [
           {
            "marker": {
             "colorbar": {
              "outlinewidth": 0,
              "ticks": ""
             }
            },
            "type": "scattermapbox"
           }
          ],
          "scatterpolar": [
           {
            "marker": {
             "colorbar": {
              "outlinewidth": 0,
              "ticks": ""
             }
            },
            "type": "scatterpolar"
           }
          ],
          "scatterpolargl": [
           {
            "marker": {
             "colorbar": {
              "outlinewidth": 0,
              "ticks": ""
             }
            },
            "type": "scatterpolargl"
           }
          ],
          "scatterternary": [
           {
            "marker": {
             "colorbar": {
              "outlinewidth": 0,
              "ticks": ""
             }
            },
            "type": "scatterternary"
           }
          ],
          "surface": [
           {
            "colorbar": {
             "outlinewidth": 0,
             "ticks": ""
            },
            "colorscale": [
             [
              0,
              "#0d0887"
             ],
             [
              0.1111111111111111,
              "#46039f"
             ],
             [
              0.2222222222222222,
              "#7201a8"
             ],
             [
              0.3333333333333333,
              "#9c179e"
             ],
             [
              0.4444444444444444,
              "#bd3786"
             ],
             [
              0.5555555555555556,
              "#d8576b"
             ],
             [
              0.6666666666666666,
              "#ed7953"
             ],
             [
              0.7777777777777778,
              "#fb9f3a"
             ],
             [
              0.8888888888888888,
              "#fdca26"
             ],
             [
              1,
              "#f0f921"
             ]
            ],
            "type": "surface"
           }
          ],
          "table": [
           {
            "cells": {
             "fill": {
              "color": "#EBF0F8"
             },
             "line": {
              "color": "white"
             }
            },
            "header": {
             "fill": {
              "color": "#C8D4E3"
             },
             "line": {
              "color": "white"
             }
            },
            "type": "table"
           }
          ]
         },
         "layout": {
          "annotationdefaults": {
           "arrowcolor": "#2a3f5f",
           "arrowhead": 0,
           "arrowwidth": 1
          },
          "autotypenumbers": "strict",
          "coloraxis": {
           "colorbar": {
            "outlinewidth": 0,
            "ticks": ""
           }
          },
          "colorscale": {
           "diverging": [
            [
             0,
             "#8e0152"
            ],
            [
             0.1,
             "#c51b7d"
            ],
            [
             0.2,
             "#de77ae"
            ],
            [
             0.3,
             "#f1b6da"
            ],
            [
             0.4,
             "#fde0ef"
            ],
            [
             0.5,
             "#f7f7f7"
            ],
            [
             0.6,
             "#e6f5d0"
            ],
            [
             0.7,
             "#b8e186"
            ],
            [
             0.8,
             "#7fbc41"
            ],
            [
             0.9,
             "#4d9221"
            ],
            [
             1,
             "#276419"
            ]
           ],
           "sequential": [
            [
             0,
             "#0d0887"
            ],
            [
             0.1111111111111111,
             "#46039f"
            ],
            [
             0.2222222222222222,
             "#7201a8"
            ],
            [
             0.3333333333333333,
             "#9c179e"
            ],
            [
             0.4444444444444444,
             "#bd3786"
            ],
            [
             0.5555555555555556,
             "#d8576b"
            ],
            [
             0.6666666666666666,
             "#ed7953"
            ],
            [
             0.7777777777777778,
             "#fb9f3a"
            ],
            [
             0.8888888888888888,
             "#fdca26"
            ],
            [
             1,
             "#f0f921"
            ]
           ],
           "sequentialminus": [
            [
             0,
             "#0d0887"
            ],
            [
             0.1111111111111111,
             "#46039f"
            ],
            [
             0.2222222222222222,
             "#7201a8"
            ],
            [
             0.3333333333333333,
             "#9c179e"
            ],
            [
             0.4444444444444444,
             "#bd3786"
            ],
            [
             0.5555555555555556,
             "#d8576b"
            ],
            [
             0.6666666666666666,
             "#ed7953"
            ],
            [
             0.7777777777777778,
             "#fb9f3a"
            ],
            [
             0.8888888888888888,
             "#fdca26"
            ],
            [
             1,
             "#f0f921"
            ]
           ]
          },
          "colorway": [
           "#636efa",
           "#EF553B",
           "#00cc96",
           "#ab63fa",
           "#FFA15A",
           "#19d3f3",
           "#FF6692",
           "#B6E880",
           "#FF97FF",
           "#FECB52"
          ],
          "font": {
           "color": "#2a3f5f"
          },
          "geo": {
           "bgcolor": "white",
           "lakecolor": "white",
           "landcolor": "#E5ECF6",
           "showlakes": true,
           "showland": true,
           "subunitcolor": "white"
          },
          "hoverlabel": {
           "align": "left"
          },
          "hovermode": "closest",
          "mapbox": {
           "style": "light"
          },
          "paper_bgcolor": "white",
          "plot_bgcolor": "#E5ECF6",
          "polar": {
           "angularaxis": {
            "gridcolor": "white",
            "linecolor": "white",
            "ticks": ""
           },
           "bgcolor": "#E5ECF6",
           "radialaxis": {
            "gridcolor": "white",
            "linecolor": "white",
            "ticks": ""
           }
          },
          "scene": {
           "xaxis": {
            "backgroundcolor": "#E5ECF6",
            "gridcolor": "white",
            "gridwidth": 2,
            "linecolor": "white",
            "showbackground": true,
            "ticks": "",
            "zerolinecolor": "white"
           },
           "yaxis": {
            "backgroundcolor": "#E5ECF6",
            "gridcolor": "white",
            "gridwidth": 2,
            "linecolor": "white",
            "showbackground": true,
            "ticks": "",
            "zerolinecolor": "white"
           },
           "zaxis": {
            "backgroundcolor": "#E5ECF6",
            "gridcolor": "white",
            "gridwidth": 2,
            "linecolor": "white",
            "showbackground": true,
            "ticks": "",
            "zerolinecolor": "white"
           }
          },
          "shapedefaults": {
           "line": {
            "color": "#2a3f5f"
           }
          },
          "ternary": {
           "aaxis": {
            "gridcolor": "white",
            "linecolor": "white",
            "ticks": ""
           },
           "baxis": {
            "gridcolor": "white",
            "linecolor": "white",
            "ticks": ""
           },
           "bgcolor": "#E5ECF6",
           "caxis": {
            "gridcolor": "white",
            "linecolor": "white",
            "ticks": ""
           }
          },
          "title": {
           "x": 0.05
          },
          "xaxis": {
           "automargin": true,
           "gridcolor": "white",
           "linecolor": "white",
           "ticks": "",
           "title": {
            "standoff": 15
           },
           "zerolinecolor": "white",
           "zerolinewidth": 2
          },
          "yaxis": {
           "automargin": true,
           "gridcolor": "white",
           "linecolor": "white",
           "ticks": "",
           "title": {
            "standoff": 15
           },
           "zerolinecolor": "white",
           "zerolinewidth": 2
          }
         }
        },
        "title": {
         "text": "Participant: Anonymous 14-11-22 09h35m"
        },
        "xaxis": {
         "anchor": "y",
         "domain": [
          0,
          1
         ],
         "tickformat": "%Q",
         "type": "date"
        },
        "yaxis": {
         "anchor": "x",
         "categoryarray": [
          "Formula",
          "SubFigure3",
          "SubFigure2",
          "SubFigure1",
          "Paragraph6",
          "Paragraph5",
          "Paragraph4",
          "Paragraph3",
          "Paragraph2",
          "Paragraph1"
         ],
         "categoryorder": "array",
         "domain": [
          0,
          1
         ],
         "title": {
          "text": "VisitedAOI"
         }
        }
       }
      },
      "text/html": [
       "<div>                            <div id=\"e5478101-5234-4e38-85c7-70a30bd7415b\" class=\"plotly-graph-div\" style=\"height:525px; width:100%;\"></div>            <script type=\"text/javascript\">                require([\"plotly\"], function(Plotly) {                    window.PLOTLYENV=window.PLOTLYENV || {};                                    if (document.getElementById(\"e5478101-5234-4e38-85c7-70a30bd7415b\")) {                    Plotly.newPlot(                        \"e5478101-5234-4e38-85c7-70a30bd7415b\",                        [{\"alignmentgroup\":\"True\",\"base\":[\"1970-01-01T00:00:00.566407\",\"1970-01-01T00:00:00.899699\",\"1970-01-01T00:00:07.473958\",\"1970-01-01T00:00:22.055674\",\"1970-01-01T00:00:22.588972\",\"1970-01-01T00:00:22.922266\",\"1970-01-01T00:00:24.022129\",\"1970-01-01T00:00:24.997018\",\"1970-01-01T00:00:25.513635\",\"1970-01-01T00:00:40.861939\",\"1970-01-01T00:01:47.129575\",\"1970-01-01T00:03:53.845837\",\"1970-01-01T00:06:03.102554\",\"1970-01-01T00:06:51.477858\",\"1970-01-01T00:07:38.690864\",\"1970-01-01T00:08:26.706779\",\"1970-01-01T00:08:28.545267\"],\"hovertemplate\":\"VisitedAOI=%{y}<br>Dwell Start=%{base}<br>Dwell End=%{x}<extra></extra>\",\"legendgroup\":\"Paragraph1\",\"marker\":{\"color\":\"#636efa\",\"pattern\":{\"shape\":\"\"}},\"name\":\"Paragraph1\",\"offsetgroup\":\"Paragraph1\",\"orientation\":\"h\",\"showlegend\":true,\"textposition\":\"auto\",\"x\":[150.0,6057.0,9207.0,233.0,66.0,308.0,949.0,491.0,14590.0,333.0,41.0,733.0,191.0,791.0,283.0,308.0,491.0],\"xaxis\":\"x\",\"y\":[\"Paragraph1\",\"Paragraph1\",\"Paragraph1\",\"Paragraph1\",\"Paragraph1\",\"Paragraph1\",\"Paragraph1\",\"Paragraph1\",\"Paragraph1\",\"Paragraph1\",\"Paragraph1\",\"Paragraph1\",\"Paragraph1\",\"Paragraph1\",\"Paragraph1\",\"Paragraph1\",\"Paragraph1\"],\"yaxis\":\"y\",\"type\":\"bar\"},{\"alignmentgroup\":\"True\",\"base\":[\"1970-01-01T00:00:22.547302\",\"1970-01-01T00:00:23.480534\",\"1970-01-01T00:00:40.137071\",\"1970-01-01T00:00:40.503669\",\"1970-01-01T00:00:41.211906\",\"1970-01-01T00:00:42.153480\",\"1970-01-01T00:00:45.953030\",\"1970-01-01T00:01:16.666319\",\"1970-01-01T00:01:38.430588\",\"1970-01-01T00:01:40.113707\",\"1970-01-01T00:01:43.338329\",\"1970-01-01T00:01:47.329562\",\"1970-01-01T00:02:17.776177\",\"1970-01-01T00:02:25.192032\",\"1970-01-01T00:02:39.332145\",\"1970-01-01T00:02:40.590341\",\"1970-01-01T00:02:44.164920\",\"1970-01-01T00:02:44.523217\",\"1970-01-01T00:02:44.781578\",\"1970-01-01T00:03:54.579073\",\"1970-01-01T00:06:00.244538\",\"1970-01-01T00:06:02.469315\",\"1970-01-01T00:06:02.794292\",\"1970-01-01T00:07:39.540747\",\"1970-01-01T00:07:40.278525\",\"1970-01-01T00:08:26.415089\",\"1970-01-01T00:08:28.403614\"],\"hovertemplate\":\"VisitedAOI=%{y}<br>Dwell Start=%{base}<br>Dwell End=%{x}<extra></extra>\",\"legendgroup\":\"Paragraph2\",\"marker\":{\"color\":\"#EF553B\",\"pattern\":{\"shape\":\"\"}},\"name\":\"Paragraph2\",\"offsetgroup\":\"Paragraph2\",\"orientation\":\"h\",\"showlegend\":true,\"textposition\":\"auto\",\"x\":[25.0,174.0,341.0,308.0,491.0,3582.0,30296.0,21680.0,424.0,374.0,16.0,108.0,75.0,116.0,266.0,125.0,108.0,16.0,1691.0,1816.0,300.0,158.0,258.0,587.0,208.0,291.0,141.0],\"xaxis\":\"x\",\"y\":[\"Paragraph2\",\"Paragraph2\",\"Paragraph2\",\"Paragraph2\",\"Paragraph2\",\"Paragraph2\",\"Paragraph2\",\"Paragraph2\",\"Paragraph2\",\"Paragraph2\",\"Paragraph2\",\"Paragraph2\",\"Paragraph2\",\"Paragraph2\",\"Paragraph2\",\"Paragraph2\",\"Paragraph2\",\"Paragraph2\",\"Paragraph2\",\"Paragraph2\",\"Paragraph2\",\"Paragraph2\",\"Paragraph2\",\"Paragraph2\",\"Paragraph2\",\"Paragraph2\",\"Paragraph2\"],\"yaxis\":\"y\",\"type\":\"bar\"},{\"alignmentgroup\":\"True\",\"base\":[\"1970-01-01T00:00:16.706335\",\"1970-01-01T00:00:22.655629\",\"1970-01-01T00:01:47.787854\",\"1970-01-01T00:01:53.978831\",\"1970-01-01T00:01:55.470318\",\"1970-01-01T00:02:02.544593\",\"1970-01-01T00:02:03.644415\",\"1970-01-01T00:02:10.477022\",\"1970-01-01T00:02:11.076978\",\"1970-01-01T00:02:16.493046\",\"1970-01-01T00:02:39.132148\",\"1970-01-01T00:02:40.856970\",\"1970-01-01T00:03:46.638255\",\"1970-01-01T00:03:53.304185\",\"1970-01-01T00:06:03.294249\",\"1970-01-01T00:06:03.819158\",\"1970-01-01T00:06:04.657362\",\"1970-01-01T00:06:52.269458\",\"1970-01-01T00:07:40.553505\"],\"hovertemplate\":\"VisitedAOI=%{y}<br>Dwell Start=%{base}<br>Dwell End=%{x}<extra></extra>\",\"legendgroup\":\"Paragraph3\",\"marker\":{\"color\":\"#00cc96\",\"pattern\":{\"shape\":\"\"}},\"name\":\"Paragraph3\",\"offsetgroup\":\"Paragraph3\",\"orientation\":\"h\",\"showlegend\":true,\"textposition\":\"auto\",\"x\":[5257.0,233.0,933.0,1241.0,6874.0,916.0,6757.0,549.0,5099.0,208.0,133.0,524.0,4932.0,491.0,341.0,416.0,216.0,3407.0,716.0],\"xaxis\":\"x\",\"y\":[\"Paragraph3\",\"Paragraph3\",\"Paragraph3\",\"Paragraph3\",\"Paragraph3\",\"Paragraph3\",\"Paragraph3\",\"Paragraph3\",\"Paragraph3\",\"Paragraph3\",\"Paragraph3\",\"Paragraph3\",\"Paragraph3\",\"Paragraph3\",\"Paragraph3\",\"Paragraph3\",\"Paragraph3\",\"Paragraph3\",\"Paragraph3\"],\"yaxis\":\"y\",\"type\":\"bar\"},{\"alignmentgroup\":\"True\",\"base\":[\"1970-01-01T00:00:00.133108\",\"1970-01-01T00:01:38.897177\",\"1970-01-01T00:01:39.772054\",\"1970-01-01T00:01:39.963699\",\"1970-01-01T00:02:16.701328\",\"1970-01-01T00:02:18.017821\",\"1970-01-01T00:02:22.908959\",\"1970-01-01T00:02:25.508705\",\"1970-01-01T00:02:28.899967\",\"1970-01-01T00:02:34.716060\",\"1970-01-01T00:02:46.514712\",\"1970-01-01T00:02:46.806303\",\"1970-01-01T00:03:40.113998\",\"1970-01-01T00:03:40.463977\",\"1970-01-01T00:03:44.346882\",\"1970-01-01T00:03:46.221705\",\"1970-01-01T00:03:57.803718\",\"1970-01-01T00:04:01.303315\",\"1970-01-01T00:06:00.086270\",\"1970-01-01T00:06:01.227828\",\"1970-01-01T00:06:02.727612\",\"1970-01-01T00:06:04.277429\",\"1970-01-01T00:07:34.611276\",\"1970-01-01T00:08:28.078671\",\"1970-01-01T00:08:31.436591\"],\"hovertemplate\":\"VisitedAOI=%{y}<br>Dwell Start=%{base}<br>Dwell End=%{x}<extra></extra>\",\"legendgroup\":\"Paragraph4\",\"marker\":{\"color\":\"#ab63fa\",\"pattern\":{\"shape\":\"\"}},\"name\":\"Paragraph4\",\"offsetgroup\":\"Paragraph4\",\"orientation\":\"h\",\"showlegend\":true,\"textposition\":\"auto\",\"x\":[299.0,274.0,108.0,150.0,941.0,4724.0,1999.0,3132.0,5732.0,1874.0,24.0,8.0,258.0,24.0,283.0,183.0,2224.0,766.0,116.0,608.0,66.0,354.0,83.0,208.0,583.0],\"xaxis\":\"x\",\"y\":[\"Paragraph4\",\"Paragraph4\",\"Paragraph4\",\"Paragraph4\",\"Paragraph4\",\"Paragraph4\",\"Paragraph4\",\"Paragraph4\",\"Paragraph4\",\"Paragraph4\",\"Paragraph4\",\"Paragraph4\",\"Paragraph4\",\"Paragraph4\",\"Paragraph4\",\"Paragraph4\",\"Paragraph4\",\"Paragraph4\",\"Paragraph4\",\"Paragraph4\",\"Paragraph4\",\"Paragraph4\",\"Paragraph4\",\"Paragraph4\",\"Paragraph4\"],\"yaxis\":\"y\",\"type\":\"bar\"},{\"alignmentgroup\":\"True\",\"base\":[\"1970-01-01T00:02:16.226365\",\"1970-01-01T00:03:40.630610\",\"1970-01-01T00:03:42.905421\",\"1970-01-01T00:04:11.810544\",\"1970-01-01T00:04:12.160461\",\"1970-01-01T00:04:19.617942\",\"1970-01-01T00:04:31.799942\",\"1970-01-01T00:04:32.291614\",\"1970-01-01T00:04:50.947860\",\"1970-01-01T00:04:56.722195\",\"1970-01-01T00:04:57.213853\",\"1970-01-01T00:04:59.396906\",\"1970-01-01T00:05:02.754886\",\"1970-01-01T00:05:04.071361\",\"1970-01-01T00:05:08.695848\",\"1970-01-01T00:05:17.369896\",\"1970-01-01T00:05:20.611238\",\"1970-01-01T00:05:53.970233\",\"1970-01-01T00:06:00.986122\",\"1970-01-01T00:06:03.677525\",\"1970-01-01T00:06:04.923994\",\"1970-01-01T00:06:08.673526\",\"1970-01-01T00:06:35.546295\",\"1970-01-01T00:06:47.120028\",\"1970-01-01T00:06:49.919742\",\"1970-01-01T00:07:33.702987\",\"1970-01-01T00:07:38.374229\",\"1970-01-01T00:07:41.286745\",\"1970-01-01T00:08:27.031681\",\"1970-01-01T00:08:27.440008\",\"1970-01-01T00:08:29.111854\",\"1970-01-01T00:08:31.136639\"],\"hovertemplate\":\"VisitedAOI=%{y}<br>Dwell Start=%{base}<br>Dwell End=%{x}<extra></extra>\",\"legendgroup\":\"Paragraph5\",\"marker\":{\"color\":\"#FFA15A\",\"pattern\":{\"shape\":\"\"}},\"name\":\"Paragraph5\",\"offsetgroup\":\"Paragraph5\",\"orientation\":\"h\",\"showlegend\":true,\"textposition\":\"auto\",\"x\":[208.0,558.0,1416.0,216.0,7382.0,7674.0,449.0,1324.0,1716.0,474.0,1091.0,716.0,1291.0,3949.0,908.0,2616.0,1674.0,4641.0,191.0,141.0,83.0,683.0,66.0,58.0,24.0,816.0,274.0,16.0,366.0,416.0,174.0,208.0],\"xaxis\":\"x\",\"y\":[\"Paragraph5\",\"Paragraph5\",\"Paragraph5\",\"Paragraph5\",\"Paragraph5\",\"Paragraph5\",\"Paragraph5\",\"Paragraph5\",\"Paragraph5\",\"Paragraph5\",\"Paragraph5\",\"Paragraph5\",\"Paragraph5\",\"Paragraph5\",\"Paragraph5\",\"Paragraph5\",\"Paragraph5\",\"Paragraph5\",\"Paragraph5\",\"Paragraph5\",\"Paragraph5\",\"Paragraph5\",\"Paragraph5\",\"Paragraph5\",\"Paragraph5\",\"Paragraph5\",\"Paragraph5\",\"Paragraph5\",\"Paragraph5\",\"Paragraph5\",\"Paragraph5\",\"Paragraph5\"],\"yaxis\":\"y\",\"type\":\"bar\"},{\"alignmentgroup\":\"True\",\"base\":[\"1970-01-01T00:05:53.836919\",\"1970-01-01T00:06:08.556903\",\"1970-01-01T00:06:33.824592\",\"1970-01-01T00:06:35.204654\",\"1970-01-01T00:06:35.354673\",\"1970-01-01T00:06:35.612946\",\"1970-01-01T00:06:36.129552\",\"1970-01-01T00:06:36.387855\",\"1970-01-01T00:06:38.312645\",\"1970-01-01T00:06:39.629181\",\"1970-01-01T00:06:40.012482\",\"1970-01-01T00:06:41.370641\",\"1970-01-01T00:06:42.445524\",\"1970-01-01T00:06:47.211661\",\"1970-01-01T00:06:47.761610\",\"1970-01-01T00:06:48.261546\",\"1970-01-01T00:06:48.369873\",\"1970-01-01T00:06:48.594907\",\"1970-01-01T00:06:49.511407\",\"1970-01-01T00:06:49.661443\",\"1970-01-01T00:06:50.044682\",\"1970-01-01T00:06:55.827400\",\"1970-01-01T00:06:56.885641\",\"1970-01-01T00:07:00.310252\",\"1970-01-01T00:07:09.517538\",\"1970-01-01T00:07:14.092052\",\"1970-01-01T00:07:17.383364\",\"1970-01-01T00:07:18.783174\",\"1970-01-01T00:07:20.316341\",\"1970-01-01T00:07:22.182814\",\"1970-01-01T00:07:23.341038\",\"1970-01-01T00:07:25.865746\",\"1970-01-01T00:07:28.407148\",\"1970-01-01T00:07:33.503002\",\"1970-01-01T00:07:37.549319\",\"1970-01-01T00:08:29.295181\",\"1970-01-01T00:08:38.152513\"],\"hovertemplate\":\"VisitedAOI=%{y}<br>Dwell Start=%{base}<br>Dwell End=%{x}<extra></extra>\",\"legendgroup\":\"Paragraph6\",\"marker\":{\"color\":\"#19d3f3\",\"pattern\":{\"shape\":\"\"}},\"name\":\"Paragraph6\",\"offsetgroup\":\"Paragraph6\",\"orientation\":\"h\",\"showlegend\":true,\"textposition\":\"auto\",\"x\":[108.0,116.0,1008.0,100.0,150.0,483.0,183.0,1708.0,883.0,158.0,358.0,1041.0,4566.0,516.0,424.0,83.0,174.0,783.0,91.0,91.0,1241.0,999.0,3166.0,8790.0,1208.0,1183.0,674.0,258.0,391.0,708.0,2449.0,908.0,649.0,199.0,749.0,1833.0,108.0],\"xaxis\":\"x\",\"y\":[\"Paragraph6\",\"Paragraph6\",\"Paragraph6\",\"Paragraph6\",\"Paragraph6\",\"Paragraph6\",\"Paragraph6\",\"Paragraph6\",\"Paragraph6\",\"Paragraph6\",\"Paragraph6\",\"Paragraph6\",\"Paragraph6\",\"Paragraph6\",\"Paragraph6\",\"Paragraph6\",\"Paragraph6\",\"Paragraph6\",\"Paragraph6\",\"Paragraph6\",\"Paragraph6\",\"Paragraph6\",\"Paragraph6\",\"Paragraph6\",\"Paragraph6\",\"Paragraph6\",\"Paragraph6\",\"Paragraph6\",\"Paragraph6\",\"Paragraph6\",\"Paragraph6\",\"Paragraph6\",\"Paragraph6\",\"Paragraph6\",\"Paragraph6\",\"Paragraph6\",\"Paragraph6\"],\"yaxis\":\"y\",\"type\":\"bar\"},{\"alignmentgroup\":\"True\",\"base\":[\"1970-01-01T00:01:39.655401\",\"1970-01-01T00:01:41.163607\",\"1970-01-01T00:01:41.580206\",\"1970-01-01T00:01:42.146816\",\"1970-01-01T00:01:44.429882\",\"1970-01-01T00:01:44.954864\",\"1970-01-01T00:01:51.604109\",\"1970-01-01T00:01:52.853976\",\"1970-01-01T00:02:28.716641\",\"1970-01-01T00:02:36.774104\",\"1970-01-01T00:02:36.907392\",\"1970-01-01T00:02:41.890208\",\"1970-01-01T00:02:42.348458\",\"1970-01-01T00:02:52.077670\",\"1970-01-01T00:03:00.660071\",\"1970-01-01T00:03:06.817800\",\"1970-01-01T00:03:09.467482\",\"1970-01-01T00:03:12.517047\",\"1970-01-01T00:03:16.041694\",\"1970-01-01T00:03:22.115968\",\"1970-01-01T00:03:44.988461\",\"1970-01-01T00:03:46.054991\",\"1970-01-01T00:03:51.979361\",\"1970-01-01T00:04:35.824542\",\"1970-01-01T00:04:59.296942\",\"1970-01-01T00:05:11.387218\",\"1970-01-01T00:05:11.812184\",\"1970-01-01T00:05:28.364779\",\"1970-01-01T00:05:29.281312\",\"1970-01-01T00:06:29.936594\",\"1970-01-01T00:07:09.175921\",\"1970-01-01T00:07:10.725766\",\"1970-01-01T00:07:15.350237\",\"1970-01-01T00:07:18.058319\",\"1970-01-01T00:07:19.091498\",\"1970-01-01T00:07:20.707964\",\"1970-01-01T00:07:22.932725\",\"1970-01-01T00:07:34.736229\",\"1970-01-01T00:07:48.594341\",\"1970-01-01T00:07:50.085795\",\"1970-01-01T00:07:51.993898\",\"1970-01-01T00:07:56.743388\",\"1970-01-01T00:07:57.909910\",\"1970-01-01T00:07:59.051451\",\"1970-01-01T00:08:00.701326\",\"1970-01-01T00:08:02.534407\",\"1970-01-01T00:08:02.901042\",\"1970-01-01T00:08:03.300969\",\"1970-01-01T00:08:03.625940\",\"1970-01-01T00:08:04.234205\",\"1970-01-01T00:08:08.667065\",\"1970-01-01T00:08:16.741171\",\"1970-01-01T00:08:19.882472\",\"1970-01-01T00:08:20.407454\",\"1970-01-01T00:08:21.965627\",\"1970-01-01T00:08:22.690552\",\"1970-01-01T00:08:23.715382\",\"1970-01-01T00:08:23.898748\",\"1970-01-01T00:08:32.019859\",\"1970-01-01T00:08:36.794329\"],\"hovertemplate\":\"VisitedAOI=%{y}<br>Dwell Start=%{base}<br>Dwell End=%{x}<extra></extra>\",\"legendgroup\":\"SubFigure1\",\"marker\":{\"color\":\"#FF6692\",\"pattern\":{\"shape\":\"\"}},\"name\":\"SubFigure1\",\"offsetgroup\":\"SubFigure1\",\"orientation\":\"h\",\"showlegend\":true,\"textposition\":\"auto\",\"x\":[116.0,116.0,141.0,1058.0,183.0,1266.0,783.0,1049.0,125.0,16.0,766.0,24.0,283.0,16.0,3266.0,1449.0,1641.0,3507.0,2099.0,916.0,141.0,166.0,716.0,374.0,16.0,8.0,8.0,266.0,816.0,266.0,316.0,3366.0,1908.0,724.0,1049.0,1408.0,349.0,208.0,808.0,691.0,3291.0,308.0,266.0,974.0,208.0,316.0,383.0,299.0,591.0,391.0,58.0,941.0,499.0,724.0,674.0,424.0,158.0,233.0,291.0,1008.0],\"xaxis\":\"x\",\"y\":[\"SubFigure1\",\"SubFigure1\",\"SubFigure1\",\"SubFigure1\",\"SubFigure1\",\"SubFigure1\",\"SubFigure1\",\"SubFigure1\",\"SubFigure1\",\"SubFigure1\",\"SubFigure1\",\"SubFigure1\",\"SubFigure1\",\"SubFigure1\",\"SubFigure1\",\"SubFigure1\",\"SubFigure1\",\"SubFigure1\",\"SubFigure1\",\"SubFigure1\",\"SubFigure1\",\"SubFigure1\",\"SubFigure1\",\"SubFigure1\",\"SubFigure1\",\"SubFigure1\",\"SubFigure1\",\"SubFigure1\",\"SubFigure1\",\"SubFigure1\",\"SubFigure1\",\"SubFigure1\",\"SubFigure1\",\"SubFigure1\",\"SubFigure1\",\"SubFigure1\",\"SubFigure1\",\"SubFigure1\",\"SubFigure1\",\"SubFigure1\",\"SubFigure1\",\"SubFigure1\",\"SubFigure1\",\"SubFigure1\",\"SubFigure1\",\"SubFigure1\",\"SubFigure1\",\"SubFigure1\",\"SubFigure1\",\"SubFigure1\",\"SubFigure1\",\"SubFigure1\",\"SubFigure1\",\"SubFigure1\",\"SubFigure1\",\"SubFigure1\",\"SubFigure1\",\"SubFigure1\",\"SubFigure1\",\"SubFigure1\"],\"yaxis\":\"y\",\"type\":\"bar\"},{\"alignmentgroup\":\"True\",\"base\":[\"1970-01-01T00:01:16.424660\",\"1970-01-01T00:01:43.846632\",\"1970-01-01T00:01:44.171580\",\"1970-01-01T00:01:46.271338\",\"1970-01-01T00:01:48.946037\",\"1970-01-01T00:02:36.699099\",\"1970-01-01T00:02:37.682325\",\"1970-01-01T00:02:38.090605\",\"1970-01-01T00:03:11.475525\",\"1970-01-01T00:03:11.858804\",\"1970-01-01T00:03:18.183121\",\"1970-01-01T00:03:19.766232\",\"1970-01-01T00:03:20.057868\",\"1970-01-01T00:03:23.032577\",\"1970-01-01T00:03:24.849003\",\"1970-01-01T00:03:25.273994\",\"1970-01-01T00:03:25.482316\",\"1970-01-01T00:03:25.823913\",\"1970-01-01T00:03:25.898883\",\"1970-01-01T00:03:27.765342\",\"1970-01-01T00:03:36.797678\",\"1970-01-01T00:03:41.297189\",\"1970-01-01T00:03:44.755133\",\"1970-01-01T00:03:45.155129\",\"1970-01-01T00:03:51.704416\",\"1970-01-01T00:03:56.453841\",\"1970-01-01T00:04:00.028440\",\"1970-01-01T00:04:02.153252\",\"1970-01-01T00:04:11.227217\",\"1970-01-01T00:04:27.517117\",\"1970-01-01T00:04:30.766731\",\"1970-01-01T00:04:33.683051\",\"1970-01-01T00:04:35.641182\",\"1970-01-01T00:04:36.199481\",\"1970-01-01T00:04:49.131367\",\"1970-01-01T00:04:52.755959\",\"1970-01-01T00:04:58.405376\",\"1970-01-01T00:05:00.238457\",\"1970-01-01T00:05:08.137592\",\"1970-01-01T00:05:09.787421\",\"1970-01-01T00:05:11.437245\",\"1970-01-01T00:05:11.837192\",\"1970-01-01T00:05:13.736966\",\"1970-01-01T00:05:20.161262\",\"1970-01-01T00:05:22.419359\",\"1970-01-01T00:05:28.714686\",\"1970-01-01T00:05:30.097916\",\"1970-01-01T00:05:33.764158\",\"1970-01-01T00:05:37.522071\",\"1970-01-01T00:05:51.170545\",\"1970-01-01T00:05:52.337117\",\"1970-01-01T00:06:01.844369\",\"1970-01-01T00:06:02.211018\",\"1970-01-01T00:06:05.215576\",\"1970-01-01T00:06:19.652031\",\"1970-01-01T00:06:22.723642\",\"1970-01-01T00:06:24.153908\",\"1970-01-01T00:06:25.320442\",\"1970-01-01T00:06:28.803429\",\"1970-01-01T00:06:30.919826\",\"1970-01-01T00:06:39.304201\",\"1970-01-01T00:07:26.882310\",\"1970-01-01T00:07:29.132048\",\"1970-01-01T00:07:30.278408\",\"1970-01-01T00:07:33.236424\",\"1970-01-01T00:07:35.044523\",\"1970-01-01T00:07:48.544311\",\"1970-01-01T00:07:55.318529\",\"1970-01-01T00:07:57.101660\",\"1970-01-01T00:07:57.601603\",\"1970-01-01T00:07:58.176542\",\"1970-01-01T00:08:00.026329\",\"1970-01-01T00:08:00.967890\",\"1970-01-01T00:08:01.934490\",\"1970-01-01T00:08:04.642487\",\"1970-01-01T00:08:07.783809\",\"1970-01-01T00:08:08.725398\",\"1970-01-01T00:08:12.141671\",\"1970-01-01T00:08:18.549295\",\"1970-01-01T00:08:19.432541\",\"1970-01-01T00:08:21.807260\",\"1970-01-01T00:08:23.115456\",\"1970-01-01T00:08:24.165345\",\"1970-01-01T00:08:32.344819\"],\"hovertemplate\":\"VisitedAOI=%{y}<br>Dwell Start=%{base}<br>Dwell End=%{x}<extra></extra>\",\"legendgroup\":\"SubFigure2\",\"marker\":{\"color\":\"#B6E880\",\"pattern\":{\"shape\":\"\"}},\"name\":\"SubFigure2\",\"offsetgroup\":\"SubFigure2\",\"orientation\":\"h\",\"showlegend\":true,\"textposition\":\"auto\",\"x\":[124.0,158.0,141.0,749.0,1108.0,16.0,208.0,116.0,366.0,633.0,1299.0,233.0,2058.0,1783.0,358.0,16.0,233.0,8.0,874.0,8490.0,2974.0,1424.0,233.0,874.0,224.0,1133.0,949.0,8890.0,441.0,566.0,916.0,1566.0,133.0,12873.0,1708.0,3799.0,883.0,2333.0,424.0,1591.0,366.0,1599.0,3507.0,308.0,5803.0,566.0,3632.0,3724.0,13573.0,999.0,191.0,16.0,183.0,183.0,308.0,249.0,191.0,483.0,1099.0,191.0,58.0,1466.0,929.0,2624.0,183.0,1724.0,8.0,1316.0,24.0,258.0,191.0,674.0,233.0,599.0,1791.0,233.0,558.0,216.0,833.0,366.0,108.0,541.0,841.0,524.0],\"xaxis\":\"x\",\"y\":[\"SubFigure2\",\"SubFigure2\",\"SubFigure2\",\"SubFigure2\",\"SubFigure2\",\"SubFigure2\",\"SubFigure2\",\"SubFigure2\",\"SubFigure2\",\"SubFigure2\",\"SubFigure2\",\"SubFigure2\",\"SubFigure2\",\"SubFigure2\",\"SubFigure2\",\"SubFigure2\",\"SubFigure2\",\"SubFigure2\",\"SubFigure2\",\"SubFigure2\",\"SubFigure2\",\"SubFigure2\",\"SubFigure2\",\"SubFigure2\",\"SubFigure2\",\"SubFigure2\",\"SubFigure2\",\"SubFigure2\",\"SubFigure2\",\"SubFigure2\",\"SubFigure2\",\"SubFigure2\",\"SubFigure2\",\"SubFigure2\",\"SubFigure2\",\"SubFigure2\",\"SubFigure2\",\"SubFigure2\",\"SubFigure2\",\"SubFigure2\",\"SubFigure2\",\"SubFigure2\",\"SubFigure2\",\"SubFigure2\",\"SubFigure2\",\"SubFigure2\",\"SubFigure2\",\"SubFigure2\",\"SubFigure2\",\"SubFigure2\",\"SubFigure2\",\"SubFigure2\",\"SubFigure2\",\"SubFigure2\",\"SubFigure2\",\"SubFigure2\",\"SubFigure2\",\"SubFigure2\",\"SubFigure2\",\"SubFigure2\",\"SubFigure2\",\"SubFigure2\",\"SubFigure2\",\"SubFigure2\",\"SubFigure2\",\"SubFigure2\",\"SubFigure2\",\"SubFigure2\",\"SubFigure2\",\"SubFigure2\",\"SubFigure2\",\"SubFigure2\",\"SubFigure2\",\"SubFigure2\",\"SubFigure2\",\"SubFigure2\",\"SubFigure2\",\"SubFigure2\",\"SubFigure2\",\"SubFigure2\",\"SubFigure2\",\"SubFigure2\",\"SubFigure2\",\"SubFigure2\"],\"yaxis\":\"y\",\"type\":\"bar\"},{\"alignmentgroup\":\"True\",\"base\":[\"1970-01-01T00:01:50.054252\",\"1970-01-01T00:03:26.773798\",\"1970-01-01T00:03:36.372749\",\"1970-01-01T00:03:36.489379\",\"1970-01-01T00:04:11.043907\",\"1970-01-01T00:04:28.108669\",\"1970-01-01T00:04:29.591849\",\"1970-01-01T00:04:29.700216\",\"1970-01-01T00:05:13.445357\",\"1970-01-01T00:05:52.312115\",\"1970-01-01T00:05:52.728713\",\"1970-01-01T00:05:58.744723\",\"1970-01-01T00:06:01.936047\",\"1970-01-01T00:06:05.423888\",\"1970-01-01T00:06:09.531797\",\"1970-01-01T00:06:19.985324\",\"1970-01-01T00:06:21.632861\",\"1970-01-01T00:06:23.131894\",\"1970-01-01T00:06:24.345564\",\"1970-01-01T00:06:25.803751\",\"1970-01-01T00:06:30.294890\",\"1970-01-01T00:06:31.774837\",\"1970-01-01T00:06:33.682960\",\"1970-01-01T00:06:39.362532\",\"1970-01-01T00:06:40.487416\",\"1970-01-01T00:07:32.961417\",\"1970-01-01T00:07:36.819347\",\"1970-01-01T00:07:57.126656\",\"1970-01-01T00:08:01.201216\",\"1970-01-01T00:08:06.483959\",\"1970-01-01T00:08:09.283674\",\"1970-01-01T00:08:12.374984\",\"1970-01-01T00:08:14.766375\",\"1970-01-01T00:08:16.066243\",\"1970-01-01T00:08:17.691045\",\"1970-01-01T00:08:21.140674\",\"1970-01-01T00:08:25.256879\",\"1970-01-01T00:08:32.903121\"],\"hovertemplate\":\"VisitedAOI=%{y}<br>Dwell Start=%{base}<br>Dwell End=%{x}<extra></extra>\",\"legendgroup\":\"SubFigure3\",\"marker\":{\"color\":\"#FF97FF\",\"pattern\":{\"shape\":\"\"}},\"name\":\"SubFigure3\",\"offsetgroup\":\"SubFigure3\",\"orientation\":\"h\",\"showlegend\":true,\"textposition\":\"auto\",\"x\":[1474.0,991.0,8.0,308.0,150.0,1316.0,83.0,1066.0,291.0,16.0,958.0,1216.0,274.0,2991.0,10120.0,1491.0,1057.0,1022.0,949.0,2999.0,624.0,1683.0,141.0,158.0,591.0,224.0,513.0,424.0,724.0,1299.0,2857.0,1633.0,691.0,666.0,808.0,574.0,858.0,308.0],\"xaxis\":\"x\",\"y\":[\"SubFigure3\",\"SubFigure3\",\"SubFigure3\",\"SubFigure3\",\"SubFigure3\",\"SubFigure3\",\"SubFigure3\",\"SubFigure3\",\"SubFigure3\",\"SubFigure3\",\"SubFigure3\",\"SubFigure3\",\"SubFigure3\",\"SubFigure3\",\"SubFigure3\",\"SubFigure3\",\"SubFigure3\",\"SubFigure3\",\"SubFigure3\",\"SubFigure3\",\"SubFigure3\",\"SubFigure3\",\"SubFigure3\",\"SubFigure3\",\"SubFigure3\",\"SubFigure3\",\"SubFigure3\",\"SubFigure3\",\"SubFigure3\",\"SubFigure3\",\"SubFigure3\",\"SubFigure3\",\"SubFigure3\",\"SubFigure3\",\"SubFigure3\",\"SubFigure3\",\"SubFigure3\",\"SubFigure3\"],\"yaxis\":\"y\",\"type\":\"bar\"},{\"alignmentgroup\":\"True\",\"base\":[\"1970-01-01T00:00:07.065695\",\"1970-01-01T00:00:07.232324\",\"1970-01-01T00:00:45.753061\",\"1970-01-01T00:01:39.172144\",\"1970-01-01T00:01:40.488643\",\"1970-01-01T00:02:39.807100\",\"1970-01-01T00:02:40.407011\",\"1970-01-01T00:02:41.631885\",\"1970-01-01T00:02:43.265042\",\"1970-01-01T00:02:47.181279\",\"1970-01-01T00:02:47.622875\",\"1970-01-01T00:02:49.339383\",\"1970-01-01T00:02:51.030831\",\"1970-01-01T00:02:52.277627\",\"1970-01-01T00:03:03.976345\",\"1970-01-01T00:03:08.350901\",\"1970-01-01T00:03:52.754246\",\"1970-01-01T00:03:57.603710\",\"1970-01-01T00:07:41.445069\",\"1970-01-01T00:07:49.402499\",\"1970-01-01T00:07:50.835695\",\"1970-01-01T00:08:14.091459\",\"1970-01-01T00:08:15.557964\",\"1970-01-01T00:08:26.148489\",\"1970-01-01T00:08:33.261436\"],\"hovertemplate\":\"VisitedAOI=%{y}<br>Dwell Start=%{base}<br>Dwell End=%{x}<extra></extra>\",\"legendgroup\":\"Formula\",\"marker\":{\"color\":\"#FECB52\",\"pattern\":{\"shape\":\"\"}},\"name\":\"Formula\",\"offsetgroup\":\"Formula\",\"orientation\":\"h\",\"showlegend\":true,\"textposition\":\"auto\",\"x\":[66.0,158.0,16.0,141.0,599.0,8.0,75.0,8.0,674.0,366.0,1174.0,1649.0,846.0,8357.0,2758.0,1116.0,524.0,133.0,7049.0,583.0,1149.0,674.0,508.0,149.0,333.0],\"xaxis\":\"x\",\"y\":[\"Formula\",\"Formula\",\"Formula\",\"Formula\",\"Formula\",\"Formula\",\"Formula\",\"Formula\",\"Formula\",\"Formula\",\"Formula\",\"Formula\",\"Formula\",\"Formula\",\"Formula\",\"Formula\",\"Formula\",\"Formula\",\"Formula\",\"Formula\",\"Formula\",\"Formula\",\"Formula\",\"Formula\",\"Formula\"],\"yaxis\":\"y\",\"type\":\"bar\"}],                        {\"template\":{\"data\":{\"histogram2dcontour\":[{\"type\":\"histogram2dcontour\",\"colorbar\":{\"outlinewidth\":0,\"ticks\":\"\"},\"colorscale\":[[0.0,\"#0d0887\"],[0.1111111111111111,\"#46039f\"],[0.2222222222222222,\"#7201a8\"],[0.3333333333333333,\"#9c179e\"],[0.4444444444444444,\"#bd3786\"],[0.5555555555555556,\"#d8576b\"],[0.6666666666666666,\"#ed7953\"],[0.7777777777777778,\"#fb9f3a\"],[0.8888888888888888,\"#fdca26\"],[1.0,\"#f0f921\"]]}],\"choropleth\":[{\"type\":\"choropleth\",\"colorbar\":{\"outlinewidth\":0,\"ticks\":\"\"}}],\"histogram2d\":[{\"type\":\"histogram2d\",\"colorbar\":{\"outlinewidth\":0,\"ticks\":\"\"},\"colorscale\":[[0.0,\"#0d0887\"],[0.1111111111111111,\"#46039f\"],[0.2222222222222222,\"#7201a8\"],[0.3333333333333333,\"#9c179e\"],[0.4444444444444444,\"#bd3786\"],[0.5555555555555556,\"#d8576b\"],[0.6666666666666666,\"#ed7953\"],[0.7777777777777778,\"#fb9f3a\"],[0.8888888888888888,\"#fdca26\"],[1.0,\"#f0f921\"]]}],\"heatmap\":[{\"type\":\"heatmap\",\"colorbar\":{\"outlinewidth\":0,\"ticks\":\"\"},\"colorscale\":[[0.0,\"#0d0887\"],[0.1111111111111111,\"#46039f\"],[0.2222222222222222,\"#7201a8\"],[0.3333333333333333,\"#9c179e\"],[0.4444444444444444,\"#bd3786\"],[0.5555555555555556,\"#d8576b\"],[0.6666666666666666,\"#ed7953\"],[0.7777777777777778,\"#fb9f3a\"],[0.8888888888888888,\"#fdca26\"],[1.0,\"#f0f921\"]]}],\"heatmapgl\":[{\"type\":\"heatmapgl\",\"colorbar\":{\"outlinewidth\":0,\"ticks\":\"\"},\"colorscale\":[[0.0,\"#0d0887\"],[0.1111111111111111,\"#46039f\"],[0.2222222222222222,\"#7201a8\"],[0.3333333333333333,\"#9c179e\"],[0.4444444444444444,\"#bd3786\"],[0.5555555555555556,\"#d8576b\"],[0.6666666666666666,\"#ed7953\"],[0.7777777777777778,\"#fb9f3a\"],[0.8888888888888888,\"#fdca26\"],[1.0,\"#f0f921\"]]}],\"contourcarpet\":[{\"type\":\"contourcarpet\",\"colorbar\":{\"outlinewidth\":0,\"ticks\":\"\"}}],\"contour\":[{\"type\":\"contour\",\"colorbar\":{\"outlinewidth\":0,\"ticks\":\"\"},\"colorscale\":[[0.0,\"#0d0887\"],[0.1111111111111111,\"#46039f\"],[0.2222222222222222,\"#7201a8\"],[0.3333333333333333,\"#9c179e\"],[0.4444444444444444,\"#bd3786\"],[0.5555555555555556,\"#d8576b\"],[0.6666666666666666,\"#ed7953\"],[0.7777777777777778,\"#fb9f3a\"],[0.8888888888888888,\"#fdca26\"],[1.0,\"#f0f921\"]]}],\"surface\":[{\"type\":\"surface\",\"colorbar\":{\"outlinewidth\":0,\"ticks\":\"\"},\"colorscale\":[[0.0,\"#0d0887\"],[0.1111111111111111,\"#46039f\"],[0.2222222222222222,\"#7201a8\"],[0.3333333333333333,\"#9c179e\"],[0.4444444444444444,\"#bd3786\"],[0.5555555555555556,\"#d8576b\"],[0.6666666666666666,\"#ed7953\"],[0.7777777777777778,\"#fb9f3a\"],[0.8888888888888888,\"#fdca26\"],[1.0,\"#f0f921\"]]}],\"mesh3d\":[{\"type\":\"mesh3d\",\"colorbar\":{\"outlinewidth\":0,\"ticks\":\"\"}}],\"scatter\":[{\"fillpattern\":{\"fillmode\":\"overlay\",\"size\":10,\"solidity\":0.2},\"type\":\"scatter\"}],\"parcoords\":[{\"type\":\"parcoords\",\"line\":{\"colorbar\":{\"outlinewidth\":0,\"ticks\":\"\"}}}],\"scatterpolargl\":[{\"type\":\"scatterpolargl\",\"marker\":{\"colorbar\":{\"outlinewidth\":0,\"ticks\":\"\"}}}],\"bar\":[{\"error_x\":{\"color\":\"#2a3f5f\"},\"error_y\":{\"color\":\"#2a3f5f\"},\"marker\":{\"line\":{\"color\":\"#E5ECF6\",\"width\":0.5},\"pattern\":{\"fillmode\":\"overlay\",\"size\":10,\"solidity\":0.2}},\"type\":\"bar\"}],\"scattergeo\":[{\"type\":\"scattergeo\",\"marker\":{\"colorbar\":{\"outlinewidth\":0,\"ticks\":\"\"}}}],\"scatterpolar\":[{\"type\":\"scatterpolar\",\"marker\":{\"colorbar\":{\"outlinewidth\":0,\"ticks\":\"\"}}}],\"histogram\":[{\"marker\":{\"pattern\":{\"fillmode\":\"overlay\",\"size\":10,\"solidity\":0.2}},\"type\":\"histogram\"}],\"scattergl\":[{\"type\":\"scattergl\",\"marker\":{\"colorbar\":{\"outlinewidth\":0,\"ticks\":\"\"}}}],\"scatter3d\":[{\"type\":\"scatter3d\",\"line\":{\"colorbar\":{\"outlinewidth\":0,\"ticks\":\"\"}},\"marker\":{\"colorbar\":{\"outlinewidth\":0,\"ticks\":\"\"}}}],\"scattermapbox\":[{\"type\":\"scattermapbox\",\"marker\":{\"colorbar\":{\"outlinewidth\":0,\"ticks\":\"\"}}}],\"scatterternary\":[{\"type\":\"scatterternary\",\"marker\":{\"colorbar\":{\"outlinewidth\":0,\"ticks\":\"\"}}}],\"scattercarpet\":[{\"type\":\"scattercarpet\",\"marker\":{\"colorbar\":{\"outlinewidth\":0,\"ticks\":\"\"}}}],\"carpet\":[{\"aaxis\":{\"endlinecolor\":\"#2a3f5f\",\"gridcolor\":\"white\",\"linecolor\":\"white\",\"minorgridcolor\":\"white\",\"startlinecolor\":\"#2a3f5f\"},\"baxis\":{\"endlinecolor\":\"#2a3f5f\",\"gridcolor\":\"white\",\"linecolor\":\"white\",\"minorgridcolor\":\"white\",\"startlinecolor\":\"#2a3f5f\"},\"type\":\"carpet\"}],\"table\":[{\"cells\":{\"fill\":{\"color\":\"#EBF0F8\"},\"line\":{\"color\":\"white\"}},\"header\":{\"fill\":{\"color\":\"#C8D4E3\"},\"line\":{\"color\":\"white\"}},\"type\":\"table\"}],\"barpolar\":[{\"marker\":{\"line\":{\"color\":\"#E5ECF6\",\"width\":0.5},\"pattern\":{\"fillmode\":\"overlay\",\"size\":10,\"solidity\":0.2}},\"type\":\"barpolar\"}],\"pie\":[{\"automargin\":true,\"type\":\"pie\"}]},\"layout\":{\"autotypenumbers\":\"strict\",\"colorway\":[\"#636efa\",\"#EF553B\",\"#00cc96\",\"#ab63fa\",\"#FFA15A\",\"#19d3f3\",\"#FF6692\",\"#B6E880\",\"#FF97FF\",\"#FECB52\"],\"font\":{\"color\":\"#2a3f5f\"},\"hovermode\":\"closest\",\"hoverlabel\":{\"align\":\"left\"},\"paper_bgcolor\":\"white\",\"plot_bgcolor\":\"#E5ECF6\",\"polar\":{\"bgcolor\":\"#E5ECF6\",\"angularaxis\":{\"gridcolor\":\"white\",\"linecolor\":\"white\",\"ticks\":\"\"},\"radialaxis\":{\"gridcolor\":\"white\",\"linecolor\":\"white\",\"ticks\":\"\"}},\"ternary\":{\"bgcolor\":\"#E5ECF6\",\"aaxis\":{\"gridcolor\":\"white\",\"linecolor\":\"white\",\"ticks\":\"\"},\"baxis\":{\"gridcolor\":\"white\",\"linecolor\":\"white\",\"ticks\":\"\"},\"caxis\":{\"gridcolor\":\"white\",\"linecolor\":\"white\",\"ticks\":\"\"}},\"coloraxis\":{\"colorbar\":{\"outlinewidth\":0,\"ticks\":\"\"}},\"colorscale\":{\"sequential\":[[0.0,\"#0d0887\"],[0.1111111111111111,\"#46039f\"],[0.2222222222222222,\"#7201a8\"],[0.3333333333333333,\"#9c179e\"],[0.4444444444444444,\"#bd3786\"],[0.5555555555555556,\"#d8576b\"],[0.6666666666666666,\"#ed7953\"],[0.7777777777777778,\"#fb9f3a\"],[0.8888888888888888,\"#fdca26\"],[1.0,\"#f0f921\"]],\"sequentialminus\":[[0.0,\"#0d0887\"],[0.1111111111111111,\"#46039f\"],[0.2222222222222222,\"#7201a8\"],[0.3333333333333333,\"#9c179e\"],[0.4444444444444444,\"#bd3786\"],[0.5555555555555556,\"#d8576b\"],[0.6666666666666666,\"#ed7953\"],[0.7777777777777778,\"#fb9f3a\"],[0.8888888888888888,\"#fdca26\"],[1.0,\"#f0f921\"]],\"diverging\":[[0,\"#8e0152\"],[0.1,\"#c51b7d\"],[0.2,\"#de77ae\"],[0.3,\"#f1b6da\"],[0.4,\"#fde0ef\"],[0.5,\"#f7f7f7\"],[0.6,\"#e6f5d0\"],[0.7,\"#b8e186\"],[0.8,\"#7fbc41\"],[0.9,\"#4d9221\"],[1,\"#276419\"]]},\"xaxis\":{\"gridcolor\":\"white\",\"linecolor\":\"white\",\"ticks\":\"\",\"title\":{\"standoff\":15},\"zerolinecolor\":\"white\",\"automargin\":true,\"zerolinewidth\":2},\"yaxis\":{\"gridcolor\":\"white\",\"linecolor\":\"white\",\"ticks\":\"\",\"title\":{\"standoff\":15},\"zerolinecolor\":\"white\",\"automargin\":true,\"zerolinewidth\":2},\"scene\":{\"xaxis\":{\"backgroundcolor\":\"#E5ECF6\",\"gridcolor\":\"white\",\"linecolor\":\"white\",\"showbackground\":true,\"ticks\":\"\",\"zerolinecolor\":\"white\",\"gridwidth\":2},\"yaxis\":{\"backgroundcolor\":\"#E5ECF6\",\"gridcolor\":\"white\",\"linecolor\":\"white\",\"showbackground\":true,\"ticks\":\"\",\"zerolinecolor\":\"white\",\"gridwidth\":2},\"zaxis\":{\"backgroundcolor\":\"#E5ECF6\",\"gridcolor\":\"white\",\"linecolor\":\"white\",\"showbackground\":true,\"ticks\":\"\",\"zerolinecolor\":\"white\",\"gridwidth\":2}},\"shapedefaults\":{\"line\":{\"color\":\"#2a3f5f\"}},\"annotationdefaults\":{\"arrowcolor\":\"#2a3f5f\",\"arrowhead\":0,\"arrowwidth\":1},\"geo\":{\"bgcolor\":\"white\",\"landcolor\":\"#E5ECF6\",\"subunitcolor\":\"white\",\"showland\":true,\"showlakes\":true,\"lakecolor\":\"white\"},\"title\":{\"x\":0.05},\"mapbox\":{\"style\":\"light\"}}},\"xaxis\":{\"anchor\":\"y\",\"domain\":[0.0,1.0],\"type\":\"date\",\"tickformat\":\"%Q\"},\"yaxis\":{\"anchor\":\"x\",\"domain\":[0.0,1.0],\"title\":{\"text\":\"VisitedAOI\"},\"categoryorder\":\"array\",\"categoryarray\":[\"Formula\",\"SubFigure3\",\"SubFigure2\",\"SubFigure1\",\"Paragraph6\",\"Paragraph5\",\"Paragraph4\",\"Paragraph3\",\"Paragraph2\",\"Paragraph1\"]},\"legend\":{\"title\":{\"text\":\"VisitedAOI\"},\"tracegroupgap\":0},\"title\":{\"text\":\"Participant: Anonymous 14-11-22 09h35m\"},\"barmode\":\"overlay\"},                        {\"responsive\": true}                    ).then(function(){\n",
       "                            \n",
       "var gd = document.getElementById('e5478101-5234-4e38-85c7-70a30bd7415b');\n",
       "var x = new MutationObserver(function (mutations, observer) {{\n",
       "        var display = window.getComputedStyle(gd).display;\n",
       "        if (!display || display === 'none') {{\n",
       "            console.log([gd, 'removed!']);\n",
       "            Plotly.purge(gd);\n",
       "            observer.disconnect();\n",
       "        }}\n",
       "}});\n",
       "\n",
       "// Listen for the removal of the full notebook cells\n",
       "var notebookContainer = gd.closest('#notebook-container');\n",
       "if (notebookContainer) {{\n",
       "    x.observe(notebookContainer, {childList: true});\n",
       "}}\n",
       "\n",
       "// Listen for the clearing of the current output cell\n",
       "var outputEl = gd.closest('.output');\n",
       "if (outputEl) {{\n",
       "    x.observe(outputEl, {childList: true});\n",
       "}}\n",
       "\n",
       "                        })                };                });            </script>        </div>"
      ]
     },
     "metadata": {},
     "output_type": "display_data"
    },
    {
     "data": {
      "application/vnd.plotly.v1+json": {
       "config": {
        "plotlyServerURL": "https://plot.ly"
       },
       "data": [
        {
         "alignmentgroup": "True",
         "base": [
          "1970-01-01T00:00:00.622997",
          "1970-01-01T00:00:05.864103",
          "1970-01-01T00:00:06.072377",
          "1970-01-01T00:00:07.930533",
          "1970-01-01T00:00:11.988385",
          "1970-01-01T00:00:21.662323",
          "1970-01-01T00:00:28.686549",
          "1970-01-01T00:02:13.324955",
          "1970-01-01T00:02:21.090724",
          "1970-01-01T00:02:21.765630",
          "1970-01-01T00:02:26.173466",
          "1970-01-01T00:02:27.515007",
          "1970-01-01T00:02:29.098143"
         ],
         "hovertemplate": "VisitedAOI=%{y}<br>Dwell Start=%{base}<br>Dwell End=%{x}<extra></extra>",
         "legendgroup": "Paragraph1",
         "marker": {
          "color": "#636efa",
          "pattern": {
           "shape": ""
          }
         },
         "name": "Paragraph1",
         "offsetgroup": "Paragraph1",
         "orientation": "h",
         "showlegend": true,
         "textposition": "auto",
         "type": "bar",
         "x": [
          5224,
          191,
          774,
          4041,
          9498,
          6574,
          624,
          41,
          158,
          658,
          1324,
          1558,
          7032
         ],
         "xaxis": "x",
         "y": [
          "Paragraph1",
          "Paragraph1",
          "Paragraph1",
          "Paragraph1",
          "Paragraph1",
          "Paragraph1",
          "Paragraph1",
          "Paragraph1",
          "Paragraph1",
          "Paragraph1",
          "Paragraph1",
          "Paragraph1",
          "Paragraph1"
         ],
         "yaxis": "y"
        },
        {
         "alignmentgroup": "True",
         "base": [
          "1970-01-01T00:00:00.498025",
          "1970-01-01T00:02:13.174945",
          "1970-01-01T00:02:21.282342",
          "1970-01-01T00:02:22.423871",
          "1970-01-01T00:02:36.130693",
          "1970-01-01T00:03:10.926844"
         ],
         "hovertemplate": "VisitedAOI=%{y}<br>Dwell Start=%{base}<br>Dwell End=%{x}<extra></extra>",
         "legendgroup": "Paragraph2",
         "marker": {
          "color": "#EF553B",
          "pattern": {
           "shape": ""
          }
         },
         "name": "Paragraph2",
         "offsetgroup": "Paragraph2",
         "orientation": "h",
         "showlegend": true,
         "textposition": "auto",
         "type": "bar",
         "x": [
          124,
          150,
          483,
          3749,
          25980,
          283
         ],
         "xaxis": "x",
         "y": [
          "Paragraph2",
          "Paragraph2",
          "Paragraph2",
          "Paragraph2",
          "Paragraph2",
          "Paragraph2"
         ],
         "yaxis": "y"
        },
        {
         "alignmentgroup": "True",
         "base": [
          "1970-01-01T00:01:00.141368",
          "1970-01-01T00:01:04.182597",
          "1970-01-01T00:01:07.907196",
          "1970-01-01T00:01:12.656625",
          "1970-01-01T00:01:16.356251",
          "1970-01-01T00:02:13.383232",
          "1970-01-01T00:02:20.832396",
          "1970-01-01T00:03:02.352789",
          "1970-01-01T00:03:09.893625",
          "1970-01-01T00:03:10.701885",
          "1970-01-01T00:03:49.222594",
          "1970-01-01T00:03:50.230821"
         ],
         "hovertemplate": "VisitedAOI=%{y}<br>Dwell Start=%{base}<br>Dwell End=%{x}<extra></extra>",
         "legendgroup": "Paragraph3",
         "marker": {
          "color": "#00cc96",
          "pattern": {
           "shape": ""
          }
         },
         "name": "Paragraph3",
         "offsetgroup": "Paragraph3",
         "orientation": "h",
         "showlegend": true,
         "textposition": "auto",
         "type": "bar",
         "x": [
          3932,
          3699,
          2366,
          399,
          9582,
          199,
          241,
          7149,
          149,
          183,
          691,
          2808
         ],
         "xaxis": "x",
         "y": [
          "Paragraph3",
          "Paragraph3",
          "Paragraph3",
          "Paragraph3",
          "Paragraph3",
          "Paragraph3",
          "Paragraph3",
          "Paragraph3",
          "Paragraph3",
          "Paragraph3",
          "Paragraph3",
          "Paragraph3"
         ],
         "yaxis": "y"
        },
        {
         "alignmentgroup": "True",
         "base": [
          "1970-01-01T00:00:00.181368",
          "1970-01-01T00:03:02.111160",
          "1970-01-01T00:03:10.235264",
          "1970-01-01T00:03:10.426911",
          "1970-01-01T00:03:11.443436",
          "1970-01-01T00:03:11.610125",
          "1970-01-01T00:03:11.860086",
          "1970-01-01T00:03:12.060081",
          "1970-01-01T00:03:49.947556",
          "1970-01-01T00:03:53.263874",
          "1970-01-01T00:05:03.556053"
         ],
         "hovertemplate": "VisitedAOI=%{y}<br>Dwell Start=%{base}<br>Dwell End=%{x}<extra></extra>",
         "legendgroup": "Paragraph4",
         "marker": {
          "color": "#ab63fa",
          "pattern": {
           "shape": ""
          }
         },
         "name": "Paragraph4",
         "offsetgroup": "Paragraph4",
         "orientation": "h",
         "showlegend": true,
         "textposition": "auto",
         "type": "bar",
         "x": [
          33,
          241,
          133,
          216,
          133,
          233,
          108,
          12423,
          241,
          191,
          41
         ],
         "xaxis": "x",
         "y": [
          "Paragraph4",
          "Paragraph4",
          "Paragraph4",
          "Paragraph4",
          "Paragraph4",
          "Paragraph4",
          "Paragraph4",
          "Paragraph4",
          "Paragraph4",
          "Paragraph4",
          "Paragraph4"
         ],
         "yaxis": "y"
        },
        {
         "alignmentgroup": "True",
         "base": [
          "1970-01-01T00:02:13.599873",
          "1970-01-01T00:02:14.224811",
          "1970-01-01T00:02:17.474445",
          "1970-01-01T00:02:18.166027",
          "1970-01-01T00:02:19.657557",
          "1970-01-01T00:03:10.068641",
          "1970-01-01T00:03:48.905973",
          "1970-01-01T00:03:53.055493",
          "1970-01-01T00:03:54.538690",
          "1970-01-01T00:03:55.355239",
          "1970-01-01T00:03:55.555233",
          "1970-01-01T00:03:58.188259",
          "1970-01-01T00:04:05.970746",
          "1970-01-01T00:04:36.958992",
          "1970-01-01T00:04:55.973579",
          "1970-01-01T00:04:56.781798"
         ],
         "hovertemplate": "VisitedAOI=%{y}<br>Dwell Start=%{base}<br>Dwell End=%{x}<extra></extra>",
         "legendgroup": "Paragraph5",
         "marker": {
          "color": "#FFA15A",
          "pattern": {
           "shape": ""
          }
         },
         "name": "Paragraph5",
         "offsetgroup": "Paragraph5",
         "orientation": "h",
         "showlegend": true,
         "textposition": "auto",
         "type": "bar",
         "x": [
          599,
          3141,
          658,
          1299,
          1141,
          124,
          299,
          166,
          558,
          183,
          2099,
          7657,
          1483,
          83,
          25,
          24
         ],
         "xaxis": "x",
         "y": [
          "Paragraph5",
          "Paragraph5",
          "Paragraph5",
          "Paragraph5",
          "Paragraph5",
          "Paragraph5",
          "Paragraph5",
          "Paragraph5",
          "Paragraph5",
          "Paragraph5",
          "Paragraph5",
          "Paragraph5",
          "Paragraph5",
          "Paragraph5",
          "Paragraph5",
          "Paragraph5"
         ],
         "yaxis": "y"
        },
        {
         "alignmentgroup": "True",
         "base": [
          "1970-01-01T00:04:37.067295",
          "1970-01-01T00:04:37.867253",
          "1970-01-01T00:04:38.892131",
          "1970-01-01T00:04:41.783468",
          "1970-01-01T00:04:42.200151",
          "1970-01-01T00:04:45.474746",
          "1970-01-01T00:04:45.858008",
          "1970-01-01T00:04:46.107970",
          "1970-01-01T00:04:49.857564",
          "1970-01-01T00:04:50.082530",
          "1970-01-01T00:04:51.965678",
          "1970-01-01T00:04:54.040447",
          "1970-01-01T00:04:55.998610",
          "1970-01-01T00:04:57.406749",
          "1970-01-01T00:04:58.881573",
          "1970-01-01T00:04:59.098212",
          "1970-01-01T00:04:59.506499",
          "1970-01-01T00:04:59.973119",
          "1970-01-01T00:05:00.306396",
          "1970-01-01T00:05:01.939562",
          "1970-01-01T00:05:02.806125",
          "1970-01-01T00:05:03.606046",
          "1970-01-01T00:05:05.997448",
          "1970-01-01T00:05:12.921696"
         ],
         "hovertemplate": "VisitedAOI=%{y}<br>Dwell Start=%{base}<br>Dwell End=%{x}<extra></extra>",
         "legendgroup": "Paragraph6",
         "marker": {
          "color": "#19d3f3",
          "pattern": {
           "shape": ""
          }
         },
         "name": "Paragraph6",
         "offsetgroup": "Paragraph6",
         "orientation": "h",
         "showlegend": true,
         "textposition": "auto",
         "type": "bar",
         "x": [
          533,
          974,
          2816,
          174,
          3216,
          333,
          191,
          3716,
          183,
          1049,
          2008,
          1841,
          149,
          1416,
          175,
          383,
          374,
          174,
          1524,
          841,
          683,
          2299,
          3891,
          25
         ],
         "xaxis": "x",
         "y": [
          "Paragraph6",
          "Paragraph6",
          "Paragraph6",
          "Paragraph6",
          "Paragraph6",
          "Paragraph6",
          "Paragraph6",
          "Paragraph6",
          "Paragraph6",
          "Paragraph6",
          "Paragraph6",
          "Paragraph6",
          "Paragraph6",
          "Paragraph6",
          "Paragraph6",
          "Paragraph6",
          "Paragraph6",
          "Paragraph6",
          "Paragraph6",
          "Paragraph6",
          "Paragraph6",
          "Paragraph6",
          "Paragraph6",
          "Paragraph6"
         ],
         "yaxis": "y"
        },
        {
         "alignmentgroup": "True",
         "base": [
          "1970-01-01T00:00:29.686428",
          "1970-01-01T00:00:33.919321",
          "1970-01-01T00:00:39.235371",
          "1970-01-01T00:00:57.233406",
          "1970-01-01T00:00:58.766558",
          "1970-01-01T00:00:59.499758",
          "1970-01-01T00:01:10.406920",
          "1970-01-01T00:01:12.256670",
          "1970-01-01T00:01:13.139919",
          "1970-01-01T00:01:15.389679",
          "1970-01-01T00:01:26.021873",
          "1970-01-01T00:01:32.487781",
          "1970-01-01T00:02:12.766630",
          "1970-01-01T00:03:37.257255",
          "1970-01-01T00:03:39.032085",
          "1970-01-01T00:03:41.965080",
          "1970-01-01T00:03:42.789979",
          "1970-01-01T00:04:51.132422",
          "1970-01-01T00:05:09.947047",
          "1970-01-01T00:05:10.621983",
          "1970-01-01T00:05:13.104982"
         ],
         "hovertemplate": "VisitedAOI=%{y}<br>Dwell Start=%{base}<br>Dwell End=%{x}<extra></extra>",
         "legendgroup": "SubFigure1",
         "marker": {
          "color": "#FF6692",
          "pattern": {
           "shape": ""
          }
         },
         "name": "SubFigure1",
         "offsetgroup": "SubFigure1",
         "orientation": "h",
         "showlegend": true,
         "textposition": "auto",
         "type": "bar",
         "x": [
          3757,
          5107,
          17498,
          933,
          341,
          574,
          483,
          324,
          149,
          883,
          424,
          166,
          349,
          1191,
          2283,
          599,
          308,
          724,
          416,
          933,
          524
         ],
         "xaxis": "x",
         "y": [
          "SubFigure1",
          "SubFigure1",
          "SubFigure1",
          "SubFigure1",
          "SubFigure1",
          "SubFigure1",
          "SubFigure1",
          "SubFigure1",
          "SubFigure1",
          "SubFigure1",
          "SubFigure1",
          "SubFigure1",
          "SubFigure1",
          "SubFigure1",
          "SubFigure1",
          "SubFigure1",
          "SubFigure1",
          "SubFigure1",
          "SubFigure1",
          "SubFigure1",
          "SubFigure1"
         ],
         "yaxis": "y"
        },
        {
         "alignmentgroup": "True",
         "base": [
          "1970-01-01T00:00:59.108135",
          "1970-01-01T00:01:10.890206",
          "1970-01-01T00:01:13.306569",
          "1970-01-01T00:01:26.538430",
          "1970-01-01T00:01:27.913262",
          "1970-01-01T00:01:27.996644",
          "1970-01-01T00:01:32.687746",
          "1970-01-01T00:02:01.342927",
          "1970-01-01T00:03:09.626981",
          "1970-01-01T00:03:57.721660",
          "1970-01-01T00:04:07.545586",
          "1970-01-01T00:04:08.345512",
          "1970-01-01T00:04:09.095419",
          "1970-01-01T00:04:35.442490",
          "1970-01-01T00:04:36.600696",
          "1970-01-01T00:05:10.421948",
          "1970-01-01T00:05:11.571885"
         ],
         "hovertemplate": "VisitedAOI=%{y}<br>Dwell Start=%{base}<br>Dwell End=%{x}<extra></extra>",
         "legendgroup": "SubFigure2",
         "marker": {
          "color": "#B6E880",
          "pattern": {
           "shape": ""
          }
         },
         "name": "SubFigure2",
         "offsetgroup": "SubFigure2",
         "orientation": "h",
         "showlegend": true,
         "textposition": "auto",
         "type": "bar",
         "x": [
          391,
          1333,
          1999,
          1108,
          66,
          4457,
          28605,
          11423,
          166,
          324,
          574,
          458,
          7065,
          275,
          108,
          191,
          149
         ],
         "xaxis": "x",
         "y": [
          "SubFigure2",
          "SubFigure2",
          "SubFigure2",
          "SubFigure2",
          "SubFigure2",
          "SubFigure2",
          "SubFigure2",
          "SubFigure2",
          "SubFigure2",
          "SubFigure2",
          "SubFigure2",
          "SubFigure2",
          "SubFigure2",
          "SubFigure2",
          "SubFigure2",
          "SubFigure2",
          "SubFigure2"
         ],
         "yaxis": "y"
        },
        {
         "alignmentgroup": "True",
         "base": [
          "1970-01-01T00:04:08.803751",
          "1970-01-01T00:04:16.177955",
          "1970-01-01T00:04:35.734161"
         ],
         "hovertemplate": "VisitedAOI=%{y}<br>Dwell Start=%{base}<br>Dwell End=%{x}<extra></extra>",
         "legendgroup": "SubFigure3",
         "marker": {
          "color": "#FF97FF",
          "pattern": {
           "shape": ""
          }
         },
         "name": "SubFigure3",
         "offsetgroup": "SubFigure3",
         "orientation": "h",
         "showlegend": true,
         "textposition": "auto",
         "type": "bar",
         "x": [
          291,
          19264,
          858
         ],
         "xaxis": "x",
         "y": [
          "SubFigure3",
          "SubFigure3",
          "SubFigure3"
         ],
         "yaxis": "y"
        },
        {
         "alignmentgroup": "True",
         "base": [
          "1970-01-01T00:03:24.550320",
          "1970-01-01T00:03:28.416592",
          "1970-01-01T00:03:38.507105",
          "1970-01-01T00:03:41.398451",
          "1970-01-01T00:03:43.173284",
          "1970-01-01T00:03:47.522799",
          "1970-01-01T00:03:53.547137",
          "1970-01-01T00:05:11.813457"
         ],
         "hovertemplate": "VisitedAOI=%{y}<br>Dwell Start=%{base}<br>Dwell End=%{x}<extra></extra>",
         "legendgroup": "Formula",
         "marker": {
          "color": "#FECB52",
          "pattern": {
           "shape": ""
          }
         },
         "name": "Formula",
         "offsetgroup": "Formula",
         "orientation": "h",
         "showlegend": true,
         "textposition": "auto",
         "type": "bar",
         "x": [
          3374,
          8824,
          416,
          508,
          4157,
          899,
          883,
          133
         ],
         "xaxis": "x",
         "y": [
          "Formula",
          "Formula",
          "Formula",
          "Formula",
          "Formula",
          "Formula",
          "Formula",
          "Formula"
         ],
         "yaxis": "y"
        }
       ],
       "layout": {
        "barmode": "overlay",
        "legend": {
         "title": {
          "text": "VisitedAOI"
         },
         "tracegroupgap": 0
        },
        "template": {
         "data": {
          "bar": [
           {
            "error_x": {
             "color": "#2a3f5f"
            },
            "error_y": {
             "color": "#2a3f5f"
            },
            "marker": {
             "line": {
              "color": "#E5ECF6",
              "width": 0.5
             },
             "pattern": {
              "fillmode": "overlay",
              "size": 10,
              "solidity": 0.2
             }
            },
            "type": "bar"
           }
          ],
          "barpolar": [
           {
            "marker": {
             "line": {
              "color": "#E5ECF6",
              "width": 0.5
             },
             "pattern": {
              "fillmode": "overlay",
              "size": 10,
              "solidity": 0.2
             }
            },
            "type": "barpolar"
           }
          ],
          "carpet": [
           {
            "aaxis": {
             "endlinecolor": "#2a3f5f",
             "gridcolor": "white",
             "linecolor": "white",
             "minorgridcolor": "white",
             "startlinecolor": "#2a3f5f"
            },
            "baxis": {
             "endlinecolor": "#2a3f5f",
             "gridcolor": "white",
             "linecolor": "white",
             "minorgridcolor": "white",
             "startlinecolor": "#2a3f5f"
            },
            "type": "carpet"
           }
          ],
          "choropleth": [
           {
            "colorbar": {
             "outlinewidth": 0,
             "ticks": ""
            },
            "type": "choropleth"
           }
          ],
          "contour": [
           {
            "colorbar": {
             "outlinewidth": 0,
             "ticks": ""
            },
            "colorscale": [
             [
              0,
              "#0d0887"
             ],
             [
              0.1111111111111111,
              "#46039f"
             ],
             [
              0.2222222222222222,
              "#7201a8"
             ],
             [
              0.3333333333333333,
              "#9c179e"
             ],
             [
              0.4444444444444444,
              "#bd3786"
             ],
             [
              0.5555555555555556,
              "#d8576b"
             ],
             [
              0.6666666666666666,
              "#ed7953"
             ],
             [
              0.7777777777777778,
              "#fb9f3a"
             ],
             [
              0.8888888888888888,
              "#fdca26"
             ],
             [
              1,
              "#f0f921"
             ]
            ],
            "type": "contour"
           }
          ],
          "contourcarpet": [
           {
            "colorbar": {
             "outlinewidth": 0,
             "ticks": ""
            },
            "type": "contourcarpet"
           }
          ],
          "heatmap": [
           {
            "colorbar": {
             "outlinewidth": 0,
             "ticks": ""
            },
            "colorscale": [
             [
              0,
              "#0d0887"
             ],
             [
              0.1111111111111111,
              "#46039f"
             ],
             [
              0.2222222222222222,
              "#7201a8"
             ],
             [
              0.3333333333333333,
              "#9c179e"
             ],
             [
              0.4444444444444444,
              "#bd3786"
             ],
             [
              0.5555555555555556,
              "#d8576b"
             ],
             [
              0.6666666666666666,
              "#ed7953"
             ],
             [
              0.7777777777777778,
              "#fb9f3a"
             ],
             [
              0.8888888888888888,
              "#fdca26"
             ],
             [
              1,
              "#f0f921"
             ]
            ],
            "type": "heatmap"
           }
          ],
          "heatmapgl": [
           {
            "colorbar": {
             "outlinewidth": 0,
             "ticks": ""
            },
            "colorscale": [
             [
              0,
              "#0d0887"
             ],
             [
              0.1111111111111111,
              "#46039f"
             ],
             [
              0.2222222222222222,
              "#7201a8"
             ],
             [
              0.3333333333333333,
              "#9c179e"
             ],
             [
              0.4444444444444444,
              "#bd3786"
             ],
             [
              0.5555555555555556,
              "#d8576b"
             ],
             [
              0.6666666666666666,
              "#ed7953"
             ],
             [
              0.7777777777777778,
              "#fb9f3a"
             ],
             [
              0.8888888888888888,
              "#fdca26"
             ],
             [
              1,
              "#f0f921"
             ]
            ],
            "type": "heatmapgl"
           }
          ],
          "histogram": [
           {
            "marker": {
             "pattern": {
              "fillmode": "overlay",
              "size": 10,
              "solidity": 0.2
             }
            },
            "type": "histogram"
           }
          ],
          "histogram2d": [
           {
            "colorbar": {
             "outlinewidth": 0,
             "ticks": ""
            },
            "colorscale": [
             [
              0,
              "#0d0887"
             ],
             [
              0.1111111111111111,
              "#46039f"
             ],
             [
              0.2222222222222222,
              "#7201a8"
             ],
             [
              0.3333333333333333,
              "#9c179e"
             ],
             [
              0.4444444444444444,
              "#bd3786"
             ],
             [
              0.5555555555555556,
              "#d8576b"
             ],
             [
              0.6666666666666666,
              "#ed7953"
             ],
             [
              0.7777777777777778,
              "#fb9f3a"
             ],
             [
              0.8888888888888888,
              "#fdca26"
             ],
             [
              1,
              "#f0f921"
             ]
            ],
            "type": "histogram2d"
           }
          ],
          "histogram2dcontour": [
           {
            "colorbar": {
             "outlinewidth": 0,
             "ticks": ""
            },
            "colorscale": [
             [
              0,
              "#0d0887"
             ],
             [
              0.1111111111111111,
              "#46039f"
             ],
             [
              0.2222222222222222,
              "#7201a8"
             ],
             [
              0.3333333333333333,
              "#9c179e"
             ],
             [
              0.4444444444444444,
              "#bd3786"
             ],
             [
              0.5555555555555556,
              "#d8576b"
             ],
             [
              0.6666666666666666,
              "#ed7953"
             ],
             [
              0.7777777777777778,
              "#fb9f3a"
             ],
             [
              0.8888888888888888,
              "#fdca26"
             ],
             [
              1,
              "#f0f921"
             ]
            ],
            "type": "histogram2dcontour"
           }
          ],
          "mesh3d": [
           {
            "colorbar": {
             "outlinewidth": 0,
             "ticks": ""
            },
            "type": "mesh3d"
           }
          ],
          "parcoords": [
           {
            "line": {
             "colorbar": {
              "outlinewidth": 0,
              "ticks": ""
             }
            },
            "type": "parcoords"
           }
          ],
          "pie": [
           {
            "automargin": true,
            "type": "pie"
           }
          ],
          "scatter": [
           {
            "fillpattern": {
             "fillmode": "overlay",
             "size": 10,
             "solidity": 0.2
            },
            "type": "scatter"
           }
          ],
          "scatter3d": [
           {
            "line": {
             "colorbar": {
              "outlinewidth": 0,
              "ticks": ""
             }
            },
            "marker": {
             "colorbar": {
              "outlinewidth": 0,
              "ticks": ""
             }
            },
            "type": "scatter3d"
           }
          ],
          "scattercarpet": [
           {
            "marker": {
             "colorbar": {
              "outlinewidth": 0,
              "ticks": ""
             }
            },
            "type": "scattercarpet"
           }
          ],
          "scattergeo": [
           {
            "marker": {
             "colorbar": {
              "outlinewidth": 0,
              "ticks": ""
             }
            },
            "type": "scattergeo"
           }
          ],
          "scattergl": [
           {
            "marker": {
             "colorbar": {
              "outlinewidth": 0,
              "ticks": ""
             }
            },
            "type": "scattergl"
           }
          ],
          "scattermapbox": [
           {
            "marker": {
             "colorbar": {
              "outlinewidth": 0,
              "ticks": ""
             }
            },
            "type": "scattermapbox"
           }
          ],
          "scatterpolar": [
           {
            "marker": {
             "colorbar": {
              "outlinewidth": 0,
              "ticks": ""
             }
            },
            "type": "scatterpolar"
           }
          ],
          "scatterpolargl": [
           {
            "marker": {
             "colorbar": {
              "outlinewidth": 0,
              "ticks": ""
             }
            },
            "type": "scatterpolargl"
           }
          ],
          "scatterternary": [
           {
            "marker": {
             "colorbar": {
              "outlinewidth": 0,
              "ticks": ""
             }
            },
            "type": "scatterternary"
           }
          ],
          "surface": [
           {
            "colorbar": {
             "outlinewidth": 0,
             "ticks": ""
            },
            "colorscale": [
             [
              0,
              "#0d0887"
             ],
             [
              0.1111111111111111,
              "#46039f"
             ],
             [
              0.2222222222222222,
              "#7201a8"
             ],
             [
              0.3333333333333333,
              "#9c179e"
             ],
             [
              0.4444444444444444,
              "#bd3786"
             ],
             [
              0.5555555555555556,
              "#d8576b"
             ],
             [
              0.6666666666666666,
              "#ed7953"
             ],
             [
              0.7777777777777778,
              "#fb9f3a"
             ],
             [
              0.8888888888888888,
              "#fdca26"
             ],
             [
              1,
              "#f0f921"
             ]
            ],
            "type": "surface"
           }
          ],
          "table": [
           {
            "cells": {
             "fill": {
              "color": "#EBF0F8"
             },
             "line": {
              "color": "white"
             }
            },
            "header": {
             "fill": {
              "color": "#C8D4E3"
             },
             "line": {
              "color": "white"
             }
            },
            "type": "table"
           }
          ]
         },
         "layout": {
          "annotationdefaults": {
           "arrowcolor": "#2a3f5f",
           "arrowhead": 0,
           "arrowwidth": 1
          },
          "autotypenumbers": "strict",
          "coloraxis": {
           "colorbar": {
            "outlinewidth": 0,
            "ticks": ""
           }
          },
          "colorscale": {
           "diverging": [
            [
             0,
             "#8e0152"
            ],
            [
             0.1,
             "#c51b7d"
            ],
            [
             0.2,
             "#de77ae"
            ],
            [
             0.3,
             "#f1b6da"
            ],
            [
             0.4,
             "#fde0ef"
            ],
            [
             0.5,
             "#f7f7f7"
            ],
            [
             0.6,
             "#e6f5d0"
            ],
            [
             0.7,
             "#b8e186"
            ],
            [
             0.8,
             "#7fbc41"
            ],
            [
             0.9,
             "#4d9221"
            ],
            [
             1,
             "#276419"
            ]
           ],
           "sequential": [
            [
             0,
             "#0d0887"
            ],
            [
             0.1111111111111111,
             "#46039f"
            ],
            [
             0.2222222222222222,
             "#7201a8"
            ],
            [
             0.3333333333333333,
             "#9c179e"
            ],
            [
             0.4444444444444444,
             "#bd3786"
            ],
            [
             0.5555555555555556,
             "#d8576b"
            ],
            [
             0.6666666666666666,
             "#ed7953"
            ],
            [
             0.7777777777777778,
             "#fb9f3a"
            ],
            [
             0.8888888888888888,
             "#fdca26"
            ],
            [
             1,
             "#f0f921"
            ]
           ],
           "sequentialminus": [
            [
             0,
             "#0d0887"
            ],
            [
             0.1111111111111111,
             "#46039f"
            ],
            [
             0.2222222222222222,
             "#7201a8"
            ],
            [
             0.3333333333333333,
             "#9c179e"
            ],
            [
             0.4444444444444444,
             "#bd3786"
            ],
            [
             0.5555555555555556,
             "#d8576b"
            ],
            [
             0.6666666666666666,
             "#ed7953"
            ],
            [
             0.7777777777777778,
             "#fb9f3a"
            ],
            [
             0.8888888888888888,
             "#fdca26"
            ],
            [
             1,
             "#f0f921"
            ]
           ]
          },
          "colorway": [
           "#636efa",
           "#EF553B",
           "#00cc96",
           "#ab63fa",
           "#FFA15A",
           "#19d3f3",
           "#FF6692",
           "#B6E880",
           "#FF97FF",
           "#FECB52"
          ],
          "font": {
           "color": "#2a3f5f"
          },
          "geo": {
           "bgcolor": "white",
           "lakecolor": "white",
           "landcolor": "#E5ECF6",
           "showlakes": true,
           "showland": true,
           "subunitcolor": "white"
          },
          "hoverlabel": {
           "align": "left"
          },
          "hovermode": "closest",
          "mapbox": {
           "style": "light"
          },
          "paper_bgcolor": "white",
          "plot_bgcolor": "#E5ECF6",
          "polar": {
           "angularaxis": {
            "gridcolor": "white",
            "linecolor": "white",
            "ticks": ""
           },
           "bgcolor": "#E5ECF6",
           "radialaxis": {
            "gridcolor": "white",
            "linecolor": "white",
            "ticks": ""
           }
          },
          "scene": {
           "xaxis": {
            "backgroundcolor": "#E5ECF6",
            "gridcolor": "white",
            "gridwidth": 2,
            "linecolor": "white",
            "showbackground": true,
            "ticks": "",
            "zerolinecolor": "white"
           },
           "yaxis": {
            "backgroundcolor": "#E5ECF6",
            "gridcolor": "white",
            "gridwidth": 2,
            "linecolor": "white",
            "showbackground": true,
            "ticks": "",
            "zerolinecolor": "white"
           },
           "zaxis": {
            "backgroundcolor": "#E5ECF6",
            "gridcolor": "white",
            "gridwidth": 2,
            "linecolor": "white",
            "showbackground": true,
            "ticks": "",
            "zerolinecolor": "white"
           }
          },
          "shapedefaults": {
           "line": {
            "color": "#2a3f5f"
           }
          },
          "ternary": {
           "aaxis": {
            "gridcolor": "white",
            "linecolor": "white",
            "ticks": ""
           },
           "baxis": {
            "gridcolor": "white",
            "linecolor": "white",
            "ticks": ""
           },
           "bgcolor": "#E5ECF6",
           "caxis": {
            "gridcolor": "white",
            "linecolor": "white",
            "ticks": ""
           }
          },
          "title": {
           "x": 0.05
          },
          "xaxis": {
           "automargin": true,
           "gridcolor": "white",
           "linecolor": "white",
           "ticks": "",
           "title": {
            "standoff": 15
           },
           "zerolinecolor": "white",
           "zerolinewidth": 2
          },
          "yaxis": {
           "automargin": true,
           "gridcolor": "white",
           "linecolor": "white",
           "ticks": "",
           "title": {
            "standoff": 15
           },
           "zerolinecolor": "white",
           "zerolinewidth": 2
          }
         }
        },
        "title": {
         "text": "Participant: Anonymous 17-11-22 21h53m"
        },
        "xaxis": {
         "anchor": "y",
         "domain": [
          0,
          1
         ],
         "tickformat": "%Q",
         "type": "date"
        },
        "yaxis": {
         "anchor": "x",
         "categoryarray": [
          "Formula",
          "SubFigure3",
          "SubFigure2",
          "SubFigure1",
          "Paragraph6",
          "Paragraph5",
          "Paragraph4",
          "Paragraph3",
          "Paragraph2",
          "Paragraph1"
         ],
         "categoryorder": "array",
         "domain": [
          0,
          1
         ],
         "title": {
          "text": "VisitedAOI"
         }
        }
       }
      },
      "text/html": [
       "<div>                            <div id=\"a82a6557-5850-40f1-bcd2-c49fe779845d\" class=\"plotly-graph-div\" style=\"height:525px; width:100%;\"></div>            <script type=\"text/javascript\">                require([\"plotly\"], function(Plotly) {                    window.PLOTLYENV=window.PLOTLYENV || {};                                    if (document.getElementById(\"a82a6557-5850-40f1-bcd2-c49fe779845d\")) {                    Plotly.newPlot(                        \"a82a6557-5850-40f1-bcd2-c49fe779845d\",                        [{\"alignmentgroup\":\"True\",\"base\":[\"1970-01-01T00:00:00.622997\",\"1970-01-01T00:00:05.864103\",\"1970-01-01T00:00:06.072377\",\"1970-01-01T00:00:07.930533\",\"1970-01-01T00:00:11.988385\",\"1970-01-01T00:00:21.662323\",\"1970-01-01T00:00:28.686549\",\"1970-01-01T00:02:13.324955\",\"1970-01-01T00:02:21.090724\",\"1970-01-01T00:02:21.765630\",\"1970-01-01T00:02:26.173466\",\"1970-01-01T00:02:27.515007\",\"1970-01-01T00:02:29.098143\"],\"hovertemplate\":\"VisitedAOI=%{y}<br>Dwell Start=%{base}<br>Dwell End=%{x}<extra></extra>\",\"legendgroup\":\"Paragraph1\",\"marker\":{\"color\":\"#636efa\",\"pattern\":{\"shape\":\"\"}},\"name\":\"Paragraph1\",\"offsetgroup\":\"Paragraph1\",\"orientation\":\"h\",\"showlegend\":true,\"textposition\":\"auto\",\"x\":[5224.0,191.0,774.0,4041.0,9498.0,6574.0,624.0,41.0,158.0,658.0,1324.0,1558.0,7032.0],\"xaxis\":\"x\",\"y\":[\"Paragraph1\",\"Paragraph1\",\"Paragraph1\",\"Paragraph1\",\"Paragraph1\",\"Paragraph1\",\"Paragraph1\",\"Paragraph1\",\"Paragraph1\",\"Paragraph1\",\"Paragraph1\",\"Paragraph1\",\"Paragraph1\"],\"yaxis\":\"y\",\"type\":\"bar\"},{\"alignmentgroup\":\"True\",\"base\":[\"1970-01-01T00:00:00.498025\",\"1970-01-01T00:02:13.174945\",\"1970-01-01T00:02:21.282342\",\"1970-01-01T00:02:22.423871\",\"1970-01-01T00:02:36.130693\",\"1970-01-01T00:03:10.926844\"],\"hovertemplate\":\"VisitedAOI=%{y}<br>Dwell Start=%{base}<br>Dwell End=%{x}<extra></extra>\",\"legendgroup\":\"Paragraph2\",\"marker\":{\"color\":\"#EF553B\",\"pattern\":{\"shape\":\"\"}},\"name\":\"Paragraph2\",\"offsetgroup\":\"Paragraph2\",\"orientation\":\"h\",\"showlegend\":true,\"textposition\":\"auto\",\"x\":[124.0,150.0,483.0,3749.0,25980.0,283.0],\"xaxis\":\"x\",\"y\":[\"Paragraph2\",\"Paragraph2\",\"Paragraph2\",\"Paragraph2\",\"Paragraph2\",\"Paragraph2\"],\"yaxis\":\"y\",\"type\":\"bar\"},{\"alignmentgroup\":\"True\",\"base\":[\"1970-01-01T00:01:00.141368\",\"1970-01-01T00:01:04.182597\",\"1970-01-01T00:01:07.907196\",\"1970-01-01T00:01:12.656625\",\"1970-01-01T00:01:16.356251\",\"1970-01-01T00:02:13.383232\",\"1970-01-01T00:02:20.832396\",\"1970-01-01T00:03:02.352789\",\"1970-01-01T00:03:09.893625\",\"1970-01-01T00:03:10.701885\",\"1970-01-01T00:03:49.222594\",\"1970-01-01T00:03:50.230821\"],\"hovertemplate\":\"VisitedAOI=%{y}<br>Dwell Start=%{base}<br>Dwell End=%{x}<extra></extra>\",\"legendgroup\":\"Paragraph3\",\"marker\":{\"color\":\"#00cc96\",\"pattern\":{\"shape\":\"\"}},\"name\":\"Paragraph3\",\"offsetgroup\":\"Paragraph3\",\"orientation\":\"h\",\"showlegend\":true,\"textposition\":\"auto\",\"x\":[3932.0,3699.0,2366.0,399.0,9582.0,199.0,241.0,7149.0,149.0,183.0,691.0,2808.0],\"xaxis\":\"x\",\"y\":[\"Paragraph3\",\"Paragraph3\",\"Paragraph3\",\"Paragraph3\",\"Paragraph3\",\"Paragraph3\",\"Paragraph3\",\"Paragraph3\",\"Paragraph3\",\"Paragraph3\",\"Paragraph3\",\"Paragraph3\"],\"yaxis\":\"y\",\"type\":\"bar\"},{\"alignmentgroup\":\"True\",\"base\":[\"1970-01-01T00:00:00.181368\",\"1970-01-01T00:03:02.111160\",\"1970-01-01T00:03:10.235264\",\"1970-01-01T00:03:10.426911\",\"1970-01-01T00:03:11.443436\",\"1970-01-01T00:03:11.610125\",\"1970-01-01T00:03:11.860086\",\"1970-01-01T00:03:12.060081\",\"1970-01-01T00:03:49.947556\",\"1970-01-01T00:03:53.263874\",\"1970-01-01T00:05:03.556053\"],\"hovertemplate\":\"VisitedAOI=%{y}<br>Dwell Start=%{base}<br>Dwell End=%{x}<extra></extra>\",\"legendgroup\":\"Paragraph4\",\"marker\":{\"color\":\"#ab63fa\",\"pattern\":{\"shape\":\"\"}},\"name\":\"Paragraph4\",\"offsetgroup\":\"Paragraph4\",\"orientation\":\"h\",\"showlegend\":true,\"textposition\":\"auto\",\"x\":[33.0,241.0,133.0,216.0,133.0,233.0,108.0,12423.0,241.0,191.0,41.0],\"xaxis\":\"x\",\"y\":[\"Paragraph4\",\"Paragraph4\",\"Paragraph4\",\"Paragraph4\",\"Paragraph4\",\"Paragraph4\",\"Paragraph4\",\"Paragraph4\",\"Paragraph4\",\"Paragraph4\",\"Paragraph4\"],\"yaxis\":\"y\",\"type\":\"bar\"},{\"alignmentgroup\":\"True\",\"base\":[\"1970-01-01T00:02:13.599873\",\"1970-01-01T00:02:14.224811\",\"1970-01-01T00:02:17.474445\",\"1970-01-01T00:02:18.166027\",\"1970-01-01T00:02:19.657557\",\"1970-01-01T00:03:10.068641\",\"1970-01-01T00:03:48.905973\",\"1970-01-01T00:03:53.055493\",\"1970-01-01T00:03:54.538690\",\"1970-01-01T00:03:55.355239\",\"1970-01-01T00:03:55.555233\",\"1970-01-01T00:03:58.188259\",\"1970-01-01T00:04:05.970746\",\"1970-01-01T00:04:36.958992\",\"1970-01-01T00:04:55.973579\",\"1970-01-01T00:04:56.781798\"],\"hovertemplate\":\"VisitedAOI=%{y}<br>Dwell Start=%{base}<br>Dwell End=%{x}<extra></extra>\",\"legendgroup\":\"Paragraph5\",\"marker\":{\"color\":\"#FFA15A\",\"pattern\":{\"shape\":\"\"}},\"name\":\"Paragraph5\",\"offsetgroup\":\"Paragraph5\",\"orientation\":\"h\",\"showlegend\":true,\"textposition\":\"auto\",\"x\":[599.0,3141.0,658.0,1299.0,1141.0,124.0,299.0,166.0,558.0,183.0,2099.0,7657.0,1483.0,83.0,25.0,24.0],\"xaxis\":\"x\",\"y\":[\"Paragraph5\",\"Paragraph5\",\"Paragraph5\",\"Paragraph5\",\"Paragraph5\",\"Paragraph5\",\"Paragraph5\",\"Paragraph5\",\"Paragraph5\",\"Paragraph5\",\"Paragraph5\",\"Paragraph5\",\"Paragraph5\",\"Paragraph5\",\"Paragraph5\",\"Paragraph5\"],\"yaxis\":\"y\",\"type\":\"bar\"},{\"alignmentgroup\":\"True\",\"base\":[\"1970-01-01T00:04:37.067295\",\"1970-01-01T00:04:37.867253\",\"1970-01-01T00:04:38.892131\",\"1970-01-01T00:04:41.783468\",\"1970-01-01T00:04:42.200151\",\"1970-01-01T00:04:45.474746\",\"1970-01-01T00:04:45.858008\",\"1970-01-01T00:04:46.107970\",\"1970-01-01T00:04:49.857564\",\"1970-01-01T00:04:50.082530\",\"1970-01-01T00:04:51.965678\",\"1970-01-01T00:04:54.040447\",\"1970-01-01T00:04:55.998610\",\"1970-01-01T00:04:57.406749\",\"1970-01-01T00:04:58.881573\",\"1970-01-01T00:04:59.098212\",\"1970-01-01T00:04:59.506499\",\"1970-01-01T00:04:59.973119\",\"1970-01-01T00:05:00.306396\",\"1970-01-01T00:05:01.939562\",\"1970-01-01T00:05:02.806125\",\"1970-01-01T00:05:03.606046\",\"1970-01-01T00:05:05.997448\",\"1970-01-01T00:05:12.921696\"],\"hovertemplate\":\"VisitedAOI=%{y}<br>Dwell Start=%{base}<br>Dwell End=%{x}<extra></extra>\",\"legendgroup\":\"Paragraph6\",\"marker\":{\"color\":\"#19d3f3\",\"pattern\":{\"shape\":\"\"}},\"name\":\"Paragraph6\",\"offsetgroup\":\"Paragraph6\",\"orientation\":\"h\",\"showlegend\":true,\"textposition\":\"auto\",\"x\":[533.0,974.0,2816.0,174.0,3216.0,333.0,191.0,3716.0,183.0,1049.0,2008.0,1841.0,149.0,1416.0,175.0,383.0,374.0,174.0,1524.0,841.0,683.0,2299.0,3891.0,25.0],\"xaxis\":\"x\",\"y\":[\"Paragraph6\",\"Paragraph6\",\"Paragraph6\",\"Paragraph6\",\"Paragraph6\",\"Paragraph6\",\"Paragraph6\",\"Paragraph6\",\"Paragraph6\",\"Paragraph6\",\"Paragraph6\",\"Paragraph6\",\"Paragraph6\",\"Paragraph6\",\"Paragraph6\",\"Paragraph6\",\"Paragraph6\",\"Paragraph6\",\"Paragraph6\",\"Paragraph6\",\"Paragraph6\",\"Paragraph6\",\"Paragraph6\",\"Paragraph6\"],\"yaxis\":\"y\",\"type\":\"bar\"},{\"alignmentgroup\":\"True\",\"base\":[\"1970-01-01T00:00:29.686428\",\"1970-01-01T00:00:33.919321\",\"1970-01-01T00:00:39.235371\",\"1970-01-01T00:00:57.233406\",\"1970-01-01T00:00:58.766558\",\"1970-01-01T00:00:59.499758\",\"1970-01-01T00:01:10.406920\",\"1970-01-01T00:01:12.256670\",\"1970-01-01T00:01:13.139919\",\"1970-01-01T00:01:15.389679\",\"1970-01-01T00:01:26.021873\",\"1970-01-01T00:01:32.487781\",\"1970-01-01T00:02:12.766630\",\"1970-01-01T00:03:37.257255\",\"1970-01-01T00:03:39.032085\",\"1970-01-01T00:03:41.965080\",\"1970-01-01T00:03:42.789979\",\"1970-01-01T00:04:51.132422\",\"1970-01-01T00:05:09.947047\",\"1970-01-01T00:05:10.621983\",\"1970-01-01T00:05:13.104982\"],\"hovertemplate\":\"VisitedAOI=%{y}<br>Dwell Start=%{base}<br>Dwell End=%{x}<extra></extra>\",\"legendgroup\":\"SubFigure1\",\"marker\":{\"color\":\"#FF6692\",\"pattern\":{\"shape\":\"\"}},\"name\":\"SubFigure1\",\"offsetgroup\":\"SubFigure1\",\"orientation\":\"h\",\"showlegend\":true,\"textposition\":\"auto\",\"x\":[3757.0,5107.0,17498.0,933.0,341.0,574.0,483.0,324.0,149.0,883.0,424.0,166.0,349.0,1191.0,2283.0,599.0,308.0,724.0,416.0,933.0,524.0],\"xaxis\":\"x\",\"y\":[\"SubFigure1\",\"SubFigure1\",\"SubFigure1\",\"SubFigure1\",\"SubFigure1\",\"SubFigure1\",\"SubFigure1\",\"SubFigure1\",\"SubFigure1\",\"SubFigure1\",\"SubFigure1\",\"SubFigure1\",\"SubFigure1\",\"SubFigure1\",\"SubFigure1\",\"SubFigure1\",\"SubFigure1\",\"SubFigure1\",\"SubFigure1\",\"SubFigure1\",\"SubFigure1\"],\"yaxis\":\"y\",\"type\":\"bar\"},{\"alignmentgroup\":\"True\",\"base\":[\"1970-01-01T00:00:59.108135\",\"1970-01-01T00:01:10.890206\",\"1970-01-01T00:01:13.306569\",\"1970-01-01T00:01:26.538430\",\"1970-01-01T00:01:27.913262\",\"1970-01-01T00:01:27.996644\",\"1970-01-01T00:01:32.687746\",\"1970-01-01T00:02:01.342927\",\"1970-01-01T00:03:09.626981\",\"1970-01-01T00:03:57.721660\",\"1970-01-01T00:04:07.545586\",\"1970-01-01T00:04:08.345512\",\"1970-01-01T00:04:09.095419\",\"1970-01-01T00:04:35.442490\",\"1970-01-01T00:04:36.600696\",\"1970-01-01T00:05:10.421948\",\"1970-01-01T00:05:11.571885\"],\"hovertemplate\":\"VisitedAOI=%{y}<br>Dwell Start=%{base}<br>Dwell End=%{x}<extra></extra>\",\"legendgroup\":\"SubFigure2\",\"marker\":{\"color\":\"#B6E880\",\"pattern\":{\"shape\":\"\"}},\"name\":\"SubFigure2\",\"offsetgroup\":\"SubFigure2\",\"orientation\":\"h\",\"showlegend\":true,\"textposition\":\"auto\",\"x\":[391.0,1333.0,1999.0,1108.0,66.0,4457.0,28605.0,11423.0,166.0,324.0,574.0,458.0,7065.0,275.0,108.0,191.0,149.0],\"xaxis\":\"x\",\"y\":[\"SubFigure2\",\"SubFigure2\",\"SubFigure2\",\"SubFigure2\",\"SubFigure2\",\"SubFigure2\",\"SubFigure2\",\"SubFigure2\",\"SubFigure2\",\"SubFigure2\",\"SubFigure2\",\"SubFigure2\",\"SubFigure2\",\"SubFigure2\",\"SubFigure2\",\"SubFigure2\",\"SubFigure2\"],\"yaxis\":\"y\",\"type\":\"bar\"},{\"alignmentgroup\":\"True\",\"base\":[\"1970-01-01T00:04:08.803751\",\"1970-01-01T00:04:16.177955\",\"1970-01-01T00:04:35.734161\"],\"hovertemplate\":\"VisitedAOI=%{y}<br>Dwell Start=%{base}<br>Dwell End=%{x}<extra></extra>\",\"legendgroup\":\"SubFigure3\",\"marker\":{\"color\":\"#FF97FF\",\"pattern\":{\"shape\":\"\"}},\"name\":\"SubFigure3\",\"offsetgroup\":\"SubFigure3\",\"orientation\":\"h\",\"showlegend\":true,\"textposition\":\"auto\",\"x\":[291.0,19264.0,858.0],\"xaxis\":\"x\",\"y\":[\"SubFigure3\",\"SubFigure3\",\"SubFigure3\"],\"yaxis\":\"y\",\"type\":\"bar\"},{\"alignmentgroup\":\"True\",\"base\":[\"1970-01-01T00:03:24.550320\",\"1970-01-01T00:03:28.416592\",\"1970-01-01T00:03:38.507105\",\"1970-01-01T00:03:41.398451\",\"1970-01-01T00:03:43.173284\",\"1970-01-01T00:03:47.522799\",\"1970-01-01T00:03:53.547137\",\"1970-01-01T00:05:11.813457\"],\"hovertemplate\":\"VisitedAOI=%{y}<br>Dwell Start=%{base}<br>Dwell End=%{x}<extra></extra>\",\"legendgroup\":\"Formula\",\"marker\":{\"color\":\"#FECB52\",\"pattern\":{\"shape\":\"\"}},\"name\":\"Formula\",\"offsetgroup\":\"Formula\",\"orientation\":\"h\",\"showlegend\":true,\"textposition\":\"auto\",\"x\":[3374.0,8824.0,416.0,508.0,4157.0,899.0,883.0,133.0],\"xaxis\":\"x\",\"y\":[\"Formula\",\"Formula\",\"Formula\",\"Formula\",\"Formula\",\"Formula\",\"Formula\",\"Formula\"],\"yaxis\":\"y\",\"type\":\"bar\"}],                        {\"template\":{\"data\":{\"histogram2dcontour\":[{\"type\":\"histogram2dcontour\",\"colorbar\":{\"outlinewidth\":0,\"ticks\":\"\"},\"colorscale\":[[0.0,\"#0d0887\"],[0.1111111111111111,\"#46039f\"],[0.2222222222222222,\"#7201a8\"],[0.3333333333333333,\"#9c179e\"],[0.4444444444444444,\"#bd3786\"],[0.5555555555555556,\"#d8576b\"],[0.6666666666666666,\"#ed7953\"],[0.7777777777777778,\"#fb9f3a\"],[0.8888888888888888,\"#fdca26\"],[1.0,\"#f0f921\"]]}],\"choropleth\":[{\"type\":\"choropleth\",\"colorbar\":{\"outlinewidth\":0,\"ticks\":\"\"}}],\"histogram2d\":[{\"type\":\"histogram2d\",\"colorbar\":{\"outlinewidth\":0,\"ticks\":\"\"},\"colorscale\":[[0.0,\"#0d0887\"],[0.1111111111111111,\"#46039f\"],[0.2222222222222222,\"#7201a8\"],[0.3333333333333333,\"#9c179e\"],[0.4444444444444444,\"#bd3786\"],[0.5555555555555556,\"#d8576b\"],[0.6666666666666666,\"#ed7953\"],[0.7777777777777778,\"#fb9f3a\"],[0.8888888888888888,\"#fdca26\"],[1.0,\"#f0f921\"]]}],\"heatmap\":[{\"type\":\"heatmap\",\"colorbar\":{\"outlinewidth\":0,\"ticks\":\"\"},\"colorscale\":[[0.0,\"#0d0887\"],[0.1111111111111111,\"#46039f\"],[0.2222222222222222,\"#7201a8\"],[0.3333333333333333,\"#9c179e\"],[0.4444444444444444,\"#bd3786\"],[0.5555555555555556,\"#d8576b\"],[0.6666666666666666,\"#ed7953\"],[0.7777777777777778,\"#fb9f3a\"],[0.8888888888888888,\"#fdca26\"],[1.0,\"#f0f921\"]]}],\"heatmapgl\":[{\"type\":\"heatmapgl\",\"colorbar\":{\"outlinewidth\":0,\"ticks\":\"\"},\"colorscale\":[[0.0,\"#0d0887\"],[0.1111111111111111,\"#46039f\"],[0.2222222222222222,\"#7201a8\"],[0.3333333333333333,\"#9c179e\"],[0.4444444444444444,\"#bd3786\"],[0.5555555555555556,\"#d8576b\"],[0.6666666666666666,\"#ed7953\"],[0.7777777777777778,\"#fb9f3a\"],[0.8888888888888888,\"#fdca26\"],[1.0,\"#f0f921\"]]}],\"contourcarpet\":[{\"type\":\"contourcarpet\",\"colorbar\":{\"outlinewidth\":0,\"ticks\":\"\"}}],\"contour\":[{\"type\":\"contour\",\"colorbar\":{\"outlinewidth\":0,\"ticks\":\"\"},\"colorscale\":[[0.0,\"#0d0887\"],[0.1111111111111111,\"#46039f\"],[0.2222222222222222,\"#7201a8\"],[0.3333333333333333,\"#9c179e\"],[0.4444444444444444,\"#bd3786\"],[0.5555555555555556,\"#d8576b\"],[0.6666666666666666,\"#ed7953\"],[0.7777777777777778,\"#fb9f3a\"],[0.8888888888888888,\"#fdca26\"],[1.0,\"#f0f921\"]]}],\"surface\":[{\"type\":\"surface\",\"colorbar\":{\"outlinewidth\":0,\"ticks\":\"\"},\"colorscale\":[[0.0,\"#0d0887\"],[0.1111111111111111,\"#46039f\"],[0.2222222222222222,\"#7201a8\"],[0.3333333333333333,\"#9c179e\"],[0.4444444444444444,\"#bd3786\"],[0.5555555555555556,\"#d8576b\"],[0.6666666666666666,\"#ed7953\"],[0.7777777777777778,\"#fb9f3a\"],[0.8888888888888888,\"#fdca26\"],[1.0,\"#f0f921\"]]}],\"mesh3d\":[{\"type\":\"mesh3d\",\"colorbar\":{\"outlinewidth\":0,\"ticks\":\"\"}}],\"scatter\":[{\"fillpattern\":{\"fillmode\":\"overlay\",\"size\":10,\"solidity\":0.2},\"type\":\"scatter\"}],\"parcoords\":[{\"type\":\"parcoords\",\"line\":{\"colorbar\":{\"outlinewidth\":0,\"ticks\":\"\"}}}],\"scatterpolargl\":[{\"type\":\"scatterpolargl\",\"marker\":{\"colorbar\":{\"outlinewidth\":0,\"ticks\":\"\"}}}],\"bar\":[{\"error_x\":{\"color\":\"#2a3f5f\"},\"error_y\":{\"color\":\"#2a3f5f\"},\"marker\":{\"line\":{\"color\":\"#E5ECF6\",\"width\":0.5},\"pattern\":{\"fillmode\":\"overlay\",\"size\":10,\"solidity\":0.2}},\"type\":\"bar\"}],\"scattergeo\":[{\"type\":\"scattergeo\",\"marker\":{\"colorbar\":{\"outlinewidth\":0,\"ticks\":\"\"}}}],\"scatterpolar\":[{\"type\":\"scatterpolar\",\"marker\":{\"colorbar\":{\"outlinewidth\":0,\"ticks\":\"\"}}}],\"histogram\":[{\"marker\":{\"pattern\":{\"fillmode\":\"overlay\",\"size\":10,\"solidity\":0.2}},\"type\":\"histogram\"}],\"scattergl\":[{\"type\":\"scattergl\",\"marker\":{\"colorbar\":{\"outlinewidth\":0,\"ticks\":\"\"}}}],\"scatter3d\":[{\"type\":\"scatter3d\",\"line\":{\"colorbar\":{\"outlinewidth\":0,\"ticks\":\"\"}},\"marker\":{\"colorbar\":{\"outlinewidth\":0,\"ticks\":\"\"}}}],\"scattermapbox\":[{\"type\":\"scattermapbox\",\"marker\":{\"colorbar\":{\"outlinewidth\":0,\"ticks\":\"\"}}}],\"scatterternary\":[{\"type\":\"scatterternary\",\"marker\":{\"colorbar\":{\"outlinewidth\":0,\"ticks\":\"\"}}}],\"scattercarpet\":[{\"type\":\"scattercarpet\",\"marker\":{\"colorbar\":{\"outlinewidth\":0,\"ticks\":\"\"}}}],\"carpet\":[{\"aaxis\":{\"endlinecolor\":\"#2a3f5f\",\"gridcolor\":\"white\",\"linecolor\":\"white\",\"minorgridcolor\":\"white\",\"startlinecolor\":\"#2a3f5f\"},\"baxis\":{\"endlinecolor\":\"#2a3f5f\",\"gridcolor\":\"white\",\"linecolor\":\"white\",\"minorgridcolor\":\"white\",\"startlinecolor\":\"#2a3f5f\"},\"type\":\"carpet\"}],\"table\":[{\"cells\":{\"fill\":{\"color\":\"#EBF0F8\"},\"line\":{\"color\":\"white\"}},\"header\":{\"fill\":{\"color\":\"#C8D4E3\"},\"line\":{\"color\":\"white\"}},\"type\":\"table\"}],\"barpolar\":[{\"marker\":{\"line\":{\"color\":\"#E5ECF6\",\"width\":0.5},\"pattern\":{\"fillmode\":\"overlay\",\"size\":10,\"solidity\":0.2}},\"type\":\"barpolar\"}],\"pie\":[{\"automargin\":true,\"type\":\"pie\"}]},\"layout\":{\"autotypenumbers\":\"strict\",\"colorway\":[\"#636efa\",\"#EF553B\",\"#00cc96\",\"#ab63fa\",\"#FFA15A\",\"#19d3f3\",\"#FF6692\",\"#B6E880\",\"#FF97FF\",\"#FECB52\"],\"font\":{\"color\":\"#2a3f5f\"},\"hovermode\":\"closest\",\"hoverlabel\":{\"align\":\"left\"},\"paper_bgcolor\":\"white\",\"plot_bgcolor\":\"#E5ECF6\",\"polar\":{\"bgcolor\":\"#E5ECF6\",\"angularaxis\":{\"gridcolor\":\"white\",\"linecolor\":\"white\",\"ticks\":\"\"},\"radialaxis\":{\"gridcolor\":\"white\",\"linecolor\":\"white\",\"ticks\":\"\"}},\"ternary\":{\"bgcolor\":\"#E5ECF6\",\"aaxis\":{\"gridcolor\":\"white\",\"linecolor\":\"white\",\"ticks\":\"\"},\"baxis\":{\"gridcolor\":\"white\",\"linecolor\":\"white\",\"ticks\":\"\"},\"caxis\":{\"gridcolor\":\"white\",\"linecolor\":\"white\",\"ticks\":\"\"}},\"coloraxis\":{\"colorbar\":{\"outlinewidth\":0,\"ticks\":\"\"}},\"colorscale\":{\"sequential\":[[0.0,\"#0d0887\"],[0.1111111111111111,\"#46039f\"],[0.2222222222222222,\"#7201a8\"],[0.3333333333333333,\"#9c179e\"],[0.4444444444444444,\"#bd3786\"],[0.5555555555555556,\"#d8576b\"],[0.6666666666666666,\"#ed7953\"],[0.7777777777777778,\"#fb9f3a\"],[0.8888888888888888,\"#fdca26\"],[1.0,\"#f0f921\"]],\"sequentialminus\":[[0.0,\"#0d0887\"],[0.1111111111111111,\"#46039f\"],[0.2222222222222222,\"#7201a8\"],[0.3333333333333333,\"#9c179e\"],[0.4444444444444444,\"#bd3786\"],[0.5555555555555556,\"#d8576b\"],[0.6666666666666666,\"#ed7953\"],[0.7777777777777778,\"#fb9f3a\"],[0.8888888888888888,\"#fdca26\"],[1.0,\"#f0f921\"]],\"diverging\":[[0,\"#8e0152\"],[0.1,\"#c51b7d\"],[0.2,\"#de77ae\"],[0.3,\"#f1b6da\"],[0.4,\"#fde0ef\"],[0.5,\"#f7f7f7\"],[0.6,\"#e6f5d0\"],[0.7,\"#b8e186\"],[0.8,\"#7fbc41\"],[0.9,\"#4d9221\"],[1,\"#276419\"]]},\"xaxis\":{\"gridcolor\":\"white\",\"linecolor\":\"white\",\"ticks\":\"\",\"title\":{\"standoff\":15},\"zerolinecolor\":\"white\",\"automargin\":true,\"zerolinewidth\":2},\"yaxis\":{\"gridcolor\":\"white\",\"linecolor\":\"white\",\"ticks\":\"\",\"title\":{\"standoff\":15},\"zerolinecolor\":\"white\",\"automargin\":true,\"zerolinewidth\":2},\"scene\":{\"xaxis\":{\"backgroundcolor\":\"#E5ECF6\",\"gridcolor\":\"white\",\"linecolor\":\"white\",\"showbackground\":true,\"ticks\":\"\",\"zerolinecolor\":\"white\",\"gridwidth\":2},\"yaxis\":{\"backgroundcolor\":\"#E5ECF6\",\"gridcolor\":\"white\",\"linecolor\":\"white\",\"showbackground\":true,\"ticks\":\"\",\"zerolinecolor\":\"white\",\"gridwidth\":2},\"zaxis\":{\"backgroundcolor\":\"#E5ECF6\",\"gridcolor\":\"white\",\"linecolor\":\"white\",\"showbackground\":true,\"ticks\":\"\",\"zerolinecolor\":\"white\",\"gridwidth\":2}},\"shapedefaults\":{\"line\":{\"color\":\"#2a3f5f\"}},\"annotationdefaults\":{\"arrowcolor\":\"#2a3f5f\",\"arrowhead\":0,\"arrowwidth\":1},\"geo\":{\"bgcolor\":\"white\",\"landcolor\":\"#E5ECF6\",\"subunitcolor\":\"white\",\"showland\":true,\"showlakes\":true,\"lakecolor\":\"white\"},\"title\":{\"x\":0.05},\"mapbox\":{\"style\":\"light\"}}},\"xaxis\":{\"anchor\":\"y\",\"domain\":[0.0,1.0],\"type\":\"date\",\"tickformat\":\"%Q\"},\"yaxis\":{\"anchor\":\"x\",\"domain\":[0.0,1.0],\"title\":{\"text\":\"VisitedAOI\"},\"categoryorder\":\"array\",\"categoryarray\":[\"Formula\",\"SubFigure3\",\"SubFigure2\",\"SubFigure1\",\"Paragraph6\",\"Paragraph5\",\"Paragraph4\",\"Paragraph3\",\"Paragraph2\",\"Paragraph1\"]},\"legend\":{\"title\":{\"text\":\"VisitedAOI\"},\"tracegroupgap\":0},\"title\":{\"text\":\"Participant: Anonymous 17-11-22 21h53m\"},\"barmode\":\"overlay\"},                        {\"responsive\": true}                    ).then(function(){\n",
       "                            \n",
       "var gd = document.getElementById('a82a6557-5850-40f1-bcd2-c49fe779845d');\n",
       "var x = new MutationObserver(function (mutations, observer) {{\n",
       "        var display = window.getComputedStyle(gd).display;\n",
       "        if (!display || display === 'none') {{\n",
       "            console.log([gd, 'removed!']);\n",
       "            Plotly.purge(gd);\n",
       "            observer.disconnect();\n",
       "        }}\n",
       "}});\n",
       "\n",
       "// Listen for the removal of the full notebook cells\n",
       "var notebookContainer = gd.closest('#notebook-container');\n",
       "if (notebookContainer) {{\n",
       "    x.observe(notebookContainer, {childList: true});\n",
       "}}\n",
       "\n",
       "// Listen for the clearing of the current output cell\n",
       "var outputEl = gd.closest('.output');\n",
       "if (outputEl) {{\n",
       "    x.observe(outputEl, {childList: true});\n",
       "}}\n",
       "\n",
       "                        })                };                });            </script>        </div>"
      ]
     },
     "metadata": {},
     "output_type": "display_data"
    }
   ],
   "source": [
    "color_discrete_map = None\n",
    "\n",
    "# Iteratate over the participants and plot AOI sequences\n",
    "for participant in dataToPlot['Respondent'].unique():\n",
    "    \n",
    "    # Filter in the participant data\n",
    "    participantData = dataToPlot[dataToPlot['Respondent']==participant]\n",
    "    \n",
    "    # Plot AOI sequences for the participant data\n",
    "    fig = None\n",
    "    # if no colors are assigned yet for the different AOI sequences\n",
    "    if color_discrete_map is None:\n",
    "        # Generate a figure with default colors\n",
    "        fig = px.timeline(participantData, x_start=\"Dwell Start\", x_end=\"Dwell End\", y=\"VisitedAOI\", color=\"VisitedAOI\",  category_orders={\"VisitedAOI\": [value for value in aoisToPlot]}, title=f'Participant: {participant}')\n",
    "        # copy the colors to color_discrete_map in order to reuse them for the other AOI sequence charts\n",
    "        color_discrete_map = {data.name: data.marker.color for data in fig.data}\n",
    "    else:\n",
    "        # Generate a figure with the existing colors in color_discrete_map\n",
    "        fig = px.timeline(participantData, x_start=\"Dwell Start\", x_end=\"Dwell End\", y=\"VisitedAOI\", color=\"VisitedAOI\",  category_orders={\"VisitedAOI\": [value for value in aoisToPlot]},  color_discrete_map=color_discrete_map, title=f'Participant: {participant}')\n",
    "    \n",
    "    fig.update_xaxes(\n",
    "        tickformat=\"%Q\",  # date format\n",
    "    ) \n",
    "    fig.show()"
   ]
  },
  {
   "cell_type": "code",
   "execution_count": null,
   "id": "0684410f",
   "metadata": {},
   "outputs": [],
   "source": []
  },
  {
   "cell_type": "code",
   "execution_count": null,
   "id": "d336552e",
   "metadata": {},
   "outputs": [],
   "source": []
  },
  {
   "cell_type": "code",
   "execution_count": null,
   "id": "a253ef80",
   "metadata": {},
   "outputs": [],
   "source": []
  }
 ],
 "metadata": {
  "kernelspec": {
   "display_name": "Python 3",
   "language": "python",
   "name": "python3"
  },
  "language_info": {
   "codemirror_mode": {
    "name": "ipython",
    "version": 3
   },
   "file_extension": ".py",
   "mimetype": "text/x-python",
   "name": "python",
   "nbconvert_exporter": "python",
   "pygments_lexer": "ipython3",
   "version": "3.9.5"
  }
 },
 "nbformat": 4,
 "nbformat_minor": 5
}
