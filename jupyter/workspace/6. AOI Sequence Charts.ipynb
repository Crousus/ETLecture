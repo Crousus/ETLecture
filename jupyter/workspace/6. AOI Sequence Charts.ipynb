{
 "cells": [
  {
   "cell_type": "code",
   "execution_count": 21,
   "id": "706d6ab9",
   "metadata": {},
   "outputs": [],
   "source": [
    "import plotly.express as px\n",
    "import pandas as pd"
   ]
  },
  {
   "cell_type": "code",
   "execution_count": 22,
   "id": "12d06ed0",
   "metadata": {},
   "outputs": [],
   "source": [
    "#---------------------------------------------------\n",
    "#\n",
    "# Config *** TO UPDATE ***\n",
    "#\n",
    "#---------------------------------------------------\n",
    "\n",
    "# *** TO UPDATE: change the team number with your own team number\n",
    "AOIS_DEFINITION_FILE = \"raw-data/team2/aoisDefinition.csv\"\n",
    "\n",
    "# This file should be automatically generated from \"5. AOI Visits\"\n",
    "DWELLS_FILE = \"data/dwells.csv\""
   ]
  },
  {
   "cell_type": "code",
   "execution_count": 23,
   "id": "e6ba080b",
   "metadata": {},
   "outputs": [],
   "source": [
    "#----------------------------------------------------------------------------------------\n",
    "#\n",
    "# 1. AOI Sequence Charts\n",
    "#\n",
    "#----------------------------------------------------------------------------------------"
   ]
  },
  {
   "cell_type": "code",
   "execution_count": 24,
   "id": "8d5bd7a1",
   "metadata": {},
   "outputs": [],
   "source": [
    "# Read aois definition\n",
    "aois_df = pd.read_csv(AOIS_DEFINITION_FILE)"
   ]
  },
  {
   "cell_type": "code",
   "execution_count": 25,
   "id": "bdf45bdd",
   "metadata": {},
   "outputs": [
    {
     "data": {
      "text/html": [
       "<div>\n",
       "<style scoped>\n",
       "    .dataframe tbody tr th:only-of-type {\n",
       "        vertical-align: middle;\n",
       "    }\n",
       "\n",
       "    .dataframe tbody tr th {\n",
       "        vertical-align: top;\n",
       "    }\n",
       "\n",
       "    .dataframe thead th {\n",
       "        text-align: right;\n",
       "    }\n",
       "</style>\n",
       "<table border=\"1\" class=\"dataframe\">\n",
       "  <thead>\n",
       "    <tr style=\"text-align: right;\">\n",
       "      <th></th>\n",
       "      <th>AOI</th>\n",
       "      <th>p1x</th>\n",
       "      <th>p1y</th>\n",
       "      <th>p2x</th>\n",
       "      <th>p2y</th>\n",
       "    </tr>\n",
       "  </thead>\n",
       "  <tbody>\n",
       "    <tr>\n",
       "      <th>0</th>\n",
       "      <td>Chat</td>\n",
       "      <td>1548.984881</td>\n",
       "      <td>676.457883</td>\n",
       "      <td>1683.110151</td>\n",
       "      <td>737.105832</td>\n",
       "    </tr>\n",
       "    <tr>\n",
       "      <th>1</th>\n",
       "      <td>CTA_1</td>\n",
       "      <td>287.041037</td>\n",
       "      <td>443.196544</td>\n",
       "      <td>506.306695</td>\n",
       "      <td>508.509719</td>\n",
       "    </tr>\n",
       "    <tr>\n",
       "      <th>2</th>\n",
       "      <td>Date_Place_1</td>\n",
       "      <td>192.570194</td>\n",
       "      <td>846.738661</td>\n",
       "      <td>488.812095</td>\n",
       "      <td>957.537797</td>\n",
       "    </tr>\n",
       "    <tr>\n",
       "      <th>3</th>\n",
       "      <td>Date_Place_2</td>\n",
       "      <td>757.062635</td>\n",
       "      <td>87.473002</td>\n",
       "      <td>1045.140389</td>\n",
       "      <td>169.114471</td>\n",
       "    </tr>\n",
       "    <tr>\n",
       "      <th>4</th>\n",
       "      <td>Description_1</td>\n",
       "      <td>191.403888</td>\n",
       "      <td>968.034557</td>\n",
       "      <td>584.449244</td>\n",
       "      <td>1042.678186</td>\n",
       "    </tr>\n",
       "    <tr>\n",
       "      <th>5</th>\n",
       "      <td>Description_2</td>\n",
       "      <td>757.062635</td>\n",
       "      <td>177.278618</td>\n",
       "      <td>1167.602592</td>\n",
       "      <td>319.568035</td>\n",
       "    </tr>\n",
       "    <tr>\n",
       "      <th>6</th>\n",
       "      <td>Fav</td>\n",
       "      <td>1365.874730</td>\n",
       "      <td>675.291577</td>\n",
       "      <td>1524.492441</td>\n",
       "      <td>733.606911</td>\n",
       "    </tr>\n",
       "    <tr>\n",
       "      <th>7</th>\n",
       "      <td>Food</td>\n",
       "      <td>155.248380</td>\n",
       "      <td>88.639309</td>\n",
       "      <td>636.933045</td>\n",
       "      <td>435.032397</td>\n",
       "    </tr>\n",
       "    <tr>\n",
       "      <th>8</th>\n",
       "      <td>Gen_Info</td>\n",
       "      <td>193.736501</td>\n",
       "      <td>523.671706</td>\n",
       "      <td>495.809935</td>\n",
       "      <td>600.647948</td>\n",
       "    </tr>\n",
       "    <tr>\n",
       "      <th>9</th>\n",
       "      <td>Ingredients</td>\n",
       "      <td>757.062635</td>\n",
       "      <td>337.062635</td>\n",
       "      <td>989.157667</td>\n",
       "      <td>669.460043</td>\n",
       "    </tr>\n",
       "    <tr>\n",
       "      <th>10</th>\n",
       "      <td>Instructions</td>\n",
       "      <td>755.896328</td>\n",
       "      <td>681.123110</td>\n",
       "      <td>1162.937365</td>\n",
       "      <td>1036.846652</td>\n",
       "    </tr>\n",
       "    <tr>\n",
       "      <th>11</th>\n",
       "      <td>Online</td>\n",
       "      <td>1418.358531</td>\n",
       "      <td>895.723542</td>\n",
       "      <td>1641.123110</td>\n",
       "      <td>941.209503</td>\n",
       "    </tr>\n",
       "    <tr>\n",
       "      <th>12</th>\n",
       "      <td>Participants_Overview</td>\n",
       "      <td>191.403888</td>\n",
       "      <td>618.142549</td>\n",
       "      <td>598.444924</td>\n",
       "      <td>828.077754</td>\n",
       "    </tr>\n",
       "    <tr>\n",
       "      <th>13</th>\n",
       "      <td>Participant_Bio</td>\n",
       "      <td>1321.555076</td>\n",
       "      <td>751.101512</td>\n",
       "      <td>1541.987041</td>\n",
       "      <td>865.399568</td>\n",
       "    </tr>\n",
       "    <tr>\n",
       "      <th>14</th>\n",
       "      <td>Participant_Profile_Picture</td>\n",
       "      <td>1292.397408</td>\n",
       "      <td>100.302376</td>\n",
       "      <td>1758.920086</td>\n",
       "      <td>662.462203</td>\n",
       "    </tr>\n",
       "    <tr>\n",
       "      <th>15</th>\n",
       "      <td>Place</td>\n",
       "      <td>1482.505400</td>\n",
       "      <td>954.038877</td>\n",
       "      <td>1575.809935</td>\n",
       "      <td>1029.848812</td>\n",
       "    </tr>\n",
       "    <tr>\n",
       "      <th>16</th>\n",
       "      <td>Responsabilities</td>\n",
       "      <td>1018.315335</td>\n",
       "      <td>338.228942</td>\n",
       "      <td>1166.436285</td>\n",
       "      <td>670.626350</td>\n",
       "    </tr>\n",
       "    <tr>\n",
       "      <th>17</th>\n",
       "      <td>Status</td>\n",
       "      <td>1606.133909</td>\n",
       "      <td>954.038877</td>\n",
       "      <td>1691.274298</td>\n",
       "      <td>1031.015119</td>\n",
       "    </tr>\n",
       "    <tr>\n",
       "      <th>18</th>\n",
       "      <td>Verified</td>\n",
       "      <td>1357.710583</td>\n",
       "      <td>952.872570</td>\n",
       "      <td>1453.347732</td>\n",
       "      <td>1029.848812</td>\n",
       "    </tr>\n",
       "  </tbody>\n",
       "</table>\n",
       "</div>"
      ],
      "text/plain": [
       "                            AOI          p1x         p1y          p2x  \\\n",
       "0                          Chat  1548.984881  676.457883  1683.110151   \n",
       "1                         CTA_1   287.041037  443.196544   506.306695   \n",
       "2                  Date_Place_1   192.570194  846.738661   488.812095   \n",
       "3                  Date_Place_2   757.062635   87.473002  1045.140389   \n",
       "4                 Description_1   191.403888  968.034557   584.449244   \n",
       "5                 Description_2   757.062635  177.278618  1167.602592   \n",
       "6                           Fav  1365.874730  675.291577  1524.492441   \n",
       "7                          Food   155.248380   88.639309   636.933045   \n",
       "8                      Gen_Info   193.736501  523.671706   495.809935   \n",
       "9                   Ingredients   757.062635  337.062635   989.157667   \n",
       "10                 Instructions   755.896328  681.123110  1162.937365   \n",
       "11                       Online  1418.358531  895.723542  1641.123110   \n",
       "12        Participants_Overview   191.403888  618.142549   598.444924   \n",
       "13              Participant_Bio  1321.555076  751.101512  1541.987041   \n",
       "14  Participant_Profile_Picture  1292.397408  100.302376  1758.920086   \n",
       "15                        Place  1482.505400  954.038877  1575.809935   \n",
       "16             Responsabilities  1018.315335  338.228942  1166.436285   \n",
       "17                       Status  1606.133909  954.038877  1691.274298   \n",
       "18                     Verified  1357.710583  952.872570  1453.347732   \n",
       "\n",
       "            p2y  \n",
       "0    737.105832  \n",
       "1    508.509719  \n",
       "2    957.537797  \n",
       "3    169.114471  \n",
       "4   1042.678186  \n",
       "5    319.568035  \n",
       "6    733.606911  \n",
       "7    435.032397  \n",
       "8    600.647948  \n",
       "9    669.460043  \n",
       "10  1036.846652  \n",
       "11   941.209503  \n",
       "12   828.077754  \n",
       "13   865.399568  \n",
       "14   662.462203  \n",
       "15  1029.848812  \n",
       "16   670.626350  \n",
       "17  1031.015119  \n",
       "18  1029.848812  "
      ]
     },
     "metadata": {},
     "output_type": "display_data"
    }
   ],
   "source": [
    "# Display aois definition\n",
    "display(aois_df)"
   ]
  },
  {
   "cell_type": "code",
   "execution_count": 26,
   "id": "384dda4b",
   "metadata": {},
   "outputs": [
    {
     "name": "stdout",
     "output_type": "stream",
     "text": [
      "AOIs: ['Chat', 'CTA_1', 'Date_Place_1', 'Date_Place_2', 'Description_1', 'Description_2', 'Fav', 'Food', 'Gen_Info', 'Ingredients', 'Instructions', 'Online', 'Participants_Overview', 'Participant_Bio', 'Participant_Profile_Picture', 'Place', 'Responsabilities', 'Status', 'Verified']\n"
     ]
    }
   ],
   "source": [
    "# get list of AOIs to plot\n",
    "aoisToPlot = aois_df[\"AOI\"].tolist()\n",
    "print(f'AOIs: {aoisToPlot}')"
   ]
  },
  {
   "cell_type": "code",
   "execution_count": 27,
   "id": "e68892ff",
   "metadata": {},
   "outputs": [],
   "source": [
    "# Read dwells data using pandas library\n",
    "data = pd.read_csv(DWELLS_FILE)\n",
    "\n",
    "# set display.max_columns to none, to show all the columns when using head()\n",
    "pd.set_option('display.max_columns', None)"
   ]
  },
  {
   "cell_type": "code",
   "execution_count": 28,
   "id": "6d4142ae",
   "metadata": {},
   "outputs": [
    {
     "data": {
      "text/html": [
       "<div>\n",
       "<style scoped>\n",
       "    .dataframe tbody tr th:only-of-type {\n",
       "        vertical-align: middle;\n",
       "    }\n",
       "\n",
       "    .dataframe tbody tr th {\n",
       "        vertical-align: top;\n",
       "    }\n",
       "\n",
       "    .dataframe thead th {\n",
       "        text-align: right;\n",
       "    }\n",
       "</style>\n",
       "<table border=\"1\" class=\"dataframe\">\n",
       "  <thead>\n",
       "    <tr style=\"text-align: right;\">\n",
       "      <th></th>\n",
       "      <th>Respondent</th>\n",
       "      <th>VisitedAOI</th>\n",
       "      <th>Dwell Start</th>\n",
       "      <th>Dwell End</th>\n",
       "      <th>Number of Fixations in Dwell</th>\n",
       "      <th>Number of Saccades in Dwell</th>\n",
       "      <th>Dwell Time</th>\n",
       "    </tr>\n",
       "  </thead>\n",
       "  <tbody>\n",
       "    <tr>\n",
       "      <th>0</th>\n",
       "      <td>P01</td>\n",
       "      <td>Responsabilities</td>\n",
       "      <td>117.4537</td>\n",
       "      <td>375.7792</td>\n",
       "      <td>1</td>\n",
       "      <td>0</td>\n",
       "      <td>258.3255</td>\n",
       "    </tr>\n",
       "    <tr>\n",
       "      <th>1</th>\n",
       "      <td>P01</td>\n",
       "      <td>CTA_1</td>\n",
       "      <td>742.4064</td>\n",
       "      <td>1100.6684</td>\n",
       "      <td>2</td>\n",
       "      <td>4</td>\n",
       "      <td>358.2620</td>\n",
       "    </tr>\n",
       "    <tr>\n",
       "      <th>2</th>\n",
       "      <td>P01</td>\n",
       "      <td>Food</td>\n",
       "      <td>1200.7011</td>\n",
       "      <td>1567.3256</td>\n",
       "      <td>1</td>\n",
       "      <td>1</td>\n",
       "      <td>366.6245</td>\n",
       "    </tr>\n",
       "    <tr>\n",
       "      <th>3</th>\n",
       "      <td>P01</td>\n",
       "      <td>Food</td>\n",
       "      <td>1783.9405</td>\n",
       "      <td>2333.8938</td>\n",
       "      <td>2</td>\n",
       "      <td>4</td>\n",
       "      <td>549.9533</td>\n",
       "    </tr>\n",
       "    <tr>\n",
       "      <th>4</th>\n",
       "      <td>P01</td>\n",
       "      <td>Food</td>\n",
       "      <td>3658.7234</td>\n",
       "      <td>3867.0633</td>\n",
       "      <td>1</td>\n",
       "      <td>1</td>\n",
       "      <td>208.3399</td>\n",
       "    </tr>\n",
       "  </tbody>\n",
       "</table>\n",
       "</div>"
      ],
      "text/plain": [
       "  Respondent        VisitedAOI  Dwell Start  Dwell End  \\\n",
       "0        P01  Responsabilities     117.4537   375.7792   \n",
       "1        P01             CTA_1     742.4064  1100.6684   \n",
       "2        P01              Food    1200.7011  1567.3256   \n",
       "3        P01              Food    1783.9405  2333.8938   \n",
       "4        P01              Food    3658.7234  3867.0633   \n",
       "\n",
       "   Number of Fixations in Dwell  Number of Saccades in Dwell  Dwell Time  \n",
       "0                             1                            0    258.3255  \n",
       "1                             2                            4    358.2620  \n",
       "2                             1                            1    366.6245  \n",
       "3                             2                            4    549.9533  \n",
       "4                             1                            1    208.3399  "
      ]
     },
     "execution_count": 28,
     "metadata": {},
     "output_type": "execute_result"
    }
   ],
   "source": [
    "#Preview dwell data\n",
    "data.head()"
   ]
  },
  {
   "cell_type": "code",
   "execution_count": 29,
   "id": "8ab73ba8",
   "metadata": {},
   "outputs": [],
   "source": [
    "#plot AOI Sequences\n",
    "\n",
    "#Keep only visits within the aoisToPlot\n",
    "dataToPlot = data[data['VisitedAOI'].isin(aoisToPlot)].copy(deep=True)\n",
    "\n",
    "#specify format of 'Dwell Start' and 'Dwell End'\n",
    "dataToPlot.loc[:,'Dwell Start'] = pd.to_datetime(dataToPlot['Dwell Start'], unit='ms')\n",
    "dataToPlot.loc[:,'Dwell End'] = pd.to_datetime(dataToPlot['Dwell End'], unit='ms')\n"
   ]
  },
  {
   "cell_type": "code",
   "execution_count": 30,
   "id": "382c370f",
   "metadata": {},
   "outputs": [
    {
     "data": {
      "application/vnd.plotly.v1+json": {
       "config": {
        "plotlyServerURL": "https://plot.ly"
       },
       "data": [
        {
         "alignmentgroup": "True",
         "base": [
          "1970-01-01T00:01:09.409789"
         ],
         "hovertemplate": "VisitedAOI=%{y}<br>Dwell Start=%{base}<br>Dwell End=%{x}<extra></extra>",
         "legendgroup": "Chat",
         "marker": {
          "color": "#636efa",
          "pattern": {
           "shape": ""
          }
         },
         "name": "Chat",
         "offsetgroup": "Chat",
         "orientation": "h",
         "showlegend": true,
         "textposition": "auto",
         "type": "bar",
         "x": [
          316
         ],
         "xaxis": "x",
         "y": [
          "Chat"
         ],
         "yaxis": "y"
        },
        {
         "alignmentgroup": "True",
         "base": [
          "1970-01-01T00:00:00.742406",
          "1970-01-01T00:00:06.425090",
          "1970-01-01T00:01:24.166502",
          "1970-01-01T00:01:44.139262",
          "1970-01-01T00:01:46.547351",
          "1970-01-01T00:03:20.295365"
         ],
         "hovertemplate": "VisitedAOI=%{y}<br>Dwell Start=%{base}<br>Dwell End=%{x}<extra></extra>",
         "legendgroup": "CTA_1",
         "marker": {
          "color": "#EF553B",
          "pattern": {
           "shape": ""
          }
         },
         "name": "CTA_1",
         "offsetgroup": "CTA_1",
         "orientation": "h",
         "showlegend": true,
         "textposition": "auto",
         "type": "bar",
         "x": [
          358,
          791,
          324,
          141,
          316,
          216
         ],
         "xaxis": "x",
         "y": [
          "CTA_1",
          "CTA_1",
          "CTA_1",
          "CTA_1",
          "CTA_1",
          "CTA_1"
         ],
         "yaxis": "y"
        },
        {
         "alignmentgroup": "True",
         "base": [
          "1970-01-01T00:00:15.140828",
          "1970-01-01T00:00:17.590573",
          "1970-01-01T00:00:17.865550",
          "1970-01-01T00:00:20.506884",
          "1970-01-01T00:00:20.656854",
          "1970-01-01T00:01:17.908863",
          "1970-01-01T00:01:21.800077",
          "1970-01-01T00:01:28.807621",
          "1970-01-01T00:01:30.907408",
          "1970-01-01T00:01:37.806643",
          "1970-01-01T00:01:38.456617",
          "1970-01-01T00:01:47.180598",
          "1970-01-01T00:01:47.388900",
          "1970-01-01T00:03:18.170608",
          "1970-01-01T00:03:22.228495"
         ],
         "hovertemplate": "VisitedAOI=%{y}<br>Dwell Start=%{base}<br>Dwell End=%{x}<extra></extra>",
         "legendgroup": "Date_Place_1",
         "marker": {
          "color": "#00cc96",
          "pattern": {
           "shape": ""
          }
         },
         "name": "Date_Place_1",
         "offsetgroup": "Date_Place_1",
         "orientation": "h",
         "showlegend": true,
         "textposition": "auto",
         "type": "bar",
         "x": [
          2191,
          33,
          2524,
          25,
          633,
          58,
          283,
          1858,
          933,
          341,
          766,
          24,
          1366,
          408,
          549
         ],
         "xaxis": "x",
         "y": [
          "Date_Place_1",
          "Date_Place_1",
          "Date_Place_1",
          "Date_Place_1",
          "Date_Place_1",
          "Date_Place_1",
          "Date_Place_1",
          "Date_Place_1",
          "Date_Place_1",
          "Date_Place_1",
          "Date_Place_1",
          "Date_Place_1",
          "Date_Place_1",
          "Date_Place_1",
          "Date_Place_1"
         ],
         "yaxis": "y"
        },
        {
         "alignmentgroup": "True",
         "base": [
          "1970-01-01T00:01:27.782749",
          "1970-01-01T00:01:28.391012",
          "1970-01-01T00:01:36.998433",
          "1970-01-01T00:01:52.380061"
         ],
         "hovertemplate": "VisitedAOI=%{y}<br>Dwell Start=%{base}<br>Dwell End=%{x}<extra></extra>",
         "legendgroup": "Date_Place_2",
         "marker": {
          "color": "#ab63fa",
          "pattern": {
           "shape": ""
          }
         },
         "name": "Date_Place_2",
         "offsetgroup": "Date_Place_2",
         "orientation": "h",
         "showlegend": true,
         "textposition": "auto",
         "type": "bar",
         "x": [
          433,
          341,
          474,
          216
         ],
         "xaxis": "x",
         "y": [
          "Date_Place_2",
          "Date_Place_2",
          "Date_Place_2",
          "Date_Place_2"
         ],
         "yaxis": "y"
        },
        {
         "alignmentgroup": "True",
         "base": [
          "1970-01-01T00:00:21.373473",
          "1970-01-01T00:01:17.208918",
          "1970-01-01T00:01:38.148286",
          "1970-01-01T00:01:47.322241",
          "1970-01-01T00:03:17.729015",
          "1970-01-01T00:03:22.778483",
          "1970-01-01T00:03:23.111720"
         ],
         "hovertemplate": "VisitedAOI=%{y}<br>Dwell Start=%{base}<br>Dwell End=%{x}<extra></extra>",
         "legendgroup": "Description_1",
         "marker": {
          "color": "#FFA15A",
          "pattern": {
           "shape": ""
          }
         },
         "name": "Description_1",
         "offsetgroup": "Description_1",
         "orientation": "h",
         "showlegend": true,
         "textposition": "auto",
         "type": "bar",
         "x": [
          1724,
          699,
          283,
          16,
          383,
          283,
          841
         ],
         "xaxis": "x",
         "y": [
          "Description_1",
          "Description_1",
          "Description_1",
          "Description_1",
          "Description_1",
          "Description_1",
          "Description_1"
         ],
         "yaxis": "y"
        },
        {
         "alignmentgroup": "True",
         "base": [
          "1970-01-01T00:00:23.598207",
          "1970-01-01T00:01:27.291175",
          "1970-01-01T00:01:36.173517",
          "1970-01-01T00:01:36.265161",
          "1970-01-01T00:01:51.830114",
          "1970-01-01T00:01:52.596676",
          "1970-01-01T00:02:05.378618",
          "1970-01-01T00:02:57.539523",
          "1970-01-01T00:02:59.064386"
         ],
         "hovertemplate": "VisitedAOI=%{y}<br>Dwell Start=%{base}<br>Dwell End=%{x}<extra></extra>",
         "legendgroup": "Description_2",
         "marker": {
          "color": "#19d3f3",
          "pattern": {
           "shape": ""
          }
         },
         "name": "Description_2",
         "offsetgroup": "Description_2",
         "orientation": "h",
         "showlegend": true,
         "textposition": "auto",
         "type": "bar",
         "x": [
          11207,
          474,
          83,
          574,
          533,
          2941,
          4141,
          741,
          4307
         ],
         "xaxis": "x",
         "y": [
          "Description_2",
          "Description_2",
          "Description_2",
          "Description_2",
          "Description_2",
          "Description_2",
          "Description_2",
          "Description_2",
          "Description_2"
         ],
         "yaxis": "y"
        },
        {
         "alignmentgroup": "True",
         "base": [
          "1970-01-01T00:01:08.684879"
         ],
         "hovertemplate": "VisitedAOI=%{y}<br>Dwell Start=%{base}<br>Dwell End=%{x}<extra></extra>",
         "legendgroup": "Fav",
         "marker": {
          "color": "#FF6692",
          "pattern": {
           "shape": ""
          }
         },
         "name": "Fav",
         "offsetgroup": "Fav",
         "orientation": "h",
         "showlegend": true,
         "textposition": "auto",
         "type": "bar",
         "x": [
          724
         ],
         "xaxis": "x",
         "y": [
          "Fav"
         ],
         "yaxis": "y"
        },
        {
         "alignmentgroup": "True",
         "base": [
          "1970-01-01T00:00:01.200701",
          "1970-01-01T00:00:01.783940",
          "1970-01-01T00:00:03.658723",
          "1970-01-01T00:00:04.525318",
          "1970-01-01T00:00:05.666830",
          "1970-01-01T00:01:24.524766",
          "1970-01-01T00:01:25.366339",
          "1970-01-01T00:01:43.955990",
          "1970-01-01T00:01:44.280926",
          "1970-01-01T00:03:19.153819",
          "1970-01-01T00:03:20.511998"
         ],
         "hovertemplate": "VisitedAOI=%{y}<br>Dwell Start=%{base}<br>Dwell End=%{x}<extra></extra>",
         "legendgroup": "Food",
         "marker": {
          "color": "#B6E880",
          "pattern": {
           "shape": ""
          }
         },
         "name": "Food",
         "offsetgroup": "Food",
         "orientation": "h",
         "showlegend": true,
         "textposition": "auto",
         "type": "bar",
         "x": [
          366,
          549,
          208,
          366,
          708,
          366,
          474,
          149,
          2266,
          1141,
          333
         ],
         "xaxis": "x",
         "y": [
          "Food",
          "Food",
          "Food",
          "Food",
          "Food",
          "Food",
          "Food",
          "Food",
          "Food",
          "Food",
          "Food"
         ],
         "yaxis": "y"
        },
        {
         "alignmentgroup": "True",
         "base": [
          "1970-01-01T00:00:07.216677",
          "1970-01-01T00:00:08.049900",
          "1970-01-01T00:00:08.649879",
          "1970-01-01T00:00:09.058128",
          "1970-01-01T00:01:19.275377",
          "1970-01-01T00:01:23.291614",
          "1970-01-01T00:01:39.964735",
          "1970-01-01T00:01:43.364365",
          "1970-01-01T00:01:46.863984",
          "1970-01-01T00:02:52.373442",
          "1970-01-01T00:03:18.995496"
         ],
         "hovertemplate": "VisitedAOI=%{y}<br>Dwell Start=%{base}<br>Dwell End=%{x}<extra></extra>",
         "legendgroup": "Gen_Info",
         "marker": {
          "color": "#FF97FF",
          "pattern": {
           "shape": ""
          }
         },
         "name": "Gen_Info",
         "offsetgroup": "Gen_Info",
         "orientation": "h",
         "showlegend": true,
         "textposition": "auto",
         "type": "bar",
         "x": [
          808,
          524,
          341,
          2324,
          774,
          874,
          166,
          558,
          258,
          4774,
          124
         ],
         "xaxis": "x",
         "y": [
          "Gen_Info",
          "Gen_Info",
          "Gen_Info",
          "Gen_Info",
          "Gen_Info",
          "Gen_Info",
          "Gen_Info",
          "Gen_Info",
          "Gen_Info",
          "Gen_Info",
          "Gen_Info"
         ],
         "yaxis": "y"
        },
        {
         "alignmentgroup": "True",
         "base": [
          "1970-01-01T00:00:34.805301",
          "1970-01-01T00:00:35.755188",
          "1970-01-01T00:00:37.230003",
          "1970-01-01T00:00:41.146245",
          "1970-01-01T00:00:43.812620",
          "1970-01-01T00:00:47.037319",
          "1970-01-01T00:00:50.836860",
          "1970-01-01T00:00:54.353143",
          "1970-01-01T00:01:15.959056",
          "1970-01-01T00:01:26.266301",
          "1970-01-01T00:01:27.057832",
          "1970-01-01T00:01:32.532227",
          "1970-01-01T00:01:36.131850",
          "1970-01-01T00:01:49.472031",
          "1970-01-01T00:01:50.605232",
          "1970-01-01T00:01:51.630110",
          "1970-01-01T00:02:01.837363",
          "1970-01-01T00:02:03.987125",
          "1970-01-01T00:02:42.874447",
          "1970-01-01T00:02:44.132678",
          "1970-01-01T00:02:58.339439",
          "1970-01-01T00:03:04.772043",
          "1970-01-01T00:03:07.346750"
         ],
         "hovertemplate": "VisitedAOI=%{y}<br>Dwell Start=%{base}<br>Dwell End=%{x}<extra></extra>",
         "legendgroup": "Ingredients",
         "marker": {
          "color": "#FECB52",
          "pattern": {
           "shape": ""
          }
         },
         "name": "Ingredients",
         "offsetgroup": "Ingredients",
         "orientation": "h",
         "showlegend": true,
         "textposition": "auto",
         "type": "bar",
         "x": [
          933,
          291,
          3307,
          1908,
          2899,
          3474,
          2733,
          2508,
          558,
          149,
          41,
          3216,
          41,
          899,
          891,
          200,
          1924,
          1391,
          824,
          6874,
          674,
          2449,
          508
         ],
         "xaxis": "x",
         "y": [
          "Ingredients",
          "Ingredients",
          "Ingredients",
          "Ingredients",
          "Ingredients",
          "Ingredients",
          "Ingredients",
          "Ingredients",
          "Ingredients",
          "Ingredients",
          "Ingredients",
          "Ingredients",
          "Ingredients",
          "Ingredients",
          "Ingredients",
          "Ingredients",
          "Ingredients",
          "Ingredients",
          "Ingredients",
          "Ingredients",
          "Ingredients",
          "Ingredients",
          "Ingredients"
         ],
         "yaxis": "y"
        },
        {
         "alignmentgroup": "True",
         "base": [
          "1970-01-01T00:00:53.603217",
          "1970-01-01T00:00:57.019513",
          "1970-01-01T00:01:15.367454",
          "1970-01-01T00:01:35.798565",
          "1970-01-01T00:01:49.030404",
          "1970-01-01T00:01:50.371929",
          "1970-01-01T00:02:09.569823",
          "1970-01-01T00:02:38.874894",
          "1970-01-01T00:02:39.216520",
          "1970-01-01T00:02:39.574796",
          "1970-01-01T00:02:41.107996",
          "1970-01-01T00:02:42.332847",
          "1970-01-01T00:02:51.006886",
          "1970-01-01T00:03:03.447227",
          "1970-01-01T00:03:03.647153",
          "1970-01-01T00:03:07.863411",
          "1970-01-01T00:03:12.054596",
          "1970-01-01T00:03:14.071047",
          "1970-01-01T00:03:23.994942",
          "1970-01-01T00:03:27.196558",
          "1970-01-01T00:03:28.471265",
          "1970-01-01T00:03:28.587889",
          "1970-01-01T00:03:28.754561"
         ],
         "hovertemplate": "VisitedAOI=%{y}<br>Dwell Start=%{base}<br>Dwell End=%{x}<extra></extra>",
         "legendgroup": "Instructions",
         "marker": {
          "color": "#636efa",
          "pattern": {
           "shape": ""
          }
         },
         "name": "Instructions",
         "offsetgroup": "Instructions",
         "orientation": "h",
         "showlegend": true,
         "textposition": "auto",
         "type": "bar",
         "x": [
          749,
          10257,
          591,
          333,
          424,
          216,
          29163,
          41,
          83,
          25,
          1183,
          366,
          383,
          33,
          1124,
          3799,
          1608,
          3541,
          1591,
          874,
          66,
          108,
          124
         ],
         "xaxis": "x",
         "y": [
          "Instructions",
          "Instructions",
          "Instructions",
          "Instructions",
          "Instructions",
          "Instructions",
          "Instructions",
          "Instructions",
          "Instructions",
          "Instructions",
          "Instructions",
          "Instructions",
          "Instructions",
          "Instructions",
          "Instructions",
          "Instructions",
          "Instructions",
          "Instructions",
          "Instructions",
          "Instructions",
          "Instructions",
          "Instructions",
          "Instructions"
         ],
         "yaxis": "y"
        },
        {
         "alignmentgroup": "True",
         "base": [
          "1970-01-01T00:01:13.351003",
          "1970-01-01T00:01:13.634305"
         ],
         "hovertemplate": "VisitedAOI=%{y}<br>Dwell Start=%{base}<br>Dwell End=%{x}<extra></extra>",
         "legendgroup": "Online",
         "marker": {
          "color": "#EF553B",
          "pattern": {
           "shape": ""
          }
         },
         "name": "Online",
         "offsetgroup": "Online",
         "orientation": "h",
         "showlegend": true,
         "textposition": "auto",
         "type": "bar",
         "x": [
          266,
          341
         ],
         "xaxis": "x",
         "y": [
          "Online",
          "Online"
         ],
         "yaxis": "y"
        },
        {
         "alignmentgroup": "True",
         "base": [
          "1970-01-01T00:00:11.382898",
          "1970-01-01T00:01:16.567331",
          "1970-01-01T00:01:18.067146",
          "1970-01-01T00:01:19.067062",
          "1970-01-01T00:01:20.050291",
          "1970-01-01T00:01:22.083436",
          "1970-01-01T00:01:22.533332",
          "1970-01-01T00:01:25.849628",
          "1970-01-01T00:01:31.840667",
          "1970-01-01T00:01:37.531675",
          "1970-01-01T00:01:39.264816",
          "1970-01-01T00:01:40.131416",
          "1970-01-01T00:02:51.390213",
          "1970-01-01T00:03:18.612217",
          "1970-01-01T00:03:21.053606",
          "1970-01-01T00:03:21.845171"
         ],
         "hovertemplate": "VisitedAOI=%{y}<br>Dwell Start=%{base}<br>Dwell End=%{x}<extra></extra>",
         "legendgroup": "Participants_Overview",
         "marker": {
          "color": "#00cc96",
          "pattern": {
           "shape": ""
          }
         },
         "name": "Participants_Overview",
         "offsetgroup": "Participants_Overview",
         "orientation": "h",
         "showlegend": true,
         "textposition": "auto",
         "type": "bar",
         "x": [
          3724,
          558,
          824,
          208,
          1749,
          283,
          758,
          149,
          224,
          208,
          699,
          3232,
          983,
          383,
          658,
          175
         ],
         "xaxis": "x",
         "y": [
          "Participants_Overview",
          "Participants_Overview",
          "Participants_Overview",
          "Participants_Overview",
          "Participants_Overview",
          "Participants_Overview",
          "Participants_Overview",
          "Participants_Overview",
          "Participants_Overview",
          "Participants_Overview",
          "Participants_Overview",
          "Participants_Overview",
          "Participants_Overview",
          "Participants_Overview",
          "Participants_Overview",
          "Participants_Overview"
         ],
         "yaxis": "y"
        },
        {
         "alignmentgroup": "True",
         "base": [
          "1970-01-01T00:01:09.793090",
          "1970-01-01T00:01:09.968096",
          "1970-01-01T00:01:55.754711"
         ],
         "hovertemplate": "VisitedAOI=%{y}<br>Dwell Start=%{base}<br>Dwell End=%{x}<extra></extra>",
         "legendgroup": "Participant_Bio",
         "marker": {
          "color": "#ab63fa",
          "pattern": {
           "shape": ""
          }
         },
         "name": "Participant_Bio",
         "offsetgroup": "Participant_Bio",
         "orientation": "h",
         "showlegend": true,
         "textposition": "auto",
         "type": "bar",
         "x": [
          149,
          3357,
          1691
         ],
         "xaxis": "x",
         "y": [
          "Participant_Bio",
          "Participant_Bio",
          "Participant_Bio"
         ],
         "yaxis": "y"
        },
        {
         "alignmentgroup": "True",
         "base": [
          "1970-01-01T00:01:07.276710",
          "1970-01-01T00:01:08.101612",
          "1970-01-01T00:01:57.546132"
         ],
         "hovertemplate": "VisitedAOI=%{y}<br>Dwell Start=%{base}<br>Dwell End=%{x}<extra></extra>",
         "legendgroup": "Participant_Profile_Picture",
         "marker": {
          "color": "#FFA15A",
          "pattern": {
           "shape": ""
          }
         },
         "name": "Participant_Profile_Picture",
         "offsetgroup": "Participant_Profile_Picture",
         "orientation": "h",
         "showlegend": true,
         "textposition": "auto",
         "type": "bar",
         "x": [
          299,
          583,
          1074
         ],
         "xaxis": "x",
         "y": [
          "Participant_Profile_Picture",
          "Participant_Profile_Picture",
          "Participant_Profile_Picture"
         ],
         "yaxis": "y"
        },
        {
         "alignmentgroup": "True",
         "base": [
          "1970-01-01T00:01:14.459213"
         ],
         "hovertemplate": "VisitedAOI=%{y}<br>Dwell Start=%{base}<br>Dwell End=%{x}<extra></extra>",
         "legendgroup": "Place",
         "marker": {
          "color": "#19d3f3",
          "pattern": {
           "shape": ""
          }
         },
         "name": "Place",
         "offsetgroup": "Place",
         "orientation": "h",
         "showlegend": true,
         "textposition": "auto",
         "type": "bar",
         "x": [
          508
         ],
         "xaxis": "x",
         "y": [
          "Place"
         ],
         "yaxis": "y"
        },
        {
         "alignmentgroup": "True",
         "base": [
          "1970-01-01T00:00:00.117453",
          "1970-01-01T00:00:36.630095",
          "1970-01-01T00:00:40.571300",
          "1970-01-01T00:00:43.054410",
          "1970-01-01T00:00:46.745638",
          "1970-01-01T00:00:50.511904",
          "1970-01-01T00:01:27.124547",
          "1970-01-01T00:01:51.496803",
          "1970-01-01T00:02:03.762139",
          "1970-01-01T00:03:07.221770"
         ],
         "hovertemplate": "VisitedAOI=%{y}<br>Dwell Start=%{base}<br>Dwell End=%{x}<extra></extra>",
         "legendgroup": "Responsabilities",
         "marker": {
          "color": "#FF6692",
          "pattern": {
           "shape": ""
          }
         },
         "name": "Responsabilities",
         "offsetgroup": "Responsabilities",
         "orientation": "h",
         "showlegend": true,
         "textposition": "auto",
         "type": "bar",
         "x": [
          258,
          599,
          574,
          758,
          291,
          283,
          124,
          124,
          224,
          124
         ],
         "xaxis": "x",
         "y": [
          "Responsabilities",
          "Responsabilities",
          "Responsabilities",
          "Responsabilities",
          "Responsabilities",
          "Responsabilities",
          "Responsabilities",
          "Responsabilities",
          "Responsabilities",
          "Responsabilities"
         ],
         "yaxis": "y"
        },
        {
         "alignmentgroup": "True",
         "base": [
          "1970-01-01T00:01:14.967523"
         ],
         "hovertemplate": "VisitedAOI=%{y}<br>Dwell Start=%{base}<br>Dwell End=%{x}<extra></extra>",
         "legendgroup": "Status",
         "marker": {
          "color": "#B6E880",
          "pattern": {
           "shape": ""
          }
         },
         "name": "Status",
         "offsetgroup": "Status",
         "orientation": "h",
         "showlegend": true,
         "textposition": "auto",
         "type": "bar",
         "x": [
          324
         ],
         "xaxis": "x",
         "y": [
          "Status"
         ],
         "yaxis": "y"
        },
        {
         "alignmentgroup": "True",
         "base": [
          "1970-01-01T00:01:14.000933"
         ],
         "hovertemplate": "VisitedAOI=%{y}<br>Dwell Start=%{base}<br>Dwell End=%{x}<extra></extra>",
         "legendgroup": "Verified",
         "marker": {
          "color": "#FF97FF",
          "pattern": {
           "shape": ""
          }
         },
         "name": "Verified",
         "offsetgroup": "Verified",
         "orientation": "h",
         "showlegend": true,
         "textposition": "auto",
         "type": "bar",
         "x": [
          458
         ],
         "xaxis": "x",
         "y": [
          "Verified"
         ],
         "yaxis": "y"
        }
       ],
       "layout": {
        "barmode": "overlay",
        "legend": {
         "title": {
          "text": "VisitedAOI"
         },
         "tracegroupgap": 0
        },
        "template": {
         "data": {
          "bar": [
           {
            "error_x": {
             "color": "#2a3f5f"
            },
            "error_y": {
             "color": "#2a3f5f"
            },
            "marker": {
             "line": {
              "color": "#E5ECF6",
              "width": 0.5
             },
             "pattern": {
              "fillmode": "overlay",
              "size": 10,
              "solidity": 0.2
             }
            },
            "type": "bar"
           }
          ],
          "barpolar": [
           {
            "marker": {
             "line": {
              "color": "#E5ECF6",
              "width": 0.5
             },
             "pattern": {
              "fillmode": "overlay",
              "size": 10,
              "solidity": 0.2
             }
            },
            "type": "barpolar"
           }
          ],
          "carpet": [
           {
            "aaxis": {
             "endlinecolor": "#2a3f5f",
             "gridcolor": "white",
             "linecolor": "white",
             "minorgridcolor": "white",
             "startlinecolor": "#2a3f5f"
            },
            "baxis": {
             "endlinecolor": "#2a3f5f",
             "gridcolor": "white",
             "linecolor": "white",
             "minorgridcolor": "white",
             "startlinecolor": "#2a3f5f"
            },
            "type": "carpet"
           }
          ],
          "choropleth": [
           {
            "colorbar": {
             "outlinewidth": 0,
             "ticks": ""
            },
            "type": "choropleth"
           }
          ],
          "contour": [
           {
            "colorbar": {
             "outlinewidth": 0,
             "ticks": ""
            },
            "colorscale": [
             [
              0,
              "#0d0887"
             ],
             [
              0.1111111111111111,
              "#46039f"
             ],
             [
              0.2222222222222222,
              "#7201a8"
             ],
             [
              0.3333333333333333,
              "#9c179e"
             ],
             [
              0.4444444444444444,
              "#bd3786"
             ],
             [
              0.5555555555555556,
              "#d8576b"
             ],
             [
              0.6666666666666666,
              "#ed7953"
             ],
             [
              0.7777777777777778,
              "#fb9f3a"
             ],
             [
              0.8888888888888888,
              "#fdca26"
             ],
             [
              1,
              "#f0f921"
             ]
            ],
            "type": "contour"
           }
          ],
          "contourcarpet": [
           {
            "colorbar": {
             "outlinewidth": 0,
             "ticks": ""
            },
            "type": "contourcarpet"
           }
          ],
          "heatmap": [
           {
            "colorbar": {
             "outlinewidth": 0,
             "ticks": ""
            },
            "colorscale": [
             [
              0,
              "#0d0887"
             ],
             [
              0.1111111111111111,
              "#46039f"
             ],
             [
              0.2222222222222222,
              "#7201a8"
             ],
             [
              0.3333333333333333,
              "#9c179e"
             ],
             [
              0.4444444444444444,
              "#bd3786"
             ],
             [
              0.5555555555555556,
              "#d8576b"
             ],
             [
              0.6666666666666666,
              "#ed7953"
             ],
             [
              0.7777777777777778,
              "#fb9f3a"
             ],
             [
              0.8888888888888888,
              "#fdca26"
             ],
             [
              1,
              "#f0f921"
             ]
            ],
            "type": "heatmap"
           }
          ],
          "heatmapgl": [
           {
            "colorbar": {
             "outlinewidth": 0,
             "ticks": ""
            },
            "colorscale": [
             [
              0,
              "#0d0887"
             ],
             [
              0.1111111111111111,
              "#46039f"
             ],
             [
              0.2222222222222222,
              "#7201a8"
             ],
             [
              0.3333333333333333,
              "#9c179e"
             ],
             [
              0.4444444444444444,
              "#bd3786"
             ],
             [
              0.5555555555555556,
              "#d8576b"
             ],
             [
              0.6666666666666666,
              "#ed7953"
             ],
             [
              0.7777777777777778,
              "#fb9f3a"
             ],
             [
              0.8888888888888888,
              "#fdca26"
             ],
             [
              1,
              "#f0f921"
             ]
            ],
            "type": "heatmapgl"
           }
          ],
          "histogram": [
           {
            "marker": {
             "pattern": {
              "fillmode": "overlay",
              "size": 10,
              "solidity": 0.2
             }
            },
            "type": "histogram"
           }
          ],
          "histogram2d": [
           {
            "colorbar": {
             "outlinewidth": 0,
             "ticks": ""
            },
            "colorscale": [
             [
              0,
              "#0d0887"
             ],
             [
              0.1111111111111111,
              "#46039f"
             ],
             [
              0.2222222222222222,
              "#7201a8"
             ],
             [
              0.3333333333333333,
              "#9c179e"
             ],
             [
              0.4444444444444444,
              "#bd3786"
             ],
             [
              0.5555555555555556,
              "#d8576b"
             ],
             [
              0.6666666666666666,
              "#ed7953"
             ],
             [
              0.7777777777777778,
              "#fb9f3a"
             ],
             [
              0.8888888888888888,
              "#fdca26"
             ],
             [
              1,
              "#f0f921"
             ]
            ],
            "type": "histogram2d"
           }
          ],
          "histogram2dcontour": [
           {
            "colorbar": {
             "outlinewidth": 0,
             "ticks": ""
            },
            "colorscale": [
             [
              0,
              "#0d0887"
             ],
             [
              0.1111111111111111,
              "#46039f"
             ],
             [
              0.2222222222222222,
              "#7201a8"
             ],
             [
              0.3333333333333333,
              "#9c179e"
             ],
             [
              0.4444444444444444,
              "#bd3786"
             ],
             [
              0.5555555555555556,
              "#d8576b"
             ],
             [
              0.6666666666666666,
              "#ed7953"
             ],
             [
              0.7777777777777778,
              "#fb9f3a"
             ],
             [
              0.8888888888888888,
              "#fdca26"
             ],
             [
              1,
              "#f0f921"
             ]
            ],
            "type": "histogram2dcontour"
           }
          ],
          "mesh3d": [
           {
            "colorbar": {
             "outlinewidth": 0,
             "ticks": ""
            },
            "type": "mesh3d"
           }
          ],
          "parcoords": [
           {
            "line": {
             "colorbar": {
              "outlinewidth": 0,
              "ticks": ""
             }
            },
            "type": "parcoords"
           }
          ],
          "pie": [
           {
            "automargin": true,
            "type": "pie"
           }
          ],
          "scatter": [
           {
            "fillpattern": {
             "fillmode": "overlay",
             "size": 10,
             "solidity": 0.2
            },
            "type": "scatter"
           }
          ],
          "scatter3d": [
           {
            "line": {
             "colorbar": {
              "outlinewidth": 0,
              "ticks": ""
             }
            },
            "marker": {
             "colorbar": {
              "outlinewidth": 0,
              "ticks": ""
             }
            },
            "type": "scatter3d"
           }
          ],
          "scattercarpet": [
           {
            "marker": {
             "colorbar": {
              "outlinewidth": 0,
              "ticks": ""
             }
            },
            "type": "scattercarpet"
           }
          ],
          "scattergeo": [
           {
            "marker": {
             "colorbar": {
              "outlinewidth": 0,
              "ticks": ""
             }
            },
            "type": "scattergeo"
           }
          ],
          "scattergl": [
           {
            "marker": {
             "colorbar": {
              "outlinewidth": 0,
              "ticks": ""
             }
            },
            "type": "scattergl"
           }
          ],
          "scattermapbox": [
           {
            "marker": {
             "colorbar": {
              "outlinewidth": 0,
              "ticks": ""
             }
            },
            "type": "scattermapbox"
           }
          ],
          "scatterpolar": [
           {
            "marker": {
             "colorbar": {
              "outlinewidth": 0,
              "ticks": ""
             }
            },
            "type": "scatterpolar"
           }
          ],
          "scatterpolargl": [
           {
            "marker": {
             "colorbar": {
              "outlinewidth": 0,
              "ticks": ""
             }
            },
            "type": "scatterpolargl"
           }
          ],
          "scatterternary": [
           {
            "marker": {
             "colorbar": {
              "outlinewidth": 0,
              "ticks": ""
             }
            },
            "type": "scatterternary"
           }
          ],
          "surface": [
           {
            "colorbar": {
             "outlinewidth": 0,
             "ticks": ""
            },
            "colorscale": [
             [
              0,
              "#0d0887"
             ],
             [
              0.1111111111111111,
              "#46039f"
             ],
             [
              0.2222222222222222,
              "#7201a8"
             ],
             [
              0.3333333333333333,
              "#9c179e"
             ],
             [
              0.4444444444444444,
              "#bd3786"
             ],
             [
              0.5555555555555556,
              "#d8576b"
             ],
             [
              0.6666666666666666,
              "#ed7953"
             ],
             [
              0.7777777777777778,
              "#fb9f3a"
             ],
             [
              0.8888888888888888,
              "#fdca26"
             ],
             [
              1,
              "#f0f921"
             ]
            ],
            "type": "surface"
           }
          ],
          "table": [
           {
            "cells": {
             "fill": {
              "color": "#EBF0F8"
             },
             "line": {
              "color": "white"
             }
            },
            "header": {
             "fill": {
              "color": "#C8D4E3"
             },
             "line": {
              "color": "white"
             }
            },
            "type": "table"
           }
          ]
         },
         "layout": {
          "annotationdefaults": {
           "arrowcolor": "#2a3f5f",
           "arrowhead": 0,
           "arrowwidth": 1
          },
          "autotypenumbers": "strict",
          "coloraxis": {
           "colorbar": {
            "outlinewidth": 0,
            "ticks": ""
           }
          },
          "colorscale": {
           "diverging": [
            [
             0,
             "#8e0152"
            ],
            [
             0.1,
             "#c51b7d"
            ],
            [
             0.2,
             "#de77ae"
            ],
            [
             0.3,
             "#f1b6da"
            ],
            [
             0.4,
             "#fde0ef"
            ],
            [
             0.5,
             "#f7f7f7"
            ],
            [
             0.6,
             "#e6f5d0"
            ],
            [
             0.7,
             "#b8e186"
            ],
            [
             0.8,
             "#7fbc41"
            ],
            [
             0.9,
             "#4d9221"
            ],
            [
             1,
             "#276419"
            ]
           ],
           "sequential": [
            [
             0,
             "#0d0887"
            ],
            [
             0.1111111111111111,
             "#46039f"
            ],
            [
             0.2222222222222222,
             "#7201a8"
            ],
            [
             0.3333333333333333,
             "#9c179e"
            ],
            [
             0.4444444444444444,
             "#bd3786"
            ],
            [
             0.5555555555555556,
             "#d8576b"
            ],
            [
             0.6666666666666666,
             "#ed7953"
            ],
            [
             0.7777777777777778,
             "#fb9f3a"
            ],
            [
             0.8888888888888888,
             "#fdca26"
            ],
            [
             1,
             "#f0f921"
            ]
           ],
           "sequentialminus": [
            [
             0,
             "#0d0887"
            ],
            [
             0.1111111111111111,
             "#46039f"
            ],
            [
             0.2222222222222222,
             "#7201a8"
            ],
            [
             0.3333333333333333,
             "#9c179e"
            ],
            [
             0.4444444444444444,
             "#bd3786"
            ],
            [
             0.5555555555555556,
             "#d8576b"
            ],
            [
             0.6666666666666666,
             "#ed7953"
            ],
            [
             0.7777777777777778,
             "#fb9f3a"
            ],
            [
             0.8888888888888888,
             "#fdca26"
            ],
            [
             1,
             "#f0f921"
            ]
           ]
          },
          "colorway": [
           "#636efa",
           "#EF553B",
           "#00cc96",
           "#ab63fa",
           "#FFA15A",
           "#19d3f3",
           "#FF6692",
           "#B6E880",
           "#FF97FF",
           "#FECB52"
          ],
          "font": {
           "color": "#2a3f5f"
          },
          "geo": {
           "bgcolor": "white",
           "lakecolor": "white",
           "landcolor": "#E5ECF6",
           "showlakes": true,
           "showland": true,
           "subunitcolor": "white"
          },
          "hoverlabel": {
           "align": "left"
          },
          "hovermode": "closest",
          "mapbox": {
           "style": "light"
          },
          "paper_bgcolor": "white",
          "plot_bgcolor": "#E5ECF6",
          "polar": {
           "angularaxis": {
            "gridcolor": "white",
            "linecolor": "white",
            "ticks": ""
           },
           "bgcolor": "#E5ECF6",
           "radialaxis": {
            "gridcolor": "white",
            "linecolor": "white",
            "ticks": ""
           }
          },
          "scene": {
           "xaxis": {
            "backgroundcolor": "#E5ECF6",
            "gridcolor": "white",
            "gridwidth": 2,
            "linecolor": "white",
            "showbackground": true,
            "ticks": "",
            "zerolinecolor": "white"
           },
           "yaxis": {
            "backgroundcolor": "#E5ECF6",
            "gridcolor": "white",
            "gridwidth": 2,
            "linecolor": "white",
            "showbackground": true,
            "ticks": "",
            "zerolinecolor": "white"
           },
           "zaxis": {
            "backgroundcolor": "#E5ECF6",
            "gridcolor": "white",
            "gridwidth": 2,
            "linecolor": "white",
            "showbackground": true,
            "ticks": "",
            "zerolinecolor": "white"
           }
          },
          "shapedefaults": {
           "line": {
            "color": "#2a3f5f"
           }
          },
          "ternary": {
           "aaxis": {
            "gridcolor": "white",
            "linecolor": "white",
            "ticks": ""
           },
           "baxis": {
            "gridcolor": "white",
            "linecolor": "white",
            "ticks": ""
           },
           "bgcolor": "#E5ECF6",
           "caxis": {
            "gridcolor": "white",
            "linecolor": "white",
            "ticks": ""
           }
          },
          "title": {
           "x": 0.05
          },
          "xaxis": {
           "automargin": true,
           "gridcolor": "white",
           "linecolor": "white",
           "ticks": "",
           "title": {
            "standoff": 15
           },
           "zerolinecolor": "white",
           "zerolinewidth": 2
          },
          "yaxis": {
           "automargin": true,
           "gridcolor": "white",
           "linecolor": "white",
           "ticks": "",
           "title": {
            "standoff": 15
           },
           "zerolinecolor": "white",
           "zerolinewidth": 2
          }
         }
        },
        "title": {
         "text": "Participant: P01"
        },
        "xaxis": {
         "anchor": "y",
         "domain": [
          0,
          1
         ],
         "tickformat": "%Q",
         "type": "date"
        },
        "yaxis": {
         "anchor": "x",
         "categoryarray": [
          "Verified",
          "Status",
          "Responsabilities",
          "Place",
          "Participant_Profile_Picture",
          "Participant_Bio",
          "Participants_Overview",
          "Online",
          "Instructions",
          "Ingredients",
          "Gen_Info",
          "Food",
          "Fav",
          "Description_2",
          "Description_1",
          "Date_Place_2",
          "Date_Place_1",
          "CTA_1",
          "Chat"
         ],
         "categoryorder": "array",
         "domain": [
          0,
          1
         ],
         "title": {
          "text": "VisitedAOI"
         }
        }
       }
      },
      "text/html": [
       "<div>                            <div id=\"24894807-9a24-444e-9909-18b3cf4be33f\" class=\"plotly-graph-div\" style=\"height:525px; width:100%;\"></div>            <script type=\"text/javascript\">                require([\"plotly\"], function(Plotly) {                    window.PLOTLYENV=window.PLOTLYENV || {};                                    if (document.getElementById(\"24894807-9a24-444e-9909-18b3cf4be33f\")) {                    Plotly.newPlot(                        \"24894807-9a24-444e-9909-18b3cf4be33f\",                        [{\"alignmentgroup\":\"True\",\"base\":[\"1970-01-01T00:01:09.409789\"],\"hovertemplate\":\"VisitedAOI=%{y}<br>Dwell Start=%{base}<br>Dwell End=%{x}<extra></extra>\",\"legendgroup\":\"Chat\",\"marker\":{\"color\":\"#636efa\",\"pattern\":{\"shape\":\"\"}},\"name\":\"Chat\",\"offsetgroup\":\"Chat\",\"orientation\":\"h\",\"showlegend\":true,\"textposition\":\"auto\",\"x\":[316.0],\"xaxis\":\"x\",\"y\":[\"Chat\"],\"yaxis\":\"y\",\"type\":\"bar\"},{\"alignmentgroup\":\"True\",\"base\":[\"1970-01-01T00:00:00.742406\",\"1970-01-01T00:00:06.425090\",\"1970-01-01T00:01:24.166502\",\"1970-01-01T00:01:44.139262\",\"1970-01-01T00:01:46.547351\",\"1970-01-01T00:03:20.295365\"],\"hovertemplate\":\"VisitedAOI=%{y}<br>Dwell Start=%{base}<br>Dwell End=%{x}<extra></extra>\",\"legendgroup\":\"CTA_1\",\"marker\":{\"color\":\"#EF553B\",\"pattern\":{\"shape\":\"\"}},\"name\":\"CTA_1\",\"offsetgroup\":\"CTA_1\",\"orientation\":\"h\",\"showlegend\":true,\"textposition\":\"auto\",\"x\":[358.0,791.0,324.0,141.0,316.0,216.0],\"xaxis\":\"x\",\"y\":[\"CTA_1\",\"CTA_1\",\"CTA_1\",\"CTA_1\",\"CTA_1\",\"CTA_1\"],\"yaxis\":\"y\",\"type\":\"bar\"},{\"alignmentgroup\":\"True\",\"base\":[\"1970-01-01T00:00:15.140828\",\"1970-01-01T00:00:17.590573\",\"1970-01-01T00:00:17.865550\",\"1970-01-01T00:00:20.506884\",\"1970-01-01T00:00:20.656854\",\"1970-01-01T00:01:17.908863\",\"1970-01-01T00:01:21.800077\",\"1970-01-01T00:01:28.807621\",\"1970-01-01T00:01:30.907408\",\"1970-01-01T00:01:37.806643\",\"1970-01-01T00:01:38.456617\",\"1970-01-01T00:01:47.180598\",\"1970-01-01T00:01:47.388900\",\"1970-01-01T00:03:18.170608\",\"1970-01-01T00:03:22.228495\"],\"hovertemplate\":\"VisitedAOI=%{y}<br>Dwell Start=%{base}<br>Dwell End=%{x}<extra></extra>\",\"legendgroup\":\"Date_Place_1\",\"marker\":{\"color\":\"#00cc96\",\"pattern\":{\"shape\":\"\"}},\"name\":\"Date_Place_1\",\"offsetgroup\":\"Date_Place_1\",\"orientation\":\"h\",\"showlegend\":true,\"textposition\":\"auto\",\"x\":[2191.0,33.0,2524.0,25.0,633.0,58.0,283.0,1858.0,933.0,341.0,766.0,24.0,1366.0,408.0,549.0],\"xaxis\":\"x\",\"y\":[\"Date_Place_1\",\"Date_Place_1\",\"Date_Place_1\",\"Date_Place_1\",\"Date_Place_1\",\"Date_Place_1\",\"Date_Place_1\",\"Date_Place_1\",\"Date_Place_1\",\"Date_Place_1\",\"Date_Place_1\",\"Date_Place_1\",\"Date_Place_1\",\"Date_Place_1\",\"Date_Place_1\"],\"yaxis\":\"y\",\"type\":\"bar\"},{\"alignmentgroup\":\"True\",\"base\":[\"1970-01-01T00:01:27.782749\",\"1970-01-01T00:01:28.391012\",\"1970-01-01T00:01:36.998433\",\"1970-01-01T00:01:52.380061\"],\"hovertemplate\":\"VisitedAOI=%{y}<br>Dwell Start=%{base}<br>Dwell End=%{x}<extra></extra>\",\"legendgroup\":\"Date_Place_2\",\"marker\":{\"color\":\"#ab63fa\",\"pattern\":{\"shape\":\"\"}},\"name\":\"Date_Place_2\",\"offsetgroup\":\"Date_Place_2\",\"orientation\":\"h\",\"showlegend\":true,\"textposition\":\"auto\",\"x\":[433.0,341.0,474.0,216.0],\"xaxis\":\"x\",\"y\":[\"Date_Place_2\",\"Date_Place_2\",\"Date_Place_2\",\"Date_Place_2\"],\"yaxis\":\"y\",\"type\":\"bar\"},{\"alignmentgroup\":\"True\",\"base\":[\"1970-01-01T00:00:21.373473\",\"1970-01-01T00:01:17.208918\",\"1970-01-01T00:01:38.148286\",\"1970-01-01T00:01:47.322241\",\"1970-01-01T00:03:17.729015\",\"1970-01-01T00:03:22.778483\",\"1970-01-01T00:03:23.111720\"],\"hovertemplate\":\"VisitedAOI=%{y}<br>Dwell Start=%{base}<br>Dwell End=%{x}<extra></extra>\",\"legendgroup\":\"Description_1\",\"marker\":{\"color\":\"#FFA15A\",\"pattern\":{\"shape\":\"\"}},\"name\":\"Description_1\",\"offsetgroup\":\"Description_1\",\"orientation\":\"h\",\"showlegend\":true,\"textposition\":\"auto\",\"x\":[1724.0,699.0,283.0,16.0,383.0,283.0,841.0],\"xaxis\":\"x\",\"y\":[\"Description_1\",\"Description_1\",\"Description_1\",\"Description_1\",\"Description_1\",\"Description_1\",\"Description_1\"],\"yaxis\":\"y\",\"type\":\"bar\"},{\"alignmentgroup\":\"True\",\"base\":[\"1970-01-01T00:00:23.598207\",\"1970-01-01T00:01:27.291175\",\"1970-01-01T00:01:36.173517\",\"1970-01-01T00:01:36.265161\",\"1970-01-01T00:01:51.830114\",\"1970-01-01T00:01:52.596676\",\"1970-01-01T00:02:05.378618\",\"1970-01-01T00:02:57.539523\",\"1970-01-01T00:02:59.064386\"],\"hovertemplate\":\"VisitedAOI=%{y}<br>Dwell Start=%{base}<br>Dwell End=%{x}<extra></extra>\",\"legendgroup\":\"Description_2\",\"marker\":{\"color\":\"#19d3f3\",\"pattern\":{\"shape\":\"\"}},\"name\":\"Description_2\",\"offsetgroup\":\"Description_2\",\"orientation\":\"h\",\"showlegend\":true,\"textposition\":\"auto\",\"x\":[11207.0,474.0,83.0,574.0,533.0,2941.0,4141.0,741.0,4307.0],\"xaxis\":\"x\",\"y\":[\"Description_2\",\"Description_2\",\"Description_2\",\"Description_2\",\"Description_2\",\"Description_2\",\"Description_2\",\"Description_2\",\"Description_2\"],\"yaxis\":\"y\",\"type\":\"bar\"},{\"alignmentgroup\":\"True\",\"base\":[\"1970-01-01T00:01:08.684879\"],\"hovertemplate\":\"VisitedAOI=%{y}<br>Dwell Start=%{base}<br>Dwell End=%{x}<extra></extra>\",\"legendgroup\":\"Fav\",\"marker\":{\"color\":\"#FF6692\",\"pattern\":{\"shape\":\"\"}},\"name\":\"Fav\",\"offsetgroup\":\"Fav\",\"orientation\":\"h\",\"showlegend\":true,\"textposition\":\"auto\",\"x\":[724.0],\"xaxis\":\"x\",\"y\":[\"Fav\"],\"yaxis\":\"y\",\"type\":\"bar\"},{\"alignmentgroup\":\"True\",\"base\":[\"1970-01-01T00:00:01.200701\",\"1970-01-01T00:00:01.783940\",\"1970-01-01T00:00:03.658723\",\"1970-01-01T00:00:04.525318\",\"1970-01-01T00:00:05.666830\",\"1970-01-01T00:01:24.524766\",\"1970-01-01T00:01:25.366339\",\"1970-01-01T00:01:43.955990\",\"1970-01-01T00:01:44.280926\",\"1970-01-01T00:03:19.153819\",\"1970-01-01T00:03:20.511998\"],\"hovertemplate\":\"VisitedAOI=%{y}<br>Dwell Start=%{base}<br>Dwell End=%{x}<extra></extra>\",\"legendgroup\":\"Food\",\"marker\":{\"color\":\"#B6E880\",\"pattern\":{\"shape\":\"\"}},\"name\":\"Food\",\"offsetgroup\":\"Food\",\"orientation\":\"h\",\"showlegend\":true,\"textposition\":\"auto\",\"x\":[366.0,549.0,208.0,366.0,708.0,366.0,474.0,149.0,2266.0,1141.0,333.0],\"xaxis\":\"x\",\"y\":[\"Food\",\"Food\",\"Food\",\"Food\",\"Food\",\"Food\",\"Food\",\"Food\",\"Food\",\"Food\",\"Food\"],\"yaxis\":\"y\",\"type\":\"bar\"},{\"alignmentgroup\":\"True\",\"base\":[\"1970-01-01T00:00:07.216677\",\"1970-01-01T00:00:08.049900\",\"1970-01-01T00:00:08.649879\",\"1970-01-01T00:00:09.058128\",\"1970-01-01T00:01:19.275377\",\"1970-01-01T00:01:23.291614\",\"1970-01-01T00:01:39.964735\",\"1970-01-01T00:01:43.364365\",\"1970-01-01T00:01:46.863984\",\"1970-01-01T00:02:52.373442\",\"1970-01-01T00:03:18.995496\"],\"hovertemplate\":\"VisitedAOI=%{y}<br>Dwell Start=%{base}<br>Dwell End=%{x}<extra></extra>\",\"legendgroup\":\"Gen_Info\",\"marker\":{\"color\":\"#FF97FF\",\"pattern\":{\"shape\":\"\"}},\"name\":\"Gen_Info\",\"offsetgroup\":\"Gen_Info\",\"orientation\":\"h\",\"showlegend\":true,\"textposition\":\"auto\",\"x\":[808.0,524.0,341.0,2324.0,774.0,874.0,166.0,558.0,258.0,4774.0,124.0],\"xaxis\":\"x\",\"y\":[\"Gen_Info\",\"Gen_Info\",\"Gen_Info\",\"Gen_Info\",\"Gen_Info\",\"Gen_Info\",\"Gen_Info\",\"Gen_Info\",\"Gen_Info\",\"Gen_Info\",\"Gen_Info\"],\"yaxis\":\"y\",\"type\":\"bar\"},{\"alignmentgroup\":\"True\",\"base\":[\"1970-01-01T00:00:34.805301\",\"1970-01-01T00:00:35.755188\",\"1970-01-01T00:00:37.230003\",\"1970-01-01T00:00:41.146245\",\"1970-01-01T00:00:43.812620\",\"1970-01-01T00:00:47.037319\",\"1970-01-01T00:00:50.836860\",\"1970-01-01T00:00:54.353143\",\"1970-01-01T00:01:15.959056\",\"1970-01-01T00:01:26.266301\",\"1970-01-01T00:01:27.057832\",\"1970-01-01T00:01:32.532227\",\"1970-01-01T00:01:36.131850\",\"1970-01-01T00:01:49.472031\",\"1970-01-01T00:01:50.605232\",\"1970-01-01T00:01:51.630110\",\"1970-01-01T00:02:01.837363\",\"1970-01-01T00:02:03.987125\",\"1970-01-01T00:02:42.874447\",\"1970-01-01T00:02:44.132678\",\"1970-01-01T00:02:58.339439\",\"1970-01-01T00:03:04.772043\",\"1970-01-01T00:03:07.346750\"],\"hovertemplate\":\"VisitedAOI=%{y}<br>Dwell Start=%{base}<br>Dwell End=%{x}<extra></extra>\",\"legendgroup\":\"Ingredients\",\"marker\":{\"color\":\"#FECB52\",\"pattern\":{\"shape\":\"\"}},\"name\":\"Ingredients\",\"offsetgroup\":\"Ingredients\",\"orientation\":\"h\",\"showlegend\":true,\"textposition\":\"auto\",\"x\":[933.0,291.0,3307.0,1908.0,2899.0,3474.0,2733.0,2508.0,558.0,149.0,41.0,3216.0,41.0,899.0,891.0,200.0,1924.0,1391.0,824.0,6874.0,674.0,2449.0,508.0],\"xaxis\":\"x\",\"y\":[\"Ingredients\",\"Ingredients\",\"Ingredients\",\"Ingredients\",\"Ingredients\",\"Ingredients\",\"Ingredients\",\"Ingredients\",\"Ingredients\",\"Ingredients\",\"Ingredients\",\"Ingredients\",\"Ingredients\",\"Ingredients\",\"Ingredients\",\"Ingredients\",\"Ingredients\",\"Ingredients\",\"Ingredients\",\"Ingredients\",\"Ingredients\",\"Ingredients\",\"Ingredients\"],\"yaxis\":\"y\",\"type\":\"bar\"},{\"alignmentgroup\":\"True\",\"base\":[\"1970-01-01T00:00:53.603217\",\"1970-01-01T00:00:57.019513\",\"1970-01-01T00:01:15.367454\",\"1970-01-01T00:01:35.798565\",\"1970-01-01T00:01:49.030404\",\"1970-01-01T00:01:50.371929\",\"1970-01-01T00:02:09.569823\",\"1970-01-01T00:02:38.874894\",\"1970-01-01T00:02:39.216520\",\"1970-01-01T00:02:39.574796\",\"1970-01-01T00:02:41.107996\",\"1970-01-01T00:02:42.332847\",\"1970-01-01T00:02:51.006886\",\"1970-01-01T00:03:03.447227\",\"1970-01-01T00:03:03.647153\",\"1970-01-01T00:03:07.863411\",\"1970-01-01T00:03:12.054596\",\"1970-01-01T00:03:14.071047\",\"1970-01-01T00:03:23.994942\",\"1970-01-01T00:03:27.196558\",\"1970-01-01T00:03:28.471265\",\"1970-01-01T00:03:28.587889\",\"1970-01-01T00:03:28.754561\"],\"hovertemplate\":\"VisitedAOI=%{y}<br>Dwell Start=%{base}<br>Dwell End=%{x}<extra></extra>\",\"legendgroup\":\"Instructions\",\"marker\":{\"color\":\"#636efa\",\"pattern\":{\"shape\":\"\"}},\"name\":\"Instructions\",\"offsetgroup\":\"Instructions\",\"orientation\":\"h\",\"showlegend\":true,\"textposition\":\"auto\",\"x\":[749.0,10257.0,591.0,333.0,424.0,216.0,29163.0,41.0,83.0,25.0,1183.0,366.0,383.0,33.0,1124.0,3799.0,1608.0,3541.0,1591.0,874.0,66.0,108.0,124.0],\"xaxis\":\"x\",\"y\":[\"Instructions\",\"Instructions\",\"Instructions\",\"Instructions\",\"Instructions\",\"Instructions\",\"Instructions\",\"Instructions\",\"Instructions\",\"Instructions\",\"Instructions\",\"Instructions\",\"Instructions\",\"Instructions\",\"Instructions\",\"Instructions\",\"Instructions\",\"Instructions\",\"Instructions\",\"Instructions\",\"Instructions\",\"Instructions\",\"Instructions\"],\"yaxis\":\"y\",\"type\":\"bar\"},{\"alignmentgroup\":\"True\",\"base\":[\"1970-01-01T00:01:13.351003\",\"1970-01-01T00:01:13.634305\"],\"hovertemplate\":\"VisitedAOI=%{y}<br>Dwell Start=%{base}<br>Dwell End=%{x}<extra></extra>\",\"legendgroup\":\"Online\",\"marker\":{\"color\":\"#EF553B\",\"pattern\":{\"shape\":\"\"}},\"name\":\"Online\",\"offsetgroup\":\"Online\",\"orientation\":\"h\",\"showlegend\":true,\"textposition\":\"auto\",\"x\":[266.0,341.0],\"xaxis\":\"x\",\"y\":[\"Online\",\"Online\"],\"yaxis\":\"y\",\"type\":\"bar\"},{\"alignmentgroup\":\"True\",\"base\":[\"1970-01-01T00:00:11.382898\",\"1970-01-01T00:01:16.567331\",\"1970-01-01T00:01:18.067146\",\"1970-01-01T00:01:19.067062\",\"1970-01-01T00:01:20.050291\",\"1970-01-01T00:01:22.083436\",\"1970-01-01T00:01:22.533332\",\"1970-01-01T00:01:25.849628\",\"1970-01-01T00:01:31.840667\",\"1970-01-01T00:01:37.531675\",\"1970-01-01T00:01:39.264816\",\"1970-01-01T00:01:40.131416\",\"1970-01-01T00:02:51.390213\",\"1970-01-01T00:03:18.612217\",\"1970-01-01T00:03:21.053606\",\"1970-01-01T00:03:21.845171\"],\"hovertemplate\":\"VisitedAOI=%{y}<br>Dwell Start=%{base}<br>Dwell End=%{x}<extra></extra>\",\"legendgroup\":\"Participants_Overview\",\"marker\":{\"color\":\"#00cc96\",\"pattern\":{\"shape\":\"\"}},\"name\":\"Participants_Overview\",\"offsetgroup\":\"Participants_Overview\",\"orientation\":\"h\",\"showlegend\":true,\"textposition\":\"auto\",\"x\":[3724.0,558.0,824.0,208.0,1749.0,283.0,758.0,149.0,224.0,208.0,699.0,3232.0,983.0,383.0,658.0,175.0],\"xaxis\":\"x\",\"y\":[\"Participants_Overview\",\"Participants_Overview\",\"Participants_Overview\",\"Participants_Overview\",\"Participants_Overview\",\"Participants_Overview\",\"Participants_Overview\",\"Participants_Overview\",\"Participants_Overview\",\"Participants_Overview\",\"Participants_Overview\",\"Participants_Overview\",\"Participants_Overview\",\"Participants_Overview\",\"Participants_Overview\",\"Participants_Overview\"],\"yaxis\":\"y\",\"type\":\"bar\"},{\"alignmentgroup\":\"True\",\"base\":[\"1970-01-01T00:01:09.793090\",\"1970-01-01T00:01:09.968096\",\"1970-01-01T00:01:55.754711\"],\"hovertemplate\":\"VisitedAOI=%{y}<br>Dwell Start=%{base}<br>Dwell End=%{x}<extra></extra>\",\"legendgroup\":\"Participant_Bio\",\"marker\":{\"color\":\"#ab63fa\",\"pattern\":{\"shape\":\"\"}},\"name\":\"Participant_Bio\",\"offsetgroup\":\"Participant_Bio\",\"orientation\":\"h\",\"showlegend\":true,\"textposition\":\"auto\",\"x\":[149.0,3357.0,1691.0],\"xaxis\":\"x\",\"y\":[\"Participant_Bio\",\"Participant_Bio\",\"Participant_Bio\"],\"yaxis\":\"y\",\"type\":\"bar\"},{\"alignmentgroup\":\"True\",\"base\":[\"1970-01-01T00:01:07.276710\",\"1970-01-01T00:01:08.101612\",\"1970-01-01T00:01:57.546132\"],\"hovertemplate\":\"VisitedAOI=%{y}<br>Dwell Start=%{base}<br>Dwell End=%{x}<extra></extra>\",\"legendgroup\":\"Participant_Profile_Picture\",\"marker\":{\"color\":\"#FFA15A\",\"pattern\":{\"shape\":\"\"}},\"name\":\"Participant_Profile_Picture\",\"offsetgroup\":\"Participant_Profile_Picture\",\"orientation\":\"h\",\"showlegend\":true,\"textposition\":\"auto\",\"x\":[299.0,583.0,1074.0],\"xaxis\":\"x\",\"y\":[\"Participant_Profile_Picture\",\"Participant_Profile_Picture\",\"Participant_Profile_Picture\"],\"yaxis\":\"y\",\"type\":\"bar\"},{\"alignmentgroup\":\"True\",\"base\":[\"1970-01-01T00:01:14.459213\"],\"hovertemplate\":\"VisitedAOI=%{y}<br>Dwell Start=%{base}<br>Dwell End=%{x}<extra></extra>\",\"legendgroup\":\"Place\",\"marker\":{\"color\":\"#19d3f3\",\"pattern\":{\"shape\":\"\"}},\"name\":\"Place\",\"offsetgroup\":\"Place\",\"orientation\":\"h\",\"showlegend\":true,\"textposition\":\"auto\",\"x\":[508.0],\"xaxis\":\"x\",\"y\":[\"Place\"],\"yaxis\":\"y\",\"type\":\"bar\"},{\"alignmentgroup\":\"True\",\"base\":[\"1970-01-01T00:00:00.117453\",\"1970-01-01T00:00:36.630095\",\"1970-01-01T00:00:40.571300\",\"1970-01-01T00:00:43.054410\",\"1970-01-01T00:00:46.745638\",\"1970-01-01T00:00:50.511904\",\"1970-01-01T00:01:27.124547\",\"1970-01-01T00:01:51.496803\",\"1970-01-01T00:02:03.762139\",\"1970-01-01T00:03:07.221770\"],\"hovertemplate\":\"VisitedAOI=%{y}<br>Dwell Start=%{base}<br>Dwell End=%{x}<extra></extra>\",\"legendgroup\":\"Responsabilities\",\"marker\":{\"color\":\"#FF6692\",\"pattern\":{\"shape\":\"\"}},\"name\":\"Responsabilities\",\"offsetgroup\":\"Responsabilities\",\"orientation\":\"h\",\"showlegend\":true,\"textposition\":\"auto\",\"x\":[258.0,599.0,574.0,758.0,291.0,283.0,124.0,124.0,224.0,124.0],\"xaxis\":\"x\",\"y\":[\"Responsabilities\",\"Responsabilities\",\"Responsabilities\",\"Responsabilities\",\"Responsabilities\",\"Responsabilities\",\"Responsabilities\",\"Responsabilities\",\"Responsabilities\",\"Responsabilities\"],\"yaxis\":\"y\",\"type\":\"bar\"},{\"alignmentgroup\":\"True\",\"base\":[\"1970-01-01T00:01:14.967523\"],\"hovertemplate\":\"VisitedAOI=%{y}<br>Dwell Start=%{base}<br>Dwell End=%{x}<extra></extra>\",\"legendgroup\":\"Status\",\"marker\":{\"color\":\"#B6E880\",\"pattern\":{\"shape\":\"\"}},\"name\":\"Status\",\"offsetgroup\":\"Status\",\"orientation\":\"h\",\"showlegend\":true,\"textposition\":\"auto\",\"x\":[324.0],\"xaxis\":\"x\",\"y\":[\"Status\"],\"yaxis\":\"y\",\"type\":\"bar\"},{\"alignmentgroup\":\"True\",\"base\":[\"1970-01-01T00:01:14.000933\"],\"hovertemplate\":\"VisitedAOI=%{y}<br>Dwell Start=%{base}<br>Dwell End=%{x}<extra></extra>\",\"legendgroup\":\"Verified\",\"marker\":{\"color\":\"#FF97FF\",\"pattern\":{\"shape\":\"\"}},\"name\":\"Verified\",\"offsetgroup\":\"Verified\",\"orientation\":\"h\",\"showlegend\":true,\"textposition\":\"auto\",\"x\":[458.0],\"xaxis\":\"x\",\"y\":[\"Verified\"],\"yaxis\":\"y\",\"type\":\"bar\"}],                        {\"template\":{\"data\":{\"histogram2dcontour\":[{\"type\":\"histogram2dcontour\",\"colorbar\":{\"outlinewidth\":0,\"ticks\":\"\"},\"colorscale\":[[0.0,\"#0d0887\"],[0.1111111111111111,\"#46039f\"],[0.2222222222222222,\"#7201a8\"],[0.3333333333333333,\"#9c179e\"],[0.4444444444444444,\"#bd3786\"],[0.5555555555555556,\"#d8576b\"],[0.6666666666666666,\"#ed7953\"],[0.7777777777777778,\"#fb9f3a\"],[0.8888888888888888,\"#fdca26\"],[1.0,\"#f0f921\"]]}],\"choropleth\":[{\"type\":\"choropleth\",\"colorbar\":{\"outlinewidth\":0,\"ticks\":\"\"}}],\"histogram2d\":[{\"type\":\"histogram2d\",\"colorbar\":{\"outlinewidth\":0,\"ticks\":\"\"},\"colorscale\":[[0.0,\"#0d0887\"],[0.1111111111111111,\"#46039f\"],[0.2222222222222222,\"#7201a8\"],[0.3333333333333333,\"#9c179e\"],[0.4444444444444444,\"#bd3786\"],[0.5555555555555556,\"#d8576b\"],[0.6666666666666666,\"#ed7953\"],[0.7777777777777778,\"#fb9f3a\"],[0.8888888888888888,\"#fdca26\"],[1.0,\"#f0f921\"]]}],\"heatmap\":[{\"type\":\"heatmap\",\"colorbar\":{\"outlinewidth\":0,\"ticks\":\"\"},\"colorscale\":[[0.0,\"#0d0887\"],[0.1111111111111111,\"#46039f\"],[0.2222222222222222,\"#7201a8\"],[0.3333333333333333,\"#9c179e\"],[0.4444444444444444,\"#bd3786\"],[0.5555555555555556,\"#d8576b\"],[0.6666666666666666,\"#ed7953\"],[0.7777777777777778,\"#fb9f3a\"],[0.8888888888888888,\"#fdca26\"],[1.0,\"#f0f921\"]]}],\"heatmapgl\":[{\"type\":\"heatmapgl\",\"colorbar\":{\"outlinewidth\":0,\"ticks\":\"\"},\"colorscale\":[[0.0,\"#0d0887\"],[0.1111111111111111,\"#46039f\"],[0.2222222222222222,\"#7201a8\"],[0.3333333333333333,\"#9c179e\"],[0.4444444444444444,\"#bd3786\"],[0.5555555555555556,\"#d8576b\"],[0.6666666666666666,\"#ed7953\"],[0.7777777777777778,\"#fb9f3a\"],[0.8888888888888888,\"#fdca26\"],[1.0,\"#f0f921\"]]}],\"contourcarpet\":[{\"type\":\"contourcarpet\",\"colorbar\":{\"outlinewidth\":0,\"ticks\":\"\"}}],\"contour\":[{\"type\":\"contour\",\"colorbar\":{\"outlinewidth\":0,\"ticks\":\"\"},\"colorscale\":[[0.0,\"#0d0887\"],[0.1111111111111111,\"#46039f\"],[0.2222222222222222,\"#7201a8\"],[0.3333333333333333,\"#9c179e\"],[0.4444444444444444,\"#bd3786\"],[0.5555555555555556,\"#d8576b\"],[0.6666666666666666,\"#ed7953\"],[0.7777777777777778,\"#fb9f3a\"],[0.8888888888888888,\"#fdca26\"],[1.0,\"#f0f921\"]]}],\"surface\":[{\"type\":\"surface\",\"colorbar\":{\"outlinewidth\":0,\"ticks\":\"\"},\"colorscale\":[[0.0,\"#0d0887\"],[0.1111111111111111,\"#46039f\"],[0.2222222222222222,\"#7201a8\"],[0.3333333333333333,\"#9c179e\"],[0.4444444444444444,\"#bd3786\"],[0.5555555555555556,\"#d8576b\"],[0.6666666666666666,\"#ed7953\"],[0.7777777777777778,\"#fb9f3a\"],[0.8888888888888888,\"#fdca26\"],[1.0,\"#f0f921\"]]}],\"mesh3d\":[{\"type\":\"mesh3d\",\"colorbar\":{\"outlinewidth\":0,\"ticks\":\"\"}}],\"scatter\":[{\"fillpattern\":{\"fillmode\":\"overlay\",\"size\":10,\"solidity\":0.2},\"type\":\"scatter\"}],\"parcoords\":[{\"type\":\"parcoords\",\"line\":{\"colorbar\":{\"outlinewidth\":0,\"ticks\":\"\"}}}],\"scatterpolargl\":[{\"type\":\"scatterpolargl\",\"marker\":{\"colorbar\":{\"outlinewidth\":0,\"ticks\":\"\"}}}],\"bar\":[{\"error_x\":{\"color\":\"#2a3f5f\"},\"error_y\":{\"color\":\"#2a3f5f\"},\"marker\":{\"line\":{\"color\":\"#E5ECF6\",\"width\":0.5},\"pattern\":{\"fillmode\":\"overlay\",\"size\":10,\"solidity\":0.2}},\"type\":\"bar\"}],\"scattergeo\":[{\"type\":\"scattergeo\",\"marker\":{\"colorbar\":{\"outlinewidth\":0,\"ticks\":\"\"}}}],\"scatterpolar\":[{\"type\":\"scatterpolar\",\"marker\":{\"colorbar\":{\"outlinewidth\":0,\"ticks\":\"\"}}}],\"histogram\":[{\"marker\":{\"pattern\":{\"fillmode\":\"overlay\",\"size\":10,\"solidity\":0.2}},\"type\":\"histogram\"}],\"scattergl\":[{\"type\":\"scattergl\",\"marker\":{\"colorbar\":{\"outlinewidth\":0,\"ticks\":\"\"}}}],\"scatter3d\":[{\"type\":\"scatter3d\",\"line\":{\"colorbar\":{\"outlinewidth\":0,\"ticks\":\"\"}},\"marker\":{\"colorbar\":{\"outlinewidth\":0,\"ticks\":\"\"}}}],\"scattermapbox\":[{\"type\":\"scattermapbox\",\"marker\":{\"colorbar\":{\"outlinewidth\":0,\"ticks\":\"\"}}}],\"scatterternary\":[{\"type\":\"scatterternary\",\"marker\":{\"colorbar\":{\"outlinewidth\":0,\"ticks\":\"\"}}}],\"scattercarpet\":[{\"type\":\"scattercarpet\",\"marker\":{\"colorbar\":{\"outlinewidth\":0,\"ticks\":\"\"}}}],\"carpet\":[{\"aaxis\":{\"endlinecolor\":\"#2a3f5f\",\"gridcolor\":\"white\",\"linecolor\":\"white\",\"minorgridcolor\":\"white\",\"startlinecolor\":\"#2a3f5f\"},\"baxis\":{\"endlinecolor\":\"#2a3f5f\",\"gridcolor\":\"white\",\"linecolor\":\"white\",\"minorgridcolor\":\"white\",\"startlinecolor\":\"#2a3f5f\"},\"type\":\"carpet\"}],\"table\":[{\"cells\":{\"fill\":{\"color\":\"#EBF0F8\"},\"line\":{\"color\":\"white\"}},\"header\":{\"fill\":{\"color\":\"#C8D4E3\"},\"line\":{\"color\":\"white\"}},\"type\":\"table\"}],\"barpolar\":[{\"marker\":{\"line\":{\"color\":\"#E5ECF6\",\"width\":0.5},\"pattern\":{\"fillmode\":\"overlay\",\"size\":10,\"solidity\":0.2}},\"type\":\"barpolar\"}],\"pie\":[{\"automargin\":true,\"type\":\"pie\"}]},\"layout\":{\"autotypenumbers\":\"strict\",\"colorway\":[\"#636efa\",\"#EF553B\",\"#00cc96\",\"#ab63fa\",\"#FFA15A\",\"#19d3f3\",\"#FF6692\",\"#B6E880\",\"#FF97FF\",\"#FECB52\"],\"font\":{\"color\":\"#2a3f5f\"},\"hovermode\":\"closest\",\"hoverlabel\":{\"align\":\"left\"},\"paper_bgcolor\":\"white\",\"plot_bgcolor\":\"#E5ECF6\",\"polar\":{\"bgcolor\":\"#E5ECF6\",\"angularaxis\":{\"gridcolor\":\"white\",\"linecolor\":\"white\",\"ticks\":\"\"},\"radialaxis\":{\"gridcolor\":\"white\",\"linecolor\":\"white\",\"ticks\":\"\"}},\"ternary\":{\"bgcolor\":\"#E5ECF6\",\"aaxis\":{\"gridcolor\":\"white\",\"linecolor\":\"white\",\"ticks\":\"\"},\"baxis\":{\"gridcolor\":\"white\",\"linecolor\":\"white\",\"ticks\":\"\"},\"caxis\":{\"gridcolor\":\"white\",\"linecolor\":\"white\",\"ticks\":\"\"}},\"coloraxis\":{\"colorbar\":{\"outlinewidth\":0,\"ticks\":\"\"}},\"colorscale\":{\"sequential\":[[0.0,\"#0d0887\"],[0.1111111111111111,\"#46039f\"],[0.2222222222222222,\"#7201a8\"],[0.3333333333333333,\"#9c179e\"],[0.4444444444444444,\"#bd3786\"],[0.5555555555555556,\"#d8576b\"],[0.6666666666666666,\"#ed7953\"],[0.7777777777777778,\"#fb9f3a\"],[0.8888888888888888,\"#fdca26\"],[1.0,\"#f0f921\"]],\"sequentialminus\":[[0.0,\"#0d0887\"],[0.1111111111111111,\"#46039f\"],[0.2222222222222222,\"#7201a8\"],[0.3333333333333333,\"#9c179e\"],[0.4444444444444444,\"#bd3786\"],[0.5555555555555556,\"#d8576b\"],[0.6666666666666666,\"#ed7953\"],[0.7777777777777778,\"#fb9f3a\"],[0.8888888888888888,\"#fdca26\"],[1.0,\"#f0f921\"]],\"diverging\":[[0,\"#8e0152\"],[0.1,\"#c51b7d\"],[0.2,\"#de77ae\"],[0.3,\"#f1b6da\"],[0.4,\"#fde0ef\"],[0.5,\"#f7f7f7\"],[0.6,\"#e6f5d0\"],[0.7,\"#b8e186\"],[0.8,\"#7fbc41\"],[0.9,\"#4d9221\"],[1,\"#276419\"]]},\"xaxis\":{\"gridcolor\":\"white\",\"linecolor\":\"white\",\"ticks\":\"\",\"title\":{\"standoff\":15},\"zerolinecolor\":\"white\",\"automargin\":true,\"zerolinewidth\":2},\"yaxis\":{\"gridcolor\":\"white\",\"linecolor\":\"white\",\"ticks\":\"\",\"title\":{\"standoff\":15},\"zerolinecolor\":\"white\",\"automargin\":true,\"zerolinewidth\":2},\"scene\":{\"xaxis\":{\"backgroundcolor\":\"#E5ECF6\",\"gridcolor\":\"white\",\"linecolor\":\"white\",\"showbackground\":true,\"ticks\":\"\",\"zerolinecolor\":\"white\",\"gridwidth\":2},\"yaxis\":{\"backgroundcolor\":\"#E5ECF6\",\"gridcolor\":\"white\",\"linecolor\":\"white\",\"showbackground\":true,\"ticks\":\"\",\"zerolinecolor\":\"white\",\"gridwidth\":2},\"zaxis\":{\"backgroundcolor\":\"#E5ECF6\",\"gridcolor\":\"white\",\"linecolor\":\"white\",\"showbackground\":true,\"ticks\":\"\",\"zerolinecolor\":\"white\",\"gridwidth\":2}},\"shapedefaults\":{\"line\":{\"color\":\"#2a3f5f\"}},\"annotationdefaults\":{\"arrowcolor\":\"#2a3f5f\",\"arrowhead\":0,\"arrowwidth\":1},\"geo\":{\"bgcolor\":\"white\",\"landcolor\":\"#E5ECF6\",\"subunitcolor\":\"white\",\"showland\":true,\"showlakes\":true,\"lakecolor\":\"white\"},\"title\":{\"x\":0.05},\"mapbox\":{\"style\":\"light\"}}},\"xaxis\":{\"anchor\":\"y\",\"domain\":[0.0,1.0],\"type\":\"date\",\"tickformat\":\"%Q\"},\"yaxis\":{\"anchor\":\"x\",\"domain\":[0.0,1.0],\"title\":{\"text\":\"VisitedAOI\"},\"categoryorder\":\"array\",\"categoryarray\":[\"Verified\",\"Status\",\"Responsabilities\",\"Place\",\"Participant_Profile_Picture\",\"Participant_Bio\",\"Participants_Overview\",\"Online\",\"Instructions\",\"Ingredients\",\"Gen_Info\",\"Food\",\"Fav\",\"Description_2\",\"Description_1\",\"Date_Place_2\",\"Date_Place_1\",\"CTA_1\",\"Chat\"]},\"legend\":{\"title\":{\"text\":\"VisitedAOI\"},\"tracegroupgap\":0},\"title\":{\"text\":\"Participant: P01\"},\"barmode\":\"overlay\"},                        {\"responsive\": true}                    ).then(function(){\n",
       "                            \n",
       "var gd = document.getElementById('24894807-9a24-444e-9909-18b3cf4be33f');\n",
       "var x = new MutationObserver(function (mutations, observer) {{\n",
       "        var display = window.getComputedStyle(gd).display;\n",
       "        if (!display || display === 'none') {{\n",
       "            console.log([gd, 'removed!']);\n",
       "            Plotly.purge(gd);\n",
       "            observer.disconnect();\n",
       "        }}\n",
       "}});\n",
       "\n",
       "// Listen for the removal of the full notebook cells\n",
       "var notebookContainer = gd.closest('#notebook-container');\n",
       "if (notebookContainer) {{\n",
       "    x.observe(notebookContainer, {childList: true});\n",
       "}}\n",
       "\n",
       "// Listen for the clearing of the current output cell\n",
       "var outputEl = gd.closest('.output');\n",
       "if (outputEl) {{\n",
       "    x.observe(outputEl, {childList: true});\n",
       "}}\n",
       "\n",
       "                        })                };                });            </script>        </div>"
      ]
     },
     "metadata": {},
     "output_type": "display_data"
    },
    {
     "data": {
      "application/vnd.plotly.v1+json": {
       "config": {
        "plotlyServerURL": "https://plot.ly"
       },
       "data": [
        {
         "alignmentgroup": "True",
         "base": [
          "1970-01-01T00:00:45.222895",
          "1970-01-01T00:01:00.871217",
          "1970-01-01T00:01:02.587680",
          "1970-01-01T00:01:17.119437",
          "1970-01-01T00:01:54.307047",
          "1970-01-01T00:01:55.665220"
         ],
         "hovertemplate": "VisitedAOI=%{y}<br>Dwell Start=%{base}<br>Dwell End=%{x}<extra></extra>",
         "legendgroup": "Chat",
         "marker": {
          "color": "#636efa",
          "pattern": {
           "shape": ""
          }
         },
         "name": "Chat",
         "offsetgroup": "Chat",
         "orientation": "h",
         "showlegend": true,
         "textposition": "auto",
         "type": "bar",
         "x": [
          449,
          574,
          583,
          258,
          183,
          166
         ],
         "xaxis": "x",
         "y": [
          "Chat",
          "Chat",
          "Chat",
          "Chat",
          "Chat",
          "Chat"
         ],
         "yaxis": "y"
        },
        {
         "alignmentgroup": "True",
         "base": [
          "1970-01-01T00:00:04.902317",
          "1970-01-01T00:01:13.186539",
          "1970-01-01T00:01:16.027946",
          "1970-01-01T00:01:17.761035",
          "1970-01-01T00:01:46.541244",
          "1970-01-01T00:01:49.382571",
          "1970-01-01T00:02:02.822790"
         ],
         "hovertemplate": "VisitedAOI=%{y}<br>Dwell Start=%{base}<br>Dwell End=%{x}<extra></extra>",
         "legendgroup": "CTA_1",
         "marker": {
          "color": "#EF553B",
          "pattern": {
           "shape": ""
          }
         },
         "name": "CTA_1",
         "offsetgroup": "CTA_1",
         "orientation": "h",
         "showlegend": true,
         "textposition": "auto",
         "type": "bar",
         "x": [
          25,
          166,
          358,
          199,
          83,
          174,
          149
         ],
         "xaxis": "x",
         "y": [
          "CTA_1",
          "CTA_1",
          "CTA_1",
          "CTA_1",
          "CTA_1",
          "CTA_1",
          "CTA_1"
         ],
         "yaxis": "y"
        },
        {
         "alignmentgroup": "True",
         "base": [
          "1970-01-01T00:00:11.109996",
          "1970-01-01T00:00:14.401281",
          "1970-01-01T00:00:49.505761",
          "1970-01-01T00:01:13.486537",
          "1970-01-01T00:01:14.478074",
          "1970-01-01T00:01:18.810949",
          "1970-01-01T00:01:19.419222",
          "1970-01-01T00:01:23.843695",
          "1970-01-01T00:01:47.982739",
          "1970-01-01T00:01:50.315806",
          "1970-01-01T00:02:01.747900",
          "1970-01-01T00:02:02.339491"
         ],
         "hovertemplate": "VisitedAOI=%{y}<br>Dwell Start=%{base}<br>Dwell End=%{x}<extra></extra>",
         "legendgroup": "Date_Place_1",
         "marker": {
          "color": "#00cc96",
          "pattern": {
           "shape": ""
          }
         },
         "name": "Date_Place_1",
         "offsetgroup": "Date_Place_1",
         "orientation": "h",
         "showlegend": true,
         "textposition": "auto",
         "type": "bar",
         "x": [
          1441,
          441,
          325,
          358,
          24,
          224,
          733,
          1124,
          449,
          574,
          183,
          183
         ],
         "xaxis": "x",
         "y": [
          "Date_Place_1",
          "Date_Place_1",
          "Date_Place_1",
          "Date_Place_1",
          "Date_Place_1",
          "Date_Place_1",
          "Date_Place_1",
          "Date_Place_1",
          "Date_Place_1",
          "Date_Place_1",
          "Date_Place_1",
          "Date_Place_1"
         ],
         "yaxis": "y"
        },
        {
         "alignmentgroup": "True",
         "base": [
          "1970-01-01T00:00:15.434497",
          "1970-01-01T00:00:16.251098",
          "1970-01-01T00:00:16.734343",
          "1970-01-01T00:00:51.380553",
          "1970-01-01T00:00:51.730514",
          "1970-01-01T00:01:26.035163",
          "1970-01-01T00:01:28.518191",
          "1970-01-01T00:01:53.432118"
         ],
         "hovertemplate": "VisitedAOI=%{y}<br>Dwell Start=%{base}<br>Dwell End=%{x}<extra></extra>",
         "legendgroup": "Date_Place_2",
         "marker": {
          "color": "#ab63fa",
          "pattern": {
           "shape": ""
          }
         },
         "name": "Date_Place_2",
         "offsetgroup": "Date_Place_2",
         "orientation": "h",
         "showlegend": true,
         "textposition": "auto",
         "type": "bar",
         "x": [
          108,
          24,
          274,
          24,
          258,
          333,
          191,
          133
         ],
         "xaxis": "x",
         "y": [
          "Date_Place_2",
          "Date_Place_2",
          "Date_Place_2",
          "Date_Place_2",
          "Date_Place_2",
          "Date_Place_2",
          "Date_Place_2",
          "Date_Place_2"
         ],
         "yaxis": "y"
        },
        {
         "alignmentgroup": "True",
         "base": [
          "1970-01-01T00:00:12.551489",
          "1970-01-01T00:01:14.519727",
          "1970-01-01T00:01:19.069251",
          "1970-01-01T00:01:24.968587",
          "1970-01-01T00:01:48.432691",
          "1970-01-01T00:02:01.356260",
          "1970-01-01T00:02:01.439571"
         ],
         "hovertemplate": "VisitedAOI=%{y}<br>Dwell Start=%{base}<br>Dwell End=%{x}<extra></extra>",
         "legendgroup": "Description_1",
         "marker": {
          "color": "#FFA15A",
          "pattern": {
           "shape": ""
          }
         },
         "name": "Description_1",
         "offsetgroup": "Description_1",
         "orientation": "h",
         "showlegend": true,
         "textposition": "auto",
         "type": "bar",
         "x": [
          1849,
          424,
          341,
          249,
          249,
          8,
          308
         ],
         "xaxis": "x",
         "y": [
          "Description_1",
          "Description_1",
          "Description_1",
          "Description_1",
          "Description_1",
          "Description_1",
          "Description_1"
         ],
         "yaxis": "y"
        },
        {
         "alignmentgroup": "True",
         "base": [
          "1970-01-01T00:00:16.276090",
          "1970-01-01T00:00:17.009318",
          "1970-01-01T00:01:28.259929",
          "1970-01-01T00:01:53.223832"
         ],
         "hovertemplate": "VisitedAOI=%{y}<br>Dwell Start=%{base}<br>Dwell End=%{x}<extra></extra>",
         "legendgroup": "Description_2",
         "marker": {
          "color": "#19d3f3",
          "pattern": {
           "shape": ""
          }
         },
         "name": "Description_2",
         "offsetgroup": "Description_2",
         "orientation": "h",
         "showlegend": true,
         "textposition": "auto",
         "type": "bar",
         "x": [
          458,
          3416,
          258,
          208
         ],
         "xaxis": "x",
         "y": [
          "Description_2",
          "Description_2",
          "Description_2",
          "Description_2"
         ],
         "yaxis": "y"
        },
        {
         "alignmentgroup": "True",
         "base": [
          "1970-01-01T00:00:44.522967",
          "1970-01-01T00:00:45.981133",
          "1970-01-01T00:01:00.412959",
          "1970-01-01T00:01:00.612971",
          "1970-01-01T00:01:01.454469",
          "1970-01-01T00:01:02.121089",
          "1970-01-01T00:01:16.727853",
          "1970-01-01T00:01:51.740641",
          "1970-01-01T00:01:52.015604",
          "1970-01-01T00:02:05.955754"
         ],
         "hovertemplate": "VisitedAOI=%{y}<br>Dwell Start=%{base}<br>Dwell End=%{x}<extra></extra>",
         "legendgroup": "Fav",
         "marker": {
          "color": "#FF6692",
          "pattern": {
           "shape": ""
          }
         },
         "name": "Fav",
         "offsetgroup": "Fav",
         "orientation": "h",
         "showlegend": true,
         "textposition": "auto",
         "type": "bar",
         "x": [
          666,
          549,
          183,
          258,
          341,
          116,
          391,
          233,
          758,
          133
         ],
         "xaxis": "x",
         "y": [
          "Fav",
          "Fav",
          "Fav",
          "Fav",
          "Fav",
          "Fav",
          "Fav",
          "Fav",
          "Fav",
          "Fav"
         ],
         "yaxis": "y"
        },
        {
         "alignmentgroup": "True",
         "base": [
          "1970-01-01T00:00:00.811085",
          "1970-01-01T00:00:04.019119",
          "1970-01-01T00:00:15.042869",
          "1970-01-01T00:01:12.220008",
          "1970-01-01T00:01:20.310754",
          "1970-01-01T00:01:22.535613",
          "1970-01-01T00:01:46.249640",
          "1970-01-01T00:01:46.757877",
          "1970-01-01T00:02:02.972766"
         ],
         "hovertemplate": "VisitedAOI=%{y}<br>Dwell Start=%{base}<br>Dwell End=%{x}<extra></extra>",
         "legendgroup": "Food",
         "marker": {
          "color": "#B6E880",
          "pattern": {
           "shape": ""
          }
         },
         "name": "Food",
         "offsetgroup": "Food",
         "orientation": "h",
         "showlegend": true,
         "textposition": "auto",
         "type": "bar",
         "x": [
          275,
          874,
          358,
          274,
          191,
          358,
          249,
          241,
          299
         ],
         "xaxis": "x",
         "y": [
          "Food",
          "Food",
          "Food",
          "Food",
          "Food",
          "Food",
          "Food",
          "Food",
          "Food"
         ],
         "yaxis": "y"
        },
        {
         "alignmentgroup": "True",
         "base": [
          "1970-01-01T00:00:05.693887",
          "1970-01-01T00:00:07.152101",
          "1970-01-01T00:00:07.568702",
          "1970-01-01T00:00:48.897497",
          "1970-01-01T00:01:10.711845",
          "1970-01-01T00:01:11.861720",
          "1970-01-01T00:01:12.045000",
          "1970-01-01T00:01:15.819581",
          "1970-01-01T00:01:16.419527",
          "1970-01-01T00:01:16.586210",
          "1970-01-01T00:01:17.977680",
          "1970-01-01T00:01:20.502410",
          "1970-01-01T00:01:27.468306",
          "1970-01-01T00:01:46.632885",
          "1970-01-01T00:01:48.982627"
         ],
         "hovertemplate": "VisitedAOI=%{y}<br>Dwell Start=%{base}<br>Dwell End=%{x}<extra></extra>",
         "legendgroup": "Gen_Info",
         "marker": {
          "color": "#FF97FF",
          "pattern": {
           "shape": ""
          }
         },
         "name": "Gen_Info",
         "offsetgroup": "Gen_Info",
         "orientation": "h",
         "showlegend": true,
         "textposition": "auto",
         "type": "bar",
         "x": [
          841,
          208,
          8,
          433,
          141,
          166,
          175,
          208,
          74,
          8,
          291,
          2024,
          624,
          91,
          399
         ],
         "xaxis": "x",
         "y": [
          "Gen_Info",
          "Gen_Info",
          "Gen_Info",
          "Gen_Info",
          "Gen_Info",
          "Gen_Info",
          "Gen_Info",
          "Gen_Info",
          "Gen_Info",
          "Gen_Info",
          "Gen_Info",
          "Gen_Info",
          "Gen_Info",
          "Gen_Info",
          "Gen_Info"
         ],
         "yaxis": "y"
        },
        {
         "alignmentgroup": "True",
         "base": [
          "1970-01-01T00:00:00.377808",
          "1970-01-01T00:00:20.433924",
          "1970-01-01T00:00:21.517159",
          "1970-01-01T00:00:22.925311",
          "1970-01-01T00:00:23.400280",
          "1970-01-01T00:00:27.116526",
          "1970-01-01T00:00:49.830774",
          "1970-01-01T00:00:50.572334",
          "1970-01-01T00:01:12.686601",
          "1970-01-01T00:01:25.676852",
          "1970-01-01T00:01:28.709873",
          "1970-01-01T00:01:53.007181",
          "1970-01-01T00:02:03.414367"
         ],
         "hovertemplate": "VisitedAOI=%{y}<br>Dwell Start=%{base}<br>Dwell End=%{x}<extra></extra>",
         "legendgroup": "Ingredients",
         "marker": {
          "color": "#FECB52",
          "pattern": {
           "shape": ""
          }
         },
         "name": "Ingredients",
         "offsetgroup": "Ingredients",
         "orientation": "h",
         "showlegend": true,
         "textposition": "auto",
         "type": "bar",
         "x": [
          383,
          158,
          366,
          133,
          1133,
          1058,
          133,
          449,
          449,
          291,
          441,
          216,
          199
         ],
         "xaxis": "x",
         "y": [
          "Ingredients",
          "Ingredients",
          "Ingredients",
          "Ingredients",
          "Ingredients",
          "Ingredients",
          "Ingredients",
          "Ingredients",
          "Ingredients",
          "Ingredients",
          "Ingredients",
          "Ingredients",
          "Ingredients"
         ],
         "yaxis": "y"
        },
        {
         "alignmentgroup": "True",
         "base": [
          "1970-01-01T00:00:28.174760",
          "1970-01-01T00:00:31.241085",
          "1970-01-01T00:00:31.824361",
          "1970-01-01T00:00:37.457071",
          "1970-01-01T00:00:55.321814",
          "1970-01-01T00:01:25.285216",
          "1970-01-01T00:01:29.284784",
          "1970-01-01T00:01:51.565656",
          "1970-01-01T00:01:52.823854",
          "1970-01-01T00:01:53.590432",
          "1970-01-01T00:02:03.647703",
          "1970-01-01T00:02:07.760384"
         ],
         "hovertemplate": "VisitedAOI=%{y}<br>Dwell Start=%{base}<br>Dwell End=%{x}<extra></extra>",
         "legendgroup": "Instructions",
         "marker": {
          "color": "#636efa",
          "pattern": {
           "shape": ""
          }
         },
         "name": "Instructions",
         "offsetgroup": "Instructions",
         "orientation": "h",
         "showlegend": true,
         "textposition": "auto",
         "type": "bar",
         "x": [
          2958,
          541,
          5549,
          5024,
          174,
          391,
          1108,
          133,
          183,
          466,
          491,
          216
         ],
         "xaxis": "x",
         "y": [
          "Instructions",
          "Instructions",
          "Instructions",
          "Instructions",
          "Instructions",
          "Instructions",
          "Instructions",
          "Instructions",
          "Instructions",
          "Instructions",
          "Instructions",
          "Instructions"
         ],
         "yaxis": "y"
        },
        {
         "alignmentgroup": "True",
         "base": [
          "1970-01-01T00:00:46.731064",
          "1970-01-01T00:00:54.521879",
          "1970-01-01T00:00:55.571806",
          "1970-01-01T00:01:02.512731",
          "1970-01-01T00:01:38.483747",
          "1970-01-01T00:01:41.150136",
          "1970-01-01T00:01:42.191673",
          "1970-01-01T00:01:55.106950",
          "1970-01-01T00:01:56.440135",
          "1970-01-01T00:02:00.364725",
          "1970-01-01T00:02:05.205860",
          "1970-01-01T00:02:05.514122"
         ],
         "hovertemplate": "VisitedAOI=%{y}<br>Dwell Start=%{base}<br>Dwell End=%{x}<extra></extra>",
         "legendgroup": "Online",
         "marker": {
          "color": "#EF553B",
          "pattern": {
           "shape": ""
          }
         },
         "name": "Online",
         "offsetgroup": "Online",
         "orientation": "h",
         "showlegend": true,
         "textposition": "auto",
         "type": "bar",
         "x": [
          158,
          291,
          249,
          8,
          266,
          74,
          299,
          333,
          374,
          524,
          274,
          316
         ],
         "xaxis": "x",
         "y": [
          "Online",
          "Online",
          "Online",
          "Online",
          "Online",
          "Online",
          "Online",
          "Online",
          "Online",
          "Online",
          "Online",
          "Online"
         ],
         "yaxis": "y"
        },
        {
         "alignmentgroup": "True",
         "base": [
          "1970-01-01T00:00:06.677127",
          "1970-01-01T00:00:07.585364",
          "1970-01-01T00:00:14.901213",
          "1970-01-01T00:00:48.730840",
          "1970-01-01T00:00:49.372445",
          "1970-01-01T00:01:10.461835",
          "1970-01-01T00:01:10.945149",
          "1970-01-01T00:01:13.878139",
          "1970-01-01T00:01:15.003008",
          "1970-01-01T00:01:16.527886",
          "1970-01-01T00:01:17.569392",
          "1970-01-01T00:01:18.269343",
          "1970-01-01T00:01:22.952149",
          "1970-01-01T00:01:27.101676",
          "1970-01-01T00:01:34.700867",
          "1970-01-01T00:01:47.082879",
          "1970-01-01T00:01:48.740973",
          "1970-01-01T00:01:49.699215",
          "1970-01-01T00:01:50.915759",
          "1970-01-01T00:02:02.089550",
          "1970-01-01T00:02:02.589480"
         ],
         "hovertemplate": "VisitedAOI=%{y}<br>Dwell Start=%{base}<br>Dwell End=%{x}<extra></extra>",
         "legendgroup": "Participants_Overview",
         "marker": {
          "color": "#00cc96",
          "pattern": {
           "shape": ""
          }
         },
         "name": "Participants_Overview",
         "offsetgroup": "Participants_Overview",
         "orientation": "h",
         "showlegend": true,
         "textposition": "auto",
         "type": "bar",
         "x": [
          441,
          3457,
          141,
          166,
          116,
          166,
          899,
          341,
          816,
          41,
          25,
          541,
          858,
          366,
          533,
          883,
          158,
          566,
          649,
          124,
          124
         ],
         "xaxis": "x",
         "y": [
          "Participants_Overview",
          "Participants_Overview",
          "Participants_Overview",
          "Participants_Overview",
          "Participants_Overview",
          "Participants_Overview",
          "Participants_Overview",
          "Participants_Overview",
          "Participants_Overview",
          "Participants_Overview",
          "Participants_Overview",
          "Participants_Overview",
          "Participants_Overview",
          "Participants_Overview",
          "Participants_Overview",
          "Participants_Overview",
          "Participants_Overview",
          "Participants_Overview",
          "Participants_Overview",
          "Participants_Overview",
          "Participants_Overview"
         ],
         "yaxis": "y"
        },
        {
         "alignmentgroup": "True",
         "base": [
          "1970-01-01T00:00:45.672831",
          "1970-01-01T00:00:46.531074",
          "1970-01-01T00:00:47.605985",
          "1970-01-01T00:00:48.197579",
          "1970-01-01T00:00:54.205306",
          "1970-01-01T00:00:54.363574",
          "1970-01-01T00:00:55.821753",
          "1970-01-01T00:01:01.829428",
          "1970-01-01T00:01:02.037787",
          "1970-01-01T00:01:03.171002",
          "1970-01-01T00:01:32.942703",
          "1970-01-01T00:01:36.084041",
          "1970-01-01T00:01:43.641531",
          "1970-01-01T00:01:54.173729",
          "1970-01-01T00:01:54.682000",
          "1970-01-01T00:01:55.831856",
          "1970-01-01T00:02:04.405929",
          "1970-01-01T00:02:06.089094"
         ],
         "hovertemplate": "VisitedAOI=%{y}<br>Dwell Start=%{base}<br>Dwell End=%{x}<extra></extra>",
         "legendgroup": "Participant_Bio",
         "marker": {
          "color": "#ab63fa",
          "pattern": {
           "shape": ""
          }
         },
         "name": "Participant_Bio",
         "offsetgroup": "Participant_Bio",
         "orientation": "h",
         "showlegend": true,
         "textposition": "auto",
         "type": "bar",
         "x": [
          308,
          41,
          433,
          433,
          8,
          99,
          199,
          133,
          83,
          4624,
          858,
          791,
          958,
          99,
          324,
          216,
          383,
          491
         ],
         "xaxis": "x",
         "y": [
          "Participant_Bio",
          "Participant_Bio",
          "Participant_Bio",
          "Participant_Bio",
          "Participant_Bio",
          "Participant_Bio",
          "Participant_Bio",
          "Participant_Bio",
          "Participant_Bio",
          "Participant_Bio",
          "Participant_Bio",
          "Participant_Bio",
          "Participant_Bio",
          "Participant_Bio",
          "Participant_Bio",
          "Participant_Bio",
          "Participant_Bio",
          "Participant_Bio"
         ],
         "yaxis": "y"
        },
        {
         "alignmentgroup": "True",
         "base": [
          "1970-01-01T00:00:42.548187",
          "1970-01-01T00:00:44.264677",
          "1970-01-01T00:00:52.088850",
          "1970-01-01T00:00:53.347008",
          "1970-01-01T00:00:56.021749",
          "1970-01-01T00:00:59.263075",
          "1970-01-01T00:01:31.017931",
          "1970-01-01T00:01:32.551081",
          "1970-01-01T00:01:35.417478",
          "1970-01-01T00:01:44.791431",
          "1970-01-01T00:01:45.149718",
          "1970-01-01T00:02:04.205957"
         ],
         "hovertemplate": "VisitedAOI=%{y}<br>Dwell Start=%{base}<br>Dwell End=%{x}<extra></extra>",
         "legendgroup": "Participant_Profile_Picture",
         "marker": {
          "color": "#FFA15A",
          "pattern": {
           "shape": ""
          }
         },
         "name": "Participant_Profile_Picture",
         "offsetgroup": "Participant_Profile_Picture",
         "orientation": "h",
         "showlegend": true,
         "textposition": "auto",
         "type": "bar",
         "x": [
          933,
          258,
          258,
          683,
          591,
          1149,
          933,
          299,
          624,
          41,
          158,
          149
         ],
         "xaxis": "x",
         "y": [
          "Participant_Profile_Picture",
          "Participant_Profile_Picture",
          "Participant_Profile_Picture",
          "Participant_Profile_Picture",
          "Participant_Profile_Picture",
          "Participant_Profile_Picture",
          "Participant_Profile_Picture",
          "Participant_Profile_Picture",
          "Participant_Profile_Picture",
          "Participant_Profile_Picture",
          "Participant_Profile_Picture",
          "Participant_Profile_Picture"
         ],
         "yaxis": "y"
        },
        {
         "alignmentgroup": "True",
         "base": [
          "1970-01-01T00:01:07.953776",
          "1970-01-01T00:01:08.737017",
          "1970-01-01T00:01:33.834293",
          "1970-01-01T00:01:36.908919",
          "1970-01-01T00:01:37.525520",
          "1970-01-01T00:01:39.375315",
          "1970-01-01T00:01:40.941839",
          "1970-01-01T00:01:42.166696",
          "1970-01-01T00:01:42.991609",
          "1970-01-01T00:01:56.073496",
          "1970-01-01T00:01:57.073397",
          "1970-01-01T00:01:58.089941",
          "1970-01-01T00:01:59.264825",
          "1970-01-01T00:01:59.739754",
          "1970-01-01T00:02:00.897965"
         ],
         "hovertemplate": "VisitedAOI=%{y}<br>Dwell Start=%{base}<br>Dwell End=%{x}<extra></extra>",
         "legendgroup": "Place",
         "marker": {
          "color": "#19d3f3",
          "pattern": {
           "shape": ""
          }
         },
         "name": "Place",
         "offsetgroup": "Place",
         "orientation": "h",
         "showlegend": true,
         "textposition": "auto",
         "type": "bar",
         "x": [
          183,
          483,
          408,
          324,
          266,
          691,
          174,
          24,
          274,
          324,
          199,
          191,
          266,
          574,
          349
         ],
         "xaxis": "x",
         "y": [
          "Place",
          "Place",
          "Place",
          "Place",
          "Place",
          "Place",
          "Place",
          "Place",
          "Place",
          "Place",
          "Place",
          "Place",
          "Place",
          "Place",
          "Place"
         ],
         "yaxis": "y"
        },
        {
         "alignmentgroup": "True",
         "base": [
          "1970-01-01T00:00:20.650565",
          "1970-01-01T00:00:22.575352",
          "1970-01-01T00:00:23.058646",
          "1970-01-01T00:00:24.600139",
          "1970-01-01T00:00:49.964044",
          "1970-01-01T00:00:51.022261"
         ],
         "hovertemplate": "VisitedAOI=%{y}<br>Dwell Start=%{base}<br>Dwell End=%{x}<extra></extra>",
         "legendgroup": "Responsabilities",
         "marker": {
          "color": "#FF6692",
          "pattern": {
           "shape": ""
          }
         },
         "name": "Responsabilities",
         "offsetgroup": "Responsabilities",
         "orientation": "h",
         "showlegend": true,
         "textposition": "auto",
         "type": "bar",
         "x": [
          866,
          349,
          299,
          2516,
          608,
          199
         ],
         "xaxis": "x",
         "y": [
          "Responsabilities",
          "Responsabilities",
          "Responsabilities",
          "Responsabilities",
          "Responsabilities",
          "Responsabilities"
         ],
         "yaxis": "y"
        },
        {
         "alignmentgroup": "True",
         "base": [
          "1970-01-01T00:01:37.792174",
          "1970-01-01T00:01:40.066910",
          "1970-01-01T00:01:41.400126",
          "1970-01-01T00:01:43.283236",
          "1970-01-01T00:01:57.323389"
         ],
         "hovertemplate": "VisitedAOI=%{y}<br>Dwell Start=%{base}<br>Dwell End=%{x}<extra></extra>",
         "legendgroup": "Status",
         "marker": {
          "color": "#B6E880",
          "pattern": {
           "shape": ""
          }
         },
         "name": "Status",
         "offsetgroup": "Status",
         "orientation": "h",
         "showlegend": true,
         "textposition": "auto",
         "type": "bar",
         "x": [
          658,
          566,
          766,
          116,
          716
         ],
         "xaxis": "x",
         "y": [
          "Status",
          "Status",
          "Status",
          "Status",
          "Status"
         ],
         "yaxis": "y"
        },
        {
         "alignmentgroup": "True",
         "base": [
          "1970-01-01T00:00:46.922731",
          "1970-01-01T00:00:54.963504",
          "1970-01-01T00:01:08.212123",
          "1970-01-01T00:01:09.220301",
          "1970-01-01T00:01:34.275884",
          "1970-01-01T00:01:37.250578",
          "1970-01-01T00:01:39.008721",
          "1970-01-01T00:01:40.700206",
          "1970-01-01T00:01:42.541730",
          "1970-01-01T00:01:58.314918",
          "1970-01-01T00:02:04.997541"
         ],
         "hovertemplate": "VisitedAOI=%{y}<br>Dwell Start=%{base}<br>Dwell End=%{x}<extra></extra>",
         "legendgroup": "Verified",
         "marker": {
          "color": "#FF97FF",
          "pattern": {
           "shape": ""
          }
         },
         "name": "Verified",
         "offsetgroup": "Verified",
         "orientation": "h",
         "showlegend": true,
         "textposition": "auto",
         "type": "bar",
         "x": [
          416,
          291,
          491,
          291,
          341,
          274,
          324,
          216,
          366,
          924,
          208
         ],
         "xaxis": "x",
         "y": [
          "Verified",
          "Verified",
          "Verified",
          "Verified",
          "Verified",
          "Verified",
          "Verified",
          "Verified",
          "Verified",
          "Verified",
          "Verified"
         ],
         "yaxis": "y"
        }
       ],
       "layout": {
        "barmode": "overlay",
        "legend": {
         "title": {
          "text": "VisitedAOI"
         },
         "tracegroupgap": 0
        },
        "template": {
         "data": {
          "bar": [
           {
            "error_x": {
             "color": "#2a3f5f"
            },
            "error_y": {
             "color": "#2a3f5f"
            },
            "marker": {
             "line": {
              "color": "#E5ECF6",
              "width": 0.5
             },
             "pattern": {
              "fillmode": "overlay",
              "size": 10,
              "solidity": 0.2
             }
            },
            "type": "bar"
           }
          ],
          "barpolar": [
           {
            "marker": {
             "line": {
              "color": "#E5ECF6",
              "width": 0.5
             },
             "pattern": {
              "fillmode": "overlay",
              "size": 10,
              "solidity": 0.2
             }
            },
            "type": "barpolar"
           }
          ],
          "carpet": [
           {
            "aaxis": {
             "endlinecolor": "#2a3f5f",
             "gridcolor": "white",
             "linecolor": "white",
             "minorgridcolor": "white",
             "startlinecolor": "#2a3f5f"
            },
            "baxis": {
             "endlinecolor": "#2a3f5f",
             "gridcolor": "white",
             "linecolor": "white",
             "minorgridcolor": "white",
             "startlinecolor": "#2a3f5f"
            },
            "type": "carpet"
           }
          ],
          "choropleth": [
           {
            "colorbar": {
             "outlinewidth": 0,
             "ticks": ""
            },
            "type": "choropleth"
           }
          ],
          "contour": [
           {
            "colorbar": {
             "outlinewidth": 0,
             "ticks": ""
            },
            "colorscale": [
             [
              0,
              "#0d0887"
             ],
             [
              0.1111111111111111,
              "#46039f"
             ],
             [
              0.2222222222222222,
              "#7201a8"
             ],
             [
              0.3333333333333333,
              "#9c179e"
             ],
             [
              0.4444444444444444,
              "#bd3786"
             ],
             [
              0.5555555555555556,
              "#d8576b"
             ],
             [
              0.6666666666666666,
              "#ed7953"
             ],
             [
              0.7777777777777778,
              "#fb9f3a"
             ],
             [
              0.8888888888888888,
              "#fdca26"
             ],
             [
              1,
              "#f0f921"
             ]
            ],
            "type": "contour"
           }
          ],
          "contourcarpet": [
           {
            "colorbar": {
             "outlinewidth": 0,
             "ticks": ""
            },
            "type": "contourcarpet"
           }
          ],
          "heatmap": [
           {
            "colorbar": {
             "outlinewidth": 0,
             "ticks": ""
            },
            "colorscale": [
             [
              0,
              "#0d0887"
             ],
             [
              0.1111111111111111,
              "#46039f"
             ],
             [
              0.2222222222222222,
              "#7201a8"
             ],
             [
              0.3333333333333333,
              "#9c179e"
             ],
             [
              0.4444444444444444,
              "#bd3786"
             ],
             [
              0.5555555555555556,
              "#d8576b"
             ],
             [
              0.6666666666666666,
              "#ed7953"
             ],
             [
              0.7777777777777778,
              "#fb9f3a"
             ],
             [
              0.8888888888888888,
              "#fdca26"
             ],
             [
              1,
              "#f0f921"
             ]
            ],
            "type": "heatmap"
           }
          ],
          "heatmapgl": [
           {
            "colorbar": {
             "outlinewidth": 0,
             "ticks": ""
            },
            "colorscale": [
             [
              0,
              "#0d0887"
             ],
             [
              0.1111111111111111,
              "#46039f"
             ],
             [
              0.2222222222222222,
              "#7201a8"
             ],
             [
              0.3333333333333333,
              "#9c179e"
             ],
             [
              0.4444444444444444,
              "#bd3786"
             ],
             [
              0.5555555555555556,
              "#d8576b"
             ],
             [
              0.6666666666666666,
              "#ed7953"
             ],
             [
              0.7777777777777778,
              "#fb9f3a"
             ],
             [
              0.8888888888888888,
              "#fdca26"
             ],
             [
              1,
              "#f0f921"
             ]
            ],
            "type": "heatmapgl"
           }
          ],
          "histogram": [
           {
            "marker": {
             "pattern": {
              "fillmode": "overlay",
              "size": 10,
              "solidity": 0.2
             }
            },
            "type": "histogram"
           }
          ],
          "histogram2d": [
           {
            "colorbar": {
             "outlinewidth": 0,
             "ticks": ""
            },
            "colorscale": [
             [
              0,
              "#0d0887"
             ],
             [
              0.1111111111111111,
              "#46039f"
             ],
             [
              0.2222222222222222,
              "#7201a8"
             ],
             [
              0.3333333333333333,
              "#9c179e"
             ],
             [
              0.4444444444444444,
              "#bd3786"
             ],
             [
              0.5555555555555556,
              "#d8576b"
             ],
             [
              0.6666666666666666,
              "#ed7953"
             ],
             [
              0.7777777777777778,
              "#fb9f3a"
             ],
             [
              0.8888888888888888,
              "#fdca26"
             ],
             [
              1,
              "#f0f921"
             ]
            ],
            "type": "histogram2d"
           }
          ],
          "histogram2dcontour": [
           {
            "colorbar": {
             "outlinewidth": 0,
             "ticks": ""
            },
            "colorscale": [
             [
              0,
              "#0d0887"
             ],
             [
              0.1111111111111111,
              "#46039f"
             ],
             [
              0.2222222222222222,
              "#7201a8"
             ],
             [
              0.3333333333333333,
              "#9c179e"
             ],
             [
              0.4444444444444444,
              "#bd3786"
             ],
             [
              0.5555555555555556,
              "#d8576b"
             ],
             [
              0.6666666666666666,
              "#ed7953"
             ],
             [
              0.7777777777777778,
              "#fb9f3a"
             ],
             [
              0.8888888888888888,
              "#fdca26"
             ],
             [
              1,
              "#f0f921"
             ]
            ],
            "type": "histogram2dcontour"
           }
          ],
          "mesh3d": [
           {
            "colorbar": {
             "outlinewidth": 0,
             "ticks": ""
            },
            "type": "mesh3d"
           }
          ],
          "parcoords": [
           {
            "line": {
             "colorbar": {
              "outlinewidth": 0,
              "ticks": ""
             }
            },
            "type": "parcoords"
           }
          ],
          "pie": [
           {
            "automargin": true,
            "type": "pie"
           }
          ],
          "scatter": [
           {
            "fillpattern": {
             "fillmode": "overlay",
             "size": 10,
             "solidity": 0.2
            },
            "type": "scatter"
           }
          ],
          "scatter3d": [
           {
            "line": {
             "colorbar": {
              "outlinewidth": 0,
              "ticks": ""
             }
            },
            "marker": {
             "colorbar": {
              "outlinewidth": 0,
              "ticks": ""
             }
            },
            "type": "scatter3d"
           }
          ],
          "scattercarpet": [
           {
            "marker": {
             "colorbar": {
              "outlinewidth": 0,
              "ticks": ""
             }
            },
            "type": "scattercarpet"
           }
          ],
          "scattergeo": [
           {
            "marker": {
             "colorbar": {
              "outlinewidth": 0,
              "ticks": ""
             }
            },
            "type": "scattergeo"
           }
          ],
          "scattergl": [
           {
            "marker": {
             "colorbar": {
              "outlinewidth": 0,
              "ticks": ""
             }
            },
            "type": "scattergl"
           }
          ],
          "scattermapbox": [
           {
            "marker": {
             "colorbar": {
              "outlinewidth": 0,
              "ticks": ""
             }
            },
            "type": "scattermapbox"
           }
          ],
          "scatterpolar": [
           {
            "marker": {
             "colorbar": {
              "outlinewidth": 0,
              "ticks": ""
             }
            },
            "type": "scatterpolar"
           }
          ],
          "scatterpolargl": [
           {
            "marker": {
             "colorbar": {
              "outlinewidth": 0,
              "ticks": ""
             }
            },
            "type": "scatterpolargl"
           }
          ],
          "scatterternary": [
           {
            "marker": {
             "colorbar": {
              "outlinewidth": 0,
              "ticks": ""
             }
            },
            "type": "scatterternary"
           }
          ],
          "surface": [
           {
            "colorbar": {
             "outlinewidth": 0,
             "ticks": ""
            },
            "colorscale": [
             [
              0,
              "#0d0887"
             ],
             [
              0.1111111111111111,
              "#46039f"
             ],
             [
              0.2222222222222222,
              "#7201a8"
             ],
             [
              0.3333333333333333,
              "#9c179e"
             ],
             [
              0.4444444444444444,
              "#bd3786"
             ],
             [
              0.5555555555555556,
              "#d8576b"
             ],
             [
              0.6666666666666666,
              "#ed7953"
             ],
             [
              0.7777777777777778,
              "#fb9f3a"
             ],
             [
              0.8888888888888888,
              "#fdca26"
             ],
             [
              1,
              "#f0f921"
             ]
            ],
            "type": "surface"
           }
          ],
          "table": [
           {
            "cells": {
             "fill": {
              "color": "#EBF0F8"
             },
             "line": {
              "color": "white"
             }
            },
            "header": {
             "fill": {
              "color": "#C8D4E3"
             },
             "line": {
              "color": "white"
             }
            },
            "type": "table"
           }
          ]
         },
         "layout": {
          "annotationdefaults": {
           "arrowcolor": "#2a3f5f",
           "arrowhead": 0,
           "arrowwidth": 1
          },
          "autotypenumbers": "strict",
          "coloraxis": {
           "colorbar": {
            "outlinewidth": 0,
            "ticks": ""
           }
          },
          "colorscale": {
           "diverging": [
            [
             0,
             "#8e0152"
            ],
            [
             0.1,
             "#c51b7d"
            ],
            [
             0.2,
             "#de77ae"
            ],
            [
             0.3,
             "#f1b6da"
            ],
            [
             0.4,
             "#fde0ef"
            ],
            [
             0.5,
             "#f7f7f7"
            ],
            [
             0.6,
             "#e6f5d0"
            ],
            [
             0.7,
             "#b8e186"
            ],
            [
             0.8,
             "#7fbc41"
            ],
            [
             0.9,
             "#4d9221"
            ],
            [
             1,
             "#276419"
            ]
           ],
           "sequential": [
            [
             0,
             "#0d0887"
            ],
            [
             0.1111111111111111,
             "#46039f"
            ],
            [
             0.2222222222222222,
             "#7201a8"
            ],
            [
             0.3333333333333333,
             "#9c179e"
            ],
            [
             0.4444444444444444,
             "#bd3786"
            ],
            [
             0.5555555555555556,
             "#d8576b"
            ],
            [
             0.6666666666666666,
             "#ed7953"
            ],
            [
             0.7777777777777778,
             "#fb9f3a"
            ],
            [
             0.8888888888888888,
             "#fdca26"
            ],
            [
             1,
             "#f0f921"
            ]
           ],
           "sequentialminus": [
            [
             0,
             "#0d0887"
            ],
            [
             0.1111111111111111,
             "#46039f"
            ],
            [
             0.2222222222222222,
             "#7201a8"
            ],
            [
             0.3333333333333333,
             "#9c179e"
            ],
            [
             0.4444444444444444,
             "#bd3786"
            ],
            [
             0.5555555555555556,
             "#d8576b"
            ],
            [
             0.6666666666666666,
             "#ed7953"
            ],
            [
             0.7777777777777778,
             "#fb9f3a"
            ],
            [
             0.8888888888888888,
             "#fdca26"
            ],
            [
             1,
             "#f0f921"
            ]
           ]
          },
          "colorway": [
           "#636efa",
           "#EF553B",
           "#00cc96",
           "#ab63fa",
           "#FFA15A",
           "#19d3f3",
           "#FF6692",
           "#B6E880",
           "#FF97FF",
           "#FECB52"
          ],
          "font": {
           "color": "#2a3f5f"
          },
          "geo": {
           "bgcolor": "white",
           "lakecolor": "white",
           "landcolor": "#E5ECF6",
           "showlakes": true,
           "showland": true,
           "subunitcolor": "white"
          },
          "hoverlabel": {
           "align": "left"
          },
          "hovermode": "closest",
          "mapbox": {
           "style": "light"
          },
          "paper_bgcolor": "white",
          "plot_bgcolor": "#E5ECF6",
          "polar": {
           "angularaxis": {
            "gridcolor": "white",
            "linecolor": "white",
            "ticks": ""
           },
           "bgcolor": "#E5ECF6",
           "radialaxis": {
            "gridcolor": "white",
            "linecolor": "white",
            "ticks": ""
           }
          },
          "scene": {
           "xaxis": {
            "backgroundcolor": "#E5ECF6",
            "gridcolor": "white",
            "gridwidth": 2,
            "linecolor": "white",
            "showbackground": true,
            "ticks": "",
            "zerolinecolor": "white"
           },
           "yaxis": {
            "backgroundcolor": "#E5ECF6",
            "gridcolor": "white",
            "gridwidth": 2,
            "linecolor": "white",
            "showbackground": true,
            "ticks": "",
            "zerolinecolor": "white"
           },
           "zaxis": {
            "backgroundcolor": "#E5ECF6",
            "gridcolor": "white",
            "gridwidth": 2,
            "linecolor": "white",
            "showbackground": true,
            "ticks": "",
            "zerolinecolor": "white"
           }
          },
          "shapedefaults": {
           "line": {
            "color": "#2a3f5f"
           }
          },
          "ternary": {
           "aaxis": {
            "gridcolor": "white",
            "linecolor": "white",
            "ticks": ""
           },
           "baxis": {
            "gridcolor": "white",
            "linecolor": "white",
            "ticks": ""
           },
           "bgcolor": "#E5ECF6",
           "caxis": {
            "gridcolor": "white",
            "linecolor": "white",
            "ticks": ""
           }
          },
          "title": {
           "x": 0.05
          },
          "xaxis": {
           "automargin": true,
           "gridcolor": "white",
           "linecolor": "white",
           "ticks": "",
           "title": {
            "standoff": 15
           },
           "zerolinecolor": "white",
           "zerolinewidth": 2
          },
          "yaxis": {
           "automargin": true,
           "gridcolor": "white",
           "linecolor": "white",
           "ticks": "",
           "title": {
            "standoff": 15
           },
           "zerolinecolor": "white",
           "zerolinewidth": 2
          }
         }
        },
        "title": {
         "text": "Participant: P02"
        },
        "xaxis": {
         "anchor": "y",
         "domain": [
          0,
          1
         ],
         "tickformat": "%Q",
         "type": "date"
        },
        "yaxis": {
         "anchor": "x",
         "categoryarray": [
          "Verified",
          "Status",
          "Responsabilities",
          "Place",
          "Participant_Profile_Picture",
          "Participant_Bio",
          "Participants_Overview",
          "Online",
          "Instructions",
          "Ingredients",
          "Gen_Info",
          "Food",
          "Fav",
          "Description_2",
          "Description_1",
          "Date_Place_2",
          "Date_Place_1",
          "CTA_1",
          "Chat"
         ],
         "categoryorder": "array",
         "domain": [
          0,
          1
         ],
         "title": {
          "text": "VisitedAOI"
         }
        }
       }
      },
      "text/html": [
       "<div>                            <div id=\"8e143981-e31e-4c64-baec-8f7d5cbf936c\" class=\"plotly-graph-div\" style=\"height:525px; width:100%;\"></div>            <script type=\"text/javascript\">                require([\"plotly\"], function(Plotly) {                    window.PLOTLYENV=window.PLOTLYENV || {};                                    if (document.getElementById(\"8e143981-e31e-4c64-baec-8f7d5cbf936c\")) {                    Plotly.newPlot(                        \"8e143981-e31e-4c64-baec-8f7d5cbf936c\",                        [{\"alignmentgroup\":\"True\",\"base\":[\"1970-01-01T00:00:45.222895\",\"1970-01-01T00:01:00.871217\",\"1970-01-01T00:01:02.587680\",\"1970-01-01T00:01:17.119437\",\"1970-01-01T00:01:54.307047\",\"1970-01-01T00:01:55.665220\"],\"hovertemplate\":\"VisitedAOI=%{y}<br>Dwell Start=%{base}<br>Dwell End=%{x}<extra></extra>\",\"legendgroup\":\"Chat\",\"marker\":{\"color\":\"#636efa\",\"pattern\":{\"shape\":\"\"}},\"name\":\"Chat\",\"offsetgroup\":\"Chat\",\"orientation\":\"h\",\"showlegend\":true,\"textposition\":\"auto\",\"x\":[449.0,574.0,583.0,258.0,183.0,166.0],\"xaxis\":\"x\",\"y\":[\"Chat\",\"Chat\",\"Chat\",\"Chat\",\"Chat\",\"Chat\"],\"yaxis\":\"y\",\"type\":\"bar\"},{\"alignmentgroup\":\"True\",\"base\":[\"1970-01-01T00:00:04.902317\",\"1970-01-01T00:01:13.186539\",\"1970-01-01T00:01:16.027946\",\"1970-01-01T00:01:17.761035\",\"1970-01-01T00:01:46.541244\",\"1970-01-01T00:01:49.382571\",\"1970-01-01T00:02:02.822790\"],\"hovertemplate\":\"VisitedAOI=%{y}<br>Dwell Start=%{base}<br>Dwell End=%{x}<extra></extra>\",\"legendgroup\":\"CTA_1\",\"marker\":{\"color\":\"#EF553B\",\"pattern\":{\"shape\":\"\"}},\"name\":\"CTA_1\",\"offsetgroup\":\"CTA_1\",\"orientation\":\"h\",\"showlegend\":true,\"textposition\":\"auto\",\"x\":[25.0,166.0,358.0,199.0,83.0,174.0,149.0],\"xaxis\":\"x\",\"y\":[\"CTA_1\",\"CTA_1\",\"CTA_1\",\"CTA_1\",\"CTA_1\",\"CTA_1\",\"CTA_1\"],\"yaxis\":\"y\",\"type\":\"bar\"},{\"alignmentgroup\":\"True\",\"base\":[\"1970-01-01T00:00:11.109996\",\"1970-01-01T00:00:14.401281\",\"1970-01-01T00:00:49.505761\",\"1970-01-01T00:01:13.486537\",\"1970-01-01T00:01:14.478074\",\"1970-01-01T00:01:18.810949\",\"1970-01-01T00:01:19.419222\",\"1970-01-01T00:01:23.843695\",\"1970-01-01T00:01:47.982739\",\"1970-01-01T00:01:50.315806\",\"1970-01-01T00:02:01.747900\",\"1970-01-01T00:02:02.339491\"],\"hovertemplate\":\"VisitedAOI=%{y}<br>Dwell Start=%{base}<br>Dwell End=%{x}<extra></extra>\",\"legendgroup\":\"Date_Place_1\",\"marker\":{\"color\":\"#00cc96\",\"pattern\":{\"shape\":\"\"}},\"name\":\"Date_Place_1\",\"offsetgroup\":\"Date_Place_1\",\"orientation\":\"h\",\"showlegend\":true,\"textposition\":\"auto\",\"x\":[1441.0,441.0,325.0,358.0,24.0,224.0,733.0,1124.0,449.0,574.0,183.0,183.0],\"xaxis\":\"x\",\"y\":[\"Date_Place_1\",\"Date_Place_1\",\"Date_Place_1\",\"Date_Place_1\",\"Date_Place_1\",\"Date_Place_1\",\"Date_Place_1\",\"Date_Place_1\",\"Date_Place_1\",\"Date_Place_1\",\"Date_Place_1\",\"Date_Place_1\"],\"yaxis\":\"y\",\"type\":\"bar\"},{\"alignmentgroup\":\"True\",\"base\":[\"1970-01-01T00:00:15.434497\",\"1970-01-01T00:00:16.251098\",\"1970-01-01T00:00:16.734343\",\"1970-01-01T00:00:51.380553\",\"1970-01-01T00:00:51.730514\",\"1970-01-01T00:01:26.035163\",\"1970-01-01T00:01:28.518191\",\"1970-01-01T00:01:53.432118\"],\"hovertemplate\":\"VisitedAOI=%{y}<br>Dwell Start=%{base}<br>Dwell End=%{x}<extra></extra>\",\"legendgroup\":\"Date_Place_2\",\"marker\":{\"color\":\"#ab63fa\",\"pattern\":{\"shape\":\"\"}},\"name\":\"Date_Place_2\",\"offsetgroup\":\"Date_Place_2\",\"orientation\":\"h\",\"showlegend\":true,\"textposition\":\"auto\",\"x\":[108.0,24.0,274.0,24.0,258.0,333.0,191.0,133.0],\"xaxis\":\"x\",\"y\":[\"Date_Place_2\",\"Date_Place_2\",\"Date_Place_2\",\"Date_Place_2\",\"Date_Place_2\",\"Date_Place_2\",\"Date_Place_2\",\"Date_Place_2\"],\"yaxis\":\"y\",\"type\":\"bar\"},{\"alignmentgroup\":\"True\",\"base\":[\"1970-01-01T00:00:12.551489\",\"1970-01-01T00:01:14.519727\",\"1970-01-01T00:01:19.069251\",\"1970-01-01T00:01:24.968587\",\"1970-01-01T00:01:48.432691\",\"1970-01-01T00:02:01.356260\",\"1970-01-01T00:02:01.439571\"],\"hovertemplate\":\"VisitedAOI=%{y}<br>Dwell Start=%{base}<br>Dwell End=%{x}<extra></extra>\",\"legendgroup\":\"Description_1\",\"marker\":{\"color\":\"#FFA15A\",\"pattern\":{\"shape\":\"\"}},\"name\":\"Description_1\",\"offsetgroup\":\"Description_1\",\"orientation\":\"h\",\"showlegend\":true,\"textposition\":\"auto\",\"x\":[1849.0,424.0,341.0,249.0,249.0,8.0,308.0],\"xaxis\":\"x\",\"y\":[\"Description_1\",\"Description_1\",\"Description_1\",\"Description_1\",\"Description_1\",\"Description_1\",\"Description_1\"],\"yaxis\":\"y\",\"type\":\"bar\"},{\"alignmentgroup\":\"True\",\"base\":[\"1970-01-01T00:00:16.276090\",\"1970-01-01T00:00:17.009318\",\"1970-01-01T00:01:28.259929\",\"1970-01-01T00:01:53.223832\"],\"hovertemplate\":\"VisitedAOI=%{y}<br>Dwell Start=%{base}<br>Dwell End=%{x}<extra></extra>\",\"legendgroup\":\"Description_2\",\"marker\":{\"color\":\"#19d3f3\",\"pattern\":{\"shape\":\"\"}},\"name\":\"Description_2\",\"offsetgroup\":\"Description_2\",\"orientation\":\"h\",\"showlegend\":true,\"textposition\":\"auto\",\"x\":[458.0,3416.0,258.0,208.0],\"xaxis\":\"x\",\"y\":[\"Description_2\",\"Description_2\",\"Description_2\",\"Description_2\"],\"yaxis\":\"y\",\"type\":\"bar\"},{\"alignmentgroup\":\"True\",\"base\":[\"1970-01-01T00:00:44.522967\",\"1970-01-01T00:00:45.981133\",\"1970-01-01T00:01:00.412959\",\"1970-01-01T00:01:00.612971\",\"1970-01-01T00:01:01.454469\",\"1970-01-01T00:01:02.121089\",\"1970-01-01T00:01:16.727853\",\"1970-01-01T00:01:51.740641\",\"1970-01-01T00:01:52.015604\",\"1970-01-01T00:02:05.955754\"],\"hovertemplate\":\"VisitedAOI=%{y}<br>Dwell Start=%{base}<br>Dwell End=%{x}<extra></extra>\",\"legendgroup\":\"Fav\",\"marker\":{\"color\":\"#FF6692\",\"pattern\":{\"shape\":\"\"}},\"name\":\"Fav\",\"offsetgroup\":\"Fav\",\"orientation\":\"h\",\"showlegend\":true,\"textposition\":\"auto\",\"x\":[666.0,549.0,183.0,258.0,341.0,116.0,391.0,233.0,758.0,133.0],\"xaxis\":\"x\",\"y\":[\"Fav\",\"Fav\",\"Fav\",\"Fav\",\"Fav\",\"Fav\",\"Fav\",\"Fav\",\"Fav\",\"Fav\"],\"yaxis\":\"y\",\"type\":\"bar\"},{\"alignmentgroup\":\"True\",\"base\":[\"1970-01-01T00:00:00.811085\",\"1970-01-01T00:00:04.019119\",\"1970-01-01T00:00:15.042869\",\"1970-01-01T00:01:12.220008\",\"1970-01-01T00:01:20.310754\",\"1970-01-01T00:01:22.535613\",\"1970-01-01T00:01:46.249640\",\"1970-01-01T00:01:46.757877\",\"1970-01-01T00:02:02.972766\"],\"hovertemplate\":\"VisitedAOI=%{y}<br>Dwell Start=%{base}<br>Dwell End=%{x}<extra></extra>\",\"legendgroup\":\"Food\",\"marker\":{\"color\":\"#B6E880\",\"pattern\":{\"shape\":\"\"}},\"name\":\"Food\",\"offsetgroup\":\"Food\",\"orientation\":\"h\",\"showlegend\":true,\"textposition\":\"auto\",\"x\":[275.0,874.0,358.0,274.0,191.0,358.0,249.0,241.0,299.0],\"xaxis\":\"x\",\"y\":[\"Food\",\"Food\",\"Food\",\"Food\",\"Food\",\"Food\",\"Food\",\"Food\",\"Food\"],\"yaxis\":\"y\",\"type\":\"bar\"},{\"alignmentgroup\":\"True\",\"base\":[\"1970-01-01T00:00:05.693887\",\"1970-01-01T00:00:07.152101\",\"1970-01-01T00:00:07.568702\",\"1970-01-01T00:00:48.897497\",\"1970-01-01T00:01:10.711845\",\"1970-01-01T00:01:11.861720\",\"1970-01-01T00:01:12.045000\",\"1970-01-01T00:01:15.819581\",\"1970-01-01T00:01:16.419527\",\"1970-01-01T00:01:16.586210\",\"1970-01-01T00:01:17.977680\",\"1970-01-01T00:01:20.502410\",\"1970-01-01T00:01:27.468306\",\"1970-01-01T00:01:46.632885\",\"1970-01-01T00:01:48.982627\"],\"hovertemplate\":\"VisitedAOI=%{y}<br>Dwell Start=%{base}<br>Dwell End=%{x}<extra></extra>\",\"legendgroup\":\"Gen_Info\",\"marker\":{\"color\":\"#FF97FF\",\"pattern\":{\"shape\":\"\"}},\"name\":\"Gen_Info\",\"offsetgroup\":\"Gen_Info\",\"orientation\":\"h\",\"showlegend\":true,\"textposition\":\"auto\",\"x\":[841.0,208.0,8.0,433.0,141.0,166.0,175.0,208.0,74.0,8.0,291.0,2024.0,624.0,91.0,399.0],\"xaxis\":\"x\",\"y\":[\"Gen_Info\",\"Gen_Info\",\"Gen_Info\",\"Gen_Info\",\"Gen_Info\",\"Gen_Info\",\"Gen_Info\",\"Gen_Info\",\"Gen_Info\",\"Gen_Info\",\"Gen_Info\",\"Gen_Info\",\"Gen_Info\",\"Gen_Info\",\"Gen_Info\"],\"yaxis\":\"y\",\"type\":\"bar\"},{\"alignmentgroup\":\"True\",\"base\":[\"1970-01-01T00:00:00.377808\",\"1970-01-01T00:00:20.433924\",\"1970-01-01T00:00:21.517159\",\"1970-01-01T00:00:22.925311\",\"1970-01-01T00:00:23.400280\",\"1970-01-01T00:00:27.116526\",\"1970-01-01T00:00:49.830774\",\"1970-01-01T00:00:50.572334\",\"1970-01-01T00:01:12.686601\",\"1970-01-01T00:01:25.676852\",\"1970-01-01T00:01:28.709873\",\"1970-01-01T00:01:53.007181\",\"1970-01-01T00:02:03.414367\"],\"hovertemplate\":\"VisitedAOI=%{y}<br>Dwell Start=%{base}<br>Dwell End=%{x}<extra></extra>\",\"legendgroup\":\"Ingredients\",\"marker\":{\"color\":\"#FECB52\",\"pattern\":{\"shape\":\"\"}},\"name\":\"Ingredients\",\"offsetgroup\":\"Ingredients\",\"orientation\":\"h\",\"showlegend\":true,\"textposition\":\"auto\",\"x\":[383.0,158.0,366.0,133.0,1133.0,1058.0,133.0,449.0,449.0,291.0,441.0,216.0,199.0],\"xaxis\":\"x\",\"y\":[\"Ingredients\",\"Ingredients\",\"Ingredients\",\"Ingredients\",\"Ingredients\",\"Ingredients\",\"Ingredients\",\"Ingredients\",\"Ingredients\",\"Ingredients\",\"Ingredients\",\"Ingredients\",\"Ingredients\"],\"yaxis\":\"y\",\"type\":\"bar\"},{\"alignmentgroup\":\"True\",\"base\":[\"1970-01-01T00:00:28.174760\",\"1970-01-01T00:00:31.241085\",\"1970-01-01T00:00:31.824361\",\"1970-01-01T00:00:37.457071\",\"1970-01-01T00:00:55.321814\",\"1970-01-01T00:01:25.285216\",\"1970-01-01T00:01:29.284784\",\"1970-01-01T00:01:51.565656\",\"1970-01-01T00:01:52.823854\",\"1970-01-01T00:01:53.590432\",\"1970-01-01T00:02:03.647703\",\"1970-01-01T00:02:07.760384\"],\"hovertemplate\":\"VisitedAOI=%{y}<br>Dwell Start=%{base}<br>Dwell End=%{x}<extra></extra>\",\"legendgroup\":\"Instructions\",\"marker\":{\"color\":\"#636efa\",\"pattern\":{\"shape\":\"\"}},\"name\":\"Instructions\",\"offsetgroup\":\"Instructions\",\"orientation\":\"h\",\"showlegend\":true,\"textposition\":\"auto\",\"x\":[2958.0,541.0,5549.0,5024.0,174.0,391.0,1108.0,133.0,183.0,466.0,491.0,216.0],\"xaxis\":\"x\",\"y\":[\"Instructions\",\"Instructions\",\"Instructions\",\"Instructions\",\"Instructions\",\"Instructions\",\"Instructions\",\"Instructions\",\"Instructions\",\"Instructions\",\"Instructions\",\"Instructions\"],\"yaxis\":\"y\",\"type\":\"bar\"},{\"alignmentgroup\":\"True\",\"base\":[\"1970-01-01T00:00:46.731064\",\"1970-01-01T00:00:54.521879\",\"1970-01-01T00:00:55.571806\",\"1970-01-01T00:01:02.512731\",\"1970-01-01T00:01:38.483747\",\"1970-01-01T00:01:41.150136\",\"1970-01-01T00:01:42.191673\",\"1970-01-01T00:01:55.106950\",\"1970-01-01T00:01:56.440135\",\"1970-01-01T00:02:00.364725\",\"1970-01-01T00:02:05.205860\",\"1970-01-01T00:02:05.514122\"],\"hovertemplate\":\"VisitedAOI=%{y}<br>Dwell Start=%{base}<br>Dwell End=%{x}<extra></extra>\",\"legendgroup\":\"Online\",\"marker\":{\"color\":\"#EF553B\",\"pattern\":{\"shape\":\"\"}},\"name\":\"Online\",\"offsetgroup\":\"Online\",\"orientation\":\"h\",\"showlegend\":true,\"textposition\":\"auto\",\"x\":[158.0,291.0,249.0,8.0,266.0,74.0,299.0,333.0,374.0,524.0,274.0,316.0],\"xaxis\":\"x\",\"y\":[\"Online\",\"Online\",\"Online\",\"Online\",\"Online\",\"Online\",\"Online\",\"Online\",\"Online\",\"Online\",\"Online\",\"Online\"],\"yaxis\":\"y\",\"type\":\"bar\"},{\"alignmentgroup\":\"True\",\"base\":[\"1970-01-01T00:00:06.677127\",\"1970-01-01T00:00:07.585364\",\"1970-01-01T00:00:14.901213\",\"1970-01-01T00:00:48.730840\",\"1970-01-01T00:00:49.372445\",\"1970-01-01T00:01:10.461835\",\"1970-01-01T00:01:10.945149\",\"1970-01-01T00:01:13.878139\",\"1970-01-01T00:01:15.003008\",\"1970-01-01T00:01:16.527886\",\"1970-01-01T00:01:17.569392\",\"1970-01-01T00:01:18.269343\",\"1970-01-01T00:01:22.952149\",\"1970-01-01T00:01:27.101676\",\"1970-01-01T00:01:34.700867\",\"1970-01-01T00:01:47.082879\",\"1970-01-01T00:01:48.740973\",\"1970-01-01T00:01:49.699215\",\"1970-01-01T00:01:50.915759\",\"1970-01-01T00:02:02.089550\",\"1970-01-01T00:02:02.589480\"],\"hovertemplate\":\"VisitedAOI=%{y}<br>Dwell Start=%{base}<br>Dwell End=%{x}<extra></extra>\",\"legendgroup\":\"Participants_Overview\",\"marker\":{\"color\":\"#00cc96\",\"pattern\":{\"shape\":\"\"}},\"name\":\"Participants_Overview\",\"offsetgroup\":\"Participants_Overview\",\"orientation\":\"h\",\"showlegend\":true,\"textposition\":\"auto\",\"x\":[441.0,3457.0,141.0,166.0,116.0,166.0,899.0,341.0,816.0,41.0,25.0,541.0,858.0,366.0,533.0,883.0,158.0,566.0,649.0,124.0,124.0],\"xaxis\":\"x\",\"y\":[\"Participants_Overview\",\"Participants_Overview\",\"Participants_Overview\",\"Participants_Overview\",\"Participants_Overview\",\"Participants_Overview\",\"Participants_Overview\",\"Participants_Overview\",\"Participants_Overview\",\"Participants_Overview\",\"Participants_Overview\",\"Participants_Overview\",\"Participants_Overview\",\"Participants_Overview\",\"Participants_Overview\",\"Participants_Overview\",\"Participants_Overview\",\"Participants_Overview\",\"Participants_Overview\",\"Participants_Overview\",\"Participants_Overview\"],\"yaxis\":\"y\",\"type\":\"bar\"},{\"alignmentgroup\":\"True\",\"base\":[\"1970-01-01T00:00:45.672831\",\"1970-01-01T00:00:46.531074\",\"1970-01-01T00:00:47.605985\",\"1970-01-01T00:00:48.197579\",\"1970-01-01T00:00:54.205306\",\"1970-01-01T00:00:54.363574\",\"1970-01-01T00:00:55.821753\",\"1970-01-01T00:01:01.829428\",\"1970-01-01T00:01:02.037787\",\"1970-01-01T00:01:03.171002\",\"1970-01-01T00:01:32.942703\",\"1970-01-01T00:01:36.084041\",\"1970-01-01T00:01:43.641531\",\"1970-01-01T00:01:54.173729\",\"1970-01-01T00:01:54.682000\",\"1970-01-01T00:01:55.831856\",\"1970-01-01T00:02:04.405929\",\"1970-01-01T00:02:06.089094\"],\"hovertemplate\":\"VisitedAOI=%{y}<br>Dwell Start=%{base}<br>Dwell End=%{x}<extra></extra>\",\"legendgroup\":\"Participant_Bio\",\"marker\":{\"color\":\"#ab63fa\",\"pattern\":{\"shape\":\"\"}},\"name\":\"Participant_Bio\",\"offsetgroup\":\"Participant_Bio\",\"orientation\":\"h\",\"showlegend\":true,\"textposition\":\"auto\",\"x\":[308.0,41.0,433.0,433.0,8.0,99.0,199.0,133.0,83.0,4624.0,858.0,791.0,958.0,99.0,324.0,216.0,383.0,491.0],\"xaxis\":\"x\",\"y\":[\"Participant_Bio\",\"Participant_Bio\",\"Participant_Bio\",\"Participant_Bio\",\"Participant_Bio\",\"Participant_Bio\",\"Participant_Bio\",\"Participant_Bio\",\"Participant_Bio\",\"Participant_Bio\",\"Participant_Bio\",\"Participant_Bio\",\"Participant_Bio\",\"Participant_Bio\",\"Participant_Bio\",\"Participant_Bio\",\"Participant_Bio\",\"Participant_Bio\"],\"yaxis\":\"y\",\"type\":\"bar\"},{\"alignmentgroup\":\"True\",\"base\":[\"1970-01-01T00:00:42.548187\",\"1970-01-01T00:00:44.264677\",\"1970-01-01T00:00:52.088850\",\"1970-01-01T00:00:53.347008\",\"1970-01-01T00:00:56.021749\",\"1970-01-01T00:00:59.263075\",\"1970-01-01T00:01:31.017931\",\"1970-01-01T00:01:32.551081\",\"1970-01-01T00:01:35.417478\",\"1970-01-01T00:01:44.791431\",\"1970-01-01T00:01:45.149718\",\"1970-01-01T00:02:04.205957\"],\"hovertemplate\":\"VisitedAOI=%{y}<br>Dwell Start=%{base}<br>Dwell End=%{x}<extra></extra>\",\"legendgroup\":\"Participant_Profile_Picture\",\"marker\":{\"color\":\"#FFA15A\",\"pattern\":{\"shape\":\"\"}},\"name\":\"Participant_Profile_Picture\",\"offsetgroup\":\"Participant_Profile_Picture\",\"orientation\":\"h\",\"showlegend\":true,\"textposition\":\"auto\",\"x\":[933.0,258.0,258.0,683.0,591.0,1149.0,933.0,299.0,624.0,41.0,158.0,149.0],\"xaxis\":\"x\",\"y\":[\"Participant_Profile_Picture\",\"Participant_Profile_Picture\",\"Participant_Profile_Picture\",\"Participant_Profile_Picture\",\"Participant_Profile_Picture\",\"Participant_Profile_Picture\",\"Participant_Profile_Picture\",\"Participant_Profile_Picture\",\"Participant_Profile_Picture\",\"Participant_Profile_Picture\",\"Participant_Profile_Picture\",\"Participant_Profile_Picture\"],\"yaxis\":\"y\",\"type\":\"bar\"},{\"alignmentgroup\":\"True\",\"base\":[\"1970-01-01T00:01:07.953776\",\"1970-01-01T00:01:08.737017\",\"1970-01-01T00:01:33.834293\",\"1970-01-01T00:01:36.908919\",\"1970-01-01T00:01:37.525520\",\"1970-01-01T00:01:39.375315\",\"1970-01-01T00:01:40.941839\",\"1970-01-01T00:01:42.166696\",\"1970-01-01T00:01:42.991609\",\"1970-01-01T00:01:56.073496\",\"1970-01-01T00:01:57.073397\",\"1970-01-01T00:01:58.089941\",\"1970-01-01T00:01:59.264825\",\"1970-01-01T00:01:59.739754\",\"1970-01-01T00:02:00.897965\"],\"hovertemplate\":\"VisitedAOI=%{y}<br>Dwell Start=%{base}<br>Dwell End=%{x}<extra></extra>\",\"legendgroup\":\"Place\",\"marker\":{\"color\":\"#19d3f3\",\"pattern\":{\"shape\":\"\"}},\"name\":\"Place\",\"offsetgroup\":\"Place\",\"orientation\":\"h\",\"showlegend\":true,\"textposition\":\"auto\",\"x\":[183.0,483.0,408.0,324.0,266.0,691.0,174.0,24.0,274.0,324.0,199.0,191.0,266.0,574.0,349.0],\"xaxis\":\"x\",\"y\":[\"Place\",\"Place\",\"Place\",\"Place\",\"Place\",\"Place\",\"Place\",\"Place\",\"Place\",\"Place\",\"Place\",\"Place\",\"Place\",\"Place\",\"Place\"],\"yaxis\":\"y\",\"type\":\"bar\"},{\"alignmentgroup\":\"True\",\"base\":[\"1970-01-01T00:00:20.650565\",\"1970-01-01T00:00:22.575352\",\"1970-01-01T00:00:23.058646\",\"1970-01-01T00:00:24.600139\",\"1970-01-01T00:00:49.964044\",\"1970-01-01T00:00:51.022261\"],\"hovertemplate\":\"VisitedAOI=%{y}<br>Dwell Start=%{base}<br>Dwell End=%{x}<extra></extra>\",\"legendgroup\":\"Responsabilities\",\"marker\":{\"color\":\"#FF6692\",\"pattern\":{\"shape\":\"\"}},\"name\":\"Responsabilities\",\"offsetgroup\":\"Responsabilities\",\"orientation\":\"h\",\"showlegend\":true,\"textposition\":\"auto\",\"x\":[866.0,349.0,299.0,2516.0,608.0,199.0],\"xaxis\":\"x\",\"y\":[\"Responsabilities\",\"Responsabilities\",\"Responsabilities\",\"Responsabilities\",\"Responsabilities\",\"Responsabilities\"],\"yaxis\":\"y\",\"type\":\"bar\"},{\"alignmentgroup\":\"True\",\"base\":[\"1970-01-01T00:01:37.792174\",\"1970-01-01T00:01:40.066910\",\"1970-01-01T00:01:41.400126\",\"1970-01-01T00:01:43.283236\",\"1970-01-01T00:01:57.323389\"],\"hovertemplate\":\"VisitedAOI=%{y}<br>Dwell Start=%{base}<br>Dwell End=%{x}<extra></extra>\",\"legendgroup\":\"Status\",\"marker\":{\"color\":\"#B6E880\",\"pattern\":{\"shape\":\"\"}},\"name\":\"Status\",\"offsetgroup\":\"Status\",\"orientation\":\"h\",\"showlegend\":true,\"textposition\":\"auto\",\"x\":[658.0,566.0,766.0,116.0,716.0],\"xaxis\":\"x\",\"y\":[\"Status\",\"Status\",\"Status\",\"Status\",\"Status\"],\"yaxis\":\"y\",\"type\":\"bar\"},{\"alignmentgroup\":\"True\",\"base\":[\"1970-01-01T00:00:46.922731\",\"1970-01-01T00:00:54.963504\",\"1970-01-01T00:01:08.212123\",\"1970-01-01T00:01:09.220301\",\"1970-01-01T00:01:34.275884\",\"1970-01-01T00:01:37.250578\",\"1970-01-01T00:01:39.008721\",\"1970-01-01T00:01:40.700206\",\"1970-01-01T00:01:42.541730\",\"1970-01-01T00:01:58.314918\",\"1970-01-01T00:02:04.997541\"],\"hovertemplate\":\"VisitedAOI=%{y}<br>Dwell Start=%{base}<br>Dwell End=%{x}<extra></extra>\",\"legendgroup\":\"Verified\",\"marker\":{\"color\":\"#FF97FF\",\"pattern\":{\"shape\":\"\"}},\"name\":\"Verified\",\"offsetgroup\":\"Verified\",\"orientation\":\"h\",\"showlegend\":true,\"textposition\":\"auto\",\"x\":[416.0,291.0,491.0,291.0,341.0,274.0,324.0,216.0,366.0,924.0,208.0],\"xaxis\":\"x\",\"y\":[\"Verified\",\"Verified\",\"Verified\",\"Verified\",\"Verified\",\"Verified\",\"Verified\",\"Verified\",\"Verified\",\"Verified\",\"Verified\"],\"yaxis\":\"y\",\"type\":\"bar\"}],                        {\"template\":{\"data\":{\"histogram2dcontour\":[{\"type\":\"histogram2dcontour\",\"colorbar\":{\"outlinewidth\":0,\"ticks\":\"\"},\"colorscale\":[[0.0,\"#0d0887\"],[0.1111111111111111,\"#46039f\"],[0.2222222222222222,\"#7201a8\"],[0.3333333333333333,\"#9c179e\"],[0.4444444444444444,\"#bd3786\"],[0.5555555555555556,\"#d8576b\"],[0.6666666666666666,\"#ed7953\"],[0.7777777777777778,\"#fb9f3a\"],[0.8888888888888888,\"#fdca26\"],[1.0,\"#f0f921\"]]}],\"choropleth\":[{\"type\":\"choropleth\",\"colorbar\":{\"outlinewidth\":0,\"ticks\":\"\"}}],\"histogram2d\":[{\"type\":\"histogram2d\",\"colorbar\":{\"outlinewidth\":0,\"ticks\":\"\"},\"colorscale\":[[0.0,\"#0d0887\"],[0.1111111111111111,\"#46039f\"],[0.2222222222222222,\"#7201a8\"],[0.3333333333333333,\"#9c179e\"],[0.4444444444444444,\"#bd3786\"],[0.5555555555555556,\"#d8576b\"],[0.6666666666666666,\"#ed7953\"],[0.7777777777777778,\"#fb9f3a\"],[0.8888888888888888,\"#fdca26\"],[1.0,\"#f0f921\"]]}],\"heatmap\":[{\"type\":\"heatmap\",\"colorbar\":{\"outlinewidth\":0,\"ticks\":\"\"},\"colorscale\":[[0.0,\"#0d0887\"],[0.1111111111111111,\"#46039f\"],[0.2222222222222222,\"#7201a8\"],[0.3333333333333333,\"#9c179e\"],[0.4444444444444444,\"#bd3786\"],[0.5555555555555556,\"#d8576b\"],[0.6666666666666666,\"#ed7953\"],[0.7777777777777778,\"#fb9f3a\"],[0.8888888888888888,\"#fdca26\"],[1.0,\"#f0f921\"]]}],\"heatmapgl\":[{\"type\":\"heatmapgl\",\"colorbar\":{\"outlinewidth\":0,\"ticks\":\"\"},\"colorscale\":[[0.0,\"#0d0887\"],[0.1111111111111111,\"#46039f\"],[0.2222222222222222,\"#7201a8\"],[0.3333333333333333,\"#9c179e\"],[0.4444444444444444,\"#bd3786\"],[0.5555555555555556,\"#d8576b\"],[0.6666666666666666,\"#ed7953\"],[0.7777777777777778,\"#fb9f3a\"],[0.8888888888888888,\"#fdca26\"],[1.0,\"#f0f921\"]]}],\"contourcarpet\":[{\"type\":\"contourcarpet\",\"colorbar\":{\"outlinewidth\":0,\"ticks\":\"\"}}],\"contour\":[{\"type\":\"contour\",\"colorbar\":{\"outlinewidth\":0,\"ticks\":\"\"},\"colorscale\":[[0.0,\"#0d0887\"],[0.1111111111111111,\"#46039f\"],[0.2222222222222222,\"#7201a8\"],[0.3333333333333333,\"#9c179e\"],[0.4444444444444444,\"#bd3786\"],[0.5555555555555556,\"#d8576b\"],[0.6666666666666666,\"#ed7953\"],[0.7777777777777778,\"#fb9f3a\"],[0.8888888888888888,\"#fdca26\"],[1.0,\"#f0f921\"]]}],\"surface\":[{\"type\":\"surface\",\"colorbar\":{\"outlinewidth\":0,\"ticks\":\"\"},\"colorscale\":[[0.0,\"#0d0887\"],[0.1111111111111111,\"#46039f\"],[0.2222222222222222,\"#7201a8\"],[0.3333333333333333,\"#9c179e\"],[0.4444444444444444,\"#bd3786\"],[0.5555555555555556,\"#d8576b\"],[0.6666666666666666,\"#ed7953\"],[0.7777777777777778,\"#fb9f3a\"],[0.8888888888888888,\"#fdca26\"],[1.0,\"#f0f921\"]]}],\"mesh3d\":[{\"type\":\"mesh3d\",\"colorbar\":{\"outlinewidth\":0,\"ticks\":\"\"}}],\"scatter\":[{\"fillpattern\":{\"fillmode\":\"overlay\",\"size\":10,\"solidity\":0.2},\"type\":\"scatter\"}],\"parcoords\":[{\"type\":\"parcoords\",\"line\":{\"colorbar\":{\"outlinewidth\":0,\"ticks\":\"\"}}}],\"scatterpolargl\":[{\"type\":\"scatterpolargl\",\"marker\":{\"colorbar\":{\"outlinewidth\":0,\"ticks\":\"\"}}}],\"bar\":[{\"error_x\":{\"color\":\"#2a3f5f\"},\"error_y\":{\"color\":\"#2a3f5f\"},\"marker\":{\"line\":{\"color\":\"#E5ECF6\",\"width\":0.5},\"pattern\":{\"fillmode\":\"overlay\",\"size\":10,\"solidity\":0.2}},\"type\":\"bar\"}],\"scattergeo\":[{\"type\":\"scattergeo\",\"marker\":{\"colorbar\":{\"outlinewidth\":0,\"ticks\":\"\"}}}],\"scatterpolar\":[{\"type\":\"scatterpolar\",\"marker\":{\"colorbar\":{\"outlinewidth\":0,\"ticks\":\"\"}}}],\"histogram\":[{\"marker\":{\"pattern\":{\"fillmode\":\"overlay\",\"size\":10,\"solidity\":0.2}},\"type\":\"histogram\"}],\"scattergl\":[{\"type\":\"scattergl\",\"marker\":{\"colorbar\":{\"outlinewidth\":0,\"ticks\":\"\"}}}],\"scatter3d\":[{\"type\":\"scatter3d\",\"line\":{\"colorbar\":{\"outlinewidth\":0,\"ticks\":\"\"}},\"marker\":{\"colorbar\":{\"outlinewidth\":0,\"ticks\":\"\"}}}],\"scattermapbox\":[{\"type\":\"scattermapbox\",\"marker\":{\"colorbar\":{\"outlinewidth\":0,\"ticks\":\"\"}}}],\"scatterternary\":[{\"type\":\"scatterternary\",\"marker\":{\"colorbar\":{\"outlinewidth\":0,\"ticks\":\"\"}}}],\"scattercarpet\":[{\"type\":\"scattercarpet\",\"marker\":{\"colorbar\":{\"outlinewidth\":0,\"ticks\":\"\"}}}],\"carpet\":[{\"aaxis\":{\"endlinecolor\":\"#2a3f5f\",\"gridcolor\":\"white\",\"linecolor\":\"white\",\"minorgridcolor\":\"white\",\"startlinecolor\":\"#2a3f5f\"},\"baxis\":{\"endlinecolor\":\"#2a3f5f\",\"gridcolor\":\"white\",\"linecolor\":\"white\",\"minorgridcolor\":\"white\",\"startlinecolor\":\"#2a3f5f\"},\"type\":\"carpet\"}],\"table\":[{\"cells\":{\"fill\":{\"color\":\"#EBF0F8\"},\"line\":{\"color\":\"white\"}},\"header\":{\"fill\":{\"color\":\"#C8D4E3\"},\"line\":{\"color\":\"white\"}},\"type\":\"table\"}],\"barpolar\":[{\"marker\":{\"line\":{\"color\":\"#E5ECF6\",\"width\":0.5},\"pattern\":{\"fillmode\":\"overlay\",\"size\":10,\"solidity\":0.2}},\"type\":\"barpolar\"}],\"pie\":[{\"automargin\":true,\"type\":\"pie\"}]},\"layout\":{\"autotypenumbers\":\"strict\",\"colorway\":[\"#636efa\",\"#EF553B\",\"#00cc96\",\"#ab63fa\",\"#FFA15A\",\"#19d3f3\",\"#FF6692\",\"#B6E880\",\"#FF97FF\",\"#FECB52\"],\"font\":{\"color\":\"#2a3f5f\"},\"hovermode\":\"closest\",\"hoverlabel\":{\"align\":\"left\"},\"paper_bgcolor\":\"white\",\"plot_bgcolor\":\"#E5ECF6\",\"polar\":{\"bgcolor\":\"#E5ECF6\",\"angularaxis\":{\"gridcolor\":\"white\",\"linecolor\":\"white\",\"ticks\":\"\"},\"radialaxis\":{\"gridcolor\":\"white\",\"linecolor\":\"white\",\"ticks\":\"\"}},\"ternary\":{\"bgcolor\":\"#E5ECF6\",\"aaxis\":{\"gridcolor\":\"white\",\"linecolor\":\"white\",\"ticks\":\"\"},\"baxis\":{\"gridcolor\":\"white\",\"linecolor\":\"white\",\"ticks\":\"\"},\"caxis\":{\"gridcolor\":\"white\",\"linecolor\":\"white\",\"ticks\":\"\"}},\"coloraxis\":{\"colorbar\":{\"outlinewidth\":0,\"ticks\":\"\"}},\"colorscale\":{\"sequential\":[[0.0,\"#0d0887\"],[0.1111111111111111,\"#46039f\"],[0.2222222222222222,\"#7201a8\"],[0.3333333333333333,\"#9c179e\"],[0.4444444444444444,\"#bd3786\"],[0.5555555555555556,\"#d8576b\"],[0.6666666666666666,\"#ed7953\"],[0.7777777777777778,\"#fb9f3a\"],[0.8888888888888888,\"#fdca26\"],[1.0,\"#f0f921\"]],\"sequentialminus\":[[0.0,\"#0d0887\"],[0.1111111111111111,\"#46039f\"],[0.2222222222222222,\"#7201a8\"],[0.3333333333333333,\"#9c179e\"],[0.4444444444444444,\"#bd3786\"],[0.5555555555555556,\"#d8576b\"],[0.6666666666666666,\"#ed7953\"],[0.7777777777777778,\"#fb9f3a\"],[0.8888888888888888,\"#fdca26\"],[1.0,\"#f0f921\"]],\"diverging\":[[0,\"#8e0152\"],[0.1,\"#c51b7d\"],[0.2,\"#de77ae\"],[0.3,\"#f1b6da\"],[0.4,\"#fde0ef\"],[0.5,\"#f7f7f7\"],[0.6,\"#e6f5d0\"],[0.7,\"#b8e186\"],[0.8,\"#7fbc41\"],[0.9,\"#4d9221\"],[1,\"#276419\"]]},\"xaxis\":{\"gridcolor\":\"white\",\"linecolor\":\"white\",\"ticks\":\"\",\"title\":{\"standoff\":15},\"zerolinecolor\":\"white\",\"automargin\":true,\"zerolinewidth\":2},\"yaxis\":{\"gridcolor\":\"white\",\"linecolor\":\"white\",\"ticks\":\"\",\"title\":{\"standoff\":15},\"zerolinecolor\":\"white\",\"automargin\":true,\"zerolinewidth\":2},\"scene\":{\"xaxis\":{\"backgroundcolor\":\"#E5ECF6\",\"gridcolor\":\"white\",\"linecolor\":\"white\",\"showbackground\":true,\"ticks\":\"\",\"zerolinecolor\":\"white\",\"gridwidth\":2},\"yaxis\":{\"backgroundcolor\":\"#E5ECF6\",\"gridcolor\":\"white\",\"linecolor\":\"white\",\"showbackground\":true,\"ticks\":\"\",\"zerolinecolor\":\"white\",\"gridwidth\":2},\"zaxis\":{\"backgroundcolor\":\"#E5ECF6\",\"gridcolor\":\"white\",\"linecolor\":\"white\",\"showbackground\":true,\"ticks\":\"\",\"zerolinecolor\":\"white\",\"gridwidth\":2}},\"shapedefaults\":{\"line\":{\"color\":\"#2a3f5f\"}},\"annotationdefaults\":{\"arrowcolor\":\"#2a3f5f\",\"arrowhead\":0,\"arrowwidth\":1},\"geo\":{\"bgcolor\":\"white\",\"landcolor\":\"#E5ECF6\",\"subunitcolor\":\"white\",\"showland\":true,\"showlakes\":true,\"lakecolor\":\"white\"},\"title\":{\"x\":0.05},\"mapbox\":{\"style\":\"light\"}}},\"xaxis\":{\"anchor\":\"y\",\"domain\":[0.0,1.0],\"type\":\"date\",\"tickformat\":\"%Q\"},\"yaxis\":{\"anchor\":\"x\",\"domain\":[0.0,1.0],\"title\":{\"text\":\"VisitedAOI\"},\"categoryorder\":\"array\",\"categoryarray\":[\"Verified\",\"Status\",\"Responsabilities\",\"Place\",\"Participant_Profile_Picture\",\"Participant_Bio\",\"Participants_Overview\",\"Online\",\"Instructions\",\"Ingredients\",\"Gen_Info\",\"Food\",\"Fav\",\"Description_2\",\"Description_1\",\"Date_Place_2\",\"Date_Place_1\",\"CTA_1\",\"Chat\"]},\"legend\":{\"title\":{\"text\":\"VisitedAOI\"},\"tracegroupgap\":0},\"title\":{\"text\":\"Participant: P02\"},\"barmode\":\"overlay\"},                        {\"responsive\": true}                    ).then(function(){\n",
       "                            \n",
       "var gd = document.getElementById('8e143981-e31e-4c64-baec-8f7d5cbf936c');\n",
       "var x = new MutationObserver(function (mutations, observer) {{\n",
       "        var display = window.getComputedStyle(gd).display;\n",
       "        if (!display || display === 'none') {{\n",
       "            console.log([gd, 'removed!']);\n",
       "            Plotly.purge(gd);\n",
       "            observer.disconnect();\n",
       "        }}\n",
       "}});\n",
       "\n",
       "// Listen for the removal of the full notebook cells\n",
       "var notebookContainer = gd.closest('#notebook-container');\n",
       "if (notebookContainer) {{\n",
       "    x.observe(notebookContainer, {childList: true});\n",
       "}}\n",
       "\n",
       "// Listen for the clearing of the current output cell\n",
       "var outputEl = gd.closest('.output');\n",
       "if (outputEl) {{\n",
       "    x.observe(outputEl, {childList: true});\n",
       "}}\n",
       "\n",
       "                        })                };                });            </script>        </div>"
      ]
     },
     "metadata": {},
     "output_type": "display_data"
    },
    {
     "data": {
      "application/vnd.plotly.v1+json": {
       "config": {
        "plotlyServerURL": "https://plot.ly"
       },
       "data": [
        {
         "alignmentgroup": "True",
         "base": [
          "1970-01-01T00:01:12.613790",
          "1970-01-01T00:01:12.935502",
          "1970-01-01T00:01:27.618415",
          "1970-01-01T00:01:28.415376"
         ],
         "hovertemplate": "VisitedAOI=%{y}<br>Dwell Start=%{base}<br>Dwell End=%{x}<extra></extra>",
         "legendgroup": "Chat",
         "marker": {
          "color": "#636efa",
          "pattern": {
           "shape": ""
          }
         },
         "name": "Chat",
         "offsetgroup": "Chat",
         "orientation": "h",
         "showlegend": true,
         "textposition": "auto",
         "type": "bar",
         "x": [
          166,
          100,
          199,
          283
         ],
         "xaxis": "x",
         "y": [
          "Chat",
          "Chat",
          "Chat",
          "Chat"
         ],
         "yaxis": "y"
        },
        {
         "alignmentgroup": "True",
         "base": [
          "1970-01-01T00:00:03.413883",
          "1970-01-01T00:01:35.149524",
          "1970-01-01T00:01:39.694139"
         ],
         "hovertemplate": "VisitedAOI=%{y}<br>Dwell Start=%{base}<br>Dwell End=%{x}<extra></extra>",
         "legendgroup": "CTA_1",
         "marker": {
          "color": "#EF553B",
          "pattern": {
           "shape": ""
          }
         },
         "name": "CTA_1",
         "offsetgroup": "CTA_1",
         "orientation": "h",
         "showlegend": true,
         "textposition": "auto",
         "type": "bar",
         "x": [
          133,
          41,
          33
         ],
         "xaxis": "x",
         "y": [
          "CTA_1",
          "CTA_1",
          "CTA_1"
         ],
         "yaxis": "y"
        },
        {
         "alignmentgroup": "True",
         "base": [
          "1970-01-01T00:00:00.122579",
          "1970-01-01T00:00:13.137943",
          "1970-01-01T00:00:14.712721",
          "1970-01-01T00:00:17.104098",
          "1970-01-01T00:00:19.237233",
          "1970-01-01T00:00:19.287192",
          "1970-01-01T00:00:19.495522",
          "1970-01-01T00:00:21.720276",
          "1970-01-01T00:00:52.553482",
          "1970-01-01T00:00:54.228778",
          "1970-01-01T00:00:54.553761",
          "1970-01-01T00:00:54.678824",
          "1970-01-01T00:01:37.534835",
          "1970-01-01T00:01:49.064636"
         ],
         "hovertemplate": "VisitedAOI=%{y}<br>Dwell Start=%{base}<br>Dwell End=%{x}<extra></extra>",
         "legendgroup": "Date_Place_1",
         "marker": {
          "color": "#00cc96",
          "pattern": {
           "shape": ""
          }
         },
         "name": "Date_Place_1",
         "offsetgroup": "Date_Place_1",
         "orientation": "h",
         "showlegend": true,
         "textposition": "auto",
         "type": "bar",
         "x": [
          116,
          1166,
          24,
          199,
          16,
          133,
          141,
          33,
          91,
          224,
          116,
          133,
          50,
          33
         ],
         "xaxis": "x",
         "y": [
          "Date_Place_1",
          "Date_Place_1",
          "Date_Place_1",
          "Date_Place_1",
          "Date_Place_1",
          "Date_Place_1",
          "Date_Place_1",
          "Date_Place_1",
          "Date_Place_1",
          "Date_Place_1",
          "Date_Place_1",
          "Date_Place_1",
          "Date_Place_1",
          "Date_Place_1"
         ],
         "yaxis": "y"
        },
        {
         "alignmentgroup": "True",
         "base": [
          "1970-01-01T00:01:22.152300",
          "1970-01-01T00:01:24.810354",
          "1970-01-01T00:01:42.561621",
          "1970-01-01T00:01:48.476250"
         ],
         "hovertemplate": "VisitedAOI=%{y}<br>Dwell Start=%{base}<br>Dwell End=%{x}<extra></extra>",
         "legendgroup": "Date_Place_2",
         "marker": {
          "color": "#ab63fa",
          "pattern": {
           "shape": ""
          }
         },
         "name": "Date_Place_2",
         "offsetgroup": "Date_Place_2",
         "orientation": "h",
         "showlegend": true,
         "textposition": "auto",
         "type": "bar",
         "x": [
          258,
          199,
          191,
          296
         ],
         "xaxis": "x",
         "y": [
          "Date_Place_2",
          "Date_Place_2",
          "Date_Place_2",
          "Date_Place_2"
         ],
         "yaxis": "y"
        },
        {
         "alignmentgroup": "True",
         "base": [
          "1970-01-01T00:00:14.737713",
          "1970-01-01T00:00:15.579278",
          "1970-01-01T00:00:16.162536",
          "1970-01-01T00:00:17.320729",
          "1970-01-01T00:00:18.745582",
          "1970-01-01T00:00:20.187111",
          "1970-01-01T00:00:20.428760",
          "1970-01-01T00:00:20.478727",
          "1970-01-01T00:01:37.584874",
          "1970-01-01T00:01:49.422890"
         ],
         "hovertemplate": "VisitedAOI=%{y}<br>Dwell Start=%{base}<br>Dwell End=%{x}<extra></extra>",
         "legendgroup": "Description_1",
         "marker": {
          "color": "#FFA15A",
          "pattern": {
           "shape": ""
          }
         },
         "name": "Description_1",
         "offsetgroup": "Description_1",
         "orientation": "h",
         "showlegend": true,
         "textposition": "auto",
         "type": "bar",
         "x": [
          249,
          441,
          933,
          958,
          24,
          166,
          8,
          8,
          299,
          429
         ],
         "xaxis": "x",
         "y": [
          "Description_1",
          "Description_1",
          "Description_1",
          "Description_1",
          "Description_1",
          "Description_1",
          "Description_1",
          "Description_1",
          "Description_1",
          "Description_1"
         ],
         "yaxis": "y"
        },
        {
         "alignmentgroup": "True",
         "base": [
          "1970-01-01T00:00:00.447542",
          "1970-01-01T00:00:21.236985",
          "1970-01-01T00:00:22.286896",
          "1970-01-01T00:00:28.286234",
          "1970-01-01T00:00:38.060146",
          "1970-01-01T00:01:41.656964",
          "1970-01-01T00:01:46.546700",
          "1970-01-01T00:01:46.646693"
         ],
         "hovertemplate": "VisitedAOI=%{y}<br>Dwell Start=%{base}<br>Dwell End=%{x}<extra></extra>",
         "legendgroup": "Description_2",
         "marker": {
          "color": "#19d3f3",
          "pattern": {
           "shape": ""
          }
         },
         "name": "Description_2",
         "offsetgroup": "Description_2",
         "orientation": "h",
         "showlegend": true,
         "textposition": "auto",
         "type": "bar",
         "x": [
          116,
          349,
          5757,
          8232,
          524,
          175,
          8,
          83
         ],
         "xaxis": "x",
         "y": [
          "Description_2",
          "Description_2",
          "Description_2",
          "Description_2",
          "Description_2",
          "Description_2",
          "Description_2",
          "Description_2"
         ],
         "yaxis": "y"
        },
        {
         "alignmentgroup": "True",
         "base": [
          "1970-01-01T00:01:12.022209",
          "1970-01-01T00:01:12.547130",
          "1970-01-01T00:01:27.185120",
          "1970-01-01T00:01:28.290385",
          "1970-01-01T00:01:31.003551",
          "1970-01-01T00:01:43.494872"
         ],
         "hovertemplate": "VisitedAOI=%{y}<br>Dwell Start=%{base}<br>Dwell End=%{x}<extra></extra>",
         "legendgroup": "Fav",
         "marker": {
          "color": "#FF6692",
          "pattern": {
           "shape": ""
          }
         },
         "name": "Fav",
         "offsetgroup": "Fav",
         "orientation": "h",
         "showlegend": true,
         "textposition": "auto",
         "type": "bar",
         "x": [
          224,
          8,
          349,
          16,
          58,
          124
         ],
         "xaxis": "x",
         "y": [
          "Fav",
          "Fav",
          "Fav",
          "Fav",
          "Fav",
          "Fav"
         ],
         "yaxis": "y"
        },
        {
         "alignmentgroup": "True",
         "base": [
          "1970-01-01T00:00:00.839167",
          "1970-01-01T00:00:01.672450",
          "1970-01-01T00:00:03.597239",
          "1970-01-01T00:01:21.360982",
          "1970-01-01T00:01:35.216148",
          "1970-01-01T00:01:46.730006",
          "1970-01-01T00:01:48.772947"
         ],
         "hovertemplate": "VisitedAOI=%{y}<br>Dwell Start=%{base}<br>Dwell End=%{x}<extra></extra>",
         "legendgroup": "Food",
         "marker": {
          "color": "#B6E880",
          "pattern": {
           "shape": ""
          }
         },
         "name": "Food",
         "offsetgroup": "Food",
         "orientation": "h",
         "showlegend": true,
         "textposition": "auto",
         "type": "bar",
         "x": [
          799,
          1141,
          916,
          566,
          363,
          283,
          208
         ],
         "xaxis": "x",
         "y": [
          "Food",
          "Food",
          "Food",
          "Food",
          "Food",
          "Food",
          "Food"
         ],
         "yaxis": "y"
        },
        {
         "alignmentgroup": "True",
         "base": [
          "1970-01-01T00:00:02.855636",
          "1970-01-01T00:00:04.572103",
          "1970-01-01T00:00:05.097029",
          "1970-01-01T00:00:05.380371",
          "1970-01-01T00:00:06.813511",
          "1970-01-01T00:00:08.371706",
          "1970-01-01T00:00:09.396581",
          "1970-01-01T00:01:29.148632",
          "1970-01-01T00:01:29.773632",
          "1970-01-01T00:01:34.674544",
          "1970-01-01T00:01:35.041225",
          "1970-01-01T00:01:35.946284",
          "1970-01-01T00:01:36.818248",
          "1970-01-01T00:01:38.597841",
          "1970-01-01T00:01:39.902447"
         ],
         "hovertemplate": "VisitedAOI=%{y}<br>Dwell Start=%{base}<br>Dwell End=%{x}<extra></extra>",
         "legendgroup": "Gen_Info",
         "marker": {
          "color": "#FF97FF",
          "pattern": {
           "shape": ""
          }
         },
         "name": "Gen_Info",
         "offsetgroup": "Gen_Info",
         "orientation": "h",
         "showlegend": true,
         "textposition": "auto",
         "type": "bar",
         "x": [
          558,
          499,
          275,
          1049,
          199,
          558,
          299,
          466,
          738,
          299,
          108,
          608,
          391,
          974,
          83
         ],
         "xaxis": "x",
         "y": [
          "Gen_Info",
          "Gen_Info",
          "Gen_Info",
          "Gen_Info",
          "Gen_Info",
          "Gen_Info",
          "Gen_Info",
          "Gen_Info",
          "Gen_Info",
          "Gen_Info",
          "Gen_Info",
          "Gen_Info",
          "Gen_Info",
          "Gen_Info",
          "Gen_Info"
         ],
         "yaxis": "y"
        },
        {
         "alignmentgroup": "True",
         "base": [
          "1970-01-01T00:00:36.543654",
          "1970-01-01T00:00:37.601896",
          "1970-01-01T00:00:38.685093",
          "1970-01-01T00:00:42.647924",
          "1970-01-01T00:00:44.181102",
          "1970-01-01T00:00:45.689248",
          "1970-01-01T00:00:47.594450",
          "1970-01-01T00:00:49.857577",
          "1970-01-01T00:01:28.773680",
          "1970-01-01T00:01:40.060723",
          "1970-01-01T00:01:40.902333"
         ],
         "hovertemplate": "VisitedAOI=%{y}<br>Dwell Start=%{base}<br>Dwell End=%{x}<extra></extra>",
         "legendgroup": "Ingredients",
         "marker": {
          "color": "#FECB52",
          "pattern": {
           "shape": ""
          }
         },
         "name": "Ingredients",
         "offsetgroup": "Ingredients",
         "orientation": "h",
         "showlegend": true,
         "textposition": "auto",
         "type": "bar",
         "x": [
          1033,
          208,
          2204,
          1016,
          866,
          1388,
          1158,
          1016,
          174,
          349,
          754
         ],
         "xaxis": "x",
         "y": [
          "Ingredients",
          "Ingredients",
          "Ingredients",
          "Ingredients",
          "Ingredients",
          "Ingredients",
          "Ingredients",
          "Ingredients",
          "Ingredients",
          "Ingredients",
          "Ingredients"
         ],
         "yaxis": "y"
        },
        {
         "alignmentgroup": "True",
         "base": [
          "1970-01-01T00:00:00.314254",
          "1970-01-01T00:00:56.050673",
          "1970-01-01T00:00:56.383991",
          "1970-01-01T00:00:56.842291",
          "1970-01-01T00:00:58.108793",
          "1970-01-01T00:00:58.333762",
          "1970-01-01T00:01:45.721799"
         ],
         "hovertemplate": "VisitedAOI=%{y}<br>Dwell Start=%{base}<br>Dwell End=%{x}<extra></extra>",
         "legendgroup": "Instructions",
         "marker": {
          "color": "#636efa",
          "pattern": {
           "shape": ""
          }
         },
         "name": "Instructions",
         "offsetgroup": "Instructions",
         "orientation": "h",
         "showlegend": true,
         "textposition": "auto",
         "type": "bar",
         "x": [
          24,
          308,
          16,
          866,
          150,
          12608,
          466
         ],
         "xaxis": "x",
         "y": [
          "Instructions",
          "Instructions",
          "Instructions",
          "Instructions",
          "Instructions",
          "Instructions",
          "Instructions"
         ],
         "yaxis": "y"
        },
        {
         "alignmentgroup": "True",
         "base": [
          "1970-01-01T00:01:16.151798",
          "1970-01-01T00:01:16.410178",
          "1970-01-01T00:01:16.751776",
          "1970-01-01T00:01:17.085070",
          "1970-01-01T00:01:17.218352"
         ],
         "hovertemplate": "VisitedAOI=%{y}<br>Dwell Start=%{base}<br>Dwell End=%{x}<extra></extra>",
         "legendgroup": "Online",
         "marker": {
          "color": "#EF553B",
          "pattern": {
           "shape": ""
          }
         },
         "name": "Online",
         "offsetgroup": "Online",
         "orientation": "h",
         "showlegend": true,
         "textposition": "auto",
         "type": "bar",
         "x": [
          150,
          74,
          258,
          8,
          608
         ],
         "xaxis": "x",
         "y": [
          "Online",
          "Online",
          "Online",
          "Online",
          "Online"
         ],
         "yaxis": "y"
        },
        {
         "alignmentgroup": "True",
         "base": [
          "1970-01-01T00:00:07.580093",
          "1970-01-01T00:00:09.238257",
          "1970-01-01T00:00:09.704864",
          "1970-01-01T00:00:11.038107",
          "1970-01-01T00:00:52.757983",
          "1970-01-01T00:00:53.282806",
          "1970-01-01T00:00:53.741086",
          "1970-01-01T00:01:35.637993",
          "1970-01-01T00:01:37.351547",
          "1970-01-01T00:01:38.193093"
         ],
         "hovertemplate": "VisitedAOI=%{y}<br>Dwell Start=%{base}<br>Dwell End=%{x}<extra></extra>",
         "legendgroup": "Participants_Overview",
         "marker": {
          "color": "#00cc96",
          "pattern": {
           "shape": ""
          }
         },
         "name": "Participants_Overview",
         "offsetgroup": "Participants_Overview",
         "orientation": "h",
         "showlegend": true,
         "textposition": "auto",
         "type": "bar",
         "x": [
          424,
          25,
          1249,
          2024,
          208,
          24,
          324,
          283,
          16,
          354
         ],
         "xaxis": "x",
         "y": [
          "Participants_Overview",
          "Participants_Overview",
          "Participants_Overview",
          "Participants_Overview",
          "Participants_Overview",
          "Participants_Overview",
          "Participants_Overview",
          "Participants_Overview",
          "Participants_Overview",
          "Participants_Overview"
         ],
         "yaxis": "y"
        },
        {
         "alignmentgroup": "True",
         "base": [
          "1970-01-01T00:01:11.872261",
          "1970-01-01T00:01:13.085493",
          "1970-01-01T00:01:18.347876",
          "1970-01-01T00:01:20.272680",
          "1970-01-01T00:01:27.935044",
          "1970-01-01T00:01:45.516695"
         ],
         "hovertemplate": "VisitedAOI=%{y}<br>Dwell Start=%{base}<br>Dwell End=%{x}<extra></extra>",
         "legendgroup": "Participant_Bio",
         "marker": {
          "color": "#ab63fa",
          "pattern": {
           "shape": ""
          }
         },
         "name": "Participant_Bio",
         "offsetgroup": "Participant_Bio",
         "orientation": "h",
         "showlegend": true,
         "textposition": "auto",
         "type": "bar",
         "x": [
          91,
          399,
          1866,
          149,
          141,
          83
         ],
         "xaxis": "x",
         "y": [
          "Participant_Bio",
          "Participant_Bio",
          "Participant_Bio",
          "Participant_Bio",
          "Participant_Bio",
          "Participant_Bio"
         ],
         "yaxis": "y"
        },
        {
         "alignmentgroup": "True",
         "base": [
          "1970-01-01T00:00:00.622552",
          "1970-01-01T00:01:11.464690",
          "1970-01-01T00:01:20.430996",
          "1970-01-01T00:01:23.268873",
          "1970-01-01T00:01:26.126889",
          "1970-01-01T00:01:26.693489",
          "1970-01-01T00:01:30.661907",
          "1970-01-01T00:01:31.803473",
          "1970-01-01T00:01:33.416343",
          "1970-01-01T00:01:34.307949",
          "1970-01-01T00:01:42.819911",
          "1970-01-01T00:01:43.061579",
          "1970-01-01T00:01:43.403182",
          "1970-01-01T00:01:46.188405",
          "1970-01-01T00:01:50.277530"
         ],
         "hovertemplate": "VisitedAOI=%{y}<br>Dwell Start=%{base}<br>Dwell End=%{x}<extra></extra>",
         "legendgroup": "Participant_Profile_Picture",
         "marker": {
          "color": "#FFA15A",
          "pattern": {
           "shape": ""
          }
         },
         "name": "Participant_Profile_Picture",
         "offsetgroup": "Participant_Profile_Picture",
         "orientation": "h",
         "showlegend": true,
         "textposition": "auto",
         "type": "bar",
         "x": [
          100,
          315,
          816,
          266,
          266,
          491,
          216,
          829,
          383,
          8,
          116,
          149,
          91,
          291,
          274
         ],
         "xaxis": "x",
         "y": [
          "Participant_Profile_Picture",
          "Participant_Profile_Picture",
          "Participant_Profile_Picture",
          "Participant_Profile_Picture",
          "Participant_Profile_Picture",
          "Participant_Profile_Picture",
          "Participant_Profile_Picture",
          "Participant_Profile_Picture",
          "Participant_Profile_Picture",
          "Participant_Profile_Picture",
          "Participant_Profile_Picture",
          "Participant_Profile_Picture",
          "Participant_Profile_Picture",
          "Participant_Profile_Picture",
          "Participant_Profile_Picture"
         ],
         "yaxis": "y"
        },
        {
         "alignmentgroup": "True",
         "base": [
          "1970-01-01T00:01:13.485432",
          "1970-01-01T00:01:13.652128",
          "1970-01-01T00:01:15.335261",
          "1970-01-01T00:01:16.318529",
          "1970-01-01T00:01:43.733770",
          "1970-01-01T00:01:44.858430",
          "1970-01-01T00:01:44.933429"
         ],
         "hovertemplate": "VisitedAOI=%{y}<br>Dwell Start=%{base}<br>Dwell End=%{x}<extra></extra>",
         "legendgroup": "Place",
         "marker": {
          "color": "#19d3f3",
          "pattern": {
           "shape": ""
          }
         },
         "name": "Place",
         "offsetgroup": "Place",
         "orientation": "h",
         "showlegend": true,
         "textposition": "auto",
         "type": "bar",
         "x": [
          141,
          191,
          466,
          74,
          249,
          25,
          333
         ],
         "xaxis": "x",
         "y": [
          "Place",
          "Place",
          "Place",
          "Place",
          "Place",
          "Place",
          "Place"
         ],
         "yaxis": "y"
        },
        {
         "alignmentgroup": "True",
         "base": [
          "1970-01-01T00:00:40.889791",
          "1970-01-01T00:00:43.664511",
          "1970-01-01T00:00:45.047665",
          "1970-01-01T00:00:47.086165",
          "1970-01-01T00:00:48.752625",
          "1970-01-01T00:00:50.873905",
          "1970-01-01T00:00:54.853741"
         ],
         "hovertemplate": "VisitedAOI=%{y}<br>Dwell Start=%{base}<br>Dwell End=%{x}<extra></extra>",
         "legendgroup": "Responsabilities",
         "marker": {
          "color": "#FF6692",
          "pattern": {
           "shape": ""
          }
         },
         "name": "Responsabilities",
         "offsetgroup": "Responsabilities",
         "orientation": "h",
         "showlegend": true,
         "textposition": "auto",
         "type": "bar",
         "x": [
          1758,
          466,
          641,
          508,
          991,
          1537,
          1196
         ],
         "xaxis": "x",
         "y": [
          "Responsabilities",
          "Responsabilities",
          "Responsabilities",
          "Responsabilities",
          "Responsabilities",
          "Responsabilities",
          "Responsabilities"
         ],
         "yaxis": "y"
        },
        {
         "alignmentgroup": "True",
         "base": [
          "1970-01-01T00:01:14.960281",
          "1970-01-01T00:01:17.876656"
         ],
         "hovertemplate": "VisitedAOI=%{y}<br>Dwell Start=%{base}<br>Dwell End=%{x}<extra></extra>",
         "legendgroup": "Status",
         "marker": {
          "color": "#B6E880",
          "pattern": {
           "shape": ""
          }
         },
         "name": "Status",
         "offsetgroup": "Status",
         "orientation": "h",
         "showlegend": true,
         "textposition": "auto",
         "type": "bar",
         "x": [
          324,
          412
         ],
         "xaxis": "x",
         "y": [
          "Status",
          "Status"
         ],
         "yaxis": "y"
        },
        {
         "alignmentgroup": "True",
         "base": [
          "1970-01-01T00:01:13.843765",
          "1970-01-01T00:01:44.008519"
         ],
         "hovertemplate": "VisitedAOI=%{y}<br>Dwell Start=%{base}<br>Dwell End=%{x}<extra></extra>",
         "legendgroup": "Verified",
         "marker": {
          "color": "#FF97FF",
          "pattern": {
           "shape": ""
          }
         },
         "name": "Verified",
         "offsetgroup": "Verified",
         "orientation": "h",
         "showlegend": true,
         "textposition": "auto",
         "type": "bar",
         "x": [
          1116,
          216
         ],
         "xaxis": "x",
         "y": [
          "Verified",
          "Verified"
         ],
         "yaxis": "y"
        }
       ],
       "layout": {
        "barmode": "overlay",
        "legend": {
         "title": {
          "text": "VisitedAOI"
         },
         "tracegroupgap": 0
        },
        "template": {
         "data": {
          "bar": [
           {
            "error_x": {
             "color": "#2a3f5f"
            },
            "error_y": {
             "color": "#2a3f5f"
            },
            "marker": {
             "line": {
              "color": "#E5ECF6",
              "width": 0.5
             },
             "pattern": {
              "fillmode": "overlay",
              "size": 10,
              "solidity": 0.2
             }
            },
            "type": "bar"
           }
          ],
          "barpolar": [
           {
            "marker": {
             "line": {
              "color": "#E5ECF6",
              "width": 0.5
             },
             "pattern": {
              "fillmode": "overlay",
              "size": 10,
              "solidity": 0.2
             }
            },
            "type": "barpolar"
           }
          ],
          "carpet": [
           {
            "aaxis": {
             "endlinecolor": "#2a3f5f",
             "gridcolor": "white",
             "linecolor": "white",
             "minorgridcolor": "white",
             "startlinecolor": "#2a3f5f"
            },
            "baxis": {
             "endlinecolor": "#2a3f5f",
             "gridcolor": "white",
             "linecolor": "white",
             "minorgridcolor": "white",
             "startlinecolor": "#2a3f5f"
            },
            "type": "carpet"
           }
          ],
          "choropleth": [
           {
            "colorbar": {
             "outlinewidth": 0,
             "ticks": ""
            },
            "type": "choropleth"
           }
          ],
          "contour": [
           {
            "colorbar": {
             "outlinewidth": 0,
             "ticks": ""
            },
            "colorscale": [
             [
              0,
              "#0d0887"
             ],
             [
              0.1111111111111111,
              "#46039f"
             ],
             [
              0.2222222222222222,
              "#7201a8"
             ],
             [
              0.3333333333333333,
              "#9c179e"
             ],
             [
              0.4444444444444444,
              "#bd3786"
             ],
             [
              0.5555555555555556,
              "#d8576b"
             ],
             [
              0.6666666666666666,
              "#ed7953"
             ],
             [
              0.7777777777777778,
              "#fb9f3a"
             ],
             [
              0.8888888888888888,
              "#fdca26"
             ],
             [
              1,
              "#f0f921"
             ]
            ],
            "type": "contour"
           }
          ],
          "contourcarpet": [
           {
            "colorbar": {
             "outlinewidth": 0,
             "ticks": ""
            },
            "type": "contourcarpet"
           }
          ],
          "heatmap": [
           {
            "colorbar": {
             "outlinewidth": 0,
             "ticks": ""
            },
            "colorscale": [
             [
              0,
              "#0d0887"
             ],
             [
              0.1111111111111111,
              "#46039f"
             ],
             [
              0.2222222222222222,
              "#7201a8"
             ],
             [
              0.3333333333333333,
              "#9c179e"
             ],
             [
              0.4444444444444444,
              "#bd3786"
             ],
             [
              0.5555555555555556,
              "#d8576b"
             ],
             [
              0.6666666666666666,
              "#ed7953"
             ],
             [
              0.7777777777777778,
              "#fb9f3a"
             ],
             [
              0.8888888888888888,
              "#fdca26"
             ],
             [
              1,
              "#f0f921"
             ]
            ],
            "type": "heatmap"
           }
          ],
          "heatmapgl": [
           {
            "colorbar": {
             "outlinewidth": 0,
             "ticks": ""
            },
            "colorscale": [
             [
              0,
              "#0d0887"
             ],
             [
              0.1111111111111111,
              "#46039f"
             ],
             [
              0.2222222222222222,
              "#7201a8"
             ],
             [
              0.3333333333333333,
              "#9c179e"
             ],
             [
              0.4444444444444444,
              "#bd3786"
             ],
             [
              0.5555555555555556,
              "#d8576b"
             ],
             [
              0.6666666666666666,
              "#ed7953"
             ],
             [
              0.7777777777777778,
              "#fb9f3a"
             ],
             [
              0.8888888888888888,
              "#fdca26"
             ],
             [
              1,
              "#f0f921"
             ]
            ],
            "type": "heatmapgl"
           }
          ],
          "histogram": [
           {
            "marker": {
             "pattern": {
              "fillmode": "overlay",
              "size": 10,
              "solidity": 0.2
             }
            },
            "type": "histogram"
           }
          ],
          "histogram2d": [
           {
            "colorbar": {
             "outlinewidth": 0,
             "ticks": ""
            },
            "colorscale": [
             [
              0,
              "#0d0887"
             ],
             [
              0.1111111111111111,
              "#46039f"
             ],
             [
              0.2222222222222222,
              "#7201a8"
             ],
             [
              0.3333333333333333,
              "#9c179e"
             ],
             [
              0.4444444444444444,
              "#bd3786"
             ],
             [
              0.5555555555555556,
              "#d8576b"
             ],
             [
              0.6666666666666666,
              "#ed7953"
             ],
             [
              0.7777777777777778,
              "#fb9f3a"
             ],
             [
              0.8888888888888888,
              "#fdca26"
             ],
             [
              1,
              "#f0f921"
             ]
            ],
            "type": "histogram2d"
           }
          ],
          "histogram2dcontour": [
           {
            "colorbar": {
             "outlinewidth": 0,
             "ticks": ""
            },
            "colorscale": [
             [
              0,
              "#0d0887"
             ],
             [
              0.1111111111111111,
              "#46039f"
             ],
             [
              0.2222222222222222,
              "#7201a8"
             ],
             [
              0.3333333333333333,
              "#9c179e"
             ],
             [
              0.4444444444444444,
              "#bd3786"
             ],
             [
              0.5555555555555556,
              "#d8576b"
             ],
             [
              0.6666666666666666,
              "#ed7953"
             ],
             [
              0.7777777777777778,
              "#fb9f3a"
             ],
             [
              0.8888888888888888,
              "#fdca26"
             ],
             [
              1,
              "#f0f921"
             ]
            ],
            "type": "histogram2dcontour"
           }
          ],
          "mesh3d": [
           {
            "colorbar": {
             "outlinewidth": 0,
             "ticks": ""
            },
            "type": "mesh3d"
           }
          ],
          "parcoords": [
           {
            "line": {
             "colorbar": {
              "outlinewidth": 0,
              "ticks": ""
             }
            },
            "type": "parcoords"
           }
          ],
          "pie": [
           {
            "automargin": true,
            "type": "pie"
           }
          ],
          "scatter": [
           {
            "fillpattern": {
             "fillmode": "overlay",
             "size": 10,
             "solidity": 0.2
            },
            "type": "scatter"
           }
          ],
          "scatter3d": [
           {
            "line": {
             "colorbar": {
              "outlinewidth": 0,
              "ticks": ""
             }
            },
            "marker": {
             "colorbar": {
              "outlinewidth": 0,
              "ticks": ""
             }
            },
            "type": "scatter3d"
           }
          ],
          "scattercarpet": [
           {
            "marker": {
             "colorbar": {
              "outlinewidth": 0,
              "ticks": ""
             }
            },
            "type": "scattercarpet"
           }
          ],
          "scattergeo": [
           {
            "marker": {
             "colorbar": {
              "outlinewidth": 0,
              "ticks": ""
             }
            },
            "type": "scattergeo"
           }
          ],
          "scattergl": [
           {
            "marker": {
             "colorbar": {
              "outlinewidth": 0,
              "ticks": ""
             }
            },
            "type": "scattergl"
           }
          ],
          "scattermapbox": [
           {
            "marker": {
             "colorbar": {
              "outlinewidth": 0,
              "ticks": ""
             }
            },
            "type": "scattermapbox"
           }
          ],
          "scatterpolar": [
           {
            "marker": {
             "colorbar": {
              "outlinewidth": 0,
              "ticks": ""
             }
            },
            "type": "scatterpolar"
           }
          ],
          "scatterpolargl": [
           {
            "marker": {
             "colorbar": {
              "outlinewidth": 0,
              "ticks": ""
             }
            },
            "type": "scatterpolargl"
           }
          ],
          "scatterternary": [
           {
            "marker": {
             "colorbar": {
              "outlinewidth": 0,
              "ticks": ""
             }
            },
            "type": "scatterternary"
           }
          ],
          "surface": [
           {
            "colorbar": {
             "outlinewidth": 0,
             "ticks": ""
            },
            "colorscale": [
             [
              0,
              "#0d0887"
             ],
             [
              0.1111111111111111,
              "#46039f"
             ],
             [
              0.2222222222222222,
              "#7201a8"
             ],
             [
              0.3333333333333333,
              "#9c179e"
             ],
             [
              0.4444444444444444,
              "#bd3786"
             ],
             [
              0.5555555555555556,
              "#d8576b"
             ],
             [
              0.6666666666666666,
              "#ed7953"
             ],
             [
              0.7777777777777778,
              "#fb9f3a"
             ],
             [
              0.8888888888888888,
              "#fdca26"
             ],
             [
              1,
              "#f0f921"
             ]
            ],
            "type": "surface"
           }
          ],
          "table": [
           {
            "cells": {
             "fill": {
              "color": "#EBF0F8"
             },
             "line": {
              "color": "white"
             }
            },
            "header": {
             "fill": {
              "color": "#C8D4E3"
             },
             "line": {
              "color": "white"
             }
            },
            "type": "table"
           }
          ]
         },
         "layout": {
          "annotationdefaults": {
           "arrowcolor": "#2a3f5f",
           "arrowhead": 0,
           "arrowwidth": 1
          },
          "autotypenumbers": "strict",
          "coloraxis": {
           "colorbar": {
            "outlinewidth": 0,
            "ticks": ""
           }
          },
          "colorscale": {
           "diverging": [
            [
             0,
             "#8e0152"
            ],
            [
             0.1,
             "#c51b7d"
            ],
            [
             0.2,
             "#de77ae"
            ],
            [
             0.3,
             "#f1b6da"
            ],
            [
             0.4,
             "#fde0ef"
            ],
            [
             0.5,
             "#f7f7f7"
            ],
            [
             0.6,
             "#e6f5d0"
            ],
            [
             0.7,
             "#b8e186"
            ],
            [
             0.8,
             "#7fbc41"
            ],
            [
             0.9,
             "#4d9221"
            ],
            [
             1,
             "#276419"
            ]
           ],
           "sequential": [
            [
             0,
             "#0d0887"
            ],
            [
             0.1111111111111111,
             "#46039f"
            ],
            [
             0.2222222222222222,
             "#7201a8"
            ],
            [
             0.3333333333333333,
             "#9c179e"
            ],
            [
             0.4444444444444444,
             "#bd3786"
            ],
            [
             0.5555555555555556,
             "#d8576b"
            ],
            [
             0.6666666666666666,
             "#ed7953"
            ],
            [
             0.7777777777777778,
             "#fb9f3a"
            ],
            [
             0.8888888888888888,
             "#fdca26"
            ],
            [
             1,
             "#f0f921"
            ]
           ],
           "sequentialminus": [
            [
             0,
             "#0d0887"
            ],
            [
             0.1111111111111111,
             "#46039f"
            ],
            [
             0.2222222222222222,
             "#7201a8"
            ],
            [
             0.3333333333333333,
             "#9c179e"
            ],
            [
             0.4444444444444444,
             "#bd3786"
            ],
            [
             0.5555555555555556,
             "#d8576b"
            ],
            [
             0.6666666666666666,
             "#ed7953"
            ],
            [
             0.7777777777777778,
             "#fb9f3a"
            ],
            [
             0.8888888888888888,
             "#fdca26"
            ],
            [
             1,
             "#f0f921"
            ]
           ]
          },
          "colorway": [
           "#636efa",
           "#EF553B",
           "#00cc96",
           "#ab63fa",
           "#FFA15A",
           "#19d3f3",
           "#FF6692",
           "#B6E880",
           "#FF97FF",
           "#FECB52"
          ],
          "font": {
           "color": "#2a3f5f"
          },
          "geo": {
           "bgcolor": "white",
           "lakecolor": "white",
           "landcolor": "#E5ECF6",
           "showlakes": true,
           "showland": true,
           "subunitcolor": "white"
          },
          "hoverlabel": {
           "align": "left"
          },
          "hovermode": "closest",
          "mapbox": {
           "style": "light"
          },
          "paper_bgcolor": "white",
          "plot_bgcolor": "#E5ECF6",
          "polar": {
           "angularaxis": {
            "gridcolor": "white",
            "linecolor": "white",
            "ticks": ""
           },
           "bgcolor": "#E5ECF6",
           "radialaxis": {
            "gridcolor": "white",
            "linecolor": "white",
            "ticks": ""
           }
          },
          "scene": {
           "xaxis": {
            "backgroundcolor": "#E5ECF6",
            "gridcolor": "white",
            "gridwidth": 2,
            "linecolor": "white",
            "showbackground": true,
            "ticks": "",
            "zerolinecolor": "white"
           },
           "yaxis": {
            "backgroundcolor": "#E5ECF6",
            "gridcolor": "white",
            "gridwidth": 2,
            "linecolor": "white",
            "showbackground": true,
            "ticks": "",
            "zerolinecolor": "white"
           },
           "zaxis": {
            "backgroundcolor": "#E5ECF6",
            "gridcolor": "white",
            "gridwidth": 2,
            "linecolor": "white",
            "showbackground": true,
            "ticks": "",
            "zerolinecolor": "white"
           }
          },
          "shapedefaults": {
           "line": {
            "color": "#2a3f5f"
           }
          },
          "ternary": {
           "aaxis": {
            "gridcolor": "white",
            "linecolor": "white",
            "ticks": ""
           },
           "baxis": {
            "gridcolor": "white",
            "linecolor": "white",
            "ticks": ""
           },
           "bgcolor": "#E5ECF6",
           "caxis": {
            "gridcolor": "white",
            "linecolor": "white",
            "ticks": ""
           }
          },
          "title": {
           "x": 0.05
          },
          "xaxis": {
           "automargin": true,
           "gridcolor": "white",
           "linecolor": "white",
           "ticks": "",
           "title": {
            "standoff": 15
           },
           "zerolinecolor": "white",
           "zerolinewidth": 2
          },
          "yaxis": {
           "automargin": true,
           "gridcolor": "white",
           "linecolor": "white",
           "ticks": "",
           "title": {
            "standoff": 15
           },
           "zerolinecolor": "white",
           "zerolinewidth": 2
          }
         }
        },
        "title": {
         "text": "Participant: P03"
        },
        "xaxis": {
         "anchor": "y",
         "domain": [
          0,
          1
         ],
         "tickformat": "%Q",
         "type": "date"
        },
        "yaxis": {
         "anchor": "x",
         "categoryarray": [
          "Verified",
          "Status",
          "Responsabilities",
          "Place",
          "Participant_Profile_Picture",
          "Participant_Bio",
          "Participants_Overview",
          "Online",
          "Instructions",
          "Ingredients",
          "Gen_Info",
          "Food",
          "Fav",
          "Description_2",
          "Description_1",
          "Date_Place_2",
          "Date_Place_1",
          "CTA_1",
          "Chat"
         ],
         "categoryorder": "array",
         "domain": [
          0,
          1
         ],
         "title": {
          "text": "VisitedAOI"
         }
        }
       }
      },
      "text/html": [
       "<div>                            <div id=\"9a786fb0-d846-472e-8141-07c88f4d55c5\" class=\"plotly-graph-div\" style=\"height:525px; width:100%;\"></div>            <script type=\"text/javascript\">                require([\"plotly\"], function(Plotly) {                    window.PLOTLYENV=window.PLOTLYENV || {};                                    if (document.getElementById(\"9a786fb0-d846-472e-8141-07c88f4d55c5\")) {                    Plotly.newPlot(                        \"9a786fb0-d846-472e-8141-07c88f4d55c5\",                        [{\"alignmentgroup\":\"True\",\"base\":[\"1970-01-01T00:01:12.613790\",\"1970-01-01T00:01:12.935502\",\"1970-01-01T00:01:27.618415\",\"1970-01-01T00:01:28.415376\"],\"hovertemplate\":\"VisitedAOI=%{y}<br>Dwell Start=%{base}<br>Dwell End=%{x}<extra></extra>\",\"legendgroup\":\"Chat\",\"marker\":{\"color\":\"#636efa\",\"pattern\":{\"shape\":\"\"}},\"name\":\"Chat\",\"offsetgroup\":\"Chat\",\"orientation\":\"h\",\"showlegend\":true,\"textposition\":\"auto\",\"x\":[166.0,100.0,199.0,283.0],\"xaxis\":\"x\",\"y\":[\"Chat\",\"Chat\",\"Chat\",\"Chat\"],\"yaxis\":\"y\",\"type\":\"bar\"},{\"alignmentgroup\":\"True\",\"base\":[\"1970-01-01T00:00:03.413883\",\"1970-01-01T00:01:35.149524\",\"1970-01-01T00:01:39.694139\"],\"hovertemplate\":\"VisitedAOI=%{y}<br>Dwell Start=%{base}<br>Dwell End=%{x}<extra></extra>\",\"legendgroup\":\"CTA_1\",\"marker\":{\"color\":\"#EF553B\",\"pattern\":{\"shape\":\"\"}},\"name\":\"CTA_1\",\"offsetgroup\":\"CTA_1\",\"orientation\":\"h\",\"showlegend\":true,\"textposition\":\"auto\",\"x\":[133.0,41.0,33.0],\"xaxis\":\"x\",\"y\":[\"CTA_1\",\"CTA_1\",\"CTA_1\"],\"yaxis\":\"y\",\"type\":\"bar\"},{\"alignmentgroup\":\"True\",\"base\":[\"1970-01-01T00:00:00.122579\",\"1970-01-01T00:00:13.137943\",\"1970-01-01T00:00:14.712721\",\"1970-01-01T00:00:17.104098\",\"1970-01-01T00:00:19.237233\",\"1970-01-01T00:00:19.287192\",\"1970-01-01T00:00:19.495522\",\"1970-01-01T00:00:21.720276\",\"1970-01-01T00:00:52.553482\",\"1970-01-01T00:00:54.228778\",\"1970-01-01T00:00:54.553761\",\"1970-01-01T00:00:54.678824\",\"1970-01-01T00:01:37.534835\",\"1970-01-01T00:01:49.064636\"],\"hovertemplate\":\"VisitedAOI=%{y}<br>Dwell Start=%{base}<br>Dwell End=%{x}<extra></extra>\",\"legendgroup\":\"Date_Place_1\",\"marker\":{\"color\":\"#00cc96\",\"pattern\":{\"shape\":\"\"}},\"name\":\"Date_Place_1\",\"offsetgroup\":\"Date_Place_1\",\"orientation\":\"h\",\"showlegend\":true,\"textposition\":\"auto\",\"x\":[116.0,1166.0,24.0,199.0,16.0,133.0,141.0,33.0,91.0,224.0,116.0,133.0,50.0,33.0],\"xaxis\":\"x\",\"y\":[\"Date_Place_1\",\"Date_Place_1\",\"Date_Place_1\",\"Date_Place_1\",\"Date_Place_1\",\"Date_Place_1\",\"Date_Place_1\",\"Date_Place_1\",\"Date_Place_1\",\"Date_Place_1\",\"Date_Place_1\",\"Date_Place_1\",\"Date_Place_1\",\"Date_Place_1\"],\"yaxis\":\"y\",\"type\":\"bar\"},{\"alignmentgroup\":\"True\",\"base\":[\"1970-01-01T00:01:22.152300\",\"1970-01-01T00:01:24.810354\",\"1970-01-01T00:01:42.561621\",\"1970-01-01T00:01:48.476250\"],\"hovertemplate\":\"VisitedAOI=%{y}<br>Dwell Start=%{base}<br>Dwell End=%{x}<extra></extra>\",\"legendgroup\":\"Date_Place_2\",\"marker\":{\"color\":\"#ab63fa\",\"pattern\":{\"shape\":\"\"}},\"name\":\"Date_Place_2\",\"offsetgroup\":\"Date_Place_2\",\"orientation\":\"h\",\"showlegend\":true,\"textposition\":\"auto\",\"x\":[258.0,199.0,191.0,296.0],\"xaxis\":\"x\",\"y\":[\"Date_Place_2\",\"Date_Place_2\",\"Date_Place_2\",\"Date_Place_2\"],\"yaxis\":\"y\",\"type\":\"bar\"},{\"alignmentgroup\":\"True\",\"base\":[\"1970-01-01T00:00:14.737713\",\"1970-01-01T00:00:15.579278\",\"1970-01-01T00:00:16.162536\",\"1970-01-01T00:00:17.320729\",\"1970-01-01T00:00:18.745582\",\"1970-01-01T00:00:20.187111\",\"1970-01-01T00:00:20.428760\",\"1970-01-01T00:00:20.478727\",\"1970-01-01T00:01:37.584874\",\"1970-01-01T00:01:49.422890\"],\"hovertemplate\":\"VisitedAOI=%{y}<br>Dwell Start=%{base}<br>Dwell End=%{x}<extra></extra>\",\"legendgroup\":\"Description_1\",\"marker\":{\"color\":\"#FFA15A\",\"pattern\":{\"shape\":\"\"}},\"name\":\"Description_1\",\"offsetgroup\":\"Description_1\",\"orientation\":\"h\",\"showlegend\":true,\"textposition\":\"auto\",\"x\":[249.0,441.0,933.0,958.0,24.0,166.0,8.0,8.0,299.0,429.0],\"xaxis\":\"x\",\"y\":[\"Description_1\",\"Description_1\",\"Description_1\",\"Description_1\",\"Description_1\",\"Description_1\",\"Description_1\",\"Description_1\",\"Description_1\",\"Description_1\"],\"yaxis\":\"y\",\"type\":\"bar\"},{\"alignmentgroup\":\"True\",\"base\":[\"1970-01-01T00:00:00.447542\",\"1970-01-01T00:00:21.236985\",\"1970-01-01T00:00:22.286896\",\"1970-01-01T00:00:28.286234\",\"1970-01-01T00:00:38.060146\",\"1970-01-01T00:01:41.656964\",\"1970-01-01T00:01:46.546700\",\"1970-01-01T00:01:46.646693\"],\"hovertemplate\":\"VisitedAOI=%{y}<br>Dwell Start=%{base}<br>Dwell End=%{x}<extra></extra>\",\"legendgroup\":\"Description_2\",\"marker\":{\"color\":\"#19d3f3\",\"pattern\":{\"shape\":\"\"}},\"name\":\"Description_2\",\"offsetgroup\":\"Description_2\",\"orientation\":\"h\",\"showlegend\":true,\"textposition\":\"auto\",\"x\":[116.0,349.0,5757.0,8232.0,524.0,175.0,8.0,83.0],\"xaxis\":\"x\",\"y\":[\"Description_2\",\"Description_2\",\"Description_2\",\"Description_2\",\"Description_2\",\"Description_2\",\"Description_2\",\"Description_2\"],\"yaxis\":\"y\",\"type\":\"bar\"},{\"alignmentgroup\":\"True\",\"base\":[\"1970-01-01T00:01:12.022209\",\"1970-01-01T00:01:12.547130\",\"1970-01-01T00:01:27.185120\",\"1970-01-01T00:01:28.290385\",\"1970-01-01T00:01:31.003551\",\"1970-01-01T00:01:43.494872\"],\"hovertemplate\":\"VisitedAOI=%{y}<br>Dwell Start=%{base}<br>Dwell End=%{x}<extra></extra>\",\"legendgroup\":\"Fav\",\"marker\":{\"color\":\"#FF6692\",\"pattern\":{\"shape\":\"\"}},\"name\":\"Fav\",\"offsetgroup\":\"Fav\",\"orientation\":\"h\",\"showlegend\":true,\"textposition\":\"auto\",\"x\":[224.0,8.0,349.0,16.0,58.0,124.0],\"xaxis\":\"x\",\"y\":[\"Fav\",\"Fav\",\"Fav\",\"Fav\",\"Fav\",\"Fav\"],\"yaxis\":\"y\",\"type\":\"bar\"},{\"alignmentgroup\":\"True\",\"base\":[\"1970-01-01T00:00:00.839167\",\"1970-01-01T00:00:01.672450\",\"1970-01-01T00:00:03.597239\",\"1970-01-01T00:01:21.360982\",\"1970-01-01T00:01:35.216148\",\"1970-01-01T00:01:46.730006\",\"1970-01-01T00:01:48.772947\"],\"hovertemplate\":\"VisitedAOI=%{y}<br>Dwell Start=%{base}<br>Dwell End=%{x}<extra></extra>\",\"legendgroup\":\"Food\",\"marker\":{\"color\":\"#B6E880\",\"pattern\":{\"shape\":\"\"}},\"name\":\"Food\",\"offsetgroup\":\"Food\",\"orientation\":\"h\",\"showlegend\":true,\"textposition\":\"auto\",\"x\":[799.0,1141.0,916.0,566.0,363.0,283.0,208.0],\"xaxis\":\"x\",\"y\":[\"Food\",\"Food\",\"Food\",\"Food\",\"Food\",\"Food\",\"Food\"],\"yaxis\":\"y\",\"type\":\"bar\"},{\"alignmentgroup\":\"True\",\"base\":[\"1970-01-01T00:00:02.855636\",\"1970-01-01T00:00:04.572103\",\"1970-01-01T00:00:05.097029\",\"1970-01-01T00:00:05.380371\",\"1970-01-01T00:00:06.813511\",\"1970-01-01T00:00:08.371706\",\"1970-01-01T00:00:09.396581\",\"1970-01-01T00:01:29.148632\",\"1970-01-01T00:01:29.773632\",\"1970-01-01T00:01:34.674544\",\"1970-01-01T00:01:35.041225\",\"1970-01-01T00:01:35.946284\",\"1970-01-01T00:01:36.818248\",\"1970-01-01T00:01:38.597841\",\"1970-01-01T00:01:39.902447\"],\"hovertemplate\":\"VisitedAOI=%{y}<br>Dwell Start=%{base}<br>Dwell End=%{x}<extra></extra>\",\"legendgroup\":\"Gen_Info\",\"marker\":{\"color\":\"#FF97FF\",\"pattern\":{\"shape\":\"\"}},\"name\":\"Gen_Info\",\"offsetgroup\":\"Gen_Info\",\"orientation\":\"h\",\"showlegend\":true,\"textposition\":\"auto\",\"x\":[558.0,499.0,275.0,1049.0,199.0,558.0,299.0,466.0,738.0,299.0,108.0,608.0,391.0,974.0,83.0],\"xaxis\":\"x\",\"y\":[\"Gen_Info\",\"Gen_Info\",\"Gen_Info\",\"Gen_Info\",\"Gen_Info\",\"Gen_Info\",\"Gen_Info\",\"Gen_Info\",\"Gen_Info\",\"Gen_Info\",\"Gen_Info\",\"Gen_Info\",\"Gen_Info\",\"Gen_Info\",\"Gen_Info\"],\"yaxis\":\"y\",\"type\":\"bar\"},{\"alignmentgroup\":\"True\",\"base\":[\"1970-01-01T00:00:36.543654\",\"1970-01-01T00:00:37.601896\",\"1970-01-01T00:00:38.685093\",\"1970-01-01T00:00:42.647924\",\"1970-01-01T00:00:44.181102\",\"1970-01-01T00:00:45.689248\",\"1970-01-01T00:00:47.594450\",\"1970-01-01T00:00:49.857577\",\"1970-01-01T00:01:28.773680\",\"1970-01-01T00:01:40.060723\",\"1970-01-01T00:01:40.902333\"],\"hovertemplate\":\"VisitedAOI=%{y}<br>Dwell Start=%{base}<br>Dwell End=%{x}<extra></extra>\",\"legendgroup\":\"Ingredients\",\"marker\":{\"color\":\"#FECB52\",\"pattern\":{\"shape\":\"\"}},\"name\":\"Ingredients\",\"offsetgroup\":\"Ingredients\",\"orientation\":\"h\",\"showlegend\":true,\"textposition\":\"auto\",\"x\":[1033.0,208.0,2204.0,1016.0,866.0,1388.0,1158.0,1016.0,174.0,349.0,754.0],\"xaxis\":\"x\",\"y\":[\"Ingredients\",\"Ingredients\",\"Ingredients\",\"Ingredients\",\"Ingredients\",\"Ingredients\",\"Ingredients\",\"Ingredients\",\"Ingredients\",\"Ingredients\",\"Ingredients\"],\"yaxis\":\"y\",\"type\":\"bar\"},{\"alignmentgroup\":\"True\",\"base\":[\"1970-01-01T00:00:00.314254\",\"1970-01-01T00:00:56.050673\",\"1970-01-01T00:00:56.383991\",\"1970-01-01T00:00:56.842291\",\"1970-01-01T00:00:58.108793\",\"1970-01-01T00:00:58.333762\",\"1970-01-01T00:01:45.721799\"],\"hovertemplate\":\"VisitedAOI=%{y}<br>Dwell Start=%{base}<br>Dwell End=%{x}<extra></extra>\",\"legendgroup\":\"Instructions\",\"marker\":{\"color\":\"#636efa\",\"pattern\":{\"shape\":\"\"}},\"name\":\"Instructions\",\"offsetgroup\":\"Instructions\",\"orientation\":\"h\",\"showlegend\":true,\"textposition\":\"auto\",\"x\":[24.0,308.0,16.0,866.0,150.0,12608.0,466.0],\"xaxis\":\"x\",\"y\":[\"Instructions\",\"Instructions\",\"Instructions\",\"Instructions\",\"Instructions\",\"Instructions\",\"Instructions\"],\"yaxis\":\"y\",\"type\":\"bar\"},{\"alignmentgroup\":\"True\",\"base\":[\"1970-01-01T00:01:16.151798\",\"1970-01-01T00:01:16.410178\",\"1970-01-01T00:01:16.751776\",\"1970-01-01T00:01:17.085070\",\"1970-01-01T00:01:17.218352\"],\"hovertemplate\":\"VisitedAOI=%{y}<br>Dwell Start=%{base}<br>Dwell End=%{x}<extra></extra>\",\"legendgroup\":\"Online\",\"marker\":{\"color\":\"#EF553B\",\"pattern\":{\"shape\":\"\"}},\"name\":\"Online\",\"offsetgroup\":\"Online\",\"orientation\":\"h\",\"showlegend\":true,\"textposition\":\"auto\",\"x\":[150.0,74.0,258.0,8.0,608.0],\"xaxis\":\"x\",\"y\":[\"Online\",\"Online\",\"Online\",\"Online\",\"Online\"],\"yaxis\":\"y\",\"type\":\"bar\"},{\"alignmentgroup\":\"True\",\"base\":[\"1970-01-01T00:00:07.580093\",\"1970-01-01T00:00:09.238257\",\"1970-01-01T00:00:09.704864\",\"1970-01-01T00:00:11.038107\",\"1970-01-01T00:00:52.757983\",\"1970-01-01T00:00:53.282806\",\"1970-01-01T00:00:53.741086\",\"1970-01-01T00:01:35.637993\",\"1970-01-01T00:01:37.351547\",\"1970-01-01T00:01:38.193093\"],\"hovertemplate\":\"VisitedAOI=%{y}<br>Dwell Start=%{base}<br>Dwell End=%{x}<extra></extra>\",\"legendgroup\":\"Participants_Overview\",\"marker\":{\"color\":\"#00cc96\",\"pattern\":{\"shape\":\"\"}},\"name\":\"Participants_Overview\",\"offsetgroup\":\"Participants_Overview\",\"orientation\":\"h\",\"showlegend\":true,\"textposition\":\"auto\",\"x\":[424.0,25.0,1249.0,2024.0,208.0,24.0,324.0,283.0,16.0,354.0],\"xaxis\":\"x\",\"y\":[\"Participants_Overview\",\"Participants_Overview\",\"Participants_Overview\",\"Participants_Overview\",\"Participants_Overview\",\"Participants_Overview\",\"Participants_Overview\",\"Participants_Overview\",\"Participants_Overview\",\"Participants_Overview\"],\"yaxis\":\"y\",\"type\":\"bar\"},{\"alignmentgroup\":\"True\",\"base\":[\"1970-01-01T00:01:11.872261\",\"1970-01-01T00:01:13.085493\",\"1970-01-01T00:01:18.347876\",\"1970-01-01T00:01:20.272680\",\"1970-01-01T00:01:27.935044\",\"1970-01-01T00:01:45.516695\"],\"hovertemplate\":\"VisitedAOI=%{y}<br>Dwell Start=%{base}<br>Dwell End=%{x}<extra></extra>\",\"legendgroup\":\"Participant_Bio\",\"marker\":{\"color\":\"#ab63fa\",\"pattern\":{\"shape\":\"\"}},\"name\":\"Participant_Bio\",\"offsetgroup\":\"Participant_Bio\",\"orientation\":\"h\",\"showlegend\":true,\"textposition\":\"auto\",\"x\":[91.0,399.0,1866.0,149.0,141.0,83.0],\"xaxis\":\"x\",\"y\":[\"Participant_Bio\",\"Participant_Bio\",\"Participant_Bio\",\"Participant_Bio\",\"Participant_Bio\",\"Participant_Bio\"],\"yaxis\":\"y\",\"type\":\"bar\"},{\"alignmentgroup\":\"True\",\"base\":[\"1970-01-01T00:00:00.622552\",\"1970-01-01T00:01:11.464690\",\"1970-01-01T00:01:20.430996\",\"1970-01-01T00:01:23.268873\",\"1970-01-01T00:01:26.126889\",\"1970-01-01T00:01:26.693489\",\"1970-01-01T00:01:30.661907\",\"1970-01-01T00:01:31.803473\",\"1970-01-01T00:01:33.416343\",\"1970-01-01T00:01:34.307949\",\"1970-01-01T00:01:42.819911\",\"1970-01-01T00:01:43.061579\",\"1970-01-01T00:01:43.403182\",\"1970-01-01T00:01:46.188405\",\"1970-01-01T00:01:50.277530\"],\"hovertemplate\":\"VisitedAOI=%{y}<br>Dwell Start=%{base}<br>Dwell End=%{x}<extra></extra>\",\"legendgroup\":\"Participant_Profile_Picture\",\"marker\":{\"color\":\"#FFA15A\",\"pattern\":{\"shape\":\"\"}},\"name\":\"Participant_Profile_Picture\",\"offsetgroup\":\"Participant_Profile_Picture\",\"orientation\":\"h\",\"showlegend\":true,\"textposition\":\"auto\",\"x\":[100.0,315.0,816.0,266.0,266.0,491.0,216.0,829.0,383.0,8.0,116.0,149.0,91.0,291.0,274.0],\"xaxis\":\"x\",\"y\":[\"Participant_Profile_Picture\",\"Participant_Profile_Picture\",\"Participant_Profile_Picture\",\"Participant_Profile_Picture\",\"Participant_Profile_Picture\",\"Participant_Profile_Picture\",\"Participant_Profile_Picture\",\"Participant_Profile_Picture\",\"Participant_Profile_Picture\",\"Participant_Profile_Picture\",\"Participant_Profile_Picture\",\"Participant_Profile_Picture\",\"Participant_Profile_Picture\",\"Participant_Profile_Picture\",\"Participant_Profile_Picture\"],\"yaxis\":\"y\",\"type\":\"bar\"},{\"alignmentgroup\":\"True\",\"base\":[\"1970-01-01T00:01:13.485432\",\"1970-01-01T00:01:13.652128\",\"1970-01-01T00:01:15.335261\",\"1970-01-01T00:01:16.318529\",\"1970-01-01T00:01:43.733770\",\"1970-01-01T00:01:44.858430\",\"1970-01-01T00:01:44.933429\"],\"hovertemplate\":\"VisitedAOI=%{y}<br>Dwell Start=%{base}<br>Dwell End=%{x}<extra></extra>\",\"legendgroup\":\"Place\",\"marker\":{\"color\":\"#19d3f3\",\"pattern\":{\"shape\":\"\"}},\"name\":\"Place\",\"offsetgroup\":\"Place\",\"orientation\":\"h\",\"showlegend\":true,\"textposition\":\"auto\",\"x\":[141.0,191.0,466.0,74.0,249.0,25.0,333.0],\"xaxis\":\"x\",\"y\":[\"Place\",\"Place\",\"Place\",\"Place\",\"Place\",\"Place\",\"Place\"],\"yaxis\":\"y\",\"type\":\"bar\"},{\"alignmentgroup\":\"True\",\"base\":[\"1970-01-01T00:00:40.889791\",\"1970-01-01T00:00:43.664511\",\"1970-01-01T00:00:45.047665\",\"1970-01-01T00:00:47.086165\",\"1970-01-01T00:00:48.752625\",\"1970-01-01T00:00:50.873905\",\"1970-01-01T00:00:54.853741\"],\"hovertemplate\":\"VisitedAOI=%{y}<br>Dwell Start=%{base}<br>Dwell End=%{x}<extra></extra>\",\"legendgroup\":\"Responsabilities\",\"marker\":{\"color\":\"#FF6692\",\"pattern\":{\"shape\":\"\"}},\"name\":\"Responsabilities\",\"offsetgroup\":\"Responsabilities\",\"orientation\":\"h\",\"showlegend\":true,\"textposition\":\"auto\",\"x\":[1758.0,466.0,641.0,508.0,991.0,1537.0,1196.0],\"xaxis\":\"x\",\"y\":[\"Responsabilities\",\"Responsabilities\",\"Responsabilities\",\"Responsabilities\",\"Responsabilities\",\"Responsabilities\",\"Responsabilities\"],\"yaxis\":\"y\",\"type\":\"bar\"},{\"alignmentgroup\":\"True\",\"base\":[\"1970-01-01T00:01:14.960281\",\"1970-01-01T00:01:17.876656\"],\"hovertemplate\":\"VisitedAOI=%{y}<br>Dwell Start=%{base}<br>Dwell End=%{x}<extra></extra>\",\"legendgroup\":\"Status\",\"marker\":{\"color\":\"#B6E880\",\"pattern\":{\"shape\":\"\"}},\"name\":\"Status\",\"offsetgroup\":\"Status\",\"orientation\":\"h\",\"showlegend\":true,\"textposition\":\"auto\",\"x\":[324.0,412.0],\"xaxis\":\"x\",\"y\":[\"Status\",\"Status\"],\"yaxis\":\"y\",\"type\":\"bar\"},{\"alignmentgroup\":\"True\",\"base\":[\"1970-01-01T00:01:13.843765\",\"1970-01-01T00:01:44.008519\"],\"hovertemplate\":\"VisitedAOI=%{y}<br>Dwell Start=%{base}<br>Dwell End=%{x}<extra></extra>\",\"legendgroup\":\"Verified\",\"marker\":{\"color\":\"#FF97FF\",\"pattern\":{\"shape\":\"\"}},\"name\":\"Verified\",\"offsetgroup\":\"Verified\",\"orientation\":\"h\",\"showlegend\":true,\"textposition\":\"auto\",\"x\":[1116.0,216.0],\"xaxis\":\"x\",\"y\":[\"Verified\",\"Verified\"],\"yaxis\":\"y\",\"type\":\"bar\"}],                        {\"template\":{\"data\":{\"histogram2dcontour\":[{\"type\":\"histogram2dcontour\",\"colorbar\":{\"outlinewidth\":0,\"ticks\":\"\"},\"colorscale\":[[0.0,\"#0d0887\"],[0.1111111111111111,\"#46039f\"],[0.2222222222222222,\"#7201a8\"],[0.3333333333333333,\"#9c179e\"],[0.4444444444444444,\"#bd3786\"],[0.5555555555555556,\"#d8576b\"],[0.6666666666666666,\"#ed7953\"],[0.7777777777777778,\"#fb9f3a\"],[0.8888888888888888,\"#fdca26\"],[1.0,\"#f0f921\"]]}],\"choropleth\":[{\"type\":\"choropleth\",\"colorbar\":{\"outlinewidth\":0,\"ticks\":\"\"}}],\"histogram2d\":[{\"type\":\"histogram2d\",\"colorbar\":{\"outlinewidth\":0,\"ticks\":\"\"},\"colorscale\":[[0.0,\"#0d0887\"],[0.1111111111111111,\"#46039f\"],[0.2222222222222222,\"#7201a8\"],[0.3333333333333333,\"#9c179e\"],[0.4444444444444444,\"#bd3786\"],[0.5555555555555556,\"#d8576b\"],[0.6666666666666666,\"#ed7953\"],[0.7777777777777778,\"#fb9f3a\"],[0.8888888888888888,\"#fdca26\"],[1.0,\"#f0f921\"]]}],\"heatmap\":[{\"type\":\"heatmap\",\"colorbar\":{\"outlinewidth\":0,\"ticks\":\"\"},\"colorscale\":[[0.0,\"#0d0887\"],[0.1111111111111111,\"#46039f\"],[0.2222222222222222,\"#7201a8\"],[0.3333333333333333,\"#9c179e\"],[0.4444444444444444,\"#bd3786\"],[0.5555555555555556,\"#d8576b\"],[0.6666666666666666,\"#ed7953\"],[0.7777777777777778,\"#fb9f3a\"],[0.8888888888888888,\"#fdca26\"],[1.0,\"#f0f921\"]]}],\"heatmapgl\":[{\"type\":\"heatmapgl\",\"colorbar\":{\"outlinewidth\":0,\"ticks\":\"\"},\"colorscale\":[[0.0,\"#0d0887\"],[0.1111111111111111,\"#46039f\"],[0.2222222222222222,\"#7201a8\"],[0.3333333333333333,\"#9c179e\"],[0.4444444444444444,\"#bd3786\"],[0.5555555555555556,\"#d8576b\"],[0.6666666666666666,\"#ed7953\"],[0.7777777777777778,\"#fb9f3a\"],[0.8888888888888888,\"#fdca26\"],[1.0,\"#f0f921\"]]}],\"contourcarpet\":[{\"type\":\"contourcarpet\",\"colorbar\":{\"outlinewidth\":0,\"ticks\":\"\"}}],\"contour\":[{\"type\":\"contour\",\"colorbar\":{\"outlinewidth\":0,\"ticks\":\"\"},\"colorscale\":[[0.0,\"#0d0887\"],[0.1111111111111111,\"#46039f\"],[0.2222222222222222,\"#7201a8\"],[0.3333333333333333,\"#9c179e\"],[0.4444444444444444,\"#bd3786\"],[0.5555555555555556,\"#d8576b\"],[0.6666666666666666,\"#ed7953\"],[0.7777777777777778,\"#fb9f3a\"],[0.8888888888888888,\"#fdca26\"],[1.0,\"#f0f921\"]]}],\"surface\":[{\"type\":\"surface\",\"colorbar\":{\"outlinewidth\":0,\"ticks\":\"\"},\"colorscale\":[[0.0,\"#0d0887\"],[0.1111111111111111,\"#46039f\"],[0.2222222222222222,\"#7201a8\"],[0.3333333333333333,\"#9c179e\"],[0.4444444444444444,\"#bd3786\"],[0.5555555555555556,\"#d8576b\"],[0.6666666666666666,\"#ed7953\"],[0.7777777777777778,\"#fb9f3a\"],[0.8888888888888888,\"#fdca26\"],[1.0,\"#f0f921\"]]}],\"mesh3d\":[{\"type\":\"mesh3d\",\"colorbar\":{\"outlinewidth\":0,\"ticks\":\"\"}}],\"scatter\":[{\"fillpattern\":{\"fillmode\":\"overlay\",\"size\":10,\"solidity\":0.2},\"type\":\"scatter\"}],\"parcoords\":[{\"type\":\"parcoords\",\"line\":{\"colorbar\":{\"outlinewidth\":0,\"ticks\":\"\"}}}],\"scatterpolargl\":[{\"type\":\"scatterpolargl\",\"marker\":{\"colorbar\":{\"outlinewidth\":0,\"ticks\":\"\"}}}],\"bar\":[{\"error_x\":{\"color\":\"#2a3f5f\"},\"error_y\":{\"color\":\"#2a3f5f\"},\"marker\":{\"line\":{\"color\":\"#E5ECF6\",\"width\":0.5},\"pattern\":{\"fillmode\":\"overlay\",\"size\":10,\"solidity\":0.2}},\"type\":\"bar\"}],\"scattergeo\":[{\"type\":\"scattergeo\",\"marker\":{\"colorbar\":{\"outlinewidth\":0,\"ticks\":\"\"}}}],\"scatterpolar\":[{\"type\":\"scatterpolar\",\"marker\":{\"colorbar\":{\"outlinewidth\":0,\"ticks\":\"\"}}}],\"histogram\":[{\"marker\":{\"pattern\":{\"fillmode\":\"overlay\",\"size\":10,\"solidity\":0.2}},\"type\":\"histogram\"}],\"scattergl\":[{\"type\":\"scattergl\",\"marker\":{\"colorbar\":{\"outlinewidth\":0,\"ticks\":\"\"}}}],\"scatter3d\":[{\"type\":\"scatter3d\",\"line\":{\"colorbar\":{\"outlinewidth\":0,\"ticks\":\"\"}},\"marker\":{\"colorbar\":{\"outlinewidth\":0,\"ticks\":\"\"}}}],\"scattermapbox\":[{\"type\":\"scattermapbox\",\"marker\":{\"colorbar\":{\"outlinewidth\":0,\"ticks\":\"\"}}}],\"scatterternary\":[{\"type\":\"scatterternary\",\"marker\":{\"colorbar\":{\"outlinewidth\":0,\"ticks\":\"\"}}}],\"scattercarpet\":[{\"type\":\"scattercarpet\",\"marker\":{\"colorbar\":{\"outlinewidth\":0,\"ticks\":\"\"}}}],\"carpet\":[{\"aaxis\":{\"endlinecolor\":\"#2a3f5f\",\"gridcolor\":\"white\",\"linecolor\":\"white\",\"minorgridcolor\":\"white\",\"startlinecolor\":\"#2a3f5f\"},\"baxis\":{\"endlinecolor\":\"#2a3f5f\",\"gridcolor\":\"white\",\"linecolor\":\"white\",\"minorgridcolor\":\"white\",\"startlinecolor\":\"#2a3f5f\"},\"type\":\"carpet\"}],\"table\":[{\"cells\":{\"fill\":{\"color\":\"#EBF0F8\"},\"line\":{\"color\":\"white\"}},\"header\":{\"fill\":{\"color\":\"#C8D4E3\"},\"line\":{\"color\":\"white\"}},\"type\":\"table\"}],\"barpolar\":[{\"marker\":{\"line\":{\"color\":\"#E5ECF6\",\"width\":0.5},\"pattern\":{\"fillmode\":\"overlay\",\"size\":10,\"solidity\":0.2}},\"type\":\"barpolar\"}],\"pie\":[{\"automargin\":true,\"type\":\"pie\"}]},\"layout\":{\"autotypenumbers\":\"strict\",\"colorway\":[\"#636efa\",\"#EF553B\",\"#00cc96\",\"#ab63fa\",\"#FFA15A\",\"#19d3f3\",\"#FF6692\",\"#B6E880\",\"#FF97FF\",\"#FECB52\"],\"font\":{\"color\":\"#2a3f5f\"},\"hovermode\":\"closest\",\"hoverlabel\":{\"align\":\"left\"},\"paper_bgcolor\":\"white\",\"plot_bgcolor\":\"#E5ECF6\",\"polar\":{\"bgcolor\":\"#E5ECF6\",\"angularaxis\":{\"gridcolor\":\"white\",\"linecolor\":\"white\",\"ticks\":\"\"},\"radialaxis\":{\"gridcolor\":\"white\",\"linecolor\":\"white\",\"ticks\":\"\"}},\"ternary\":{\"bgcolor\":\"#E5ECF6\",\"aaxis\":{\"gridcolor\":\"white\",\"linecolor\":\"white\",\"ticks\":\"\"},\"baxis\":{\"gridcolor\":\"white\",\"linecolor\":\"white\",\"ticks\":\"\"},\"caxis\":{\"gridcolor\":\"white\",\"linecolor\":\"white\",\"ticks\":\"\"}},\"coloraxis\":{\"colorbar\":{\"outlinewidth\":0,\"ticks\":\"\"}},\"colorscale\":{\"sequential\":[[0.0,\"#0d0887\"],[0.1111111111111111,\"#46039f\"],[0.2222222222222222,\"#7201a8\"],[0.3333333333333333,\"#9c179e\"],[0.4444444444444444,\"#bd3786\"],[0.5555555555555556,\"#d8576b\"],[0.6666666666666666,\"#ed7953\"],[0.7777777777777778,\"#fb9f3a\"],[0.8888888888888888,\"#fdca26\"],[1.0,\"#f0f921\"]],\"sequentialminus\":[[0.0,\"#0d0887\"],[0.1111111111111111,\"#46039f\"],[0.2222222222222222,\"#7201a8\"],[0.3333333333333333,\"#9c179e\"],[0.4444444444444444,\"#bd3786\"],[0.5555555555555556,\"#d8576b\"],[0.6666666666666666,\"#ed7953\"],[0.7777777777777778,\"#fb9f3a\"],[0.8888888888888888,\"#fdca26\"],[1.0,\"#f0f921\"]],\"diverging\":[[0,\"#8e0152\"],[0.1,\"#c51b7d\"],[0.2,\"#de77ae\"],[0.3,\"#f1b6da\"],[0.4,\"#fde0ef\"],[0.5,\"#f7f7f7\"],[0.6,\"#e6f5d0\"],[0.7,\"#b8e186\"],[0.8,\"#7fbc41\"],[0.9,\"#4d9221\"],[1,\"#276419\"]]},\"xaxis\":{\"gridcolor\":\"white\",\"linecolor\":\"white\",\"ticks\":\"\",\"title\":{\"standoff\":15},\"zerolinecolor\":\"white\",\"automargin\":true,\"zerolinewidth\":2},\"yaxis\":{\"gridcolor\":\"white\",\"linecolor\":\"white\",\"ticks\":\"\",\"title\":{\"standoff\":15},\"zerolinecolor\":\"white\",\"automargin\":true,\"zerolinewidth\":2},\"scene\":{\"xaxis\":{\"backgroundcolor\":\"#E5ECF6\",\"gridcolor\":\"white\",\"linecolor\":\"white\",\"showbackground\":true,\"ticks\":\"\",\"zerolinecolor\":\"white\",\"gridwidth\":2},\"yaxis\":{\"backgroundcolor\":\"#E5ECF6\",\"gridcolor\":\"white\",\"linecolor\":\"white\",\"showbackground\":true,\"ticks\":\"\",\"zerolinecolor\":\"white\",\"gridwidth\":2},\"zaxis\":{\"backgroundcolor\":\"#E5ECF6\",\"gridcolor\":\"white\",\"linecolor\":\"white\",\"showbackground\":true,\"ticks\":\"\",\"zerolinecolor\":\"white\",\"gridwidth\":2}},\"shapedefaults\":{\"line\":{\"color\":\"#2a3f5f\"}},\"annotationdefaults\":{\"arrowcolor\":\"#2a3f5f\",\"arrowhead\":0,\"arrowwidth\":1},\"geo\":{\"bgcolor\":\"white\",\"landcolor\":\"#E5ECF6\",\"subunitcolor\":\"white\",\"showland\":true,\"showlakes\":true,\"lakecolor\":\"white\"},\"title\":{\"x\":0.05},\"mapbox\":{\"style\":\"light\"}}},\"xaxis\":{\"anchor\":\"y\",\"domain\":[0.0,1.0],\"type\":\"date\",\"tickformat\":\"%Q\"},\"yaxis\":{\"anchor\":\"x\",\"domain\":[0.0,1.0],\"title\":{\"text\":\"VisitedAOI\"},\"categoryorder\":\"array\",\"categoryarray\":[\"Verified\",\"Status\",\"Responsabilities\",\"Place\",\"Participant_Profile_Picture\",\"Participant_Bio\",\"Participants_Overview\",\"Online\",\"Instructions\",\"Ingredients\",\"Gen_Info\",\"Food\",\"Fav\",\"Description_2\",\"Description_1\",\"Date_Place_2\",\"Date_Place_1\",\"CTA_1\",\"Chat\"]},\"legend\":{\"title\":{\"text\":\"VisitedAOI\"},\"tracegroupgap\":0},\"title\":{\"text\":\"Participant: P03\"},\"barmode\":\"overlay\"},                        {\"responsive\": true}                    ).then(function(){\n",
       "                            \n",
       "var gd = document.getElementById('9a786fb0-d846-472e-8141-07c88f4d55c5');\n",
       "var x = new MutationObserver(function (mutations, observer) {{\n",
       "        var display = window.getComputedStyle(gd).display;\n",
       "        if (!display || display === 'none') {{\n",
       "            console.log([gd, 'removed!']);\n",
       "            Plotly.purge(gd);\n",
       "            observer.disconnect();\n",
       "        }}\n",
       "}});\n",
       "\n",
       "// Listen for the removal of the full notebook cells\n",
       "var notebookContainer = gd.closest('#notebook-container');\n",
       "if (notebookContainer) {{\n",
       "    x.observe(notebookContainer, {childList: true});\n",
       "}}\n",
       "\n",
       "// Listen for the clearing of the current output cell\n",
       "var outputEl = gd.closest('.output');\n",
       "if (outputEl) {{\n",
       "    x.observe(outputEl, {childList: true});\n",
       "}}\n",
       "\n",
       "                        })                };                });            </script>        </div>"
      ]
     },
     "metadata": {},
     "output_type": "display_data"
    }
   ],
   "source": [
    "color_discrete_map = None\n",
    "\n",
    "# Iteratate over the participants and plot AOI sequences\n",
    "for participant in dataToPlot['Respondent'].unique():\n",
    "    \n",
    "    # Filter in the participant data\n",
    "    participantData = dataToPlot[dataToPlot['Respondent']==participant]\n",
    "    \n",
    "    # Plot AOI sequences for the participant data\n",
    "    fig = None\n",
    "    # if no colors are assigned yet for the different AOI sequences\n",
    "    if color_discrete_map is None:\n",
    "        # Generate a figure with default colors\n",
    "        fig = px.timeline(participantData, x_start=\"Dwell Start\", x_end=\"Dwell End\", y=\"VisitedAOI\", color=\"VisitedAOI\",  category_orders={\"VisitedAOI\": [value for value in aoisToPlot]}, title=f'Participant: {participant}')\n",
    "        # copy the colors to color_discrete_map in order to reuse them for the other AOI sequence charts\n",
    "        color_discrete_map = {data.name: data.marker.color for data in fig.data}\n",
    "    else:\n",
    "        # Generate a figure with the existing colors in color_discrete_map\n",
    "        fig = px.timeline(participantData, x_start=\"Dwell Start\", x_end=\"Dwell End\", y=\"VisitedAOI\", color=\"VisitedAOI\",  category_orders={\"VisitedAOI\": [value for value in aoisToPlot]},  color_discrete_map=color_discrete_map, title=f'Participant: {participant}')\n",
    "    \n",
    "    fig.update_xaxes(\n",
    "        tickformat=\"%Q\",  # date format\n",
    "    ) \n",
    "    fig.show()"
   ]
  },
  {
   "cell_type": "code",
   "execution_count": null,
   "id": "653ce91a",
   "metadata": {},
   "outputs": [],
   "source": []
  }
 ],
 "metadata": {
  "kernelspec": {
   "display_name": "Python 3 (ipykernel)",
   "language": "python",
   "name": "python3"
  },
  "language_info": {
   "codemirror_mode": {
    "name": "ipython",
    "version": 3
   },
   "file_extension": ".py",
   "mimetype": "text/x-python",
   "name": "python",
   "nbconvert_exporter": "python",
   "pygments_lexer": "ipython3",
   "version": "3.8.6"
  }
 },
 "nbformat": 4,
 "nbformat_minor": 5
}
