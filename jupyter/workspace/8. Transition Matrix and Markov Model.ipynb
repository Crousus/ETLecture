{
 "cells": [
  {
   "cell_type": "code",
   "execution_count": null,
   "id": "0712fca3",
   "metadata": {},
   "outputs": [],
   "source": [
    "import pandas as pd\n",
    "from matplotlib.pyplot import figure\n",
    "from scipy.stats import entropy\n",
    "import utils\n",
    "import numpy as np"
   ]
  },
  {
   "cell_type": "code",
   "execution_count": null,
   "id": "45eda266",
   "metadata": {},
   "outputs": [],
   "source": [
    "#---------------------------------------------------\n",
    "#\n",
    "# Config *** TO UPDATE ***\n",
    "#\n",
    "#---------------------------------------------------\n",
    "\n",
    "# *** TO UPDATE: change the team number with your own team number\n",
    "AOIS_DEFINITION_FILE = \"raw-data/team2/aoisDefinition.csv\"\n",
    "\n",
    "# This file should be automatically generated from \"5. AOI Visits\"\n",
    "DWELLS_FILE = \"data/dwells.csv\""
   ]
  },
  {
   "cell_type": "code",
   "execution_count": null,
   "id": "bb0a953d",
   "metadata": {},
   "outputs": [],
   "source": [
    "#----------------------------------------------------------------------------------------\n",
    "#\n",
    "#  1. Transition Matrix and Markov Model\n",
    "#  \n",
    "#\n",
    "#----------------------------------------------------------------------------------------"
   ]
  },
  {
   "cell_type": "code",
   "execution_count": null,
   "id": "526ae87e",
   "metadata": {},
   "outputs": [],
   "source": [
    "#----------------------------------------------------------------------------------------\n",
    "#Assumption: the AOIs are not overlapping\n",
    "#----------------------------------------------------------------------------------------"
   ]
  },
  {
   "cell_type": "code",
   "execution_count": null,
   "id": "97475ee8",
   "metadata": {},
   "outputs": [],
   "source": [
    "# Read aois definition\n",
    "aois_df = pd.read_csv(AOIS_DEFINITION_FILE)"
   ]
  },
  {
   "cell_type": "code",
   "execution_count": null,
   "id": "e9282355",
   "metadata": {},
   "outputs": [],
   "source": [
    "# Display aois definition\n",
    "display(aois_df)"
   ]
  },
  {
   "cell_type": "code",
   "execution_count": null,
   "id": "93454f9e",
   "metadata": {},
   "outputs": [],
   "source": [
    "# get list of AOIs\n",
    "AoisToConsider = aois_df[\"AOI\"].tolist()\n",
    "print(f'AOIs: {AoisToConsider}')"
   ]
  },
  {
   "cell_type": "code",
   "execution_count": null,
   "id": "6392cd0d",
   "metadata": {},
   "outputs": [],
   "source": [
    "# Read dwell data using pandas library\n",
    "data = pd.read_csv(DWELLS_FILE)\n",
    "\n",
    "# set display.max_columns to none, to show all the columns when using head()\n",
    "pd.set_option('display.max_columns', None)"
   ]
  },
  {
   "cell_type": "code",
   "execution_count": null,
   "id": "22b94ca1",
   "metadata": {},
   "outputs": [],
   "source": [
    "# Preview dwells data\n",
    "data.head()"
   ]
  },
  {
   "cell_type": "code",
   "execution_count": null,
   "id": "627dfd97",
   "metadata": {},
   "outputs": [],
   "source": [
    "#Keep only aois within AoisToConsider\n",
    "data = data[data['VisitedAOI'].isin(AoisToConsider)].copy(deep=True)"
   ]
  },
  {
   "cell_type": "code",
   "execution_count": null,
   "id": "90df844a",
   "metadata": {},
   "outputs": [],
   "source": [
    "#----------------------------------------------------------------------------------------\n",
    "#\n",
    "# 1.1 Identify transitions (including self-transitions e.g., transitions from AOI1 to AOI1)\n",
    "#\n",
    "#----------------------------------------------------------------------------------------"
   ]
  },
  {
   "cell_type": "code",
   "execution_count": null,
   "id": "83d66c77",
   "metadata": {},
   "outputs": [],
   "source": [
    "transitions = pd.DataFrame()\n",
    "transitions[['Respondent','TransitionSource','TransitionTarget']] = data.apply(lambda x: utils.identifyTransition(data,x.name), axis=1)"
   ]
  },
  {
   "cell_type": "code",
   "execution_count": null,
   "id": "f6671e26",
   "metadata": {
    "scrolled": true
   },
   "outputs": [],
   "source": [
    "# Preview transitions dataframe\n",
    "transitions.head()"
   ]
  },
  {
   "cell_type": "code",
   "execution_count": null,
   "id": "0739456c",
   "metadata": {},
   "outputs": [],
   "source": [
    "# Generate transition matrix\n",
    "transitionMatrix = utils.generateTransitionMatrix(transitions,'TransitionSource','TransitionTarget')"
   ]
  },
  {
   "cell_type": "code",
   "execution_count": null,
   "id": "a5ac206e",
   "metadata": {},
   "outputs": [],
   "source": [
    "# Display transitionMatrix\n",
    "display(transitionMatrix)"
   ]
  },
  {
   "cell_type": "code",
   "execution_count": null,
   "id": "c1ba2e3d",
   "metadata": {},
   "outputs": [],
   "source": [
    "# Export transitionMatrix as CSV\n",
    "transitionMatrix.to_csv(\"data/transitionMatrix.csv\")"
   ]
  },
  {
   "cell_type": "code",
   "execution_count": null,
   "id": "9b91f89d",
   "metadata": {},
   "outputs": [],
   "source": [
    "#----------------------------------------------------------------------------------------\n",
    "# Markov Model\n",
    "#----------------------------------------------------------------------------------------"
   ]
  },
  {
   "cell_type": "code",
   "execution_count": null,
   "id": "5a495d73",
   "metadata": {},
   "outputs": [],
   "source": [
    "# Generate a transition matrix with values normalized over each row (by dividing all values by the sum of values in row)\n",
    "transitionMatrixNormalized = utils.generateTransitionMatrix(transitions,'TransitionSource','TransitionTarget',normalize='index')"
   ]
  },
  {
   "cell_type": "code",
   "execution_count": null,
   "id": "4a672d50",
   "metadata": {},
   "outputs": [],
   "source": [
    "# Display transitionMatrixNormalized\n",
    "display(transitionMatrixNormalized)"
   ]
  },
  {
   "cell_type": "code",
   "execution_count": null,
   "id": "45f4acde",
   "metadata": {},
   "outputs": [],
   "source": [
    "# Export transitionMatrix as CSV\n",
    "transitionMatrixNormalized.to_csv(\"data/transitionMatrixNormalized-MarkovModel.csv\")"
   ]
  },
  {
   "cell_type": "code",
   "execution_count": null,
   "id": "331e3da5",
   "metadata": {},
   "outputs": [],
   "source": [
    "#----------------------------------------------------------------------------------------\n",
    "#\n",
    "# 1.2 Identify transitions (with no self-transitions)\n",
    "#\n",
    "#----------------------------------------------------------------------------------------"
   ]
  },
  {
   "cell_type": "code",
   "execution_count": null,
   "id": "965a9fdf",
   "metadata": {},
   "outputs": [],
   "source": [
    "# drop consecutive duplicate VisitedAOIs\n",
    "dataNoConsDupVisits = data[['VisitedAOI']]     \n",
    "dataNoConsDupVisits = data[(dataNoConsDupVisits.ne(dataNoConsDupVisits.shift())).any(axis=1)]"
   ]
  },
  {
   "cell_type": "code",
   "execution_count": null,
   "id": "a8579e7c",
   "metadata": {
    "scrolled": true
   },
   "outputs": [],
   "source": [
    "#identify transitions\n",
    "noSelfTransitions = pd.DataFrame()\n",
    "noSelfTransitions[['Respondent','TransitionSource','TransitionTarget']] = dataNoConsDupVisits.apply(lambda x: utils.identifyTransition(dataNoConsDupVisits,x.name), axis=1)"
   ]
  },
  {
   "cell_type": "code",
   "execution_count": null,
   "id": "8472cff9",
   "metadata": {
    "scrolled": true
   },
   "outputs": [],
   "source": [
    "# Preview noSelfTransitions dataframe\n",
    "noSelfTransitions.head()"
   ]
  },
  {
   "cell_type": "code",
   "execution_count": null,
   "id": "5715afe0",
   "metadata": {},
   "outputs": [],
   "source": [
    "# Generate transition matrix\n",
    "noSelfTransitionsMatrix = utils.generateTransitionMatrix(noSelfTransitions,'TransitionSource','TransitionTarget')"
   ]
  },
  {
   "cell_type": "code",
   "execution_count": null,
   "id": "1c26b459",
   "metadata": {},
   "outputs": [],
   "source": [
    "# Display noSelfTransitionsMatrix\n",
    "display(noSelfTransitionsMatrix)"
   ]
  },
  {
   "cell_type": "code",
   "execution_count": null,
   "id": "fd7f7113",
   "metadata": {},
   "outputs": [],
   "source": [
    "# Export noSelfTransitions as CSV\n",
    "noSelfTransitionsMatrix.to_csv(\"data/noSelfTransitions.csv\")"
   ]
  },
  {
   "cell_type": "code",
   "execution_count": null,
   "id": "e1279444",
   "metadata": {},
   "outputs": [],
   "source": [
    "#----------------------------------------------------------------------------------------\n",
    "# Markov Model\n",
    "#----------------------------------------------------------------------------------------"
   ]
  },
  {
   "cell_type": "code",
   "execution_count": null,
   "id": "535289c3",
   "metadata": {},
   "outputs": [],
   "source": [
    "# Generate a transition matrix with values normalized over each row (by dividing all values by the sum of values in row)\n",
    "noSelfTransitionsMatrixNormalized = utils.generateTransitionMatrix(noSelfTransitions,'TransitionSource','TransitionTarget',normalize='index')"
   ]
  },
  {
   "cell_type": "code",
   "execution_count": null,
   "id": "47d0353c",
   "metadata": {
    "scrolled": true
   },
   "outputs": [],
   "source": [
    "# Display noSelfTransitionsMatrixNormalized\n",
    "display(noSelfTransitionsMatrixNormalized)"
   ]
  },
  {
   "cell_type": "code",
   "execution_count": null,
   "id": "91d3aaa2",
   "metadata": {},
   "outputs": [],
   "source": [
    "# Export noSelfTransitionsMatrixNormalized as CSV\n",
    "noSelfTransitionsMatrixNormalized.to_csv(\"data/noSelfTransitionsNormalized--MarkovModel.csv\")"
   ]
  },
  {
   "cell_type": "code",
   "execution_count": null,
   "id": "81e689e1",
   "metadata": {},
   "outputs": [],
   "source": []
  },
  {
   "cell_type": "code",
   "execution_count": null,
   "id": "300da653",
   "metadata": {},
   "outputs": [],
   "source": []
  }
 ],
 "metadata": {
  "kernelspec": {
   "display_name": "Python 3 (ipykernel)",
   "language": "python",
   "name": "python3"
  },
  "language_info": {
   "codemirror_mode": {
    "name": "ipython",
    "version": 3
   },
   "file_extension": ".py",
   "mimetype": "text/x-python",
   "name": "python",
   "nbconvert_exporter": "python",
   "pygments_lexer": "ipython3",
   "version": "3.8.6"
  }
 },
 "nbformat": 4,
 "nbformat_minor": 5
}
