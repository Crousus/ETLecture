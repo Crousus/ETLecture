{
 "cells": [
  {
   "cell_type": "code",
   "execution_count": 1,
   "id": "06520c13",
   "metadata": {
    "ExecuteTime": {
     "end_time": "2023-11-23T08:04:16.564738300Z",
     "start_time": "2023-11-23T08:04:14.853185200Z"
    }
   },
   "outputs": [],
   "source": [
    "import pandas as pd\n",
    "import requests"
   ]
  },
  {
   "cell_type": "code",
   "execution_count": 2,
   "id": "03f7f8af",
   "metadata": {
    "ExecuteTime": {
     "end_time": "2023-11-23T08:04:28.610279800Z",
     "start_time": "2023-11-23T08:04:28.578680200Z"
    }
   },
   "outputs": [],
   "source": [
    "#---------------------------------------------------\n",
    "#\n",
    "# Config\n",
    "#\n",
    "#---------------------------------------------------\n",
    "\n",
    "# This file should be automatically generated from \"1. Gaze Projections and AOIs Mapping\"\n",
    "GAZE_DATA_WITH_AOIS_FILE = \"data/gazeDataWithAOIs.csv\""
   ]
  },
  {
   "cell_type": "code",
   "execution_count": 3,
   "id": "22137096",
   "metadata": {
    "ExecuteTime": {
     "end_time": "2023-11-23T08:04:29.856969400Z",
     "start_time": "2023-11-23T08:04:29.793024100Z"
    }
   },
   "outputs": [],
   "source": [
    "#----------------------------------------------------------------------------------------\n",
    "#\n",
    "#\n",
    "# 1. Oculomotor event detection (i.e., Fixations and saccades)\n",
    "# \n",
    "#\n",
    "#----------------------------------------------------------------------------------------"
   ]
  },
  {
   "cell_type": "code",
   "execution_count": 4,
   "id": "065b9976",
   "metadata": {
    "ExecuteTime": {
     "end_time": "2023-11-23T08:04:31.824383500Z",
     "start_time": "2023-11-23T08:04:30.939397100Z"
    }
   },
   "outputs": [
    {
     "name": "stderr",
     "output_type": "stream",
     "text": [
      "C:\\Users\\johan\\AppData\\Local\\Temp\\ipykernel_25144\\3739489302.py:2: DtypeWarning: Columns (8,9,11) have mixed types. Specify dtype option on import or set low_memory=False.\n",
      "  data = pd.read_csv(GAZE_DATA_WITH_AOIS_FILE)\n"
     ]
    }
   ],
   "source": [
    "# Read gaze data with AOIs using pandas library\n",
    "data = pd.read_csv(GAZE_DATA_WITH_AOIS_FILE)\n",
    "# set display.max_columns to none, to show all the columns when using head()\n",
    "pd.set_option('display.max_columns', None)"
   ]
  },
  {
   "cell_type": "code",
   "execution_count": 5,
   "id": "4289c196",
   "metadata": {
    "ExecuteTime": {
     "end_time": "2023-11-23T08:04:36.897554700Z",
     "start_time": "2023-11-23T08:04:36.758148700Z"
    }
   },
   "outputs": [
    {
     "data": {
      "text/plain": "   Row Respondent  Age Gender    Group Calibration  Timestamp  EventSource  \\\n0    1         P1    0  OTHER  Default        Good   113.4082          1.0   \n1    2         P1    0  OTHER  Default        Good   116.3702          NaN   \n2    3         P1    0  OTHER  Default        Good   124.6983          NaN   \n3    4         P1    0  OTHER  Default        Good   133.0560          NaN   \n4    5         P1    0  OTHER  Default        Good   141.4015          NaN   \n\n   SlideEvent   StimType  Duration CollectionPhase SourceStimuliName  \\\n0  StartSlide  TestImage  300000.0  StimuliDisplay      SWA_Stimulus   \n1         NaN        NaN       NaN             NaN      SWA_Stimulus   \n2         NaN        NaN       NaN             NaN      SWA_Stimulus   \n3         NaN        NaN       NaN             NaN      SWA_Stimulus   \n4         NaN        NaN       NaN             NaN      SWA_Stimulus   \n\n   EventSource.1  ET_GazeLeftx  ET_GazeLefty  ET_GazeRightx  ET_GazeRighty  \\\n0            NaN           NaN           NaN            NaN            NaN   \n1            1.0         888.0         515.0         1010.0          425.0   \n2            1.0         888.0         515.0         1012.0          420.0   \n3            1.0         902.0         491.0         1012.0          420.0   \n4            1.0         900.0         497.0         1012.0          443.0   \n\n   ET_PupilLeft  ET_PupilRight  ET_TimeSignal  ET_DistanceLeft  \\\n0           NaN            NaN            NaN              NaN   \n1           NaN            NaN        124.985       619.543823   \n2      4.466522       4.194916        133.313       619.592834   \n3           NaN            NaN        141.671       619.556641   \n4           NaN            NaN        150.015       619.610413   \n\n   ET_DistanceRight  ET_CameraLeftX  ET_CameraLeftY  ET_CameraRightX  \\\n0               NaN             NaN             NaN              NaN   \n1        642.581055        0.619945        0.423148         0.458277   \n2        642.683228        0.619940        0.423088         0.458230   \n3        642.699036        0.619840        0.423102         0.458169   \n4        642.775269        0.619859        0.422902         0.458232   \n\n   ET_CameraRightY  ET_ValidityLeft  ET_ValidityRight  GazeX  GazeY  \\\n0              NaN              NaN               NaN    NaN    NaN   \n1         0.416878              0.0               0.0  949.0  470.0   \n2         0.416665              0.0               0.0  950.0  467.5   \n3         0.416592              0.0               0.0  957.0  455.5   \n4         0.416609              0.0               0.0  956.0  470.0   \n\n   SWA_Stimulus_Journalist_List_1  SWA_Stimulus_Status_invited1  \\\n0                               0                             0   \n1                               0                             0   \n2                               0                             0   \n3                               0                             0   \n4                               0                             0   \n\n   SWA_Stimulus_Cancel_add  SWA_Stimulus_Add_1  SWA_Stimulus_Status_Request2  \\\n0                        0                   0                             0   \n1                        0                   0                             0   \n2                        0                   0                             0   \n3                        0                   0                             0   \n4                        0                   0                             0   \n\n   SWA_Stimulus_Navigation_2  SWA_Stimulus_Status_Published3  \\\n0                          0                               0   \n1                          0                               0   \n2                          0                               0   \n3                          0                               0   \n4                          0                               0   \n\n   SWA_Stimulus_EventInfo_1  SWA_Stimulus_Confirm_add  \\\n0                         0                         0   \n1                         0                         0   \n2                         0                         0   \n3                         0                         0   \n4                         0                         0   \n\n   SWA_Stimulus_Status_Published2  SWA_Stimulus_Journalist_List_6  \\\n0                               0                               0   \n1                               0                               0   \n2                               0                               0   \n3                               0                               0   \n4                               0                               0   \n\n   SWA_Stimulus_Status_Published_6  SWA_Stimulus_Status_Published_5  \\\n0                                0                                0   \n1                                0                                0   \n2                                0                                0   \n3                                0                                0   \n4                                0                                0   \n\n   SWA_Stimulus_Status Request1  SWA_Stimulus_EventInfo_2  \\\n0                             0                         0   \n1                             0                         0   \n2                             0                         0   \n3                             0                         0   \n4                             0                         0   \n\n   SWA_Stimulus_Status_Published1  SWA_Stimulus_Journalist_List5  \\\n0                               0                              0   \n1                               0                              0   \n2                               0                              0   \n3                               0                              0   \n4                               0                              0   \n\n   SWA_Stimulus_Question_Task1  SWA_Stimulus_Journalist_List4  \\\n0                            0                              0   \n1                            0                              0   \n2                            0                              0   \n3                            0                              0   \n4                            0                              0   \n\n   SWA_Stimulus_EventInfo_3  SWA_Stimulus_Status_Published_4  \\\n0                         0                                0   \n1                         0                                0   \n2                         0                                0   \n3                         0                                0   \n4                         0                                0   \n\n   SWA_Stimulus_Navigation_1  SWA_Stimulus_Journalist_selection  \\\n0                          0                                  0   \n1                          0                                  0   \n2                          0                                  0   \n3                          0                                  0   \n4                          0                                  0   \n\n   SWA_Stimulus_Event_Details  SWA_Stimulus_Journalist_List_3  \\\n0                           0                               0   \n1                           0                               0   \n2                           0                               0   \n3                           0                               0   \n4                           0                               0   \n\n   SWA_Stimulus_Available_Journalists  SWA_Stimulus_Add_2  \\\n0                                   0                   0   \n1                                   0                   0   \n2                                   0                   0   \n3                                   0                   0   \n4                                   0                   0   \n\n   SWA_Stimulus_Journalist_List_2  SWA_Stimulus2_Current_Selection  \\\n0                               0                                0   \n1                               0                                0   \n2                               0                                0   \n3                               0                                0   \n4                               0                                0   \n\n   SWA_Stimulus2_View button  SWA_Stimulus2_Navigation_2  \\\n0                          0                           0   \n1                          0                           0   \n2                          0                           0   \n3                          0                           0   \n4                          0                           0   \n\n   SWA_Stimulus2_EventInfo  SWA_Stimulus2_Edit_button  \\\n0                        0                          0   \n1                        0                          0   \n2                        0                          0   \n3                        0                          0   \n4                        0                          0   \n\n   SWA_Stimulus2_Submission_information  SWA_Stimulus2_Question_Task2  \\\n0                                     0                             0   \n1                                     0                             0   \n2                                     0                             0   \n3                                     0                             0   \n4                                     0                             0   \n\n   SWA_Stimulus2_Question  SWA_Stimulus2_Navigation_3  \\\n0                       0                           0   \n1                       0                           0   \n2                       0                           0   \n3                       0                           0   \n4                       0                           0   \n\n   SWA_Stimulus2_Help_button  SWA_Stimulus2_Navigation_1  \\\n0                          0                           0   \n1                          0                           0   \n2                          0                           0   \n3                          0                           0   \n4                          0                           0   \n\n   SWA_Stimulus2_Submission  SWA_Stimulus2_Question_Editor  \\\n0                         0                              0   \n1                         0                              0   \n2                         0                              0   \n3                         0                              0   \n4                         0                              0   \n\n   SWA_Stimulus2_Published_Report_1  SWA_Stimulus2_Question_Control  \n0                                 0                               0  \n1                                 0                               0  \n2                                 0                               0  \n3                                 0                               0  \n4                                 0                               0  ",
      "text/html": "<div>\n<style scoped>\n    .dataframe tbody tr th:only-of-type {\n        vertical-align: middle;\n    }\n\n    .dataframe tbody tr th {\n        vertical-align: top;\n    }\n\n    .dataframe thead th {\n        text-align: right;\n    }\n</style>\n<table border=\"1\" class=\"dataframe\">\n  <thead>\n    <tr style=\"text-align: right;\">\n      <th></th>\n      <th>Row</th>\n      <th>Respondent</th>\n      <th>Age</th>\n      <th>Gender</th>\n      <th>Group</th>\n      <th>Calibration</th>\n      <th>Timestamp</th>\n      <th>EventSource</th>\n      <th>SlideEvent</th>\n      <th>StimType</th>\n      <th>Duration</th>\n      <th>CollectionPhase</th>\n      <th>SourceStimuliName</th>\n      <th>EventSource.1</th>\n      <th>ET_GazeLeftx</th>\n      <th>ET_GazeLefty</th>\n      <th>ET_GazeRightx</th>\n      <th>ET_GazeRighty</th>\n      <th>ET_PupilLeft</th>\n      <th>ET_PupilRight</th>\n      <th>ET_TimeSignal</th>\n      <th>ET_DistanceLeft</th>\n      <th>ET_DistanceRight</th>\n      <th>ET_CameraLeftX</th>\n      <th>ET_CameraLeftY</th>\n      <th>ET_CameraRightX</th>\n      <th>ET_CameraRightY</th>\n      <th>ET_ValidityLeft</th>\n      <th>ET_ValidityRight</th>\n      <th>GazeX</th>\n      <th>GazeY</th>\n      <th>SWA_Stimulus_Journalist_List_1</th>\n      <th>SWA_Stimulus_Status_invited1</th>\n      <th>SWA_Stimulus_Cancel_add</th>\n      <th>SWA_Stimulus_Add_1</th>\n      <th>SWA_Stimulus_Status_Request2</th>\n      <th>SWA_Stimulus_Navigation_2</th>\n      <th>SWA_Stimulus_Status_Published3</th>\n      <th>SWA_Stimulus_EventInfo_1</th>\n      <th>SWA_Stimulus_Confirm_add</th>\n      <th>SWA_Stimulus_Status_Published2</th>\n      <th>SWA_Stimulus_Journalist_List_6</th>\n      <th>SWA_Stimulus_Status_Published_6</th>\n      <th>SWA_Stimulus_Status_Published_5</th>\n      <th>SWA_Stimulus_Status Request1</th>\n      <th>SWA_Stimulus_EventInfo_2</th>\n      <th>SWA_Stimulus_Status_Published1</th>\n      <th>SWA_Stimulus_Journalist_List5</th>\n      <th>SWA_Stimulus_Question_Task1</th>\n      <th>SWA_Stimulus_Journalist_List4</th>\n      <th>SWA_Stimulus_EventInfo_3</th>\n      <th>SWA_Stimulus_Status_Published_4</th>\n      <th>SWA_Stimulus_Navigation_1</th>\n      <th>SWA_Stimulus_Journalist_selection</th>\n      <th>SWA_Stimulus_Event_Details</th>\n      <th>SWA_Stimulus_Journalist_List_3</th>\n      <th>SWA_Stimulus_Available_Journalists</th>\n      <th>SWA_Stimulus_Add_2</th>\n      <th>SWA_Stimulus_Journalist_List_2</th>\n      <th>SWA_Stimulus2_Current_Selection</th>\n      <th>SWA_Stimulus2_View button</th>\n      <th>SWA_Stimulus2_Navigation_2</th>\n      <th>SWA_Stimulus2_EventInfo</th>\n      <th>SWA_Stimulus2_Edit_button</th>\n      <th>SWA_Stimulus2_Submission_information</th>\n      <th>SWA_Stimulus2_Question_Task2</th>\n      <th>SWA_Stimulus2_Question</th>\n      <th>SWA_Stimulus2_Navigation_3</th>\n      <th>SWA_Stimulus2_Help_button</th>\n      <th>SWA_Stimulus2_Navigation_1</th>\n      <th>SWA_Stimulus2_Submission</th>\n      <th>SWA_Stimulus2_Question_Editor</th>\n      <th>SWA_Stimulus2_Published_Report_1</th>\n      <th>SWA_Stimulus2_Question_Control</th>\n    </tr>\n  </thead>\n  <tbody>\n    <tr>\n      <th>0</th>\n      <td>1</td>\n      <td>P1</td>\n      <td>0</td>\n      <td>OTHER</td>\n      <td>Default</td>\n      <td>Good</td>\n      <td>113.4082</td>\n      <td>1.0</td>\n      <td>StartSlide</td>\n      <td>TestImage</td>\n      <td>300000.0</td>\n      <td>StimuliDisplay</td>\n      <td>SWA_Stimulus</td>\n      <td>NaN</td>\n      <td>NaN</td>\n      <td>NaN</td>\n      <td>NaN</td>\n      <td>NaN</td>\n      <td>NaN</td>\n      <td>NaN</td>\n      <td>NaN</td>\n      <td>NaN</td>\n      <td>NaN</td>\n      <td>NaN</td>\n      <td>NaN</td>\n      <td>NaN</td>\n      <td>NaN</td>\n      <td>NaN</td>\n      <td>NaN</td>\n      <td>NaN</td>\n      <td>NaN</td>\n      <td>0</td>\n      <td>0</td>\n      <td>0</td>\n      <td>0</td>\n      <td>0</td>\n      <td>0</td>\n      <td>0</td>\n      <td>0</td>\n      <td>0</td>\n      <td>0</td>\n      <td>0</td>\n      <td>0</td>\n      <td>0</td>\n      <td>0</td>\n      <td>0</td>\n      <td>0</td>\n      <td>0</td>\n      <td>0</td>\n      <td>0</td>\n      <td>0</td>\n      <td>0</td>\n      <td>0</td>\n      <td>0</td>\n      <td>0</td>\n      <td>0</td>\n      <td>0</td>\n      <td>0</td>\n      <td>0</td>\n      <td>0</td>\n      <td>0</td>\n      <td>0</td>\n      <td>0</td>\n      <td>0</td>\n      <td>0</td>\n      <td>0</td>\n      <td>0</td>\n      <td>0</td>\n      <td>0</td>\n      <td>0</td>\n      <td>0</td>\n      <td>0</td>\n      <td>0</td>\n      <td>0</td>\n    </tr>\n    <tr>\n      <th>1</th>\n      <td>2</td>\n      <td>P1</td>\n      <td>0</td>\n      <td>OTHER</td>\n      <td>Default</td>\n      <td>Good</td>\n      <td>116.3702</td>\n      <td>NaN</td>\n      <td>NaN</td>\n      <td>NaN</td>\n      <td>NaN</td>\n      <td>NaN</td>\n      <td>SWA_Stimulus</td>\n      <td>1.0</td>\n      <td>888.0</td>\n      <td>515.0</td>\n      <td>1010.0</td>\n      <td>425.0</td>\n      <td>NaN</td>\n      <td>NaN</td>\n      <td>124.985</td>\n      <td>619.543823</td>\n      <td>642.581055</td>\n      <td>0.619945</td>\n      <td>0.423148</td>\n      <td>0.458277</td>\n      <td>0.416878</td>\n      <td>0.0</td>\n      <td>0.0</td>\n      <td>949.0</td>\n      <td>470.0</td>\n      <td>0</td>\n      <td>0</td>\n      <td>0</td>\n      <td>0</td>\n      <td>0</td>\n      <td>0</td>\n      <td>0</td>\n      <td>0</td>\n      <td>0</td>\n      <td>0</td>\n      <td>0</td>\n      <td>0</td>\n      <td>0</td>\n      <td>0</td>\n      <td>0</td>\n      <td>0</td>\n      <td>0</td>\n      <td>0</td>\n      <td>0</td>\n      <td>0</td>\n      <td>0</td>\n      <td>0</td>\n      <td>0</td>\n      <td>0</td>\n      <td>0</td>\n      <td>0</td>\n      <td>0</td>\n      <td>0</td>\n      <td>0</td>\n      <td>0</td>\n      <td>0</td>\n      <td>0</td>\n      <td>0</td>\n      <td>0</td>\n      <td>0</td>\n      <td>0</td>\n      <td>0</td>\n      <td>0</td>\n      <td>0</td>\n      <td>0</td>\n      <td>0</td>\n      <td>0</td>\n      <td>0</td>\n    </tr>\n    <tr>\n      <th>2</th>\n      <td>3</td>\n      <td>P1</td>\n      <td>0</td>\n      <td>OTHER</td>\n      <td>Default</td>\n      <td>Good</td>\n      <td>124.6983</td>\n      <td>NaN</td>\n      <td>NaN</td>\n      <td>NaN</td>\n      <td>NaN</td>\n      <td>NaN</td>\n      <td>SWA_Stimulus</td>\n      <td>1.0</td>\n      <td>888.0</td>\n      <td>515.0</td>\n      <td>1012.0</td>\n      <td>420.0</td>\n      <td>4.466522</td>\n      <td>4.194916</td>\n      <td>133.313</td>\n      <td>619.592834</td>\n      <td>642.683228</td>\n      <td>0.619940</td>\n      <td>0.423088</td>\n      <td>0.458230</td>\n      <td>0.416665</td>\n      <td>0.0</td>\n      <td>0.0</td>\n      <td>950.0</td>\n      <td>467.5</td>\n      <td>0</td>\n      <td>0</td>\n      <td>0</td>\n      <td>0</td>\n      <td>0</td>\n      <td>0</td>\n      <td>0</td>\n      <td>0</td>\n      <td>0</td>\n      <td>0</td>\n      <td>0</td>\n      <td>0</td>\n      <td>0</td>\n      <td>0</td>\n      <td>0</td>\n      <td>0</td>\n      <td>0</td>\n      <td>0</td>\n      <td>0</td>\n      <td>0</td>\n      <td>0</td>\n      <td>0</td>\n      <td>0</td>\n      <td>0</td>\n      <td>0</td>\n      <td>0</td>\n      <td>0</td>\n      <td>0</td>\n      <td>0</td>\n      <td>0</td>\n      <td>0</td>\n      <td>0</td>\n      <td>0</td>\n      <td>0</td>\n      <td>0</td>\n      <td>0</td>\n      <td>0</td>\n      <td>0</td>\n      <td>0</td>\n      <td>0</td>\n      <td>0</td>\n      <td>0</td>\n      <td>0</td>\n    </tr>\n    <tr>\n      <th>3</th>\n      <td>4</td>\n      <td>P1</td>\n      <td>0</td>\n      <td>OTHER</td>\n      <td>Default</td>\n      <td>Good</td>\n      <td>133.0560</td>\n      <td>NaN</td>\n      <td>NaN</td>\n      <td>NaN</td>\n      <td>NaN</td>\n      <td>NaN</td>\n      <td>SWA_Stimulus</td>\n      <td>1.0</td>\n      <td>902.0</td>\n      <td>491.0</td>\n      <td>1012.0</td>\n      <td>420.0</td>\n      <td>NaN</td>\n      <td>NaN</td>\n      <td>141.671</td>\n      <td>619.556641</td>\n      <td>642.699036</td>\n      <td>0.619840</td>\n      <td>0.423102</td>\n      <td>0.458169</td>\n      <td>0.416592</td>\n      <td>0.0</td>\n      <td>0.0</td>\n      <td>957.0</td>\n      <td>455.5</td>\n      <td>0</td>\n      <td>0</td>\n      <td>0</td>\n      <td>0</td>\n      <td>0</td>\n      <td>0</td>\n      <td>0</td>\n      <td>0</td>\n      <td>0</td>\n      <td>0</td>\n      <td>0</td>\n      <td>0</td>\n      <td>0</td>\n      <td>0</td>\n      <td>0</td>\n      <td>0</td>\n      <td>0</td>\n      <td>0</td>\n      <td>0</td>\n      <td>0</td>\n      <td>0</td>\n      <td>0</td>\n      <td>0</td>\n      <td>0</td>\n      <td>0</td>\n      <td>0</td>\n      <td>0</td>\n      <td>0</td>\n      <td>0</td>\n      <td>0</td>\n      <td>0</td>\n      <td>0</td>\n      <td>0</td>\n      <td>0</td>\n      <td>0</td>\n      <td>0</td>\n      <td>0</td>\n      <td>0</td>\n      <td>0</td>\n      <td>0</td>\n      <td>0</td>\n      <td>0</td>\n      <td>0</td>\n    </tr>\n    <tr>\n      <th>4</th>\n      <td>5</td>\n      <td>P1</td>\n      <td>0</td>\n      <td>OTHER</td>\n      <td>Default</td>\n      <td>Good</td>\n      <td>141.4015</td>\n      <td>NaN</td>\n      <td>NaN</td>\n      <td>NaN</td>\n      <td>NaN</td>\n      <td>NaN</td>\n      <td>SWA_Stimulus</td>\n      <td>1.0</td>\n      <td>900.0</td>\n      <td>497.0</td>\n      <td>1012.0</td>\n      <td>443.0</td>\n      <td>NaN</td>\n      <td>NaN</td>\n      <td>150.015</td>\n      <td>619.610413</td>\n      <td>642.775269</td>\n      <td>0.619859</td>\n      <td>0.422902</td>\n      <td>0.458232</td>\n      <td>0.416609</td>\n      <td>0.0</td>\n      <td>0.0</td>\n      <td>956.0</td>\n      <td>470.0</td>\n      <td>0</td>\n      <td>0</td>\n      <td>0</td>\n      <td>0</td>\n      <td>0</td>\n      <td>0</td>\n      <td>0</td>\n      <td>0</td>\n      <td>0</td>\n      <td>0</td>\n      <td>0</td>\n      <td>0</td>\n      <td>0</td>\n      <td>0</td>\n      <td>0</td>\n      <td>0</td>\n      <td>0</td>\n      <td>0</td>\n      <td>0</td>\n      <td>0</td>\n      <td>0</td>\n      <td>0</td>\n      <td>0</td>\n      <td>0</td>\n      <td>0</td>\n      <td>0</td>\n      <td>0</td>\n      <td>0</td>\n      <td>0</td>\n      <td>0</td>\n      <td>0</td>\n      <td>0</td>\n      <td>0</td>\n      <td>0</td>\n      <td>0</td>\n      <td>0</td>\n      <td>0</td>\n      <td>0</td>\n      <td>0</td>\n      <td>0</td>\n      <td>0</td>\n      <td>0</td>\n      <td>0</td>\n    </tr>\n  </tbody>\n</table>\n</div>"
     },
     "execution_count": 5,
     "metadata": {},
     "output_type": "execute_result"
    }
   ],
   "source": [
    "# Preview data\n",
    "data.head()"
   ]
  },
  {
   "cell_type": "code",
   "execution_count": 6,
   "id": "c664fd2d",
   "metadata": {
    "ExecuteTime": {
     "end_time": "2023-11-23T08:04:38.090960900Z",
     "start_time": "2023-11-23T08:04:37.977489500Z"
    }
   },
   "outputs": [],
   "source": [
    "#Keep only the gaze data coming from the eye-tracking device\n",
    "data = data[ data['EventSource.1'] == 1 ]"
   ]
  },
  {
   "cell_type": "code",
   "execution_count": 7,
   "id": "60f55dae",
   "metadata": {
    "ExecuteTime": {
     "end_time": "2023-11-23T08:04:39.178640300Z",
     "start_time": "2023-11-23T08:04:39.009194200Z"
    }
   },
   "outputs": [],
   "source": [
    "#Fill n/a values with -1 (for JSON Compliance in requests) \n",
    "data = data.fillna(-1) "
   ]
  },
  {
   "cell_type": "code",
   "execution_count": 10,
   "id": "cf5c2249",
   "metadata": {
    "ExecuteTime": {
     "end_time": "2023-11-23T08:07:40.166098600Z",
     "start_time": "2023-11-23T08:06:14.761256Z"
    }
   },
   "outputs": [
    {
     "name": "stdout",
     "output_type": "stream",
     "text": [
      "Applying fixation filter on the data for participant: P1\n",
      "... Complete\n",
      "Applying fixation filter on the data for participant: P2\n",
      "... Complete\n",
      "Applying fixation filter on the data for participant: P3\n",
      "... Complete\n"
     ]
    }
   ],
   "source": [
    "# Oculomotor event detection (i.e., Fixations and saccades)\n",
    "# Using customizable I-VT (Velocity Threshold) filter for fixation and saccade detection\n",
    "\n",
    "dataWithEvents = None\n",
    "\n",
    "# Iteratate over the participants and the apply I-VT filter on the data of each participant\n",
    "for participant in data['Respondent'].unique():\n",
    "    \n",
    "    # filter in the participant data\n",
    "    ParticipantData = data[data['Respondent']==participant]\n",
    "    \n",
    "    print(f'Applying fixation filter on the data for participant: {participant}')\n",
    "    config = {\n",
    "                    \"fixationFilter\" : \"IVT\",\n",
    "                    \"screenResolutionWidth\" : 1920, \n",
    "                    \"screenResolutionHeight\" : 1080, \n",
    "                    \"monitorSize\" : 24, \n",
    "                    \"screenDistance\" : 60,\n",
    "                    \"gapFill\" : True, \n",
    "                    \"maxGapLength\": 75, \n",
    "                    \"noiseReduction\" : False, \n",
    "                    \"filterType\" : \"Median\", \n",
    "                    \"windowNoise\" : 3,\n",
    "                    \"windowVelocity\" : 20, \n",
    "                    \"velocityThreshold\" : 30, \n",
    "                    \"mergeFixation\" : True, \n",
    "                    \"maxTimeBtwFixation\" : 75,\n",
    "                    \"maxAngleBtwFixation\" : 0.5, \n",
    "                    \"discardShortFixation\" : True,\n",
    "                    \"minDurationFixation\" : 60\n",
    "    }\n",
    "\n",
    "    # POST pariticipant gaze data to the (R) eventDetection server\n",
    "    url = 'http://localhost:6789/eventDetection'\n",
    "    #url = 'http://127.0.0.1:6789/eventDetection'\n",
    "    payload = {'config': config, 'data': ParticipantData.to_dict(orient=\"records\")}\n",
    "    response = requests.post(url, json = payload)\n",
    "    \n",
    "    # Create new a dataframe from the json response of the (R) eventDetection server\n",
    "    participantDataWithEvents = pd.DataFrame.from_records(response.json())\n",
    "    \n",
    "    #Assign participantDataWithEvents to dataWithEvents or concate\n",
    "    if dataWithEvents is None: \n",
    "        dataWithEvents = participantDataWithEvents\n",
    "    else:\n",
    "        dataWithEvents = pd.concat([dataWithEvents, participantDataWithEvents], axis=0)\n",
    "        \n",
    "    print('... Complete')"
   ]
  },
  {
   "cell_type": "code",
   "execution_count": 11,
   "id": "6a0e58d3",
   "metadata": {
    "ExecuteTime": {
     "end_time": "2023-11-23T08:07:44.715691800Z",
     "start_time": "2023-11-23T08:07:44.516875300Z"
    }
   },
   "outputs": [
    {
     "data": {
      "text/plain": "   Row Respondent  Age Gender    Group Calibration  Timestamp  \\\n0    2         P1    0  OTHER  Default        Good   116.3702   \n1    3         P1    0  OTHER  Default        Good   124.6983   \n2    4         P1    0  OTHER  Default        Good   133.0560   \n3    5         P1    0  OTHER  Default        Good   141.4015   \n4    6         P1    0  OTHER  Default        Good   149.7296   \n\n  SourceStimuliName  EventSource.1  ET_TimeSignal  ET_CameraLeftX  \\\n0      SWA_Stimulus              1        124.985          0.6199   \n1      SWA_Stimulus              1        133.313          0.6199   \n2      SWA_Stimulus              1        141.671          0.6198   \n3      SWA_Stimulus              1        150.015          0.6199   \n4      SWA_Stimulus              1        158.344          0.6198   \n\n   ET_CameraLeftY  ET_CameraRightX  ET_CameraRightY  ET_ValidityLeft  \\\n0          0.4231           0.4583           0.4169                0   \n1          0.4231           0.4582           0.4167                0   \n2          0.4231           0.4582           0.4166                0   \n3          0.4229           0.4582           0.4166                0   \n4          0.4229           0.4581           0.4165                0   \n\n   ET_ValidityRight  GazeX  GazeY  SWA_Stimulus_Journalist_List_1  \\\n0                 0  949.0  470.0                               0   \n1                 0  950.0  467.5                               0   \n2                 0  957.0  455.5                               0   \n3                 0  956.0  470.0                               0   \n4                 0  954.5  470.5                               0   \n\n   SWA_Stimulus_Status_invited1  SWA_Stimulus_Cancel_add  SWA_Stimulus_Add_1  \\\n0                             0                        0                   0   \n1                             0                        0                   0   \n2                             0                        0                   0   \n3                             0                        0                   0   \n4                             0                        0                   0   \n\n   SWA_Stimulus_Status_Request2  SWA_Stimulus_Navigation_2  \\\n0                             0                          0   \n1                             0                          0   \n2                             0                          0   \n3                             0                          0   \n4                             0                          0   \n\n   SWA_Stimulus_Status_Published3  SWA_Stimulus_EventInfo_1  \\\n0                               0                         0   \n1                               0                         0   \n2                               0                         0   \n3                               0                         0   \n4                               0                         0   \n\n   SWA_Stimulus_Confirm_add  SWA_Stimulus_Status_Published2  \\\n0                         0                               0   \n1                         0                               0   \n2                         0                               0   \n3                         0                               0   \n4                         0                               0   \n\n   SWA_Stimulus_Journalist_List_6  SWA_Stimulus_Status_Published_6  \\\n0                               0                                0   \n1                               0                                0   \n2                               0                                0   \n3                               0                                0   \n4                               0                                0   \n\n   SWA_Stimulus_Status_Published_5  SWA_Stimulus_Status Request1  \\\n0                                0                             0   \n1                                0                             0   \n2                                0                             0   \n3                                0                             0   \n4                                0                             0   \n\n   SWA_Stimulus_EventInfo_2  SWA_Stimulus_Status_Published1  \\\n0                         0                               0   \n1                         0                               0   \n2                         0                               0   \n3                         0                               0   \n4                         0                               0   \n\n   SWA_Stimulus_Journalist_List5  SWA_Stimulus_Question_Task1  \\\n0                              0                            0   \n1                              0                            0   \n2                              0                            0   \n3                              0                            0   \n4                              0                            0   \n\n   SWA_Stimulus_Journalist_List4  SWA_Stimulus_EventInfo_3  \\\n0                              0                         0   \n1                              0                         0   \n2                              0                         0   \n3                              0                         0   \n4                              0                         0   \n\n   SWA_Stimulus_Status_Published_4  SWA_Stimulus_Navigation_1  \\\n0                                0                          0   \n1                                0                          0   \n2                                0                          0   \n3                                0                          0   \n4                                0                          0   \n\n   SWA_Stimulus_Journalist_selection  SWA_Stimulus_Event_Details  \\\n0                                  0                           0   \n1                                  0                           0   \n2                                  0                           0   \n3                                  0                           0   \n4                                  0                           0   \n\n   SWA_Stimulus_Journalist_List_3  SWA_Stimulus_Available_Journalists  \\\n0                               0                                   0   \n1                               0                                   0   \n2                               0                                   0   \n3                               0                                   0   \n4                               0                                   0   \n\n   SWA_Stimulus_Add_2  SWA_Stimulus_Journalist_List_2  \\\n0                   0                               0   \n1                   0                               0   \n2                   0                               0   \n3                   0                               0   \n4                   0                               0   \n\n   SWA_Stimulus2_Current_Selection  SWA_Stimulus2_View button  \\\n0                                0                          0   \n1                                0                          0   \n2                                0                          0   \n3                                0                          0   \n4                                0                          0   \n\n   SWA_Stimulus2_Navigation_2  SWA_Stimulus2_EventInfo  \\\n0                           0                        0   \n1                           0                        0   \n2                           0                        0   \n3                           0                        0   \n4                           0                        0   \n\n   SWA_Stimulus2_Edit_button  SWA_Stimulus2_Submission_information  \\\n0                          0                                     0   \n1                          0                                     0   \n2                          0                                     0   \n3                          0                                     0   \n4                          0                                     0   \n\n   SWA_Stimulus2_Question_Task2  SWA_Stimulus2_Question  \\\n0                             0                       0   \n1                             0                       0   \n2                             0                       0   \n3                             0                       0   \n4                             0                       0   \n\n   SWA_Stimulus2_Navigation_3  SWA_Stimulus2_Help_button  \\\n0                           0                          0   \n1                           0                          0   \n2                           0                          0   \n3                           0                          0   \n4                           0                          0   \n\n   SWA_Stimulus2_Navigation_1  SWA_Stimulus2_Submission  \\\n0                           0                         0   \n1                           0                         0   \n2                           0                         0   \n3                           0                         0   \n4                           0                         0   \n\n   SWA_Stimulus2_Question_Editor  SWA_Stimulus2_Published_Report_1  \\\n0                              0                                 0   \n1                              0                                 0   \n2                              0                                 0   \n3                              0                                 0   \n4                              0                                 0   \n\n   SWA_Stimulus2_Question_Control  InterpolatedGazeX  InterpolatedGazeY  \\\n0                               0              949.0              470.0   \n1                               0              950.0              467.5   \n2                               0              957.0              455.5   \n3                               0              956.0              470.0   \n4                               0              954.5              470.5   \n\n   InterpolatedDistance  ET_PupilLeft  ET_PupilRight  GazeVelocityAngle  \\\n0              631.0624           NaN            NaN                NaN   \n1              631.1380        4.4665         4.1949            24.9085   \n2              631.1278           NaN            NaN             9.7702   \n3              631.1928           NaN            NaN            22.8842   \n4              631.2959        4.4721         4.0730             8.3603   \n\n   FixID Fixation Index by Stimulus  Fixation X  Fixation Y  Fixation Start  \\\n0    NaN                        NaN         NaN         NaN             NaN   \n1    1.0                               949.1912    470.4823        120.5343   \n2    1.0                               949.1912    470.4823        120.5343   \n3    1.0                               949.1912    470.4823        120.5343   \n4    1.0                               949.1912    470.4823        120.5343   \n\n   Fixation End  Fixation Duration  Fixation Dispersion  \\\n0           NaN                NaN                  NaN   \n1      887.1217           766.5874               0.2832   \n2      887.1217           766.5874               0.2832   \n3      887.1217           766.5874               0.2832   \n4      887.1217           766.5874               0.2832   \n\n   GazeAccelerationAngle  SacID Saccade Index by Stimulus  Saccade Start  \\\n0                    NaN    NaN                       NaN            NaN   \n1                    NaN    NaN                       NaN            NaN   \n2             -1811.3025    NaN                       NaN            NaN   \n3              1571.3820    NaN                       NaN            NaN   \n4             -1743.9597    NaN                       NaN            NaN   \n\n   Saccade End  Saccade Duration  Saccade Amplitude  Saccade Peak Velocity  \\\n0          NaN               NaN                NaN                    NaN   \n1          NaN               NaN                NaN                    NaN   \n2          NaN               NaN                NaN                    NaN   \n3          NaN               NaN                NaN                    NaN   \n4          NaN               NaN                NaN                    NaN   \n\n   Saccade Peak Acceleration  Saccade Peak Deceleration  Saccade Direction  \n0                        NaN                        NaN                NaN  \n1                        NaN                        NaN                NaN  \n2                        NaN                        NaN                NaN  \n3                        NaN                        NaN                NaN  \n4                        NaN                        NaN                NaN  ",
      "text/html": "<div>\n<style scoped>\n    .dataframe tbody tr th:only-of-type {\n        vertical-align: middle;\n    }\n\n    .dataframe tbody tr th {\n        vertical-align: top;\n    }\n\n    .dataframe thead th {\n        text-align: right;\n    }\n</style>\n<table border=\"1\" class=\"dataframe\">\n  <thead>\n    <tr style=\"text-align: right;\">\n      <th></th>\n      <th>Row</th>\n      <th>Respondent</th>\n      <th>Age</th>\n      <th>Gender</th>\n      <th>Group</th>\n      <th>Calibration</th>\n      <th>Timestamp</th>\n      <th>SourceStimuliName</th>\n      <th>EventSource.1</th>\n      <th>ET_TimeSignal</th>\n      <th>ET_CameraLeftX</th>\n      <th>ET_CameraLeftY</th>\n      <th>ET_CameraRightX</th>\n      <th>ET_CameraRightY</th>\n      <th>ET_ValidityLeft</th>\n      <th>ET_ValidityRight</th>\n      <th>GazeX</th>\n      <th>GazeY</th>\n      <th>SWA_Stimulus_Journalist_List_1</th>\n      <th>SWA_Stimulus_Status_invited1</th>\n      <th>SWA_Stimulus_Cancel_add</th>\n      <th>SWA_Stimulus_Add_1</th>\n      <th>SWA_Stimulus_Status_Request2</th>\n      <th>SWA_Stimulus_Navigation_2</th>\n      <th>SWA_Stimulus_Status_Published3</th>\n      <th>SWA_Stimulus_EventInfo_1</th>\n      <th>SWA_Stimulus_Confirm_add</th>\n      <th>SWA_Stimulus_Status_Published2</th>\n      <th>SWA_Stimulus_Journalist_List_6</th>\n      <th>SWA_Stimulus_Status_Published_6</th>\n      <th>SWA_Stimulus_Status_Published_5</th>\n      <th>SWA_Stimulus_Status Request1</th>\n      <th>SWA_Stimulus_EventInfo_2</th>\n      <th>SWA_Stimulus_Status_Published1</th>\n      <th>SWA_Stimulus_Journalist_List5</th>\n      <th>SWA_Stimulus_Question_Task1</th>\n      <th>SWA_Stimulus_Journalist_List4</th>\n      <th>SWA_Stimulus_EventInfo_3</th>\n      <th>SWA_Stimulus_Status_Published_4</th>\n      <th>SWA_Stimulus_Navigation_1</th>\n      <th>SWA_Stimulus_Journalist_selection</th>\n      <th>SWA_Stimulus_Event_Details</th>\n      <th>SWA_Stimulus_Journalist_List_3</th>\n      <th>SWA_Stimulus_Available_Journalists</th>\n      <th>SWA_Stimulus_Add_2</th>\n      <th>SWA_Stimulus_Journalist_List_2</th>\n      <th>SWA_Stimulus2_Current_Selection</th>\n      <th>SWA_Stimulus2_View button</th>\n      <th>SWA_Stimulus2_Navigation_2</th>\n      <th>SWA_Stimulus2_EventInfo</th>\n      <th>SWA_Stimulus2_Edit_button</th>\n      <th>SWA_Stimulus2_Submission_information</th>\n      <th>SWA_Stimulus2_Question_Task2</th>\n      <th>SWA_Stimulus2_Question</th>\n      <th>SWA_Stimulus2_Navigation_3</th>\n      <th>SWA_Stimulus2_Help_button</th>\n      <th>SWA_Stimulus2_Navigation_1</th>\n      <th>SWA_Stimulus2_Submission</th>\n      <th>SWA_Stimulus2_Question_Editor</th>\n      <th>SWA_Stimulus2_Published_Report_1</th>\n      <th>SWA_Stimulus2_Question_Control</th>\n      <th>InterpolatedGazeX</th>\n      <th>InterpolatedGazeY</th>\n      <th>InterpolatedDistance</th>\n      <th>ET_PupilLeft</th>\n      <th>ET_PupilRight</th>\n      <th>GazeVelocityAngle</th>\n      <th>FixID</th>\n      <th>Fixation Index by Stimulus</th>\n      <th>Fixation X</th>\n      <th>Fixation Y</th>\n      <th>Fixation Start</th>\n      <th>Fixation End</th>\n      <th>Fixation Duration</th>\n      <th>Fixation Dispersion</th>\n      <th>GazeAccelerationAngle</th>\n      <th>SacID</th>\n      <th>Saccade Index by Stimulus</th>\n      <th>Saccade Start</th>\n      <th>Saccade End</th>\n      <th>Saccade Duration</th>\n      <th>Saccade Amplitude</th>\n      <th>Saccade Peak Velocity</th>\n      <th>Saccade Peak Acceleration</th>\n      <th>Saccade Peak Deceleration</th>\n      <th>Saccade Direction</th>\n    </tr>\n  </thead>\n  <tbody>\n    <tr>\n      <th>0</th>\n      <td>2</td>\n      <td>P1</td>\n      <td>0</td>\n      <td>OTHER</td>\n      <td>Default</td>\n      <td>Good</td>\n      <td>116.3702</td>\n      <td>SWA_Stimulus</td>\n      <td>1</td>\n      <td>124.985</td>\n      <td>0.6199</td>\n      <td>0.4231</td>\n      <td>0.4583</td>\n      <td>0.4169</td>\n      <td>0</td>\n      <td>0</td>\n      <td>949.0</td>\n      <td>470.0</td>\n      <td>0</td>\n      <td>0</td>\n      <td>0</td>\n      <td>0</td>\n      <td>0</td>\n      <td>0</td>\n      <td>0</td>\n      <td>0</td>\n      <td>0</td>\n      <td>0</td>\n      <td>0</td>\n      <td>0</td>\n      <td>0</td>\n      <td>0</td>\n      <td>0</td>\n      <td>0</td>\n      <td>0</td>\n      <td>0</td>\n      <td>0</td>\n      <td>0</td>\n      <td>0</td>\n      <td>0</td>\n      <td>0</td>\n      <td>0</td>\n      <td>0</td>\n      <td>0</td>\n      <td>0</td>\n      <td>0</td>\n      <td>0</td>\n      <td>0</td>\n      <td>0</td>\n      <td>0</td>\n      <td>0</td>\n      <td>0</td>\n      <td>0</td>\n      <td>0</td>\n      <td>0</td>\n      <td>0</td>\n      <td>0</td>\n      <td>0</td>\n      <td>0</td>\n      <td>0</td>\n      <td>0</td>\n      <td>949.0</td>\n      <td>470.0</td>\n      <td>631.0624</td>\n      <td>NaN</td>\n      <td>NaN</td>\n      <td>NaN</td>\n      <td>NaN</td>\n      <td>NaN</td>\n      <td>NaN</td>\n      <td>NaN</td>\n      <td>NaN</td>\n      <td>NaN</td>\n      <td>NaN</td>\n      <td>NaN</td>\n      <td>NaN</td>\n      <td>NaN</td>\n      <td>NaN</td>\n      <td>NaN</td>\n      <td>NaN</td>\n      <td>NaN</td>\n      <td>NaN</td>\n      <td>NaN</td>\n      <td>NaN</td>\n      <td>NaN</td>\n      <td>NaN</td>\n    </tr>\n    <tr>\n      <th>1</th>\n      <td>3</td>\n      <td>P1</td>\n      <td>0</td>\n      <td>OTHER</td>\n      <td>Default</td>\n      <td>Good</td>\n      <td>124.6983</td>\n      <td>SWA_Stimulus</td>\n      <td>1</td>\n      <td>133.313</td>\n      <td>0.6199</td>\n      <td>0.4231</td>\n      <td>0.4582</td>\n      <td>0.4167</td>\n      <td>0</td>\n      <td>0</td>\n      <td>950.0</td>\n      <td>467.5</td>\n      <td>0</td>\n      <td>0</td>\n      <td>0</td>\n      <td>0</td>\n      <td>0</td>\n      <td>0</td>\n      <td>0</td>\n      <td>0</td>\n      <td>0</td>\n      <td>0</td>\n      <td>0</td>\n      <td>0</td>\n      <td>0</td>\n      <td>0</td>\n      <td>0</td>\n      <td>0</td>\n      <td>0</td>\n      <td>0</td>\n      <td>0</td>\n      <td>0</td>\n      <td>0</td>\n      <td>0</td>\n      <td>0</td>\n      <td>0</td>\n      <td>0</td>\n      <td>0</td>\n      <td>0</td>\n      <td>0</td>\n      <td>0</td>\n      <td>0</td>\n      <td>0</td>\n      <td>0</td>\n      <td>0</td>\n      <td>0</td>\n      <td>0</td>\n      <td>0</td>\n      <td>0</td>\n      <td>0</td>\n      <td>0</td>\n      <td>0</td>\n      <td>0</td>\n      <td>0</td>\n      <td>0</td>\n      <td>950.0</td>\n      <td>467.5</td>\n      <td>631.1380</td>\n      <td>4.4665</td>\n      <td>4.1949</td>\n      <td>24.9085</td>\n      <td>1.0</td>\n      <td></td>\n      <td>949.1912</td>\n      <td>470.4823</td>\n      <td>120.5343</td>\n      <td>887.1217</td>\n      <td>766.5874</td>\n      <td>0.2832</td>\n      <td>NaN</td>\n      <td>NaN</td>\n      <td>NaN</td>\n      <td>NaN</td>\n      <td>NaN</td>\n      <td>NaN</td>\n      <td>NaN</td>\n      <td>NaN</td>\n      <td>NaN</td>\n      <td>NaN</td>\n      <td>NaN</td>\n    </tr>\n    <tr>\n      <th>2</th>\n      <td>4</td>\n      <td>P1</td>\n      <td>0</td>\n      <td>OTHER</td>\n      <td>Default</td>\n      <td>Good</td>\n      <td>133.0560</td>\n      <td>SWA_Stimulus</td>\n      <td>1</td>\n      <td>141.671</td>\n      <td>0.6198</td>\n      <td>0.4231</td>\n      <td>0.4582</td>\n      <td>0.4166</td>\n      <td>0</td>\n      <td>0</td>\n      <td>957.0</td>\n      <td>455.5</td>\n      <td>0</td>\n      <td>0</td>\n      <td>0</td>\n      <td>0</td>\n      <td>0</td>\n      <td>0</td>\n      <td>0</td>\n      <td>0</td>\n      <td>0</td>\n      <td>0</td>\n      <td>0</td>\n      <td>0</td>\n      <td>0</td>\n      <td>0</td>\n      <td>0</td>\n      <td>0</td>\n      <td>0</td>\n      <td>0</td>\n      <td>0</td>\n      <td>0</td>\n      <td>0</td>\n      <td>0</td>\n      <td>0</td>\n      <td>0</td>\n      <td>0</td>\n      <td>0</td>\n      <td>0</td>\n      <td>0</td>\n      <td>0</td>\n      <td>0</td>\n      <td>0</td>\n      <td>0</td>\n      <td>0</td>\n      <td>0</td>\n      <td>0</td>\n      <td>0</td>\n      <td>0</td>\n      <td>0</td>\n      <td>0</td>\n      <td>0</td>\n      <td>0</td>\n      <td>0</td>\n      <td>0</td>\n      <td>957.0</td>\n      <td>455.5</td>\n      <td>631.1278</td>\n      <td>NaN</td>\n      <td>NaN</td>\n      <td>9.7702</td>\n      <td>1.0</td>\n      <td></td>\n      <td>949.1912</td>\n      <td>470.4823</td>\n      <td>120.5343</td>\n      <td>887.1217</td>\n      <td>766.5874</td>\n      <td>0.2832</td>\n      <td>-1811.3025</td>\n      <td>NaN</td>\n      <td>NaN</td>\n      <td>NaN</td>\n      <td>NaN</td>\n      <td>NaN</td>\n      <td>NaN</td>\n      <td>NaN</td>\n      <td>NaN</td>\n      <td>NaN</td>\n      <td>NaN</td>\n    </tr>\n    <tr>\n      <th>3</th>\n      <td>5</td>\n      <td>P1</td>\n      <td>0</td>\n      <td>OTHER</td>\n      <td>Default</td>\n      <td>Good</td>\n      <td>141.4015</td>\n      <td>SWA_Stimulus</td>\n      <td>1</td>\n      <td>150.015</td>\n      <td>0.6199</td>\n      <td>0.4229</td>\n      <td>0.4582</td>\n      <td>0.4166</td>\n      <td>0</td>\n      <td>0</td>\n      <td>956.0</td>\n      <td>470.0</td>\n      <td>0</td>\n      <td>0</td>\n      <td>0</td>\n      <td>0</td>\n      <td>0</td>\n      <td>0</td>\n      <td>0</td>\n      <td>0</td>\n      <td>0</td>\n      <td>0</td>\n      <td>0</td>\n      <td>0</td>\n      <td>0</td>\n      <td>0</td>\n      <td>0</td>\n      <td>0</td>\n      <td>0</td>\n      <td>0</td>\n      <td>0</td>\n      <td>0</td>\n      <td>0</td>\n      <td>0</td>\n      <td>0</td>\n      <td>0</td>\n      <td>0</td>\n      <td>0</td>\n      <td>0</td>\n      <td>0</td>\n      <td>0</td>\n      <td>0</td>\n      <td>0</td>\n      <td>0</td>\n      <td>0</td>\n      <td>0</td>\n      <td>0</td>\n      <td>0</td>\n      <td>0</td>\n      <td>0</td>\n      <td>0</td>\n      <td>0</td>\n      <td>0</td>\n      <td>0</td>\n      <td>0</td>\n      <td>956.0</td>\n      <td>470.0</td>\n      <td>631.1928</td>\n      <td>NaN</td>\n      <td>NaN</td>\n      <td>22.8842</td>\n      <td>1.0</td>\n      <td></td>\n      <td>949.1912</td>\n      <td>470.4823</td>\n      <td>120.5343</td>\n      <td>887.1217</td>\n      <td>766.5874</td>\n      <td>0.2832</td>\n      <td>1571.3820</td>\n      <td>NaN</td>\n      <td>NaN</td>\n      <td>NaN</td>\n      <td>NaN</td>\n      <td>NaN</td>\n      <td>NaN</td>\n      <td>NaN</td>\n      <td>NaN</td>\n      <td>NaN</td>\n      <td>NaN</td>\n    </tr>\n    <tr>\n      <th>4</th>\n      <td>6</td>\n      <td>P1</td>\n      <td>0</td>\n      <td>OTHER</td>\n      <td>Default</td>\n      <td>Good</td>\n      <td>149.7296</td>\n      <td>SWA_Stimulus</td>\n      <td>1</td>\n      <td>158.344</td>\n      <td>0.6198</td>\n      <td>0.4229</td>\n      <td>0.4581</td>\n      <td>0.4165</td>\n      <td>0</td>\n      <td>0</td>\n      <td>954.5</td>\n      <td>470.5</td>\n      <td>0</td>\n      <td>0</td>\n      <td>0</td>\n      <td>0</td>\n      <td>0</td>\n      <td>0</td>\n      <td>0</td>\n      <td>0</td>\n      <td>0</td>\n      <td>0</td>\n      <td>0</td>\n      <td>0</td>\n      <td>0</td>\n      <td>0</td>\n      <td>0</td>\n      <td>0</td>\n      <td>0</td>\n      <td>0</td>\n      <td>0</td>\n      <td>0</td>\n      <td>0</td>\n      <td>0</td>\n      <td>0</td>\n      <td>0</td>\n      <td>0</td>\n      <td>0</td>\n      <td>0</td>\n      <td>0</td>\n      <td>0</td>\n      <td>0</td>\n      <td>0</td>\n      <td>0</td>\n      <td>0</td>\n      <td>0</td>\n      <td>0</td>\n      <td>0</td>\n      <td>0</td>\n      <td>0</td>\n      <td>0</td>\n      <td>0</td>\n      <td>0</td>\n      <td>0</td>\n      <td>0</td>\n      <td>954.5</td>\n      <td>470.5</td>\n      <td>631.2959</td>\n      <td>4.4721</td>\n      <td>4.0730</td>\n      <td>8.3603</td>\n      <td>1.0</td>\n      <td></td>\n      <td>949.1912</td>\n      <td>470.4823</td>\n      <td>120.5343</td>\n      <td>887.1217</td>\n      <td>766.5874</td>\n      <td>0.2832</td>\n      <td>-1743.9597</td>\n      <td>NaN</td>\n      <td>NaN</td>\n      <td>NaN</td>\n      <td>NaN</td>\n      <td>NaN</td>\n      <td>NaN</td>\n      <td>NaN</td>\n      <td>NaN</td>\n      <td>NaN</td>\n      <td>NaN</td>\n    </tr>\n  </tbody>\n</table>\n</div>"
     },
     "execution_count": 11,
     "metadata": {},
     "output_type": "execute_result"
    }
   ],
   "source": [
    "# Preview gaze data with event information\n",
    "dataWithEvents.head()"
   ]
  },
  {
   "cell_type": "code",
   "execution_count": 12,
   "id": "a49f0dda",
   "metadata": {
    "ExecuteTime": {
     "end_time": "2023-11-23T08:07:56.519217200Z",
     "start_time": "2023-11-23T08:07:47.933320Z"
    }
   },
   "outputs": [],
   "source": [
    "# export dataWithEvents as csv\n",
    "dataWithEvents.to_csv(\"data/gazeDataWithAOIsAndEvents.csv\",  index=False)"
   ]
  },
  {
   "cell_type": "code",
   "execution_count": null,
   "id": "0a21d4bf",
   "metadata": {},
   "outputs": [],
   "source": []
  },
  {
   "cell_type": "code",
   "execution_count": null,
   "id": "84a8c864",
   "metadata": {},
   "outputs": [],
   "source": []
  }
 ],
 "metadata": {
  "kernelspec": {
   "display_name": "Python 3",
   "language": "python",
   "name": "python3"
  },
  "language_info": {
   "codemirror_mode": {
    "name": "ipython",
    "version": 3
   },
   "file_extension": ".py",
   "mimetype": "text/x-python",
   "name": "python",
   "nbconvert_exporter": "python",
   "pygments_lexer": "ipython3",
   "version": "3.9.5"
  }
 },
 "nbformat": 4,
 "nbformat_minor": 5
}
