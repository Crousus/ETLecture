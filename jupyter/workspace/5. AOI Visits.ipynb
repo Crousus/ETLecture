{
 "cells": [
  {
   "cell_type": "code",
   "execution_count": 4,
   "id": "a32716dd",
   "metadata": {
    "ExecuteTime": {
     "end_time": "2023-11-23T08:14:37.239877900Z",
     "start_time": "2023-11-23T08:14:35.656900800Z"
    }
   },
   "outputs": [],
   "source": [
    "import pandas as pd"
   ]
  },
  {
   "cell_type": "code",
   "execution_count": 5,
   "id": "fce6cfd5",
   "metadata": {
    "ExecuteTime": {
     "end_time": "2023-11-23T08:14:37.256307700Z",
     "start_time": "2023-11-23T08:14:37.248746200Z"
    }
   },
   "outputs": [],
   "source": [
    "#---------------------------------------------------\n",
    "#\n",
    "# Config *** TO UPDATE ***\n",
    "#\n",
    "#---------------------------------------------------\n",
    "\n",
    "# *** TO UPDATE: change the team number with your own team number\n",
    "TEAM_NUMBER = \"team3\"\n",
    "\n",
    "# File with AOIS definitions \n",
    "AOIS_DEFINITION_FILE = \"raw-data/\"+TEAM_NUMBER+\"/aois definitions/aois.csv\"\n",
    "\n",
    "# This file should be automatically generated from \"4. Mapping Fixations and Saccades to AOIs\"\n",
    "FIFXATIONS_SACCADES_WITH_AOIS_FILE = \"data/fixationAndSaccadesDataWithAOIs.csv\""
   ]
  },
  {
   "cell_type": "code",
   "execution_count": 6,
   "id": "89335063",
   "metadata": {
    "ExecuteTime": {
     "end_time": "2023-11-23T08:14:37.845792500Z",
     "start_time": "2023-11-23T08:14:37.829067Z"
    }
   },
   "outputs": [],
   "source": [
    "#----------------------------------------------------------------------------------------\n",
    "#\n",
    "#\n",
    "# 1. Identify Dwells\n",
    "# (\"a dwell is defined as one visit in an AOI, from entry to exit\" Holmqvist et al. 2010, page 262 - See book reference in lecture slides)\n",
    "# \n",
    "#\n",
    "#----------------------------------------------------------------------------------------"
   ]
  },
  {
   "cell_type": "code",
   "execution_count": 7,
   "id": "09ad8d51",
   "metadata": {
    "ExecuteTime": {
     "end_time": "2023-11-23T08:14:38.533094100Z",
     "start_time": "2023-11-23T08:14:38.484567Z"
    }
   },
   "outputs": [],
   "source": [
    "# Read aois definition\n",
    "aois_df = pd.read_csv(AOIS_DEFINITION_FILE)"
   ]
  },
  {
   "cell_type": "code",
   "execution_count": 8,
   "id": "cedd9ea6",
   "metadata": {
    "ExecuteTime": {
     "end_time": "2023-11-23T08:14:39.291209700Z",
     "start_time": "2023-11-23T08:14:39.172733800Z"
    }
   },
   "outputs": [
    {
     "data": {
      "text/plain": "                                     AOI          p1x          p1y  \\\n0         SWA_Stimulus_Journalist_List_1   310.153846   201.538462   \n1           SWA_Stimulus_Status_invited1   412.307692   738.153846   \n2                SWA_Stimulus_Cancel_add  1601.230769   480.923077   \n3                     SWA_Stimulus_Add_1   804.923077    31.692308   \n4           SWA_Stimulus_Status_Request2   596.923077   738.153846   \n5              SWA_Stimulus_Navigation_2   131.692308   605.230769   \n6         SWA_Stimulus_Status_Published3   796.307692   207.692308   \n7               SWA_Stimulus_EventInfo_1   304.705882    74.117647   \n8               SWA_Stimulus_Confirm_add  1656.615385   482.153846   \n9         SWA_Stimulus_Status_Published2   596.923077   199.076923   \n10        SWA_Stimulus_Journalist_List_6   705.230769   738.153846   \n11       SWA_Stimulus_Status_Published_6   401.230769  1010.153846   \n12       SWA_Stimulus_Status_Published_5   790.153846   736.923077   \n13          SWA_Stimulus_Status Request1   404.923077   201.538462   \n14              SWA_Stimulus_EventInfo_2   305.230769   607.692308   \n15        SWA_Stimulus_Status_Published1   404.923077   248.307692   \n16         SWA_Stimulus_Journalist_List5   512.000000   736.923077   \n17           SWA_Stimulus_Question_Task1   958.769231   941.230769   \n18         SWA_Stimulus_Journalist_List4   315.076923   736.923077   \n19              SWA_Stimulus_EventInfo_3   302.769231   880.923077   \n20       SWA_Stimulus_Status_Published_4   599.384615   773.846154   \n21             SWA_Stimulus_Navigation_1   125.882353    72.941176   \n22     SWA_Stimulus_Journalist_selection  1691.076923   329.538462   \n23            SWA_Stimulus_Event_Details  1504.000000    31.692308   \n24        SWA_Stimulus_Journalist_List_3   710.153846   206.461538   \n25    SWA_Stimulus_Available_Journalists  1508.923077   329.538462   \n26                    SWA_Stimulus_Add_2   817.230769   568.307692   \n27        SWA_Stimulus_Journalist_List_2   503.384615   200.307692   \n28       SWA_Stimulus2_Current_Selection   308.923077   734.461538   \n29             SWA_Stimulus2_View button  1149.538462   220.000000   \n30            SWA_Stimulus2_Navigation_2   966.153846    77.230769   \n31               SWA_Stimulus2_EventInfo   305.230769   605.230769   \n32             SWA_Stimulus2_Edit_button   813.538462   568.307692   \n33  SWA_Stimulus2_Submission_information   500.923077   622.461538   \n34          SWA_Stimulus2_Question_Task2   952.615385   938.769231   \n35                SWA_Stimulus2_Question   310.153846    80.923077   \n36            SWA_Stimulus2_Navigation_3   128.000000   605.230769   \n37             SWA_Stimulus2_Help_button   825.846154   628.615385   \n38            SWA_Stimulus2_Navigation_1   125.538462    79.692308   \n39              SWA_Stimulus2_Submission  1148.307692    90.769231   \n40         SWA_Stimulus2_Question_Editor   499.692308   671.692308   \n41      SWA_Stimulus2_Published_Report_1   307.692308   776.307692   \n42        SWA_Stimulus2_Question_Control   308.923077   240.923077   \n\n            p2x          p2y           task  \n0    396.307692   328.307692   SWA_Stimulus  \n1    468.923077   807.076923   SWA_Stimulus  \n2   1649.230769   519.076923   SWA_Stimulus  \n3    875.076923    68.615385   SWA_Stimulus  \n4    676.923077   767.692308   SWA_Stimulus  \n5    247.384615   719.692308   SWA_Stimulus  \n6    866.461538   272.923077   SWA_Stimulus  \n7    874.117647   196.470588   SWA_Stimulus  \n8   1716.923077   516.615385   SWA_Stimulus  \n9    667.076923   272.923077   SWA_Stimulus  \n10   785.230769   818.153846   SWA_Stimulus  \n11   475.076923  1040.923077   SWA_Stimulus  \n12   868.923077   816.923077   SWA_Stimulus  \n13   478.769231   242.153846   SWA_Stimulus  \n14   875.076923   732.000000   SWA_Stimulus  \n15   477.538462   329.538462   SWA_Stimulus  \n16   590.769231   851.384615   SWA_Stimulus  \n17  1769.846154   999.076923   SWA_Stimulus  \n18   408.615385   804.615385   SWA_Stimulus  \n19   480.000000  1001.538462   SWA_Stimulus  \n20   676.923077   848.923077   SWA_Stimulus  \n21   249.411765   187.058824   SWA_Stimulus  \n22  1723.076923   452.615385   SWA_Stimulus  \n23  1723.076923   324.615385   SWA_Stimulus  \n24   792.615385   280.307692   SWA_Stimulus  \n25  1687.384615   453.846154   SWA_Stimulus  \n26   876.307692   599.076923   SWA_Stimulus  \n27   592.000000   280.307692   SWA_Stimulus  \n28   487.384615   770.153846  SWA_Stimulus2  \n29  1326.769231   265.538462  SWA_Stimulus2  \n30  1062.153846   181.846154  SWA_Stimulus2  \n31   489.846154   727.076923  SWA_Stimulus2  \n32   877.538462   602.769231  SWA_Stimulus2  \n33   648.615385   665.538462  SWA_Stimulus2  \n34  1764.923077  1045.846154  SWA_Stimulus2  \n35   489.846154   233.538462  SWA_Stimulus2  \n36   254.769231   713.538462  SWA_Stimulus2  \n37   859.076923   661.846154  SWA_Stimulus2  \n38   242.461538   184.307692  SWA_Stimulus2  \n39  1326.769231   215.076923  SWA_Stimulus2  \n40   865.230769  1018.769231  SWA_Stimulus2  \n41   488.615385   851.384615  SWA_Stimulus2  \n42   492.307692   274.153846  SWA_Stimulus2  ",
      "text/html": "<div>\n<style scoped>\n    .dataframe tbody tr th:only-of-type {\n        vertical-align: middle;\n    }\n\n    .dataframe tbody tr th {\n        vertical-align: top;\n    }\n\n    .dataframe thead th {\n        text-align: right;\n    }\n</style>\n<table border=\"1\" class=\"dataframe\">\n  <thead>\n    <tr style=\"text-align: right;\">\n      <th></th>\n      <th>AOI</th>\n      <th>p1x</th>\n      <th>p1y</th>\n      <th>p2x</th>\n      <th>p2y</th>\n      <th>task</th>\n    </tr>\n  </thead>\n  <tbody>\n    <tr>\n      <th>0</th>\n      <td>SWA_Stimulus_Journalist_List_1</td>\n      <td>310.153846</td>\n      <td>201.538462</td>\n      <td>396.307692</td>\n      <td>328.307692</td>\n      <td>SWA_Stimulus</td>\n    </tr>\n    <tr>\n      <th>1</th>\n      <td>SWA_Stimulus_Status_invited1</td>\n      <td>412.307692</td>\n      <td>738.153846</td>\n      <td>468.923077</td>\n      <td>807.076923</td>\n      <td>SWA_Stimulus</td>\n    </tr>\n    <tr>\n      <th>2</th>\n      <td>SWA_Stimulus_Cancel_add</td>\n      <td>1601.230769</td>\n      <td>480.923077</td>\n      <td>1649.230769</td>\n      <td>519.076923</td>\n      <td>SWA_Stimulus</td>\n    </tr>\n    <tr>\n      <th>3</th>\n      <td>SWA_Stimulus_Add_1</td>\n      <td>804.923077</td>\n      <td>31.692308</td>\n      <td>875.076923</td>\n      <td>68.615385</td>\n      <td>SWA_Stimulus</td>\n    </tr>\n    <tr>\n      <th>4</th>\n      <td>SWA_Stimulus_Status_Request2</td>\n      <td>596.923077</td>\n      <td>738.153846</td>\n      <td>676.923077</td>\n      <td>767.692308</td>\n      <td>SWA_Stimulus</td>\n    </tr>\n    <tr>\n      <th>5</th>\n      <td>SWA_Stimulus_Navigation_2</td>\n      <td>131.692308</td>\n      <td>605.230769</td>\n      <td>247.384615</td>\n      <td>719.692308</td>\n      <td>SWA_Stimulus</td>\n    </tr>\n    <tr>\n      <th>6</th>\n      <td>SWA_Stimulus_Status_Published3</td>\n      <td>796.307692</td>\n      <td>207.692308</td>\n      <td>866.461538</td>\n      <td>272.923077</td>\n      <td>SWA_Stimulus</td>\n    </tr>\n    <tr>\n      <th>7</th>\n      <td>SWA_Stimulus_EventInfo_1</td>\n      <td>304.705882</td>\n      <td>74.117647</td>\n      <td>874.117647</td>\n      <td>196.470588</td>\n      <td>SWA_Stimulus</td>\n    </tr>\n    <tr>\n      <th>8</th>\n      <td>SWA_Stimulus_Confirm_add</td>\n      <td>1656.615385</td>\n      <td>482.153846</td>\n      <td>1716.923077</td>\n      <td>516.615385</td>\n      <td>SWA_Stimulus</td>\n    </tr>\n    <tr>\n      <th>9</th>\n      <td>SWA_Stimulus_Status_Published2</td>\n      <td>596.923077</td>\n      <td>199.076923</td>\n      <td>667.076923</td>\n      <td>272.923077</td>\n      <td>SWA_Stimulus</td>\n    </tr>\n    <tr>\n      <th>10</th>\n      <td>SWA_Stimulus_Journalist_List_6</td>\n      <td>705.230769</td>\n      <td>738.153846</td>\n      <td>785.230769</td>\n      <td>818.153846</td>\n      <td>SWA_Stimulus</td>\n    </tr>\n    <tr>\n      <th>11</th>\n      <td>SWA_Stimulus_Status_Published_6</td>\n      <td>401.230769</td>\n      <td>1010.153846</td>\n      <td>475.076923</td>\n      <td>1040.923077</td>\n      <td>SWA_Stimulus</td>\n    </tr>\n    <tr>\n      <th>12</th>\n      <td>SWA_Stimulus_Status_Published_5</td>\n      <td>790.153846</td>\n      <td>736.923077</td>\n      <td>868.923077</td>\n      <td>816.923077</td>\n      <td>SWA_Stimulus</td>\n    </tr>\n    <tr>\n      <th>13</th>\n      <td>SWA_Stimulus_Status Request1</td>\n      <td>404.923077</td>\n      <td>201.538462</td>\n      <td>478.769231</td>\n      <td>242.153846</td>\n      <td>SWA_Stimulus</td>\n    </tr>\n    <tr>\n      <th>14</th>\n      <td>SWA_Stimulus_EventInfo_2</td>\n      <td>305.230769</td>\n      <td>607.692308</td>\n      <td>875.076923</td>\n      <td>732.000000</td>\n      <td>SWA_Stimulus</td>\n    </tr>\n    <tr>\n      <th>15</th>\n      <td>SWA_Stimulus_Status_Published1</td>\n      <td>404.923077</td>\n      <td>248.307692</td>\n      <td>477.538462</td>\n      <td>329.538462</td>\n      <td>SWA_Stimulus</td>\n    </tr>\n    <tr>\n      <th>16</th>\n      <td>SWA_Stimulus_Journalist_List5</td>\n      <td>512.000000</td>\n      <td>736.923077</td>\n      <td>590.769231</td>\n      <td>851.384615</td>\n      <td>SWA_Stimulus</td>\n    </tr>\n    <tr>\n      <th>17</th>\n      <td>SWA_Stimulus_Question_Task1</td>\n      <td>958.769231</td>\n      <td>941.230769</td>\n      <td>1769.846154</td>\n      <td>999.076923</td>\n      <td>SWA_Stimulus</td>\n    </tr>\n    <tr>\n      <th>18</th>\n      <td>SWA_Stimulus_Journalist_List4</td>\n      <td>315.076923</td>\n      <td>736.923077</td>\n      <td>408.615385</td>\n      <td>804.615385</td>\n      <td>SWA_Stimulus</td>\n    </tr>\n    <tr>\n      <th>19</th>\n      <td>SWA_Stimulus_EventInfo_3</td>\n      <td>302.769231</td>\n      <td>880.923077</td>\n      <td>480.000000</td>\n      <td>1001.538462</td>\n      <td>SWA_Stimulus</td>\n    </tr>\n    <tr>\n      <th>20</th>\n      <td>SWA_Stimulus_Status_Published_4</td>\n      <td>599.384615</td>\n      <td>773.846154</td>\n      <td>676.923077</td>\n      <td>848.923077</td>\n      <td>SWA_Stimulus</td>\n    </tr>\n    <tr>\n      <th>21</th>\n      <td>SWA_Stimulus_Navigation_1</td>\n      <td>125.882353</td>\n      <td>72.941176</td>\n      <td>249.411765</td>\n      <td>187.058824</td>\n      <td>SWA_Stimulus</td>\n    </tr>\n    <tr>\n      <th>22</th>\n      <td>SWA_Stimulus_Journalist_selection</td>\n      <td>1691.076923</td>\n      <td>329.538462</td>\n      <td>1723.076923</td>\n      <td>452.615385</td>\n      <td>SWA_Stimulus</td>\n    </tr>\n    <tr>\n      <th>23</th>\n      <td>SWA_Stimulus_Event_Details</td>\n      <td>1504.000000</td>\n      <td>31.692308</td>\n      <td>1723.076923</td>\n      <td>324.615385</td>\n      <td>SWA_Stimulus</td>\n    </tr>\n    <tr>\n      <th>24</th>\n      <td>SWA_Stimulus_Journalist_List_3</td>\n      <td>710.153846</td>\n      <td>206.461538</td>\n      <td>792.615385</td>\n      <td>280.307692</td>\n      <td>SWA_Stimulus</td>\n    </tr>\n    <tr>\n      <th>25</th>\n      <td>SWA_Stimulus_Available_Journalists</td>\n      <td>1508.923077</td>\n      <td>329.538462</td>\n      <td>1687.384615</td>\n      <td>453.846154</td>\n      <td>SWA_Stimulus</td>\n    </tr>\n    <tr>\n      <th>26</th>\n      <td>SWA_Stimulus_Add_2</td>\n      <td>817.230769</td>\n      <td>568.307692</td>\n      <td>876.307692</td>\n      <td>599.076923</td>\n      <td>SWA_Stimulus</td>\n    </tr>\n    <tr>\n      <th>27</th>\n      <td>SWA_Stimulus_Journalist_List_2</td>\n      <td>503.384615</td>\n      <td>200.307692</td>\n      <td>592.000000</td>\n      <td>280.307692</td>\n      <td>SWA_Stimulus</td>\n    </tr>\n    <tr>\n      <th>28</th>\n      <td>SWA_Stimulus2_Current_Selection</td>\n      <td>308.923077</td>\n      <td>734.461538</td>\n      <td>487.384615</td>\n      <td>770.153846</td>\n      <td>SWA_Stimulus2</td>\n    </tr>\n    <tr>\n      <th>29</th>\n      <td>SWA_Stimulus2_View button</td>\n      <td>1149.538462</td>\n      <td>220.000000</td>\n      <td>1326.769231</td>\n      <td>265.538462</td>\n      <td>SWA_Stimulus2</td>\n    </tr>\n    <tr>\n      <th>30</th>\n      <td>SWA_Stimulus2_Navigation_2</td>\n      <td>966.153846</td>\n      <td>77.230769</td>\n      <td>1062.153846</td>\n      <td>181.846154</td>\n      <td>SWA_Stimulus2</td>\n    </tr>\n    <tr>\n      <th>31</th>\n      <td>SWA_Stimulus2_EventInfo</td>\n      <td>305.230769</td>\n      <td>605.230769</td>\n      <td>489.846154</td>\n      <td>727.076923</td>\n      <td>SWA_Stimulus2</td>\n    </tr>\n    <tr>\n      <th>32</th>\n      <td>SWA_Stimulus2_Edit_button</td>\n      <td>813.538462</td>\n      <td>568.307692</td>\n      <td>877.538462</td>\n      <td>602.769231</td>\n      <td>SWA_Stimulus2</td>\n    </tr>\n    <tr>\n      <th>33</th>\n      <td>SWA_Stimulus2_Submission_information</td>\n      <td>500.923077</td>\n      <td>622.461538</td>\n      <td>648.615385</td>\n      <td>665.538462</td>\n      <td>SWA_Stimulus2</td>\n    </tr>\n    <tr>\n      <th>34</th>\n      <td>SWA_Stimulus2_Question_Task2</td>\n      <td>952.615385</td>\n      <td>938.769231</td>\n      <td>1764.923077</td>\n      <td>1045.846154</td>\n      <td>SWA_Stimulus2</td>\n    </tr>\n    <tr>\n      <th>35</th>\n      <td>SWA_Stimulus2_Question</td>\n      <td>310.153846</td>\n      <td>80.923077</td>\n      <td>489.846154</td>\n      <td>233.538462</td>\n      <td>SWA_Stimulus2</td>\n    </tr>\n    <tr>\n      <th>36</th>\n      <td>SWA_Stimulus2_Navigation_3</td>\n      <td>128.000000</td>\n      <td>605.230769</td>\n      <td>254.769231</td>\n      <td>713.538462</td>\n      <td>SWA_Stimulus2</td>\n    </tr>\n    <tr>\n      <th>37</th>\n      <td>SWA_Stimulus2_Help_button</td>\n      <td>825.846154</td>\n      <td>628.615385</td>\n      <td>859.076923</td>\n      <td>661.846154</td>\n      <td>SWA_Stimulus2</td>\n    </tr>\n    <tr>\n      <th>38</th>\n      <td>SWA_Stimulus2_Navigation_1</td>\n      <td>125.538462</td>\n      <td>79.692308</td>\n      <td>242.461538</td>\n      <td>184.307692</td>\n      <td>SWA_Stimulus2</td>\n    </tr>\n    <tr>\n      <th>39</th>\n      <td>SWA_Stimulus2_Submission</td>\n      <td>1148.307692</td>\n      <td>90.769231</td>\n      <td>1326.769231</td>\n      <td>215.076923</td>\n      <td>SWA_Stimulus2</td>\n    </tr>\n    <tr>\n      <th>40</th>\n      <td>SWA_Stimulus2_Question_Editor</td>\n      <td>499.692308</td>\n      <td>671.692308</td>\n      <td>865.230769</td>\n      <td>1018.769231</td>\n      <td>SWA_Stimulus2</td>\n    </tr>\n    <tr>\n      <th>41</th>\n      <td>SWA_Stimulus2_Published_Report_1</td>\n      <td>307.692308</td>\n      <td>776.307692</td>\n      <td>488.615385</td>\n      <td>851.384615</td>\n      <td>SWA_Stimulus2</td>\n    </tr>\n    <tr>\n      <th>42</th>\n      <td>SWA_Stimulus2_Question_Control</td>\n      <td>308.923077</td>\n      <td>240.923077</td>\n      <td>492.307692</td>\n      <td>274.153846</td>\n      <td>SWA_Stimulus2</td>\n    </tr>\n  </tbody>\n</table>\n</div>"
     },
     "metadata": {},
     "output_type": "display_data"
    }
   ],
   "source": [
    "# Display aois definition\n",
    "display(aois_df)"
   ]
  },
  {
   "cell_type": "code",
   "execution_count": 9,
   "id": "1e4e2a48",
   "metadata": {
    "ExecuteTime": {
     "end_time": "2023-11-23T08:14:39.892708500Z",
     "start_time": "2023-11-23T08:14:39.863913100Z"
    }
   },
   "outputs": [
    {
     "name": "stdout",
     "output_type": "stream",
     "text": [
      "AOIs: ['SWA_Stimulus_Journalist_List_1', 'SWA_Stimulus_Status_invited1', 'SWA_Stimulus_Cancel_add', 'SWA_Stimulus_Add_1', 'SWA_Stimulus_Status_Request2', 'SWA_Stimulus_Navigation_2', 'SWA_Stimulus_Status_Published3', 'SWA_Stimulus_EventInfo_1', 'SWA_Stimulus_Confirm_add', 'SWA_Stimulus_Status_Published2', 'SWA_Stimulus_Journalist_List_6', 'SWA_Stimulus_Status_Published_6', 'SWA_Stimulus_Status_Published_5', 'SWA_Stimulus_Status Request1', 'SWA_Stimulus_EventInfo_2', 'SWA_Stimulus_Status_Published1', 'SWA_Stimulus_Journalist_List5', 'SWA_Stimulus_Question_Task1', 'SWA_Stimulus_Journalist_List4', 'SWA_Stimulus_EventInfo_3', 'SWA_Stimulus_Status_Published_4', 'SWA_Stimulus_Navigation_1', 'SWA_Stimulus_Journalist_selection', 'SWA_Stimulus_Event_Details', 'SWA_Stimulus_Journalist_List_3', 'SWA_Stimulus_Available_Journalists', 'SWA_Stimulus_Add_2', 'SWA_Stimulus_Journalist_List_2', 'SWA_Stimulus2_Current_Selection', 'SWA_Stimulus2_View button', 'SWA_Stimulus2_Navigation_2', 'SWA_Stimulus2_EventInfo', 'SWA_Stimulus2_Edit_button', 'SWA_Stimulus2_Submission_information', 'SWA_Stimulus2_Question_Task2', 'SWA_Stimulus2_Question', 'SWA_Stimulus2_Navigation_3', 'SWA_Stimulus2_Help_button', 'SWA_Stimulus2_Navigation_1', 'SWA_Stimulus2_Submission', 'SWA_Stimulus2_Question_Editor', 'SWA_Stimulus2_Published_Report_1', 'SWA_Stimulus2_Question_Control']\n"
     ]
    }
   ],
   "source": [
    "# get list of AOIs\n",
    "aois = aois_df[\"AOI\"].tolist()\n",
    "print(f'AOIs: {aois}')"
   ]
  },
  {
   "cell_type": "code",
   "execution_count": 10,
   "id": "3637393f",
   "metadata": {
    "ExecuteTime": {
     "end_time": "2023-11-23T08:14:40.797347400Z",
     "start_time": "2023-11-23T08:14:40.705288600Z"
    }
   },
   "outputs": [],
   "source": [
    "# Read fixation and saccade data with AOIs using pandas library\n",
    "data = pd.read_csv(FIFXATIONS_SACCADES_WITH_AOIS_FILE)\n",
    "# set display.max_columns to none, to show all the columns when using head()\n",
    "pd.set_option('display.max_columns', None)"
   ]
  },
  {
   "cell_type": "code",
   "execution_count": 11,
   "id": "8c694303",
   "metadata": {
    "ExecuteTime": {
     "end_time": "2023-11-23T08:14:41.723018Z",
     "start_time": "2023-11-23T08:14:41.591733300Z"
    }
   },
   "outputs": [
    {
     "data": {
      "text/plain": "  Respondent SourceStimuliName  FixID  Fixation X  Fixation Y  Fixation Start  \\\n0         P1      SWA_Stimulus    1.0    949.1912    470.4823        120.5343   \n1         P1      SWA_Stimulus    NaN         NaN         NaN             NaN   \n2         P1      SWA_Stimulus    2.0    996.6429    941.7500        953.7829   \n3         P1      SWA_Stimulus    NaN         NaN         NaN             NaN   \n4         P1      SWA_Stimulus    3.0   1007.6521    988.9331       1103.7608   \n\n   Fixation End  Fixation Duration  Fixation Dispersion  SacID  Saccade Start  \\\n0      887.1217           766.5874               0.2832    NaN            NaN   \n1           NaN                NaN                  NaN    1.0       887.1217   \n2     1070.4588           116.6760               0.1856    NaN            NaN   \n3           NaN                NaN                  NaN    2.0      1070.4588   \n4     1245.4243           141.6635               0.3639    NaN            NaN   \n\n   Saccade End  Saccade Duration  Saccade Amplitude  Saccade Peak Velocity  \\\n0          NaN               NaN                NaN                    NaN   \n1     953.7829           66.6612            11.3332               288.3926   \n2          NaN               NaN                NaN                    NaN   \n3    1103.7608           33.3020             1.4057                68.2538   \n4          NaN               NaN                NaN                    NaN   \n\n   Saccade Peak Acceleration  Saccade Peak Deceleration  Saccade Direction  \\\n0                        NaN                        NaN                NaN   \n1                 13265.7625                -17604.4137            85.0056   \n2                        NaN                        NaN                NaN   \n3                  4427.4350                 -2982.5475            78.1901   \n4                        NaN                        NaN                NaN   \n\n   SWA_Stimulus_Journalist_List_1  SWA_Stimulus_Status_invited1  \\\n0                               0                             0   \n1                               0                             0   \n2                               0                             0   \n3                               0                             0   \n4                               0                             0   \n\n   SWA_Stimulus_Cancel_add  SWA_Stimulus_Add_1  SWA_Stimulus_Status_Request2  \\\n0                        0                   0                             0   \n1                        0                   0                             0   \n2                        0                   0                             0   \n3                        0                   0                             0   \n4                        0                   0                             0   \n\n   SWA_Stimulus_Navigation_2  SWA_Stimulus_Status_Published3  \\\n0                          0                               0   \n1                          0                               0   \n2                          0                               0   \n3                          0                               0   \n4                          0                               0   \n\n   SWA_Stimulus_EventInfo_1  SWA_Stimulus_Confirm_add  \\\n0                         0                         0   \n1                         0                         0   \n2                         0                         0   \n3                         0                         0   \n4                         0                         0   \n\n   SWA_Stimulus_Status_Published2  SWA_Stimulus_Journalist_List_6  \\\n0                               0                               0   \n1                               0                               0   \n2                               0                               0   \n3                               0                               0   \n4                               0                               0   \n\n   SWA_Stimulus_Status_Published_6  SWA_Stimulus_Status_Published_5  \\\n0                                0                                0   \n1                                0                                0   \n2                                0                                0   \n3                                0                                0   \n4                                0                                0   \n\n   SWA_Stimulus_Status Request1  SWA_Stimulus_EventInfo_2  \\\n0                             0                         0   \n1                             0                         0   \n2                             0                         0   \n3                             0                         0   \n4                             0                         0   \n\n   SWA_Stimulus_Status_Published1  SWA_Stimulus_Journalist_List5  \\\n0                               0                              0   \n1                               0                              0   \n2                               0                              0   \n3                               0                              0   \n4                               0                              0   \n\n   SWA_Stimulus_Question_Task1  SWA_Stimulus_Journalist_List4  \\\n0                            0                              0   \n1                            0                              0   \n2                            1                              0   \n3                            1                              0   \n4                            1                              0   \n\n   SWA_Stimulus_EventInfo_3  SWA_Stimulus_Status_Published_4  \\\n0                         0                                0   \n1                         0                                0   \n2                         0                                0   \n3                         0                                0   \n4                         0                                0   \n\n   SWA_Stimulus_Navigation_1  SWA_Stimulus_Journalist_selection  \\\n0                          0                                  0   \n1                          0                                  0   \n2                          0                                  0   \n3                          0                                  0   \n4                          0                                  0   \n\n   SWA_Stimulus_Event_Details  SWA_Stimulus_Journalist_List_3  \\\n0                           0                               0   \n1                           0                               0   \n2                           0                               0   \n3                           0                               0   \n4                           0                               0   \n\n   SWA_Stimulus_Available_Journalists  SWA_Stimulus_Add_2  \\\n0                                   0                   0   \n1                                   0                   0   \n2                                   0                   0   \n3                                   0                   0   \n4                                   0                   0   \n\n   SWA_Stimulus_Journalist_List_2  SWA_Stimulus2_Current_Selection  \\\n0                               0                                0   \n1                               0                                0   \n2                               0                                0   \n3                               0                                0   \n4                               0                                0   \n\n   SWA_Stimulus2_View button  SWA_Stimulus2_Navigation_2  \\\n0                          0                           0   \n1                          0                           0   \n2                          0                           0   \n3                          0                           0   \n4                          0                           0   \n\n   SWA_Stimulus2_EventInfo  SWA_Stimulus2_Edit_button  \\\n0                        0                          0   \n1                        0                          0   \n2                        0                          0   \n3                        0                          0   \n4                        0                          0   \n\n   SWA_Stimulus2_Submission_information  SWA_Stimulus2_Question_Task2  \\\n0                                     0                             0   \n1                                     0                             0   \n2                                     0                             0   \n3                                     0                             0   \n4                                     0                             0   \n\n   SWA_Stimulus2_Question  SWA_Stimulus2_Navigation_3  \\\n0                       0                           0   \n1                       0                           0   \n2                       0                           0   \n3                       0                           0   \n4                       0                           0   \n\n   SWA_Stimulus2_Help_button  SWA_Stimulus2_Navigation_1  \\\n0                          0                           0   \n1                          0                           0   \n2                          0                           0   \n3                          0                           0   \n4                          0                           0   \n\n   SWA_Stimulus2_Submission  SWA_Stimulus2_Question_Editor  \\\n0                         0                              0   \n1                         0                              0   \n2                         0                              0   \n3                         0                              0   \n4                         0                              0   \n\n   SWA_Stimulus2_Published_Report_1  SWA_Stimulus2_Question_Control  Timestamp  \n0                                 0                               0   124.6983  \n1                                 0                               0   891.2886  \n2                                 0                               0   957.9449  \n3                                 0                               0  1074.5958  \n4                                 0                               0  1107.9261  ",
      "text/html": "<div>\n<style scoped>\n    .dataframe tbody tr th:only-of-type {\n        vertical-align: middle;\n    }\n\n    .dataframe tbody tr th {\n        vertical-align: top;\n    }\n\n    .dataframe thead th {\n        text-align: right;\n    }\n</style>\n<table border=\"1\" class=\"dataframe\">\n  <thead>\n    <tr style=\"text-align: right;\">\n      <th></th>\n      <th>Respondent</th>\n      <th>SourceStimuliName</th>\n      <th>FixID</th>\n      <th>Fixation X</th>\n      <th>Fixation Y</th>\n      <th>Fixation Start</th>\n      <th>Fixation End</th>\n      <th>Fixation Duration</th>\n      <th>Fixation Dispersion</th>\n      <th>SacID</th>\n      <th>Saccade Start</th>\n      <th>Saccade End</th>\n      <th>Saccade Duration</th>\n      <th>Saccade Amplitude</th>\n      <th>Saccade Peak Velocity</th>\n      <th>Saccade Peak Acceleration</th>\n      <th>Saccade Peak Deceleration</th>\n      <th>Saccade Direction</th>\n      <th>SWA_Stimulus_Journalist_List_1</th>\n      <th>SWA_Stimulus_Status_invited1</th>\n      <th>SWA_Stimulus_Cancel_add</th>\n      <th>SWA_Stimulus_Add_1</th>\n      <th>SWA_Stimulus_Status_Request2</th>\n      <th>SWA_Stimulus_Navigation_2</th>\n      <th>SWA_Stimulus_Status_Published3</th>\n      <th>SWA_Stimulus_EventInfo_1</th>\n      <th>SWA_Stimulus_Confirm_add</th>\n      <th>SWA_Stimulus_Status_Published2</th>\n      <th>SWA_Stimulus_Journalist_List_6</th>\n      <th>SWA_Stimulus_Status_Published_6</th>\n      <th>SWA_Stimulus_Status_Published_5</th>\n      <th>SWA_Stimulus_Status Request1</th>\n      <th>SWA_Stimulus_EventInfo_2</th>\n      <th>SWA_Stimulus_Status_Published1</th>\n      <th>SWA_Stimulus_Journalist_List5</th>\n      <th>SWA_Stimulus_Question_Task1</th>\n      <th>SWA_Stimulus_Journalist_List4</th>\n      <th>SWA_Stimulus_EventInfo_3</th>\n      <th>SWA_Stimulus_Status_Published_4</th>\n      <th>SWA_Stimulus_Navigation_1</th>\n      <th>SWA_Stimulus_Journalist_selection</th>\n      <th>SWA_Stimulus_Event_Details</th>\n      <th>SWA_Stimulus_Journalist_List_3</th>\n      <th>SWA_Stimulus_Available_Journalists</th>\n      <th>SWA_Stimulus_Add_2</th>\n      <th>SWA_Stimulus_Journalist_List_2</th>\n      <th>SWA_Stimulus2_Current_Selection</th>\n      <th>SWA_Stimulus2_View button</th>\n      <th>SWA_Stimulus2_Navigation_2</th>\n      <th>SWA_Stimulus2_EventInfo</th>\n      <th>SWA_Stimulus2_Edit_button</th>\n      <th>SWA_Stimulus2_Submission_information</th>\n      <th>SWA_Stimulus2_Question_Task2</th>\n      <th>SWA_Stimulus2_Question</th>\n      <th>SWA_Stimulus2_Navigation_3</th>\n      <th>SWA_Stimulus2_Help_button</th>\n      <th>SWA_Stimulus2_Navigation_1</th>\n      <th>SWA_Stimulus2_Submission</th>\n      <th>SWA_Stimulus2_Question_Editor</th>\n      <th>SWA_Stimulus2_Published_Report_1</th>\n      <th>SWA_Stimulus2_Question_Control</th>\n      <th>Timestamp</th>\n    </tr>\n  </thead>\n  <tbody>\n    <tr>\n      <th>0</th>\n      <td>P1</td>\n      <td>SWA_Stimulus</td>\n      <td>1.0</td>\n      <td>949.1912</td>\n      <td>470.4823</td>\n      <td>120.5343</td>\n      <td>887.1217</td>\n      <td>766.5874</td>\n      <td>0.2832</td>\n      <td>NaN</td>\n      <td>NaN</td>\n      <td>NaN</td>\n      <td>NaN</td>\n      <td>NaN</td>\n      <td>NaN</td>\n      <td>NaN</td>\n      <td>NaN</td>\n      <td>NaN</td>\n      <td>0</td>\n      <td>0</td>\n      <td>0</td>\n      <td>0</td>\n      <td>0</td>\n      <td>0</td>\n      <td>0</td>\n      <td>0</td>\n      <td>0</td>\n      <td>0</td>\n      <td>0</td>\n      <td>0</td>\n      <td>0</td>\n      <td>0</td>\n      <td>0</td>\n      <td>0</td>\n      <td>0</td>\n      <td>0</td>\n      <td>0</td>\n      <td>0</td>\n      <td>0</td>\n      <td>0</td>\n      <td>0</td>\n      <td>0</td>\n      <td>0</td>\n      <td>0</td>\n      <td>0</td>\n      <td>0</td>\n      <td>0</td>\n      <td>0</td>\n      <td>0</td>\n      <td>0</td>\n      <td>0</td>\n      <td>0</td>\n      <td>0</td>\n      <td>0</td>\n      <td>0</td>\n      <td>0</td>\n      <td>0</td>\n      <td>0</td>\n      <td>0</td>\n      <td>0</td>\n      <td>0</td>\n      <td>124.6983</td>\n    </tr>\n    <tr>\n      <th>1</th>\n      <td>P1</td>\n      <td>SWA_Stimulus</td>\n      <td>NaN</td>\n      <td>NaN</td>\n      <td>NaN</td>\n      <td>NaN</td>\n      <td>NaN</td>\n      <td>NaN</td>\n      <td>NaN</td>\n      <td>1.0</td>\n      <td>887.1217</td>\n      <td>953.7829</td>\n      <td>66.6612</td>\n      <td>11.3332</td>\n      <td>288.3926</td>\n      <td>13265.7625</td>\n      <td>-17604.4137</td>\n      <td>85.0056</td>\n      <td>0</td>\n      <td>0</td>\n      <td>0</td>\n      <td>0</td>\n      <td>0</td>\n      <td>0</td>\n      <td>0</td>\n      <td>0</td>\n      <td>0</td>\n      <td>0</td>\n      <td>0</td>\n      <td>0</td>\n      <td>0</td>\n      <td>0</td>\n      <td>0</td>\n      <td>0</td>\n      <td>0</td>\n      <td>0</td>\n      <td>0</td>\n      <td>0</td>\n      <td>0</td>\n      <td>0</td>\n      <td>0</td>\n      <td>0</td>\n      <td>0</td>\n      <td>0</td>\n      <td>0</td>\n      <td>0</td>\n      <td>0</td>\n      <td>0</td>\n      <td>0</td>\n      <td>0</td>\n      <td>0</td>\n      <td>0</td>\n      <td>0</td>\n      <td>0</td>\n      <td>0</td>\n      <td>0</td>\n      <td>0</td>\n      <td>0</td>\n      <td>0</td>\n      <td>0</td>\n      <td>0</td>\n      <td>891.2886</td>\n    </tr>\n    <tr>\n      <th>2</th>\n      <td>P1</td>\n      <td>SWA_Stimulus</td>\n      <td>2.0</td>\n      <td>996.6429</td>\n      <td>941.7500</td>\n      <td>953.7829</td>\n      <td>1070.4588</td>\n      <td>116.6760</td>\n      <td>0.1856</td>\n      <td>NaN</td>\n      <td>NaN</td>\n      <td>NaN</td>\n      <td>NaN</td>\n      <td>NaN</td>\n      <td>NaN</td>\n      <td>NaN</td>\n      <td>NaN</td>\n      <td>NaN</td>\n      <td>0</td>\n      <td>0</td>\n      <td>0</td>\n      <td>0</td>\n      <td>0</td>\n      <td>0</td>\n      <td>0</td>\n      <td>0</td>\n      <td>0</td>\n      <td>0</td>\n      <td>0</td>\n      <td>0</td>\n      <td>0</td>\n      <td>0</td>\n      <td>0</td>\n      <td>0</td>\n      <td>0</td>\n      <td>1</td>\n      <td>0</td>\n      <td>0</td>\n      <td>0</td>\n      <td>0</td>\n      <td>0</td>\n      <td>0</td>\n      <td>0</td>\n      <td>0</td>\n      <td>0</td>\n      <td>0</td>\n      <td>0</td>\n      <td>0</td>\n      <td>0</td>\n      <td>0</td>\n      <td>0</td>\n      <td>0</td>\n      <td>0</td>\n      <td>0</td>\n      <td>0</td>\n      <td>0</td>\n      <td>0</td>\n      <td>0</td>\n      <td>0</td>\n      <td>0</td>\n      <td>0</td>\n      <td>957.9449</td>\n    </tr>\n    <tr>\n      <th>3</th>\n      <td>P1</td>\n      <td>SWA_Stimulus</td>\n      <td>NaN</td>\n      <td>NaN</td>\n      <td>NaN</td>\n      <td>NaN</td>\n      <td>NaN</td>\n      <td>NaN</td>\n      <td>NaN</td>\n      <td>2.0</td>\n      <td>1070.4588</td>\n      <td>1103.7608</td>\n      <td>33.3020</td>\n      <td>1.4057</td>\n      <td>68.2538</td>\n      <td>4427.4350</td>\n      <td>-2982.5475</td>\n      <td>78.1901</td>\n      <td>0</td>\n      <td>0</td>\n      <td>0</td>\n      <td>0</td>\n      <td>0</td>\n      <td>0</td>\n      <td>0</td>\n      <td>0</td>\n      <td>0</td>\n      <td>0</td>\n      <td>0</td>\n      <td>0</td>\n      <td>0</td>\n      <td>0</td>\n      <td>0</td>\n      <td>0</td>\n      <td>0</td>\n      <td>1</td>\n      <td>0</td>\n      <td>0</td>\n      <td>0</td>\n      <td>0</td>\n      <td>0</td>\n      <td>0</td>\n      <td>0</td>\n      <td>0</td>\n      <td>0</td>\n      <td>0</td>\n      <td>0</td>\n      <td>0</td>\n      <td>0</td>\n      <td>0</td>\n      <td>0</td>\n      <td>0</td>\n      <td>0</td>\n      <td>0</td>\n      <td>0</td>\n      <td>0</td>\n      <td>0</td>\n      <td>0</td>\n      <td>0</td>\n      <td>0</td>\n      <td>0</td>\n      <td>1074.5958</td>\n    </tr>\n    <tr>\n      <th>4</th>\n      <td>P1</td>\n      <td>SWA_Stimulus</td>\n      <td>3.0</td>\n      <td>1007.6521</td>\n      <td>988.9331</td>\n      <td>1103.7608</td>\n      <td>1245.4243</td>\n      <td>141.6635</td>\n      <td>0.3639</td>\n      <td>NaN</td>\n      <td>NaN</td>\n      <td>NaN</td>\n      <td>NaN</td>\n      <td>NaN</td>\n      <td>NaN</td>\n      <td>NaN</td>\n      <td>NaN</td>\n      <td>NaN</td>\n      <td>0</td>\n      <td>0</td>\n      <td>0</td>\n      <td>0</td>\n      <td>0</td>\n      <td>0</td>\n      <td>0</td>\n      <td>0</td>\n      <td>0</td>\n      <td>0</td>\n      <td>0</td>\n      <td>0</td>\n      <td>0</td>\n      <td>0</td>\n      <td>0</td>\n      <td>0</td>\n      <td>0</td>\n      <td>1</td>\n      <td>0</td>\n      <td>0</td>\n      <td>0</td>\n      <td>0</td>\n      <td>0</td>\n      <td>0</td>\n      <td>0</td>\n      <td>0</td>\n      <td>0</td>\n      <td>0</td>\n      <td>0</td>\n      <td>0</td>\n      <td>0</td>\n      <td>0</td>\n      <td>0</td>\n      <td>0</td>\n      <td>0</td>\n      <td>0</td>\n      <td>0</td>\n      <td>0</td>\n      <td>0</td>\n      <td>0</td>\n      <td>0</td>\n      <td>0</td>\n      <td>0</td>\n      <td>1107.9261</td>\n    </tr>\n  </tbody>\n</table>\n</div>"
     },
     "execution_count": 11,
     "metadata": {},
     "output_type": "execute_result"
    }
   ],
   "source": [
    "# Preview fixation and saccade data with aois\n",
    "data.head()"
   ]
  },
  {
   "cell_type": "code",
   "execution_count": 12,
   "id": "2e94e272",
   "metadata": {
    "ExecuteTime": {
     "end_time": "2023-11-23T08:14:42.601011500Z",
     "start_time": "2023-11-23T08:14:42.427757Z"
    }
   },
   "outputs": [],
   "source": [
    "# Derive dwells"
   ]
  },
  {
   "cell_type": "code",
   "execution_count": 13,
   "id": "32282155",
   "metadata": {
    "ExecuteTime": {
     "end_time": "2023-11-23T08:14:48.451389100Z",
     "start_time": "2023-11-23T08:14:43.042647600Z"
    }
   },
   "outputs": [],
   "source": [
    "dwells = pd.DataFrame()\n",
    "\n",
    "# Iterate through the different aois\n",
    "for aoi in aois:\n",
    "    \n",
    "    #  Group by consecutive same value (CSAV) and Respondent (i.e., participant)\n",
    "    # documentation for the aprroach used to group columns by consecutive same value https://towardsdatascience.com/pandas-dataframe-group-by-consecutive-same-values-128913875dba\n",
    "    csavGroups = data.groupby([(data[aoi].shift() != data[aoi]).cumsum(),'Respondent','SourceStimuliName'])\n",
    "    \n",
    "    # Keep only groups where the AOI is activited (aoiName==1) \n",
    "    csavGroups = {key: value for key, value in csavGroups if value[aoi].unique()==[1]}\n",
    "    \n",
    "    # compute a set of metrics for each dwell (i.e., a group where the AOI is activiated)     \n",
    "    for key in csavGroups:\n",
    "        group = csavGroups[key]\n",
    "                \n",
    "        dwells = pd.concat([dwells, pd.DataFrame.from_records([{\n",
    "            # Participant (i.e., Respondent)\n",
    "            'Respondent': group.iloc[0]['Respondent'], #The respondent should be the same within the whole group\n",
    "            # Participant (i.e., Respondent)\n",
    "            'SourceStimuliName': group.iloc[0]['SourceStimuliName'], #The SourceStimuliName should be the same within the whole group\n",
    "            # The aoi visited during the dwell\n",
    "            'VisitedAOI': aoi,\n",
    "            # Timestamp when the aoi was entered\n",
    "            'Dwell Start': group.iloc[0]['Fixation Start'] if not pd.isnull(group.iloc[0]['Fixation Start']) else group.iloc[0]['Saccade Start'],\n",
    "            # Timestamp when the aoi was exited\n",
    "            'Dwell End' : group.iloc[-1]['Fixation End'] if not pd.isnull(group.iloc[-1]['Fixation End']) else group.iloc[-1]['Saccade End'] ,\n",
    "            # Number of Fixations in Dwell (Numerosity measure, cf. documentation/ETmetrics.csv)\n",
    "            'Number of Fixations in Dwell': group[ (group['FixID'].notnull()) ].shape[0],\n",
    "            # Number of Saccades in Dwell (Numerosity measure, cf. documentation/ETmetrics.csv)\n",
    "            'Number of Saccades in Dwell': group[ (group['SacID'].notnull()) ].shape[0]\n",
    "        }])])"
   ]
  },
  {
   "cell_type": "code",
   "execution_count": 14,
   "id": "c2933167",
   "metadata": {
    "ExecuteTime": {
     "end_time": "2023-11-23T08:14:49.772887100Z",
     "start_time": "2023-11-23T08:14:49.727126Z"
    }
   },
   "outputs": [],
   "source": [
    "# Dwell time (Position measure, cf. documentation/ETmetrics.csv)\n",
    "dwells['Dwell Time'] = dwells['Dwell End']-dwells['Dwell Start'] "
   ]
  },
  {
   "cell_type": "code",
   "execution_count": 15,
   "id": "c85f6bec",
   "metadata": {
    "ExecuteTime": {
     "end_time": "2023-11-23T08:14:50.638170300Z",
     "start_time": "2023-11-23T08:14:50.594827200Z"
    }
   },
   "outputs": [],
   "source": [
    "#Sort dwells by 'Respondent', Dwell Start' in an ascending order\n",
    "dwells = dwells.sort_values(by=['Respondent','Dwell Start'])\n",
    "\n",
    "#Reset index\n",
    "dwells = dwells.reset_index(drop=True)"
   ]
  },
  {
   "cell_type": "code",
   "execution_count": 16,
   "id": "3ca0f109",
   "metadata": {
    "ExecuteTime": {
     "end_time": "2023-11-23T08:14:51.401629900Z",
     "start_time": "2023-11-23T08:14:51.337894500Z"
    }
   },
   "outputs": [
    {
     "data": {
      "text/plain": "  Respondent SourceStimuliName                      VisitedAOI  Dwell Start  \\\n0         P1      SWA_Stimulus     SWA_Stimulus_Question_Task1     953.7829   \n1         P1      SWA_Stimulus  SWA_Stimulus_Journalist_List_2    5269.9931   \n2         P1      SWA_Stimulus        SWA_Stimulus_EventInfo_1    5578.2787   \n3         P1      SWA_Stimulus        SWA_Stimulus_EventInfo_1    5978.2438   \n4         P1      SWA_Stimulus        SWA_Stimulus_EventInfo_1    6294.8838   \n\n   Dwell End  Number of Fixations in Dwell  Number of Saccades in Dwell  \\\n0  1262.1019                             2                            2   \n1  5528.3232                             1                            1   \n2  5703.2645                             1                            0   \n3  6111.5613                             1                            1   \n4  6986.4534                             2                            2   \n\n   Dwell Time  \n0    308.3190  \n1    258.3301  \n2    124.9858  \n3    133.3175  \n4    691.5696  ",
      "text/html": "<div>\n<style scoped>\n    .dataframe tbody tr th:only-of-type {\n        vertical-align: middle;\n    }\n\n    .dataframe tbody tr th {\n        vertical-align: top;\n    }\n\n    .dataframe thead th {\n        text-align: right;\n    }\n</style>\n<table border=\"1\" class=\"dataframe\">\n  <thead>\n    <tr style=\"text-align: right;\">\n      <th></th>\n      <th>Respondent</th>\n      <th>SourceStimuliName</th>\n      <th>VisitedAOI</th>\n      <th>Dwell Start</th>\n      <th>Dwell End</th>\n      <th>Number of Fixations in Dwell</th>\n      <th>Number of Saccades in Dwell</th>\n      <th>Dwell Time</th>\n    </tr>\n  </thead>\n  <tbody>\n    <tr>\n      <th>0</th>\n      <td>P1</td>\n      <td>SWA_Stimulus</td>\n      <td>SWA_Stimulus_Question_Task1</td>\n      <td>953.7829</td>\n      <td>1262.1019</td>\n      <td>2</td>\n      <td>2</td>\n      <td>308.3190</td>\n    </tr>\n    <tr>\n      <th>1</th>\n      <td>P1</td>\n      <td>SWA_Stimulus</td>\n      <td>SWA_Stimulus_Journalist_List_2</td>\n      <td>5269.9931</td>\n      <td>5528.3232</td>\n      <td>1</td>\n      <td>1</td>\n      <td>258.3301</td>\n    </tr>\n    <tr>\n      <th>2</th>\n      <td>P1</td>\n      <td>SWA_Stimulus</td>\n      <td>SWA_Stimulus_EventInfo_1</td>\n      <td>5578.2787</td>\n      <td>5703.2645</td>\n      <td>1</td>\n      <td>0</td>\n      <td>124.9858</td>\n    </tr>\n    <tr>\n      <th>3</th>\n      <td>P1</td>\n      <td>SWA_Stimulus</td>\n      <td>SWA_Stimulus_EventInfo_1</td>\n      <td>5978.2438</td>\n      <td>6111.5613</td>\n      <td>1</td>\n      <td>1</td>\n      <td>133.3175</td>\n    </tr>\n    <tr>\n      <th>4</th>\n      <td>P1</td>\n      <td>SWA_Stimulus</td>\n      <td>SWA_Stimulus_EventInfo_1</td>\n      <td>6294.8838</td>\n      <td>6986.4534</td>\n      <td>2</td>\n      <td>2</td>\n      <td>691.5696</td>\n    </tr>\n  </tbody>\n</table>\n</div>"
     },
     "execution_count": 16,
     "metadata": {},
     "output_type": "execute_result"
    }
   ],
   "source": [
    "#Preview dwells\n",
    "dwells.head()"
   ]
  },
  {
   "cell_type": "code",
   "execution_count": 17,
   "id": "2845c781",
   "metadata": {
    "ExecuteTime": {
     "end_time": "2023-11-23T08:14:52.055647200Z",
     "start_time": "2023-11-23T08:14:52.003372300Z"
    }
   },
   "outputs": [],
   "source": [
    "# export dwells to csv\n",
    "dwells.to_csv(\"data/dwells.csv\",  index=False)"
   ]
  },
  {
   "cell_type": "code",
   "execution_count": null,
   "id": "f589fe1a",
   "metadata": {},
   "outputs": [],
   "source": []
  },
  {
   "cell_type": "code",
   "execution_count": null,
   "id": "7826166c",
   "metadata": {},
   "outputs": [],
   "source": []
  },
  {
   "cell_type": "code",
   "execution_count": null,
   "id": "f4c57fba",
   "metadata": {},
   "outputs": [],
   "source": []
  }
 ],
 "metadata": {
  "kernelspec": {
   "display_name": "Python 3",
   "language": "python",
   "name": "python3"
  },
  "language_info": {
   "codemirror_mode": {
    "name": "ipython",
    "version": 3
   },
   "file_extension": ".py",
   "mimetype": "text/x-python",
   "name": "python",
   "nbconvert_exporter": "python",
   "pygments_lexer": "ipython3",
   "version": "3.9.5"
  }
 },
 "nbformat": 4,
 "nbformat_minor": 5
}
