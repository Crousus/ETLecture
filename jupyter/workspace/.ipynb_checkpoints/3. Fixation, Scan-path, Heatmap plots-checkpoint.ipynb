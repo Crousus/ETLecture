{
 "cells": [
  {
   "cell_type": "code",
   "execution_count": 1,
   "id": "d4d16558",
   "metadata": {},
   "outputs": [],
   "source": [
    "import pandas as pd\n",
    "import utils\n",
    "import numpy"
   ]
  },
  {
   "cell_type": "code",
   "execution_count": 2,
   "id": "fb31e19a",
   "metadata": {},
   "outputs": [],
   "source": [
    "DISPLAY_SIZE = (1920,1080)"
   ]
  },
  {
   "cell_type": "code",
   "execution_count": 3,
   "id": "6b82f92d",
   "metadata": {},
   "outputs": [],
   "source": [
    "#----------------------------------------------------------------------------------------\n",
    "#\n",
    "#\n",
    "# 1. Fixations plots\n",
    "#\n",
    "#\n",
    "#----------------------------------------------------------------------------------------"
   ]
  },
  {
   "cell_type": "code",
   "execution_count": 4,
   "id": "731dd778",
   "metadata": {},
   "outputs": [],
   "source": [
    "# Read gaze data with events using pandas library\n",
    "data = pd.read_csv(\"data/gazeDataWithAOIsAndEvents.csv\")\n",
    "# set display.max_columns to none, to show all the columns when using head()\n",
    "pd.set_option('display.max_columns', None)"
   ]
  },
  {
   "cell_type": "code",
   "execution_count": null,
   "id": "1b41d466",
   "metadata": {},
   "outputs": [],
   "source": [
    "# Preview data\n",
    "data.head()"
   ]
  },
  {
   "cell_type": "code",
   "execution_count": null,
   "id": "6e9a23e9",
   "metadata": {},
   "outputs": [],
   "source": [
    "# Derive a dataframe with fixation data only\n",
    "# Keep only relevant colomns\n",
    "fixationData = data[['Respondent','FixID',\n",
    "       'Fixation X', 'Fixation Y',\n",
    "       'Fixation Duration']].copy(deep=True)\n",
    "\n",
    "# Since the same fixation is assigned to multiple gazes, it is necessary to drop duplicates\n",
    "fixationData = fixationData.drop_duplicates()\n",
    "\n",
    "# Then, it is necessary to drop rows with no FixID\n",
    "fixationData = fixationData.dropna(subset=['FixID'])\n",
    "\n",
    "# Reset the index of the dataframe\n",
    "# to do: remove old index\n",
    "fixationData = fixationData.reset_index(drop=True)"
   ]
  },
  {
   "cell_type": "code",
   "execution_count": null,
   "id": "8ee5c52a",
   "metadata": {},
   "outputs": [],
   "source": [
    "# Preview fixationData\n",
    "fixationData.head()"
   ]
  },
  {
   "cell_type": "code",
   "execution_count": null,
   "id": "7f9c049b",
   "metadata": {},
   "outputs": [],
   "source": [
    "# Plot fixations\n",
    "\n",
    "# Iteratate over the participants and plot fixations for each participant\n",
    "for participant in fixationData['Respondent'].unique():\n",
    "    \n",
    "    # filter in the participant data\n",
    "    participantFixationData= fixationData[fixationData['Respondent']==participant].copy(deep=True)\n",
    "    \n",
    "    # Initiate a coordinate system with a background image\n",
    "    fig, ax = utils.initPlotContainer(\"raw-data/stimulus.png\")\n",
    "    \n",
    "    # set title\n",
    "    ax.set_title(f'Participant: {participant}', fontsize=30)\n",
    "    \n",
    "    # plot fixations (with the size of the markers relative to the fixation duration)\n",
    "    ax.scatter(participantFixationData[\"Fixation X\"], participantFixationData[\"Fixation Y\"], s= participantFixationData[\"Fixation Duration\"], alpha=0.5)\n",
    "    "
   ]
  },
  {
   "cell_type": "code",
   "execution_count": null,
   "id": "8f8ab576",
   "metadata": {},
   "outputs": [],
   "source": [
    "#----------------------------------------------------------------------------------------\n",
    "#\n",
    "#\n",
    "# 2. Scan-path plots\n",
    "#\n",
    "#\n",
    "#----------------------------------------------------------------------------------------"
   ]
  },
  {
   "cell_type": "code",
   "execution_count": null,
   "id": "265011a9",
   "metadata": {},
   "outputs": [],
   "source": [
    "# Iteratate over the participants and plot the scan-path for each participant\n",
    "for participant in fixationData['Respondent'].unique():\n",
    "    \n",
    "    # filter in the participant data\n",
    "    participantFixationData= fixationData[fixationData['Respondent']==participant].copy(deep=True)\n",
    "    participantFixationData = participantFixationData.reset_index(drop=True)\n",
    "\n",
    "    # Initiate a coordinate system with a background image\n",
    "    fig, ax = utils.initPlotContainer(\"raw-data/stimulus.png\")\n",
    "    \n",
    "    # set title\n",
    "    ax.set_title(f'Participant: {participant}', fontsize=30)\n",
    "    \n",
    "    # get the length of the fixations dataframe\n",
    "    fixationsDataFrameLength = len(participantFixationData)\n",
    "\n",
    "    # plot fixations (with the size of the markers relative to the fixation duration)\n",
    "    ax.scatter(participantFixationData[\"Fixation X\"], participantFixationData[\"Fixation Y\"], s= participantFixationData[\"Fixation Duration\"], c='green', alpha=0.5)\n",
    "\n",
    "    # iterate through fixationData\n",
    "    for index, row in participantFixationData.iterrows():\n",
    "        # assign an incremental number to each fixation      \n",
    "        ax.annotate(str(index+1), (row['Fixation X'],row['Fixation Y']), alpha=1, horizontalalignment='center', verticalalignment='center', multialignment='center')\n",
    "        # connect consecutive pairs of fixations with edges  \n",
    "        if index<fixationsDataFrameLength-1:\n",
    "            ax.arrow(row['Fixation X'],row['Fixation Y'], participantFixationData.iloc[index+1]['Fixation X']-row['Fixation X'],participantFixationData.iloc[index+1]['Fixation Y']-row['Fixation Y'], fc='grey', ec='grey', alpha=.7, fill=True, shape='full', width=1, head_width=5, head_starts_at_zero=False, overhang=0)"
   ]
  },
  {
   "cell_type": "code",
   "execution_count": null,
   "id": "39ba2736",
   "metadata": {},
   "outputs": [],
   "source": [
    "#----------------------------------------------------------------------------------------\n",
    "#\n",
    "#\n",
    "# 2. Heatmap plots\n",
    "#\n",
    "#\n",
    "#----------------------------------------------------------------------------------------"
   ]
  },
  {
   "cell_type": "code",
   "execution_count": null,
   "id": "e66222a2",
   "metadata": {},
   "outputs": [],
   "source": [
    "# Iteratate over the participants and plot the heatmap for each participant\n",
    "for participant in fixationData['Respondent'].unique():\n",
    "    \n",
    "    # filter in the participant data\n",
    "    participantFixationData= fixationData[fixationData['Respondent']==participant]\n",
    "    \n",
    "    # Initiate a coordinate system with a background image\n",
    "    fig, ax = utils.initPlotContainer(\"raw-data/stimulus.png\")\n",
    "    \n",
    "    # set title\n",
    "    ax.set_title(f'Participant: {participant}', fontsize=30)\n",
    "\n",
    "    # Gaussian settings\n",
    "    gwh = 200\n",
    "    gsdwh = gwh/6\n",
    "    gaus = utils.gaussian(gwh,gsdwh)\n",
    "\n",
    "    strt = int(gwh/2)\n",
    "    heatmapsize = int(DISPLAY_SIZE[1] + 2*strt), int(DISPLAY_SIZE[0] + 2*strt)\n",
    "    heatmap = numpy.zeros(heatmapsize, dtype=float)\n",
    "\n",
    "    # create heatmap (adapted from PyGazeAnalyser https://github.com/esdalmaijer/PyGazeAnalyser/)\n",
    "    for index, row in participantFixationData.iterrows():\n",
    "        # get x and y coordinates of fixations\n",
    "        # x and y - indices of heatmap array. must be integers\n",
    "        x = strt + int(row['Fixation X']) - int(gwh/2)\n",
    "        y = strt + int(row['Fixation Y']) - int(gwh/2)\n",
    "        # correct Gaussian size if either coordinate falls outside of\n",
    "        # display boundaries\n",
    "        if (not 0 < x < DISPLAY_SIZE[0]) or (not 0 < y < DISPLAY_SIZE[1]):\n",
    "            hadj=[0,gwh];vadj=[0,gwh]\n",
    "            if 0 > x:\n",
    "                hadj[0] = abs(x)\n",
    "                x = 0\n",
    "            elif DISPLAY_SIZE[0] < x:\n",
    "                hadj[1] = gwh - int(x-DISPLAY_SIZE[0])\n",
    "            if 0 > y:\n",
    "                vadj[0] = abs(y)\n",
    "                y = 0\n",
    "            elif DISPLAY_SIZE[1] < y:\n",
    "                vadj[1] = gwh - int(y-DISPLAY_SIZE[1])\n",
    "            # add adjusted Gaussian to the current heatmap\n",
    "            try:\n",
    "                heatmap[y:y+vadj[1],x:x+hadj[1]] += gaus[vadj[0]:vadj[1],hadj[0]:hadj[1]] * row['Fixation Duration']\n",
    "            except:\n",
    "                # fixation was probably outside of display\n",
    "                pass\n",
    "        else:\t\t\t\t\n",
    "            # add Gaussian to the current heatmap\n",
    "            heatmap[y:y+gwh,x:x+gwh] += gaus * row['Fixation Duration']\n",
    "\n",
    "    # resize heatmap\n",
    "    heatmap = heatmap[strt:DISPLAY_SIZE[1]+strt,strt:DISPLAY_SIZE[0]+strt]\n",
    "    # remove zeros\n",
    "    lowbound = numpy.mean(heatmap[heatmap>0])\n",
    "    heatmap[heatmap<lowbound] = numpy.NaN\n",
    "    # draw heatmap on top of image\n",
    "    ax.imshow(heatmap, cmap='jet', alpha=0.5)\n"
   ]
  },
  {
   "cell_type": "code",
   "execution_count": null,
   "id": "7c9d7568",
   "metadata": {},
   "outputs": [],
   "source": []
  },
  {
   "cell_type": "code",
   "execution_count": null,
   "id": "137c7b89",
   "metadata": {},
   "outputs": [],
   "source": []
  }
 ],
 "metadata": {
  "kernelspec": {
   "display_name": "Python 3",
   "language": "python",
   "name": "python3"
  },
  "language_info": {
   "codemirror_mode": {
    "name": "ipython",
    "version": 3
   },
   "file_extension": ".py",
   "mimetype": "text/x-python",
   "name": "python",
   "nbconvert_exporter": "python",
   "pygments_lexer": "ipython3",
   "version": "3.9.5"
  }
 },
 "nbformat": 4,
 "nbformat_minor": 5
}
