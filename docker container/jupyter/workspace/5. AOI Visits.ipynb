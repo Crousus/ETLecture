{
 "cells": [
  {
   "cell_type": "code",
   "execution_count": 1,
   "id": "a32716dd",
   "metadata": {},
   "outputs": [],
   "source": [
    "import pandas as pd"
   ]
  },
  {
   "cell_type": "code",
   "execution_count": 2,
   "id": "09ad8d51",
   "metadata": {},
   "outputs": [],
   "source": [
    "# A list containing the AOIs considered in the study\n",
    "AOIS = ['Paragraph1', 'Paragraph2', 'Paragraph3', 'Paragraph4',\n",
    "       'Paragraph5', 'Paragraph6', 'Text_Area', 'SubFigure1', 'SubFigure2',\n",
    "       'SubFigure3', 'Figure', 'Formula']"
   ]
  },
  {
   "cell_type": "code",
   "execution_count": 3,
   "id": "3637393f",
   "metadata": {},
   "outputs": [],
   "source": [
    "# Read fixation data with AOIs using pandas library\n",
    "fixationData = pd.read_csv(\"data/fixationDataWithAOIs.csv\")\n",
    "# set display.max_columns to none, to show all the columns when using head()\n",
    "pd.set_option('display.max_columns', None)"
   ]
  },
  {
   "cell_type": "code",
   "execution_count": 4,
   "id": "2e94e272",
   "metadata": {},
   "outputs": [],
   "source": [
    "# 1. Derive AOI visits"
   ]
  },
  {
   "cell_type": "code",
   "execution_count": 5,
   "id": "32282155",
   "metadata": {},
   "outputs": [],
   "source": [
    "# documentation for the aprroach used to group columns by consecutive same value https://towardsdatascience.com/pandas-dataframe-group-by-consecutive-same-values-128913875dba\n",
    "\n",
    "aoiVisits = pd.DataFrame(columns = [\"VisitedAOI\",\"Visit Start\",\"Visit End\",\"Visit Duration\",\"Number of Fixations\"])\n",
    "\n",
    "# Iterate through the different AOIS\n",
    "for aoi in AOIS:\n",
    "    \n",
    "    #  Group by consecutive same value (CSAV) (see \"Appendix: exmaple of CSAV\" for groups derived using AOI \"Text_Area\")\n",
    "    csavGroups = fixationData.groupby((fixationData[aoi].shift() != fixationData[aoi]).cumsum())\n",
    "    \n",
    "    # Keep only groups where the AOI is activited (aoiName==1) \n",
    "    csavGroups = {key: value for key, value in csavGroups if value[aoi].unique()==[1]}\n",
    "    \n",
    "    # compute a set of metrics for each visit (i.e., a group where the AOI is activiated)     \n",
    "    for key in csavGroups:\n",
    "        # print(key)\n",
    "        # display(csavGroups[key])\n",
    "        aoiVisits = aoiVisits.append({\n",
    "            \"VisitedAOI\": aoi,\n",
    "            \"Visit Start\": csavGroups[key].iloc[0][\"Fixation Start\"],\n",
    "            \"Visit End\" : csavGroups[key].iloc[-1][\"Fixation End\"],\n",
    "            \"Visit Duration\": csavGroups[key].iloc[-1][\"Fixation End\"]-csavGroups[key].iloc[0][\"Fixation Start\"],\n",
    "            \"Number of Fixations\": len(csavGroups[key].index)\n",
    "        },ignore_index=True)"
   ]
  },
  {
   "cell_type": "code",
   "execution_count": 6,
   "id": "2845c781",
   "metadata": {},
   "outputs": [],
   "source": [
    "# export aoiVisits to csv\n",
    "aoiVisits.to_csv(\"data/aoiVisits.csv\",  index=False)"
   ]
  },
  {
   "cell_type": "code",
   "execution_count": null,
   "id": "f589fe1a",
   "metadata": {},
   "outputs": [],
   "source": []
  },
  {
   "cell_type": "code",
   "execution_count": null,
   "id": "7826166c",
   "metadata": {},
   "outputs": [],
   "source": [
    "#Appendix: \"exmaple of CSAV\" for groups derived using AOI \"Text_Area\"\n",
    "for k, v in fixationData.groupby((fixationData['Text_Area'].shift() != fixationData['Text_Area']).cumsum()):\n",
    "    print(f'[group {k}]')\n",
    "    display(v)"
   ]
  },
  {
   "cell_type": "code",
   "execution_count": null,
   "id": "f4c57fba",
   "metadata": {},
   "outputs": [],
   "source": []
  },
  {
   "cell_type": "code",
   "execution_count": null,
   "id": "be8d14b1",
   "metadata": {},
   "outputs": [],
   "source": []
  },
  {
   "cell_type": "code",
   "execution_count": null,
   "id": "1b1d5f48",
   "metadata": {},
   "outputs": [],
   "source": []
  },
  {
   "cell_type": "code",
   "execution_count": null,
   "id": "5e7b2a0c",
   "metadata": {},
   "outputs": [],
   "source": []
  },
  {
   "cell_type": "code",
   "execution_count": null,
   "id": "5b409ed2",
   "metadata": {},
   "outputs": [],
   "source": [
    "# to remove\n",
    "# documentation for the aprroach used to group columns by consecutive same value https://towardsdatascience.com/pandas-dataframe-group-by-consecutive-same-values-128913875dba\n",
    "\n",
    "aoiVisits = pd.DataFrame(columns = [\"VisitedAOI\",\"Visit Start\",\"Visit End\",\"Visit Duration\",\"Number of Fixations\"])\n",
    "\n",
    "# Iterate through the different AOIS\n",
    "for aoi in AOIS:\n",
    "    \n",
    "    #  Group by consecutive same value (CSAV) (see \"Appendix: exmaple of CSAV\" for groups derived using AOI \"Text_Area\")\n",
    "    csavGroups = fixationData.groupby((fixationData[aoi].shift() != fixationData[aoi]).cumsum())\n",
    "    \n",
    "    # Keep only groups where the AOI is activited (aoiName==1) \n",
    "#     csavGroups = {key: value for key, value in csavGroups if value[aoi].unique()==[1]}\n",
    "    \n",
    "    # compute a set of metrics for each visit (i.e., a group where the AOI is activiated)     \n",
    "    for name, group in csavGroups:\n",
    "        display(group)"
   ]
  }
 ],
 "metadata": {
  "kernelspec": {
   "display_name": "Python 3 (ipykernel)",
   "language": "python",
   "name": "python3"
  },
  "language_info": {
   "codemirror_mode": {
    "name": "ipython",
    "version": 3
   },
   "file_extension": ".py",
   "mimetype": "text/x-python",
   "name": "python",
   "nbconvert_exporter": "python",
   "pygments_lexer": "ipython3",
   "version": "3.8.6"
  }
 },
 "nbformat": 4,
 "nbformat_minor": 5
}
